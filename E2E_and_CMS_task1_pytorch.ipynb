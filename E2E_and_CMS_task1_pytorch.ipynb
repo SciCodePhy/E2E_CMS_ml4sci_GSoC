{
  "cells": [
    {
      "cell_type": "markdown",
      "metadata": {
        "id": "pnYucnD2qhiw"
      },
      "source": [
        "# Task1 (CMS and E2E): Electron/Photon Classification (Pytorch Version)\n",
        "### Chenguang Guan\n",
        "\n",
        "1. Details and discussion are included in this version (Pytorch version). The TensorFlow version only includes the main results.\n",
        "\n",
        "2. In this task (task 1), we explore various methods: MLP, CNN(LeNet), Simplified ResNet, Pre-trained ResNet-18, Pre-traiend (and not pre-traiend) VGG 16, Pre-trained Vision Transformer (ViT).\n",
        "\n",
        "3. In Pre-trained ResNet18, we achives 74.0% accuracy and 0.812 ROC-AUC score.\n",
        "\n",
        "4. We also discuss the correlation between two channels (energy channel and time channel). We do some numeric experiment with only energy channel input, but achives better or at least comparable performance than two-channel input."
      ]
    },
    {
      "cell_type": "markdown",
      "metadata": {
        "id": "aFhbEUiCwKh5"
      },
      "source": [
        "## Preparation for Colab setting"
      ]
    },
    {
      "cell_type": "code",
      "execution_count": null,
      "metadata": {
        "colab": {
          "base_uri": "https://localhost:8080/"
        },
        "id": "-fwM201m560x",
        "outputId": "f8728a1a-638a-44cb-bfad-03d3582c45b4",
        "scrolled": false
      },
      "outputs": [
        {
          "name": "stdout",
          "output_type": "stream",
          "text": [
            "Fri Mar 31 12:43:57 2023       \n",
            "+-----------------------------------------------------------------------------+\n",
            "| NVIDIA-SMI 525.85.12    Driver Version: 525.85.12    CUDA Version: 12.0     |\n",
            "|-------------------------------+----------------------+----------------------+\n",
            "| GPU  Name        Persistence-M| Bus-Id        Disp.A | Volatile Uncorr. ECC |\n",
            "| Fan  Temp  Perf  Pwr:Usage/Cap|         Memory-Usage | GPU-Util  Compute M. |\n",
            "|                               |                      |               MIG M. |\n",
            "|===============================+======================+======================|\n",
            "|   0  NVIDIA A100-SXM...  Off  | 00000000:00:04.0 Off |                    0 |\n",
            "| N/A   37C    P0    49W / 400W |      3MiB / 40960MiB |      0%      Default |\n",
            "|                               |                      |             Disabled |\n",
            "+-------------------------------+----------------------+----------------------+\n",
            "                                                                               \n",
            "+-----------------------------------------------------------------------------+\n",
            "| Processes:                                                                  |\n",
            "|  GPU   GI   CI        PID   Type   Process name                  GPU Memory |\n",
            "|        ID   ID                                                   Usage      |\n",
            "|=============================================================================|\n",
            "|  No running processes found                                                 |\n",
            "+-----------------------------------------------------------------------------+\n"
          ]
        }
      ],
      "source": [
        "!/opt/bin/nvidia-smi"
      ]
    },
    {
      "cell_type": "code",
      "execution_count": null,
      "metadata": {
        "colab": {
          "base_uri": "https://localhost:8080/"
        },
        "id": "L2llf81aoc1X",
        "outputId": "f6a0f85f-e4f2-4d5e-fbf2-4263e49283dd",
        "scrolled": false
      },
      "outputs": [
        {
          "name": "stdout",
          "output_type": "stream",
          "text": [
            "Mounted at /content/gdrive\n"
          ]
        }
      ],
      "source": [
        "from google.colab import drive\n",
        "drive.mount(\"/content/gdrive\", force_remount=True)"
      ]
    },
    {
      "cell_type": "code",
      "execution_count": null,
      "metadata": {
        "id": "Z6JbsW9tCr9p"
      },
      "outputs": [],
      "source": [
        "!cp --recursive \"/content/gdrive/MyDrive/CMS_data\" ."
      ]
    },
    {
      "cell_type": "markdown",
      "metadata": {
        "id": "IVZEE191wSw_"
      },
      "source": [
        "## Other Preparation"
      ]
    },
    {
      "cell_type": "code",
      "execution_count": null,
      "metadata": {
        "id": "iPugPqI5pJoE"
      },
      "outputs": [],
      "source": [
        "import h5py\n",
        "import torch\n",
        "\n",
        "import numpy as np\n",
        "\n",
        "from torch.utils.data import Dataset, DataLoader\n",
        "\n",
        "import torchvision\n",
        "import torch.nn as nn\n",
        "import torch.nn.functional as F\n",
        "import torch.optim as optim\n",
        "\n",
        "import torchvision.transforms as transforms\n",
        "\n",
        "\n",
        "import random\n",
        "import time\n",
        "\n",
        "from sklearn import metrics"
      ]
    },
    {
      "cell_type": "code",
      "execution_count": null,
      "metadata": {
        "id": "SDo9IfxRTHYT"
      },
      "outputs": [],
      "source": [
        "import matplotlib.pyplot as plt"
      ]
    },
    {
      "cell_type": "code",
      "execution_count": null,
      "metadata": {
        "colab": {
          "base_uri": "https://localhost:8080/"
        },
        "id": "7U_IYAN6qqGQ",
        "outputId": "2de89539-2a0e-410b-e515-2bebbbc38ff1"
      },
      "outputs": [
        {
          "name": "stdout",
          "output_type": "stream",
          "text": [
            "Device is: cuda\n"
          ]
        }
      ],
      "source": [
        "device=torch.device('cuda' if torch.cuda.is_available() else 'cpu')\n",
        "print(\"Device is:\", device)"
      ]
    },
    {
      "cell_type": "markdown",
      "metadata": {
        "id": "ZkbBrFniqx-S"
      },
      "source": [
        "## I. Preparation of Dataset\n",
        "There are two hdf5 files, with 250000 photon data and 250000 electron data ( $N_{\\text{sample}}\\times 32 \\times 32 \\times 2 $). "
      ]
    },
    {
      "cell_type": "markdown",
      "metadata": {
        "id": "DaRPLmdAisC1"
      },
      "source": [
        "### I-A. Shuffled Index List\n",
        "In order to prepare the train set and test set ( $90\\%:10\\%$ ), we create a shuffled index list to shuffle two classes."
      ]
    },
    {
      "cell_type": "code",
      "execution_count": null,
      "metadata": {
        "id": "_OrOYVH3pTUn"
      },
      "outputs": [],
      "source": [
        "shuffle_list = np.arange(0, 249000*2, 1) \n",
        "random.shuffle(shuffle_list)"
      ]
    },
    {
      "cell_type": "markdown",
      "metadata": {
        "id": "2rqolmvdFUO0"
      },
      "source": [
        "### I-B: Custom Dataset Class"
      ]
    },
    {
      "cell_type": "markdown",
      "metadata": {
        "id": "skBLZoNCHbB6"
      },
      "source": [
        "There are different ways to define our own Dataset class, which have their own pros and cons."
      ]
    },
    {
      "cell_type": "markdown",
      "metadata": {
        "id": "SQUAei-4isC1"
      },
      "source": [
        "1. #### Naive way:"
      ]
    },
    {
      "cell_type": "markdown",
      "metadata": {
        "id": "Cm2CArbkisC1"
      },
      "source": [
        "In the naive way, we directly index the hdf5 dataset (the data structure of hdf5 file), while we also pass the shuffled list to divide the train set and test set."
      ]
    },
    {
      "cell_type": "code",
      "execution_count": null,
      "metadata": {
        "id": "pHupwdR3HY57"
      },
      "outputs": [],
      "source": [
        "class MyDataset(Dataset):\n",
        "    def __init__(self, shuffle_list, train=True, transform=None, target_transform=None):\n",
        "        f1 = h5py.File(r'/content/CMS_data/SingleElectronPt50_IMGCROPS_n249k_RHv1.hdf5', 'r')\n",
        "        f2 = h5py.File(r'/content/CMS_data/SinglePhotonPt50_IMGCROPS_n249k_RHv1.hdf5', 'r')\n",
        "        \n",
        "        self.transform = transform\n",
        "        self.target_transform = target_transform\n",
        "        \n",
        "        self.electron_X = f1[\"X\"]\n",
        "        self.electron_y = f1[\"y\"]\n",
        "        self.photon_X = f2[\"X\"]\n",
        "        self.photon_y = f2[\"y\"]\n",
        "        \n",
        "        self.train = train\n",
        "        self.length = len(self.electron_X)\n",
        "        \n",
        "        if self.train:\n",
        "            self.shuffle_list = shuffle_list[:int( self.length * 9/5)]\n",
        "        else:\n",
        "            self.shuffle_list = shuffle_list[int( self.length * 9/5):]\n",
        "            \n",
        "    def __len__(self):\n",
        "        if self.train:\n",
        "            return int( self.length * 9/5)\n",
        "        else:\n",
        "            return int( self.length / 5)\n",
        "    \n",
        "    def __getitem__(self,idx):\n",
        "        idx_ = self.shuffle_list[idx]\n",
        "        if idx_ < self.length:\n",
        "            image, label = self.electron_X[idx_], self.electron_y[idx_].astype(int)\n",
        "        else:\n",
        "            image, label = self.photon_X[idx_ - self.length], self.photon_y[idx_ - self.length].astype(int)\n",
        "        if self.transform:\n",
        "            image = self.transform(image)\n",
        "        if self.target_transform:\n",
        "            label = self.target_transform(label)\n",
        "        return image, label"
      ]
    },
    {
      "cell_type": "markdown",
      "metadata": {
        "id": "j88MpU4fisC2"
      },
      "source": [
        "However, the indexing of hdf5 dataset is very slow, which will severely affect the training."
      ]
    },
    {
      "cell_type": "markdown",
      "metadata": {
        "id": "gnMqW8ECisC2"
      },
      "source": [
        "2. #### Faster way:"
      ]
    },
    {
      "cell_type": "markdown",
      "metadata": {
        "id": "rVxS6U0SisC2"
      },
      "source": [
        "In the second way, we load the whole hdf5 dataset into memory (as numpy array) to increase the reading speed while training."
      ]
    },
    {
      "cell_type": "code",
      "execution_count": null,
      "metadata": {
        "id": "diAxQbIRJoe1"
      },
      "outputs": [],
      "source": [
        "class MyDataset(Dataset):\n",
        "    def __init__(self, shuffle_list, train=True, transform=None, target_transform=None):\n",
        "        f1 = h5py.File(r'/content/CMS_data/SingleElectronPt50_IMGCROPS_n249k_RHv1.hdf5', 'r')\n",
        "        f2 = h5py.File(r'/content/CMS_data/SinglePhotonPt50_IMGCROPS_n249k_RHv1.hdf5', 'r')\n",
        "        \n",
        "        self.transform = transform\n",
        "        self.target_transform = target_transform\n",
        "        \n",
        "        self.electron_X = f1[\"X\"][:]\n",
        "        self.electron_y = torch.from_numpy(f1[\"y\"][:]).type(torch.LongTensor)\n",
        "        self.photon_X = f2[\"X\"][:]\n",
        "        self.photon_y = torch.from_numpy(f2[\"y\"][:]).type(torch.LongTensor)\n",
        "\n",
        "        self.train = train\n",
        "        self.length = len(self.electron_X)\n",
        "            \n",
        "    def __len__(self):\n",
        "        if self.train:\n",
        "            return int( self.length * 9/5)\n",
        "        else:\n",
        "            return int( self.length / 5)\n",
        "    \n",
        "    def __getitem__(self,idx):\n",
        "        idx_ = self.shuffle_list[idx]\n",
        "        if idx_ < self.length:\n",
        "            image, label = self.electron_X[idx_], self.electron_y[idx_]\n",
        "        else:\n",
        "            image, label = self.photon_X[idx_ - self.length], self.photon_y[idx_ - self.length]\n",
        "            \n",
        "        if self.transform:\n",
        "            image = self.transform(image)\n",
        "        if self.target_transform:\n",
        "            label = self.target_transform(label)\n",
        "            \n",
        "        return image, label"
      ]
    },
    {
      "cell_type": "markdown",
      "metadata": {
        "id": "Kcapvs5_0Or7"
      },
      "source": [
        "3. #### Final way:"
      ]
    },
    {
      "cell_type": "markdown",
      "metadata": {
        "id": "u3OmOcdVisC2"
      },
      "source": [
        "In the final way, we load dataset into memory and use fancy indexing to shuffle the data."
      ]
    },
    {
      "cell_type": "code",
      "execution_count": null,
      "metadata": {
        "id": "N2E4S0mrICor"
      },
      "outputs": [],
      "source": [
        "f1 = h5py.File(r'/content/CMS_data/SingleElectronPt50_IMGCROPS_n249k_RHv1.hdf5', 'r')\n",
        "f2 = h5py.File(r'/content/CMS_data/SinglePhotonPt50_IMGCROPS_n249k_RHv1.hdf5', 'r')\n",
        "total_X = np.concatenate( (f1[\"X\"][:], f2[\"X\"][:] ), axis=0 )\n",
        "total_y = np.concatenate( (f1[\"y\"][:], f2[\"y\"][:] ), axis=0 )"
      ]
    },
    {
      "cell_type": "markdown",
      "metadata": {
        "id": "q9gWe8AQ5Le3"
      },
      "source": [
        "#### fancy indexing:"
      ]
    },
    {
      "cell_type": "code",
      "execution_count": null,
      "metadata": {
        "id": "JdFr9POuJP6u"
      },
      "outputs": [],
      "source": [
        "total_X = total_X[shuffle_list]\n",
        "total_y = total_y[shuffle_list].astype(int)\n",
        "#total_y = torch.from_numpy(total_y[shuffle_list]).type(torch.LongTensor)"
      ]
    },
    {
      "cell_type": "markdown",
      "metadata": {
        "id": "wltNj_lwisC2"
      },
      "source": [
        "#### Extending to three-channel for pre-trained models\n",
        "Because the pre-trained ResNet, VGG and ViT requires the input to have three-channel and at least 224 pixel in height and width directions, we need to copy one channel. A naive thought is to copy the energy channel."
      ]
    },
    {
      "cell_type": "code",
      "execution_count": null,
      "metadata": {
        "id": "uVI9BGjN8sGR"
      },
      "outputs": [],
      "source": [
        "total_X = np.concatenate( (total_X, total_X[:,:,:,:1]), axis = 3)"
      ]
    },
    {
      "cell_type": "markdown",
      "metadata": {
        "id": "WkerhmuFkBOg"
      },
      "source": [
        "#### Dataset Class"
      ]
    },
    {
      "cell_type": "code",
      "execution_count": null,
      "metadata": {
        "id": "kM_WpGoN0z9O"
      },
      "outputs": [],
      "source": [
        "class MyDataset(Dataset):\n",
        "    def __init__(self, shuffle_list, train=True, transform=None, target_transform=None):\n",
        "        global total_X, total_y\n",
        "        self.transform = transform\n",
        "        self.target_transform = target_transform\n",
        "        self.train = train\n",
        "        self.length = len(total_X)\n",
        "        self.train_length = int( self.length * 9/10)\n",
        "        self.test_length = int( self.length / 10)\n",
        "            \n",
        "    def __len__(self):\n",
        "        if self.train:\n",
        "            return self.train_length\n",
        "        else:\n",
        "            return self.test_length\n",
        "    \n",
        "    def __getitem__(self,idx):\n",
        "        if self.train:\n",
        "            image, label = total_X[idx], total_y[idx]\n",
        "        else:\n",
        "            image, label = total_X[idx + self.train_length], total_y[idx + self.train_length]\n",
        "        if self.transform:\n",
        "            image = self.transform(image)\n",
        "        if self.target_transform:\n",
        "            label = self.target_transform(label)\n",
        "            #pass\n",
        "        return image, label"
      ]
    },
    {
      "cell_type": "markdown",
      "metadata": {
        "id": "RlGlrSQVJdW_"
      },
      "source": [
        "### I-C. Issue: Min-Max Normalization"
      ]
    },
    {
      "cell_type": "markdown",
      "metadata": {
        "id": "JbmY4RY-HpG2"
      },
      "source": [
        "We found that Min-Max normalization doesn't work for this dataset, which will make the loss become $\\textbf{NaN}$ during training."
      ]
    },
    {
      "cell_type": "code",
      "execution_count": null,
      "metadata": {
        "id": "-ukFpGQqpWSE"
      },
      "outputs": [],
      "source": [
        "class MyDataset(Dataset):\n",
        "    def __init__(self, shuffle_list, train=True, transform=None, target_transform=None):\n",
        "        global total_X, total_y\n",
        "        self.transform = transform\n",
        "        self.target_transform = target_transform\n",
        "        self.train = train\n",
        "        self.length = len(total_X)\n",
        "        self.train_length = int( self.length * 9/10)\n",
        "        self.test_length = int( self.length / 10)\n",
        "            \n",
        "    def __len__(self):\n",
        "        if self.train:\n",
        "            return self.train_length\n",
        "        else:\n",
        "            return self.test_length\n",
        "    \n",
        "    def __getitem__(self,idx):\n",
        "        if self.train:\n",
        "            image, label = total_X[idx], total_y[idx]\n",
        "        else:\n",
        "            image, label = total_X[idx + self.train_length], total_y[idx + self.train_length]\n",
        "        if self.transform:\n",
        "            image = self.transform(image)\n",
        "        if self.target_transform:\n",
        "            label = self.target_transform(label)\n",
        "        '''\n",
        "        max_val = torch.max(image)\n",
        "        min_val = torch.min(image)\n",
        "        image = (image - min_val)/(max_val-min_val)\n",
        "        '''\n",
        "        return image, label"
      ]
    },
    {
      "cell_type": "markdown",
      "metadata": {
        "id": "CEjju13qGAQ8"
      },
      "source": [
        "### I-D: Transform and Target Transform for data and label"
      ]
    },
    {
      "cell_type": "markdown",
      "metadata": {
        "id": "JohICD1KisC3"
      },
      "source": [
        "#### Transform for normal case (transforming numpy array to pytorch tensor)"
      ]
    },
    {
      "cell_type": "code",
      "execution_count": null,
      "metadata": {
        "id": "L6C-9NvFisC3"
      },
      "outputs": [],
      "source": [
        "my_transform_normal = transforms.ToTensor()"
      ]
    },
    {
      "cell_type": "markdown",
      "metadata": {
        "id": "8ny7jQ2jisC3"
      },
      "source": [
        "#### Transform for pre-trained models (resize to 224)"
      ]
    },
    {
      "cell_type": "code",
      "execution_count": null,
      "metadata": {
        "id": "RPAh7klxisC3"
      },
      "outputs": [],
      "source": [
        "my_transform_pretrained = transforms.Compose([transforms.ToTensor(), transforms.Resize((224,224))])"
      ]
    },
    {
      "cell_type": "markdown",
      "metadata": {
        "id": "FuYV4zhlisC3"
      },
      "source": [
        "#### Target Transform (transforming numpy.float32 to numpy.int64)"
      ]
    },
    {
      "cell_type": "code",
      "execution_count": null,
      "metadata": {
        "id": "d5CRLbUnisC3"
      },
      "outputs": [],
      "source": [
        "target_transform = transforms.Lambda( lambda x: x.astype(int) )"
      ]
    },
    {
      "cell_type": "markdown",
      "metadata": {
        "id": "S-eNTmB5isC3"
      },
      "source": [
        "#### Transform for single channel data and pre-trained models"
      ]
    },
    {
      "cell_type": "code",
      "execution_count": null,
      "metadata": {
        "id": "FnZ0Dyp0ja9x"
      },
      "outputs": [],
      "source": [
        "my_transform_single_channel = transforms.Compose([transforms.ToTensor(), transforms.Resize((224, 224)),\n",
        "                                   transforms.Lambda(lambda x: x.repeat(3, 1, 1) )\n",
        "    ])"
      ]
    },
    {
      "cell_type": "markdown",
      "metadata": {
        "id": "uH6Ledd5isC3"
      },
      "source": [
        "### I-E. Train set and Test set"
      ]
    },
    {
      "cell_type": "code",
      "execution_count": null,
      "metadata": {
        "id": "0S2EbXVsqVlh"
      },
      "outputs": [],
      "source": [
        "train_set = MyDataset(shuffle_list=shuffle_list, train=True, transform=my_transform_normal)\n",
        "train_loader =  DataLoader(train_set, batch_size=500, shuffle=True)"
      ]
    },
    {
      "cell_type": "code",
      "execution_count": null,
      "metadata": {
        "id": "kpi9YN64iyOF"
      },
      "outputs": [],
      "source": [
        "test_set = MyDataset(shuffle_list=shuffle_list, train=False, transform=my_transform_normal)\n",
        "test_loader =  DataLoader(test_set, batch_size=500, shuffle=False)"
      ]
    },
    {
      "cell_type": "markdown",
      "metadata": {
        "id": "h6B46aPGTigc"
      },
      "source": [
        "## II. Plot of the data"
      ]
    },
    {
      "cell_type": "markdown",
      "metadata": {
        "id": "W4ySO4Vzlt3c"
      },
      "source": [
        "### II-A. Plot of Energy Channel"
      ]
    },
    {
      "cell_type": "code",
      "execution_count": null,
      "metadata": {
        "colab": {
          "base_uri": "https://localhost:8080/",
          "height": 675
        },
        "id": "8sR9Jj8NisC3",
        "outputId": "1884624e-8c69-46d5-a25b-ad7e79c6d1b9"
      },
      "outputs": [
        {
          "data": {
            "image/png": "[encoded data removed]",
            "text/plain": [
              "<Figure size 800x800 with 9 Axes>"
            ]
          },
          "metadata": {},
          "output_type": "display_data"
        }
      ],
      "source": [
        "labels_map = {\n",
        "    0: \"Photon\",\n",
        "    1: \"Electron\",\n",
        "}\n",
        "figure = plt.figure(figsize=(8, 8))\n",
        "cols, rows = 3, 3\n",
        "for i in range(1, cols * rows + 1):\n",
        "    sample_idx = torch.randint(len(train_set), size=(1,)).item()\n",
        "    img, label = train_set[sample_idx][0][1,:,:], train_set[sample_idx][1]\n",
        "    figure.add_subplot(rows, cols, i)\n",
        "    plt.title(labels_map[label])\n",
        "    plt.axis(\"off\")\n",
        "    plt.imshow(img.squeeze(), cmap=\"gray\")\n",
        "plt.show()"
      ]
    },
    {
      "cell_type": "markdown",
      "metadata": {
        "id": "FMaHfjailzp5"
      },
      "source": [
        "### II.B Plot of Time Channel"
      ]
    },
    {
      "cell_type": "code",
      "execution_count": null,
      "metadata": {
        "colab": {
          "base_uri": "https://localhost:8080/",
          "height": 675
        },
        "id": "Ulu96GDxlbcO",
        "outputId": "e8683359-04de-4b0d-d474-f93d6c0c6cf5"
      },
      "outputs": [
        {
          "data": {
            "image/png": "[encoded data removed]",
            "text/plain": [
              "<Figure size 800x800 with 9 Axes>"
            ]
          },
          "metadata": {},
          "output_type": "display_data"
        }
      ],
      "source": [
        "labels_map = {\n",
        "    0: \"Photon\",\n",
        "    1: \"Electron\",\n",
        "}\n",
        "figure = plt.figure(figsize=(8, 8))\n",
        "cols, rows = 3, 3\n",
        "for i in range(1, cols * rows + 1):\n",
        "    sample_idx = torch.randint(len(train_set), size=(1,)).item()\n",
        "    img, label = train_set[sample_idx][0][0,:,:], train_set[sample_idx][1]\n",
        "    figure.add_subplot(rows, cols, i)\n",
        "    plt.title(labels_map[label])\n",
        "    plt.axis(\"off\")\n",
        "    plt.imshow(img.squeeze(), cmap=\"gray\")\n",
        "plt.show()"
      ]
    },
    {
      "cell_type": "markdown",
      "metadata": {
        "id": "fzgi_5duunoe"
      },
      "source": [
        "## III. Models"
      ]
    },
    {
      "cell_type": "markdown",
      "metadata": {
        "id": "TGVKWmWWuKND"
      },
      "source": [
        "### III-A. MLP structure (fully connect neural network)"
      ]
    },
    {
      "cell_type": "code",
      "execution_count": null,
      "metadata": {
        "id": "KKaCdJuQT7p9"
      },
      "outputs": [],
      "source": [
        "class FCNN_CG(nn.Module):\n",
        "    def __init__(self):\n",
        "        super().__init__()\n",
        "        self.fc1 = nn.Linear(2 * 32 * 32, 600)\n",
        "        self.fc2 = nn.Linear(600, 200)\n",
        "        self.fc3 = nn.Linear(200, 80)\n",
        "        self.fc4 = nn.Linear(80,2)\n",
        "\n",
        "    def forward(self, x):\n",
        "        x = torch.flatten(x, 1) # flatten all dimensions except batch\n",
        "        x = F.relu(self.fc1(x))\n",
        "        x = F.relu(self.fc2(x))\n",
        "        x = F.relu(self.fc3(x))\n",
        "        x = self.fc4(x)\n",
        "        return x"
      ]
    },
    {
      "cell_type": "code",
      "execution_count": null,
      "metadata": {
        "id": "tjJHCG2Dsjwu"
      },
      "outputs": [],
      "source": [
        "model_FCNN = FCNN_CG().to(device)"
      ]
    },
    {
      "cell_type": "markdown",
      "metadata": {
        "id": "rtGl0m0QuCy3"
      },
      "source": [
        "### III-B. CNN structure (LeNet type)"
      ]
    },
    {
      "cell_type": "markdown",
      "metadata": {
        "id": "KLyitslWrX5y"
      },
      "source": [
        "The basic structure is similar to Yann Lecun's CNN strcuture (LeNet-5) for MNIST dataset (32$\\times$32 pixel version), but we replace the RBF layer of original LeNet-5 with fully connected layer."
      ]
    },
    {
      "cell_type": "code",
      "execution_count": null,
      "metadata": {
        "id": "YIF16yaKqdM4"
      },
      "outputs": [],
      "source": [
        "class Lenet5_CG(nn.Module):\n",
        "    def __init__(self):\n",
        "        super().__init__()\n",
        "        self.conv1 = nn.Conv2d(2, 6, 5)\n",
        "        self.pool = nn.MaxPool2d(2, 2)\n",
        "        self.conv2 = nn.Conv2d(6, 16, 5)\n",
        "        self.fc1 = nn.Linear(16 * 5 * 5, 120)\n",
        "        self.fc2 = nn.Linear(120, 84)\n",
        "        self.fc3 = nn.Linear(84, 2)\n",
        "\n",
        "    def forward(self, x):\n",
        "        x = self.pool(F.relu(self.conv1(x)))\n",
        "        x = self.pool(F.relu(self.conv2(x)))\n",
        "        x = torch.flatten(x, 1) # flatten all dimensions except batch\n",
        "        x = F.relu(self.fc1(x))\n",
        "        x = F.relu(self.fc2(x))\n",
        "        x = self.fc3(x)\n",
        "        return x"
      ]
    },
    {
      "cell_type": "markdown",
      "metadata": {
        "id": "JTfGxKQfsKKA"
      },
      "source": [
        "We also modify the input layer for single-channel input (energy channel), which is almost same as original LeNet with different output layer."
      ]
    },
    {
      "cell_type": "code",
      "execution_count": null,
      "metadata": {
        "id": "u0Js_iN_zdM5"
      },
      "outputs": [],
      "source": [
        "class Lenet5_CG(nn.Module):\n",
        "    def __init__(self):\n",
        "        super().__init__()\n",
        "        self.conv1 = nn.Conv2d(1, 6, 5)\n",
        "        self.pool = nn.MaxPool2d(2, 2)\n",
        "        self.conv2 = nn.Conv2d(6, 16, 5)\n",
        "        self.fc1 = nn.Linear(16 * 5 * 5, 120)\n",
        "        self.fc2 = nn.Linear(120, 84)\n",
        "        self.fc3 = nn.Linear(84, 2)\n",
        "\n",
        "    def forward(self, x):\n",
        "        x = self.pool(F.relu(self.conv1(x)))\n",
        "        x = self.pool(F.relu(self.conv2(x)))\n",
        "        x = torch.flatten(x, 1) # flatten all dimensions except batch\n",
        "        x = F.relu(self.fc1(x))\n",
        "        x = F.relu(self.fc2(x))\n",
        "        x = self.fc3(x)\n",
        "        return x"
      ]
    },
    {
      "cell_type": "code",
      "execution_count": null,
      "metadata": {
        "id": "Q5dg3ffCszUL"
      },
      "outputs": [],
      "source": [
        "model_LeNet = Lenet5_CG().to(device)"
      ]
    },
    {
      "cell_type": "markdown",
      "metadata": {
        "id": "bT33C33zudIs"
      },
      "source": [
        "### III-C. Simplified ResNet (two ResNet block)"
      ]
    },
    {
      "cell_type": "markdown",
      "metadata": {
        "id": "et-9aXsjtF9G"
      },
      "source": [
        "This is a simplified ResNet with only two Residual Block."
      ]
    },
    {
      "cell_type": "code",
      "execution_count": null,
      "metadata": {
        "id": "0Avwlr7ck0H2"
      },
      "outputs": [],
      "source": [
        "class ResBlock(torch.nn.Module):\n",
        "    def __init__(self,channels_in):\n",
        "        super().__init__()\n",
        "        self.conv1=torch.nn.Conv2d(channels_in,30,5,padding=2)\n",
        "        self.conv2=torch.nn.Conv2d(30,channels_in,3,padding=1)\n",
        "\n",
        "    def forward(self,x):\n",
        "        out=self.conv1(x)\n",
        "        out=self.conv2(out)\n",
        "        return F.relu(out+x)"
      ]
    },
    {
      "cell_type": "code",
      "execution_count": null,
      "metadata": {
        "id": "ySrVis7hkwp1"
      },
      "outputs": [],
      "source": [
        "class ResNet(torch.nn.Module):\n",
        "    def __init__(self):\n",
        "        super().__init__()\n",
        "        self.conv1=torch.nn.Conv2d(2,20,5)\n",
        "        self.conv2=torch.nn.Conv2d(20,15,3)\n",
        "        self.maxpool=torch.nn.MaxPool2d(2)\n",
        "        self.resblock1=ResBlock(channels_in=20)\n",
        "        self.resblock2=ResBlock(channels_in=15)\n",
        "        self.full_c=torch.nn.Linear(540,2)\n",
        "\n",
        "    def forward(self,x):\n",
        "        size=x.shape[0]\n",
        "        x=F.relu(self.maxpool(self.conv1(x)))\n",
        "        x=self.resblock1(x)\n",
        "        x=F.relu(self.maxpool(self.conv2(x)))\n",
        "        x=self.resblock2(x)\n",
        "        x=x.view(size,-1)\n",
        "        x=self.full_c(x)\n",
        "        return x"
      ]
    },
    {
      "cell_type": "markdown",
      "metadata": {
        "id": "r7GOXtWCs-Nv"
      },
      "source": [
        "The following is for single-channel input (energy channel):"
      ]
    },
    {
      "cell_type": "code",
      "execution_count": null,
      "metadata": {
        "id": "yCpYxLso5LUM"
      },
      "outputs": [],
      "source": [
        "class ResNet(torch.nn.Module):\n",
        "    def __init__(self):\n",
        "        super().__init__()\n",
        "        self.conv1=torch.nn.Conv2d(1,20,5)\n",
        "        self.conv2=torch.nn.Conv2d(20,15,3)\n",
        "        self.maxpool=torch.nn.MaxPool2d(2)\n",
        "        self.resblock1=ResBlock(channels_in=20)\n",
        "        self.resblock2=ResBlock(channels_in=15)\n",
        "        self.full_c=torch.nn.Linear(540,2)\n",
        "\n",
        "    def forward(self,x):\n",
        "        size=x.shape[0]\n",
        "        x=F.relu(self.maxpool(self.conv1(x)))\n",
        "        x=self.resblock1(x)\n",
        "        x=F.relu(self.maxpool(self.conv2(x)))\n",
        "        x=self.resblock2(x)\n",
        "        x=x.view(size,-1)\n",
        "        x=self.full_c(x)\n",
        "        return x"
      ]
    },
    {
      "cell_type": "code",
      "execution_count": null,
      "metadata": {
        "id": "tM_4gcTJtQB_"
      },
      "outputs": [],
      "source": [
        "model_Simple_ResNet = ResNet().to(device)"
      ]
    },
    {
      "cell_type": "markdown",
      "metadata": {
        "id": "vgw7xqMbtpJj"
      },
      "source": [
        "### III-D Pre-trained ResNet18"
      ]
    },
    {
      "cell_type": "code",
      "execution_count": null,
      "metadata": {
        "colab": {
          "base_uri": "https://localhost:8080/",
          "height": 158,
          "referenced_widgets": [
            "1100ff8f97a8422b919ab25200057599",
            "e2f54a70d5a74c5aba9e4b09118244b5",
            "50226fc903b4410ea56a7c5ca848d298",
            "cd2afdf7dc494b518cd0c83d237bdeb6",
            "8ae4294ed898433ba14c4d671ab1ec71",
            "26ac165caca74bd5b216a35c54b11745",
            "0f3caf0934cc49228c6e3b52f887101f",
            "53ae602ef39843d08bfe7c1a404d8a4c",
            "114493495eb8411c868b91154d65d101",
            "cef2735b62404de0b0c5bad1b959af7e",
            "5591034967204a818b0d33dd904eacf3"
          ]
        },
        "id": "-AaAfmTIk67i",
        "outputId": "ed691744-b2e6-4300-82c8-451ca952a1f7"
      },
      "outputs": [
        {
          "name": "stderr",
          "output_type": "stream",
          "text": [
            "/usr/local/lib/python3.9/dist-packages/torchvision/models/_utils.py:208: UserWarning: The parameter 'pretrained' is deprecated since 0.13 and may be removed in the future, please use 'weights' instead.\n",
            "  warnings.warn(\n",
            "/usr/local/lib/python3.9/dist-packages/torchvision/models/_utils.py:223: UserWarning: Arguments other than a weight enum or `None` for 'weights' are deprecated since 0.13 and may be removed in the future. The current behavior is equivalent to passing `weights=ResNet18_Weights.IMAGENET1K_V1`. You can also use `weights=ResNet18_Weights.DEFAULT` to get the most up-to-date weights.\n",
            "  warnings.warn(msg)\n",
            "Downloading: \"https://download.pytorch.org/models/resnet18-f37072fd.pth\" to /root/.cache/torch/hub/checkpoints/resnet18-f37072fd.pth\n"
          ]
        },
        {
          "data": {
            "application/vnd.jupyter.widget-view+json": {
              "model_id": "1100ff8f97a8422b919ab25200057599",
              "version_major": 2,
              "version_minor": 0
            },
            "text/plain": [
              "  0%|          | 0.00/44.7M [00:00<?, ?B/s]"
            ]
          },
          "metadata": {},
          "output_type": "display_data"
        }
      ],
      "source": [
        "# Pre-trained ResNet18\n",
        "model_ResNet18 = torchvision.models.resnet18(pretrained=True).to(device)\n",
        "in_features = model_ResNet18.fc.in_features\n",
        "model_ResNet18.fc = nn.Linear(in_features, 2, device=device)"
      ]
    },
    {
      "cell_type": "markdown",
      "metadata": {
        "id": "EuSHbBm7uCSo"
      },
      "source": [
        "### III-E. Pre-trained VGG16"
      ]
    },
    {
      "cell_type": "code",
      "execution_count": null,
      "metadata": {
        "colab": {
          "base_uri": "https://localhost:8080/"
        },
        "id": "ACIamMKuwEPe",
        "outputId": "9dfe76d9-1fcb-4584-bb65-8b211cbcd74a"
      },
      "outputs": [
        {
          "name": "stderr",
          "output_type": "stream",
          "text": [
            "/usr/local/lib/python3.9/dist-packages/torchvision/models/_utils.py:223: UserWarning: Arguments other than a weight enum or `None` for 'weights' are deprecated since 0.13 and may be removed in the future. The current behavior is equivalent to passing `weights=VGG16_Weights.IMAGENET1K_V1`. You can also use `weights=VGG16_Weights.DEFAULT` to get the most up-to-date weights.\n",
            "  warnings.warn(msg)\n"
          ]
        }
      ],
      "source": [
        "# pre-trained\n",
        "model_VGG16 = torchvision.models.vgg16(weights=torchvision.models.VGG16_Weights).to(device)"
      ]
    },
    {
      "cell_type": "code",
      "execution_count": null,
      "metadata": {
        "id": "Zk2U_SdFtehz"
      },
      "outputs": [],
      "source": [
        "# without pre-trained parameters\n",
        "model_VGG16 = torchvision.models.vgg16().to(device)"
      ]
    },
    {
      "cell_type": "code",
      "execution_count": null,
      "metadata": {
        "id": "wTazkPvptce2"
      },
      "outputs": [],
      "source": [
        "in_features = model_VGG16.classifier[6].in_features\n",
        "model_VGG16.classifier[6] = nn.Linear(in_features, 2, device=device)"
      ]
    },
    {
      "cell_type": "markdown",
      "metadata": {
        "id": "QeyrL5YGuzdF"
      },
      "source": [
        "### III-F. Pre-trained ViT (Vision Transformer)"
      ]
    },
    {
      "cell_type": "code",
      "execution_count": null,
      "metadata": {
        "colab": {
          "base_uri": "https://localhost:8080/",
          "height": 87,
          "referenced_widgets": [
            "dcb66f9ab6e04782b7491e7970fc83ea"
          ]
        },
        "id": "3eFgXgAligEV",
        "outputId": "b1f3c1d5-faeb-4136-e8e8-a873b0c4e030"
      },
      "outputs": [
        {
          "name": "stderr",
          "output_type": "stream",
          "text": [
            "Downloading: \"https://download.pytorch.org/models/vit_b_16-c867db91.pth\" to /root/.cache/torch/hub/checkpoints/vit_b_16-c867db91.pth\n"
          ]
        },
        {
          "data": {
            "application/vnd.jupyter.widget-view+json": {
              "model_id": "dcb66f9ab6e04782b7491e7970fc83ea",
              "version_major": 2,
              "version_minor": 0
            },
            "text/plain": [
              "  0%|          | 0.00/330M [00:00<?, ?B/s]"
            ]
          },
          "metadata": {},
          "output_type": "display_data"
        }
      ],
      "source": [
        "model_ViT = torchvision.models.vit_b_16(weights=torchvision.models.ViT_B_16_Weights.IMAGENET1K_V1).to(device)\n",
        "in_features = model_ViT.heads.head.in_features\n",
        "model_ViT.heads.head = nn.Linear(in_features, 2, device=device)"
      ]
    },
    {
      "cell_type": "code",
      "execution_count": null,
      "metadata": {
        "id": "Vy5cgaEJyXpE"
      },
      "outputs": [],
      "source": [
        "model_ViT = torchvision.models.vit_b_16().to(device)\n",
        "in_features = model_ViT.heads.head.in_features\n",
        "model_ViT.heads.head = nn.Linear(in_features, 2, device=device)"
      ]
    },
    {
      "cell_type": "markdown",
      "metadata": {
        "id": "gs6IMLLyu3Jh"
      },
      "source": [
        "## IV. Train and Test Function"
      ]
    },
    {
      "cell_type": "markdown",
      "metadata": {
        "id": "aB5ZriucyWli"
      },
      "source": [
        "Train Loop Function"
      ]
    },
    {
      "cell_type": "code",
      "execution_count": null,
      "metadata": {
        "id": "LwNKVkC2qk71"
      },
      "outputs": [],
      "source": [
        "def train_loop(dataloader, model, loss_fn, optimizer):\n",
        "    model.train()\n",
        "    size = len(dataloader.dataset)\n",
        "    running_loss = 0.\n",
        "    #total_sample = 0\n",
        "    for batch_i, data in enumerate(dataloader):\n",
        "        # get the inputs; data is a list of [inputs, labels]\n",
        "        inputs, labels = data[0].to(device), data[1].to(device)\n",
        "        \n",
        "        # zero the parameter gradients\n",
        "        optimizer.zero_grad()\n",
        "        \n",
        "        # Compute prediction and loss\n",
        "        outputs = model(inputs)\n",
        "        loss = loss_fn(outputs, labels)\n",
        "        \n",
        "        # Backpropagation\n",
        "        loss.backward()\n",
        "        optimizer.step()\n",
        "        \n",
        "        # print statistics\n",
        "        running_loss += loss.item()\n",
        "        num_batch_print = 200\n",
        "        if batch_i % num_batch_print == num_batch_print - 1:\n",
        "            current = (batch_i + 1) * len(inputs)\n",
        "            print(f'batch: [{batch_i + 1:5d}], loss: {running_loss / num_batch_print:.3f}')\n",
        "            print(f'temporary loss: {loss.item():>7f} | [{current:>5d}/{size:>5d}]')\n",
        "            running_loss = 0"
      ]
    },
    {
      "cell_type": "markdown",
      "metadata": {
        "id": "StMWWdwiyYsi"
      },
      "source": [
        "Test Loop Function"
      ]
    },
    {
      "cell_type": "code",
      "execution_count": null,
      "metadata": {
        "id": "e2qgnoTkqr41"
      },
      "outputs": [],
      "source": [
        "def test_loop_Entropy(dataloader, model, loss_fn):\n",
        "    model.eval()\n",
        "    #size = len(dataloader.dataset)\n",
        "    num_batches = len(dataloader)\n",
        "    \n",
        "    test_loss, correct = 0, 0\n",
        "    total = 0\n",
        "    \n",
        "    with torch.no_grad():\n",
        "        for data in dataloader:\n",
        "            # get the inputs for test dataset\n",
        "            images, labels = data[0].to(device), data[1].to(device)\n",
        "            \n",
        "            # calculate the outputs\n",
        "            outputs = model(images)\n",
        "            \n",
        "            # classify which class the output in\n",
        "            _, predicted = torch.max(outputs.data, 1)\n",
        "            #_, labels_value = torch.max(labels.data, 1)\n",
        "            \n",
        "            # obtain the statistics of test loss and correctness\n",
        "            test_loss += loss_fn(outputs, labels).item()\n",
        "            correct += (predicted == labels).sum().item() \n",
        "            #correct += (predicted == labels_value).sum().item() \n",
        "            total += labels.size(0)\n",
        "\n",
        "    print(f\"Test Error: \\n Accuracy: {(100 * correct / total):>0.1f}%\")\n",
        "    print(f\"Avg loss: {test_loss / num_batches:>8f} \\n\")"
      ]
    },
    {
      "cell_type": "markdown",
      "metadata": {
        "id": "WZzfXicwybFf"
      },
      "source": [
        "Classification Probability Function for ROC-AUC calculation"
      ]
    },
    {
      "cell_type": "code",
      "execution_count": null,
      "metadata": {
        "id": "7CuJFThl0yWc"
      },
      "outputs": [],
      "source": [
        "def test_loop_prob(dataloader, model):\n",
        "    model.eval()\n",
        "    #size = len(dataloader.dataset)\n",
        "    num_batches = len(dataloader)\n",
        "    \n",
        "    total_prob = list()\n",
        "    total_label = list()\n",
        "    i = 0\n",
        "    with torch.no_grad():\n",
        "        for (i, data) in enumerate(dataloader):\n",
        "            # get the inputs for test dataset\n",
        "            images, labels = data[0].to(device), data[1].to(device)\n",
        "            \n",
        "            # calculate the outputs\n",
        "            outputs = model(images)\n",
        "            probabilities = F.softmax(outputs, dim=1)[:, 1]\n",
        "            \n",
        "            total_prob += torch.Tensor.cpu(probabilities).numpy().tolist()\n",
        "            \n",
        "            total_label += torch.Tensor.cpu(labels).numpy().tolist()\n",
        "            \n",
        "            if i % 25 == 0:\n",
        "                print(f\"Process: {i/num_batches*100}\\%\")\n",
        "    return np.array(total_prob), np.array(total_label)"
      ]
    },
    {
      "cell_type": "markdown",
      "metadata": {
        "id": "56RRP-F9wIN1"
      },
      "source": [
        "## V. Training and Evaluation"
      ]
    },
    {
      "cell_type": "markdown",
      "metadata": {
        "id": "UuqsO-V3u8qQ"
      },
      "source": [
        "### Loss Function"
      ]
    },
    {
      "cell_type": "code",
      "execution_count": null,
      "metadata": {
        "id": "jXS2sL6YD4zI"
      },
      "outputs": [],
      "source": [
        "criterion = nn.CrossEntropyLoss()"
      ]
    },
    {
      "cell_type": "markdown",
      "metadata": {
        "id": "SgbuDN72viYv"
      },
      "source": [
        "### V-A. MLP results"
      ]
    },
    {
      "cell_type": "markdown",
      "metadata": {
        "id": "GwvS6IeqykiW"
      },
      "source": [
        "Batch size: 500\n",
        "\n",
        "Training on: T4 GPU\n",
        "\n",
        "Initial Learning Rate: 1e-2\n",
        "\n",
        "Optimizer: Adam\n",
        "\n",
        "Test Accuracy ~ 66% - 67% (too many epoches result in overfitting)"
      ]
    },
    {
      "cell_type": "markdown",
      "metadata": {
        "id": "gbZu0a8tFrrk"
      },
      "source": [
        "#### Training and Accuracy (MLP)"
      ]
    },
    {
      "cell_type": "code",
      "execution_count": null,
      "metadata": {
        "colab": {
          "base_uri": "https://localhost:8080/"
        },
        "id": "vIXn_3SX7Ad6",
        "outputId": "97664556-4c22-4183-8abb-92b8cbdde0dc"
      },
      "outputs": [
        {
          "name": "stdout",
          "output_type": "stream",
          "text": [
            "-------------Epoch 1-------------\n",
            "batch: [  200], loss: 0.667\n",
            "temporary loss: 0.653372 | [100000/448200]\n",
            "batch: [  400], loss: 0.649\n",
            "temporary loss: 0.635558 | [200000/448200]\n",
            "batch: [  600], loss: 0.644\n",
            "temporary loss: 0.623494 | [300000/448200]\n",
            "batch: [  800], loss: 0.643\n",
            "temporary loss: 0.673956 | [400000/448200]\n",
            "Test Error: \n",
            " Accuracy: 63.7%\n",
            "Avg loss: 0.640869 \n",
            "\n",
            "-------------Epoch 2-------------\n",
            "batch: [  200], loss: 0.631\n",
            "temporary loss: 0.635889 | [100000/448200]\n",
            "batch: [  400], loss: 0.629\n",
            "temporary loss: 0.654856 | [200000/448200]\n",
            "batch: [  600], loss: 0.625\n",
            "temporary loss: 0.610077 | [300000/448200]\n",
            "batch: [  800], loss: 0.618\n",
            "temporary loss: 0.636315 | [400000/448200]\n",
            "Test Error: \n",
            " Accuracy: 66.3%\n",
            "Avg loss: 0.620013 \n",
            "\n",
            "-------------Epoch 3-------------\n",
            "batch: [  200], loss: 0.595\n",
            "temporary loss: 0.583819 | [100000/448200]\n",
            "batch: [  400], loss: 0.596\n",
            "temporary loss: 0.574251 | [200000/448200]\n",
            "batch: [  600], loss: 0.593\n",
            "temporary loss: 0.580394 | [300000/448200]\n",
            "batch: [  800], loss: 0.593\n",
            "temporary loss: 0.575646 | [400000/448200]\n",
            "Test Error: \n",
            " Accuracy: 67.7%\n",
            "Avg loss: 0.612380 \n",
            "\n",
            "-------------Epoch 4-------------\n",
            "batch: [  200], loss: 0.562\n",
            "temporary loss: 0.581709 | [100000/448200]\n",
            "batch: [  400], loss: 0.566\n",
            "temporary loss: 0.559822 | [200000/448200]\n",
            "batch: [  600], loss: 0.570\n",
            "temporary loss: 0.580999 | [300000/448200]\n",
            "batch: [  800], loss: 0.570\n",
            "temporary loss: 0.537741 | [400000/448200]\n",
            "Test Error: \n",
            " Accuracy: 67.6%\n",
            "Avg loss: 0.617172 \n",
            "\n",
            "-------------Epoch 5-------------\n",
            "batch: [  200], loss: 0.524\n",
            "temporary loss: 0.500017 | [100000/448200]\n",
            "batch: [  400], loss: 0.533\n",
            "temporary loss: 0.544961 | [200000/448200]\n",
            "batch: [  600], loss: 0.542\n",
            "temporary loss: 0.514460 | [300000/448200]\n",
            "batch: [  800], loss: 0.546\n",
            "temporary loss: 0.549889 | [400000/448200]\n",
            "Test Error: \n",
            " Accuracy: 67.1%\n",
            "Avg loss: 0.632373 \n",
            "\n",
            "Done!\n",
            "Time Consumption:  52.08095383644104\n"
          ]
        }
      ],
      "source": [
        "time_start = time.time()\n",
        "for t in range( 5 ):\n",
        "    print(f\"-------------Epoch {t+1}-------------\")\n",
        "    #optimizer = optim.SGD(model.parameters(), lr=lr_list[t], momentum=0.9)\n",
        "    optimizer = optim.Adam(model_FCNN.parameters(), lr=1e-2)\n",
        "    train_loop(train_loader, model_FCNN, criterion, optimizer)\n",
        "    test_loop_Entropy(test_loader, model_FCNN, criterion)\n",
        "print(\"Done!\")\n",
        "time_end = time.time()\n",
        "print(\"Time Consumption: \", time_end - time_start)"
      ]
    },
    {
      "cell_type": "markdown",
      "metadata": {
        "id": "qAjyMahY11-6"
      },
      "source": [
        "We find that the model starts to overfit at Epoch 4."
      ]
    },
    {
      "cell_type": "markdown",
      "metadata": {
        "id": "s3bynd4P0KmK"
      },
      "source": [
        "#### ROC curve and AUC score (MLP)"
      ]
    },
    {
      "cell_type": "code",
      "execution_count": null,
      "metadata": {
        "colab": {
          "base_uri": "https://localhost:8080/"
        },
        "id": "pOgDgtRDiLy5",
        "outputId": "3c7d5442-a949-4c8b-c2df-477211b1a210"
      },
      "outputs": [
        {
          "name": "stdout",
          "output_type": "stream",
          "text": [
            "Process: 0.0\\%\n",
            "Process: 25.0\\%\n",
            "Process: 50.0\\%\n",
            "Process: 75.0\\%\n"
          ]
        }
      ],
      "source": [
        "total_prob_FCNN, total_label_FCNN = test_loop_prob(test_loader, model_FCNN)\n",
        "fpr, tpr, thresholds = metrics.roc_curve(total_label_FCNN, total_prob_FCNN)\n",
        "FCNN_AUC_1 = metrics.roc_auc_score(total_label_FCNN, total_prob_FCNN)"
      ]
    },
    {
      "cell_type": "code",
      "execution_count": null,
      "metadata": {
        "colab": {
          "base_uri": "https://localhost:8080/"
        },
        "id": "sA0aYMsJ2QK7",
        "outputId": "2e38c2e5-f89f-4572-fa85-52127237a560"
      },
      "outputs": [
        {
          "name": "stdout",
          "output_type": "stream",
          "text": [
            "The ROC-AUC score of FCNN is: 0.7162920619873487\n"
          ]
        }
      ],
      "source": [
        "print(\"The ROC-AUC score of FCNN is:\", FCNN_AUC_1)"
      ]
    },
    {
      "cell_type": "code",
      "execution_count": null,
      "metadata": {
        "colab": {
          "base_uri": "https://localhost:8080/",
          "height": 472
        },
        "id": "PfDXE7wCjWRQ",
        "outputId": "adda2466-ff65-471c-86db-0868fd7383cc"
      },
      "outputs": [
        {
          "data": {
            "image/png": "[encoded data removed]",
            "text/plain": [
              "<Figure size 640x480 with 1 Axes>"
            ]
          },
          "metadata": {},
          "output_type": "display_data"
        }
      ],
      "source": [
        "plt.plot(fpr, tpr, \"--\", color=\"magenta\")\n",
        "#plt.plot([0,1],[0,1],\"--\")\n",
        "plt.grid()\n",
        "plt.xlabel(\"False Positive Rate\")\n",
        "plt.ylabel(\"True Positive Rate\")\n",
        "plt.title(\"ROC curve for FCNN\")\n",
        "plt.show()"
      ]
    },
    {
      "cell_type": "markdown",
      "metadata": {
        "id": "ZKcCl-ab8b38"
      },
      "source": [
        "### V-B. CNN results"
      ]
    },
    {
      "cell_type": "markdown",
      "metadata": {
        "id": "pdd_84hM8wui"
      },
      "source": [
        "Batch size: 500\n",
        "\n",
        "Training on: T4 GPU\n",
        "\n",
        "Learning Rate: 1e-2 (5 epoch), 1e-3 (3 epoch), 1e-4 (2 epoch) \n",
        "\n",
        "Optimizer: Adam\n",
        "\n",
        "Test Accuracy ~ 71.9%"
      ]
    },
    {
      "cell_type": "markdown",
      "metadata": {
        "id": "V7w6pQAKF4Mp"
      },
      "source": [
        "#### Training and Accuracy (LeNet)"
      ]
    },
    {
      "cell_type": "code",
      "execution_count": null,
      "metadata": {
        "id": "CNlSZrpk90-p"
      },
      "outputs": [],
      "source": [
        "lr_list = [1e-2]*5 + [1e-3]*3 + [1e-4]*2"
      ]
    },
    {
      "cell_type": "code",
      "execution_count": null,
      "metadata": {
        "colab": {
          "base_uri": "https://localhost:8080/"
        },
        "id": "ZJr0CMKs8h7d",
        "outputId": "5288936b-c9bf-467b-aa1f-0aefdd9d99fd"
      },
      "outputs": [
        {
          "name": "stdout",
          "output_type": "stream",
          "text": [
            "-------------Epoch 1-------------\n",
            "batch: [  200], loss: 0.667\n",
            "temporary loss: 0.659411 | [100000/448200]\n",
            "batch: [  400], loss: 0.645\n",
            "temporary loss: 0.671905 | [200000/448200]\n",
            "batch: [  600], loss: 0.625\n",
            "temporary loss: 0.614612 | [300000/448200]\n",
            "batch: [  800], loss: 0.609\n",
            "temporary loss: 0.578160 | [400000/448200]\n",
            "Test Error: \n",
            " Accuracy: 68.7%\n",
            "Avg loss: 0.596107 \n",
            "\n",
            "-------------Epoch 2-------------\n",
            "batch: [  200], loss: 0.594\n",
            "temporary loss: 0.550116 | [100000/448200]\n",
            "batch: [  400], loss: 0.590\n",
            "temporary loss: 0.589140 | [200000/448200]\n",
            "batch: [  600], loss: 0.589\n",
            "temporary loss: 0.565250 | [300000/448200]\n",
            "batch: [  800], loss: 0.587\n",
            "temporary loss: 0.573252 | [400000/448200]\n",
            "Test Error: \n",
            " Accuracy: 70.4%\n",
            "Avg loss: 0.580446 \n",
            "\n",
            "-------------Epoch 3-------------\n",
            "batch: [  200], loss: 0.585\n",
            "temporary loss: 0.557440 | [100000/448200]\n",
            "batch: [  400], loss: 0.582\n",
            "temporary loss: 0.583403 | [200000/448200]\n",
            "batch: [  600], loss: 0.581\n",
            "temporary loss: 0.582290 | [300000/448200]\n",
            "batch: [  800], loss: 0.579\n",
            "temporary loss: 0.600147 | [400000/448200]\n",
            "Test Error: \n",
            " Accuracy: 70.3%\n",
            "Avg loss: 0.579793 \n",
            "\n",
            "-------------Epoch 4-------------\n",
            "batch: [  200], loss: 0.578\n",
            "temporary loss: 0.572757 | [100000/448200]\n",
            "batch: [  400], loss: 0.580\n",
            "temporary loss: 0.589177 | [200000/448200]\n",
            "batch: [  600], loss: 0.578\n",
            "temporary loss: 0.594799 | [300000/448200]\n",
            "batch: [  800], loss: 0.576\n",
            "temporary loss: 0.557018 | [400000/448200]\n",
            "Test Error: \n",
            " Accuracy: 70.6%\n",
            "Avg loss: 0.576665 \n",
            "\n",
            "-------------Epoch 5-------------\n",
            "batch: [  200], loss: 0.574\n",
            "temporary loss: 0.582869 | [100000/448200]\n",
            "batch: [  400], loss: 0.574\n",
            "temporary loss: 0.580330 | [200000/448200]\n",
            "batch: [  600], loss: 0.575\n",
            "temporary loss: 0.557726 | [300000/448200]\n",
            "batch: [  800], loss: 0.575\n",
            "temporary loss: 0.580255 | [400000/448200]\n",
            "Test Error: \n",
            " Accuracy: 70.8%\n",
            "Avg loss: 0.572852 \n",
            "\n",
            "-------------Epoch 6-------------\n",
            "batch: [  200], loss: 0.565\n",
            "temporary loss: 0.573230 | [100000/448200]\n",
            "batch: [  400], loss: 0.564\n",
            "temporary loss: 0.529778 | [200000/448200]\n",
            "batch: [  600], loss: 0.562\n",
            "temporary loss: 0.553048 | [300000/448200]\n",
            "batch: [  800], loss: 0.563\n",
            "temporary loss: 0.556200 | [400000/448200]\n",
            "Test Error: \n",
            " Accuracy: 71.6%\n",
            "Avg loss: 0.564130 \n",
            "\n",
            "-------------Epoch 7-------------\n",
            "batch: [  200], loss: 0.563\n",
            "temporary loss: 0.518156 | [100000/448200]\n",
            "batch: [  400], loss: 0.561\n",
            "temporary loss: 0.608742 | [200000/448200]\n",
            "batch: [  600], loss: 0.561\n",
            "temporary loss: 0.573844 | [300000/448200]\n",
            "batch: [  800], loss: 0.559\n",
            "temporary loss: 0.562505 | [400000/448200]\n",
            "Test Error: \n",
            " Accuracy: 71.7%\n",
            "Avg loss: 0.562714 \n",
            "\n",
            "-------------Epoch 8-------------\n",
            "batch: [  200], loss: 0.561\n",
            "temporary loss: 0.551014 | [100000/448200]\n",
            "batch: [  400], loss: 0.559\n",
            "temporary loss: 0.559683 | [200000/448200]\n",
            "batch: [  600], loss: 0.561\n",
            "temporary loss: 0.577791 | [300000/448200]\n",
            "batch: [  800], loss: 0.559\n",
            "temporary loss: 0.541140 | [400000/448200]\n",
            "Test Error: \n",
            " Accuracy: 71.8%\n",
            "Avg loss: 0.561024 \n",
            "\n",
            "-------------Epoch 9-------------\n",
            "batch: [  200], loss: 0.559\n",
            "temporary loss: 0.557147 | [100000/448200]\n",
            "batch: [  400], loss: 0.559\n",
            "temporary loss: 0.546302 | [200000/448200]\n",
            "batch: [  600], loss: 0.559\n",
            "temporary loss: 0.556329 | [300000/448200]\n",
            "batch: [  800], loss: 0.554\n",
            "temporary loss: 0.568755 | [400000/448200]\n",
            "Test Error: \n",
            " Accuracy: 71.9%\n",
            "Avg loss: 0.560237 \n",
            "\n",
            "-------------Epoch 10-------------\n",
            "batch: [  200], loss: 0.556\n",
            "temporary loss: 0.557284 | [100000/448200]\n",
            "batch: [  400], loss: 0.558\n",
            "temporary loss: 0.541433 | [200000/448200]\n",
            "batch: [  600], loss: 0.560\n",
            "temporary loss: 0.538725 | [300000/448200]\n",
            "batch: [  800], loss: 0.556\n",
            "temporary loss: 0.552849 | [400000/448200]\n",
            "Test Error: \n",
            " Accuracy: 71.9%\n",
            "Avg loss: 0.559992 \n",
            "\n",
            "Done!\n",
            "Time Consumption:  137.41894841194153\n"
          ]
        }
      ],
      "source": [
        "time_start = time.time()\n",
        "for t in range( len(lr_list) ):\n",
        "    print(f\"-------------Epoch {t+1}-------------\")\n",
        "    #optimizer = optim.SGD(model.parameters(), lr=lr_list[t], momentum=0.9)\n",
        "    optimizer = optim.Adam(model_LeNet.parameters(), lr=lr_list[t])\n",
        "    train_loop(train_loader, model_LeNet, criterion, optimizer)\n",
        "    test_loop_Entropy(test_loader, model_LeNet, criterion)\n",
        "print(\"Done!\")\n",
        "time_end = time.time()\n",
        "print(\"Time Consumption: \", time_end - time_start)"
      ]
    },
    {
      "cell_type": "markdown",
      "metadata": {
        "id": "OxQAW-4sF9Sd"
      },
      "source": [
        "#### ROC and AUC (LeNet)"
      ]
    },
    {
      "cell_type": "code",
      "execution_count": null,
      "metadata": {
        "colab": {
          "base_uri": "https://localhost:8080/"
        },
        "id": "Ee3w4L_D-85F",
        "outputId": "23e382dd-7f89-45e0-84f5-ce2f8abc692a"
      },
      "outputs": [
        {
          "name": "stdout",
          "output_type": "stream",
          "text": [
            "Process: 0.0\\%\n",
            "Process: 25.0\\%\n",
            "Process: 50.0\\%\n",
            "Process: 75.0\\%\n"
          ]
        }
      ],
      "source": [
        "total_prob_LeNet, total_label_LeNet = test_loop_prob(test_loader, model_LeNet)\n",
        "fpr, tpr, thresholds = metrics.roc_curve(total_label_LeNet, total_prob_LeNet)\n",
        "LeNet_AUC_1 = metrics.roc_auc_score(total_label_LeNet, total_prob_LeNet)"
      ]
    },
    {
      "cell_type": "code",
      "execution_count": null,
      "metadata": {
        "colab": {
          "base_uri": "https://localhost:8080/"
        },
        "id": "4kMjdkVE_Ow-",
        "outputId": "f4ee0415-6b64-464f-ed6a-3edf9157690d"
      },
      "outputs": [
        {
          "name": "stdout",
          "output_type": "stream",
          "text": [
            "The ROC-AUC score of LeNet is: 0.7781870042368337\n"
          ]
        }
      ],
      "source": [
        "print(\"The ROC-AUC score of LeNet is:\", LeNet_AUC_1)"
      ]
    },
    {
      "cell_type": "code",
      "execution_count": null,
      "metadata": {
        "colab": {
          "base_uri": "https://localhost:8080/",
          "height": 472
        },
        "id": "dUm2HfbV8umH",
        "outputId": "71f54ba5-ea44-491c-81b3-305ae7dd55e2"
      },
      "outputs": [
        {
          "data": {
            "image/png": "[encoded data removed]",
            "text/plain": [
              "<Figure size 640x480 with 1 Axes>"
            ]
          },
          "metadata": {},
          "output_type": "display_data"
        }
      ],
      "source": [
        "plt.plot(fpr, tpr, \"--\", color=\"magenta\")\n",
        "#plt.plot([0,1],[0,1],\"--\")\n",
        "plt.grid()\n",
        "plt.xlabel(\"False Positive Rate\")\n",
        "plt.ylabel(\"True Positive Rate\")\n",
        "plt.title(\"ROC curve for LeNet (CNN)\")\n",
        "plt.show()"
      ]
    },
    {
      "cell_type": "markdown",
      "metadata": {
        "id": "95kAzVd4GDPD"
      },
      "source": [
        "### V-C. Simplified ResNet results"
      ]
    },
    {
      "cell_type": "markdown",
      "metadata": {
        "id": "wRngns-rIIXc"
      },
      "source": [
        "Batch size: 500\n",
        "\n",
        "Training on: T4 GPU\n",
        "\n",
        "Learning Rate: 1e-3 (6 epoch), 1e-4 (6 epoch) \n",
        "\n",
        "Optimizer: Adam\n",
        "\n",
        "Test Accuracy ~ 72.1%"
      ]
    },
    {
      "cell_type": "markdown",
      "metadata": {
        "id": "oFh-yNL7eLKM"
      },
      "source": [
        "#### Training and Accuracy (Simplified ResNet)"
      ]
    },
    {
      "cell_type": "code",
      "execution_count": null,
      "metadata": {
        "colab": {
          "base_uri": "https://localhost:8080/"
        },
        "id": "41VbDwT-7_s6",
        "outputId": "ab16310f-b3fe-4b0e-9239-2f08c756cfda"
      },
      "outputs": [
        {
          "name": "stdout",
          "output_type": "stream",
          "text": [
            "-------------Epoch 1-------------\n",
            "batch: [  200], loss: 0.669\n",
            "temporary loss: 0.672653 | [100000/448200]\n",
            "batch: [  400], loss: 0.650\n",
            "temporary loss: 0.642586 | [200000/448200]\n",
            "batch: [  600], loss: 0.640\n",
            "temporary loss: 0.629567 | [300000/448200]\n",
            "batch: [  800], loss: 0.624\n",
            "temporary loss: 0.602571 | [400000/448200]\n",
            "Test Error: \n",
            " Accuracy: 67.3%\n",
            "Avg loss: 0.609951 \n",
            "\n",
            "-------------Epoch 2-------------\n",
            "batch: [  200], loss: 0.609\n",
            "temporary loss: 0.648338 | [100000/448200]\n",
            "batch: [  400], loss: 0.600\n",
            "temporary loss: 0.589700 | [200000/448200]\n",
            "batch: [  600], loss: 0.598\n",
            "temporary loss: 0.567832 | [300000/448200]\n",
            "batch: [  800], loss: 0.589\n",
            "temporary loss: 0.603977 | [400000/448200]\n",
            "Test Error: \n",
            " Accuracy: 69.7%\n",
            "Avg loss: 0.585450 \n",
            "\n",
            "-------------Epoch 3-------------\n",
            "batch: [  200], loss: 0.586\n",
            "temporary loss: 0.592500 | [100000/448200]\n",
            "batch: [  400], loss: 0.580\n",
            "temporary loss: 0.572234 | [200000/448200]\n",
            "batch: [  600], loss: 0.583\n",
            "temporary loss: 0.619365 | [300000/448200]\n",
            "batch: [  800], loss: 0.579\n",
            "temporary loss: 0.604929 | [400000/448200]\n",
            "Test Error: \n",
            " Accuracy: 70.1%\n",
            "Avg loss: 0.579460 \n",
            "\n",
            "-------------Epoch 4-------------\n",
            "batch: [  200], loss: 0.575\n",
            "temporary loss: 0.565521 | [100000/448200]\n",
            "batch: [  400], loss: 0.577\n",
            "temporary loss: 0.570085 | [200000/448200]\n",
            "batch: [  600], loss: 0.573\n",
            "temporary loss: 0.560048 | [300000/448200]\n",
            "batch: [  800], loss: 0.571\n",
            "temporary loss: 0.581587 | [400000/448200]\n",
            "Test Error: \n",
            " Accuracy: 70.9%\n",
            "Avg loss: 0.571734 \n",
            "\n",
            "-------------Epoch 5-------------\n",
            "batch: [  200], loss: 0.569\n",
            "temporary loss: 0.525314 | [100000/448200]\n",
            "batch: [  400], loss: 0.570\n",
            "temporary loss: 0.578583 | [200000/448200]\n",
            "batch: [  600], loss: 0.568\n",
            "temporary loss: 0.573638 | [300000/448200]\n",
            "batch: [  800], loss: 0.566\n",
            "temporary loss: 0.533835 | [400000/448200]\n",
            "Test Error: \n",
            " Accuracy: 70.8%\n",
            "Avg loss: 0.572176 \n",
            "\n",
            "-------------Epoch 6-------------\n",
            "batch: [  200], loss: 0.570\n",
            "temporary loss: 0.584858 | [100000/448200]\n",
            "batch: [  400], loss: 0.564\n",
            "temporary loss: 0.561703 | [200000/448200]\n",
            "batch: [  600], loss: 0.567\n",
            "temporary loss: 0.520676 | [300000/448200]\n",
            "batch: [  800], loss: 0.565\n",
            "temporary loss: 0.590437 | [400000/448200]\n",
            "Test Error: \n",
            " Accuracy: 71.5%\n",
            "Avg loss: 0.564978 \n",
            "\n",
            "-------------Epoch 7-------------\n",
            "batch: [  200], loss: 0.557\n",
            "temporary loss: 0.569517 | [100000/448200]\n",
            "batch: [  400], loss: 0.555\n",
            "temporary loss: 0.562235 | [200000/448200]\n",
            "batch: [  600], loss: 0.555\n",
            "temporary loss: 0.554975 | [300000/448200]\n",
            "batch: [  800], loss: 0.555\n",
            "temporary loss: 0.547824 | [400000/448200]\n",
            "Test Error: \n",
            " Accuracy: 71.8%\n",
            "Avg loss: 0.558678 \n",
            "\n",
            "-------------Epoch 8-------------\n",
            "batch: [  200], loss: 0.553\n",
            "temporary loss: 0.528070 | [100000/448200]\n",
            "batch: [  400], loss: 0.553\n",
            "temporary loss: 0.544346 | [200000/448200]\n",
            "batch: [  600], loss: 0.554\n",
            "temporary loss: 0.557459 | [300000/448200]\n",
            "batch: [  800], loss: 0.554\n",
            "temporary loss: 0.554653 | [400000/448200]\n",
            "Test Error: \n",
            " Accuracy: 72.1%\n",
            "Avg loss: 0.557922 \n",
            "\n",
            "-------------Epoch 9-------------\n",
            "batch: [  200], loss: 0.553\n",
            "temporary loss: 0.549882 | [100000/448200]\n",
            "batch: [  400], loss: 0.553\n",
            "temporary loss: 0.534098 | [200000/448200]\n",
            "batch: [  600], loss: 0.552\n",
            "temporary loss: 0.581182 | [300000/448200]\n",
            "batch: [  800], loss: 0.551\n",
            "temporary loss: 0.518368 | [400000/448200]\n",
            "Test Error: \n",
            " Accuracy: 71.9%\n",
            "Avg loss: 0.558018 \n",
            "\n",
            "Done!\n",
            "Time Consumption 189.81381845474243\n"
          ]
        }
      ],
      "source": [
        "lr_list = [1e-3]*6 + [1e-4]*3\n",
        "time_start = time.time()\n",
        "# Pre-trained ResNet training\n",
        "for t in range( len(lr_list) ):\n",
        "    print(f\"-------------Epoch {t+1}-------------\")\n",
        "    #optimizer = optim.SGD(model.parameters(), lr=lr_list[t], momentum=0.9)\n",
        "    optimizer = optim.Adam(model_Simple_ResNet.parameters(), lr=lr_list[t])\n",
        "    train_loop(train_loader, model_Simple_ResNet, criterion, optimizer)\n",
        "    test_loop_Entropy(test_loader, model_Simple_ResNet, criterion)\n",
        "print(\"Done!\")\n",
        "time_end = time.time()\n",
        "print(\"Time Consumption\",time_end-time_start)"
      ]
    },
    {
      "cell_type": "code",
      "execution_count": null,
      "metadata": {
        "colab": {
          "base_uri": "https://localhost:8080/"
        },
        "id": "n-AZtN48J-Pv",
        "outputId": "fc16397a-230c-469e-9450-b8b3593f5e54"
      },
      "outputs": [
        {
          "name": "stdout",
          "output_type": "stream",
          "text": [
            "-------------Epoch 1-------------\n",
            "batch: [  200], loss: 0.552\n",
            "temporary loss: 0.545469 | [100000/448200]\n",
            "batch: [  400], loss: 0.550\n",
            "temporary loss: 0.557074 | [200000/448200]\n",
            "batch: [  600], loss: 0.552\n",
            "temporary loss: 0.510268 | [300000/448200]\n",
            "batch: [  800], loss: 0.552\n",
            "temporary loss: 0.536746 | [400000/448200]\n",
            "Test Error: \n",
            " Accuracy: 72.1%\n",
            "Avg loss: 0.557619 \n",
            "\n",
            "-------------Epoch 2-------------\n",
            "batch: [  200], loss: 0.551\n",
            "temporary loss: 0.578680 | [100000/448200]\n",
            "batch: [  400], loss: 0.549\n",
            "temporary loss: 0.565552 | [200000/448200]\n",
            "batch: [  600], loss: 0.550\n",
            "temporary loss: 0.533266 | [300000/448200]\n",
            "batch: [  800], loss: 0.551\n",
            "temporary loss: 0.551256 | [400000/448200]\n",
            "Test Error: \n",
            " Accuracy: 72.1%\n",
            "Avg loss: 0.556805 \n",
            "\n",
            "-------------Epoch 3-------------\n",
            "batch: [  200], loss: 0.551\n",
            "temporary loss: 0.575537 | [100000/448200]\n",
            "batch: [  400], loss: 0.550\n",
            "temporary loss: 0.556270 | [200000/448200]\n",
            "batch: [  600], loss: 0.549\n",
            "temporary loss: 0.543590 | [300000/448200]\n",
            "batch: [  800], loss: 0.552\n",
            "temporary loss: 0.555217 | [400000/448200]\n",
            "Test Error: \n",
            " Accuracy: 72.1%\n",
            "Avg loss: 0.556952 \n",
            "\n",
            "Done!\n",
            "Time Consumption 63.875946044921875\n"
          ]
        }
      ],
      "source": [
        "lr_list = [1e-4]*3\n",
        "time_start = time.time()\n",
        "# Pre-trained ResNet training\n",
        "for t in range( len(lr_list) ):\n",
        "    print(f\"-------------Epoch {t+1}-------------\")\n",
        "    #optimizer = optim.SGD(model.parameters(), lr=lr_list[t], momentum=0.9)\n",
        "    optimizer = optim.Adam(model_Simple_ResNet.parameters(), lr=lr_list[t])\n",
        "    train_loop(train_loader, model_Simple_ResNet, criterion, optimizer)\n",
        "    test_loop_Entropy(test_loader, model_Simple_ResNet, criterion)\n",
        "print(\"Done!\")\n",
        "time_end = time.time()\n",
        "print(\"Time Consumption\",time_end-time_start)"
      ]
    },
    {
      "cell_type": "markdown",
      "metadata": {
        "id": "yvUXtnh3KouS"
      },
      "source": [
        "#### ROC and AUC (Simplified ResNet)"
      ]
    },
    {
      "cell_type": "code",
      "execution_count": null,
      "metadata": {
        "colab": {
          "base_uri": "https://localhost:8080/"
        },
        "id": "kzCnX3vhK1Ya",
        "outputId": "c95fd1b4-95a9-420c-bbff-161115e8a315"
      },
      "outputs": [
        {
          "name": "stdout",
          "output_type": "stream",
          "text": [
            "Process: 0.0\\%\n",
            "Process: 25.0\\%\n",
            "Process: 50.0\\%\n",
            "Process: 75.0\\%\n"
          ]
        }
      ],
      "source": [
        "total_prob_Simple_ResNet, total_label_Simple_ResNet = test_loop_prob(test_loader, model_Simple_ResNet)\n",
        "fpr, tpr, thresholds = metrics.roc_curve(total_label_Simple_ResNet, total_prob_Simple_ResNet)\n",
        "Simple_ResNet_AUC_1 = metrics.roc_auc_score(total_label_Simple_ResNet, total_prob_Simple_ResNet)"
      ]
    },
    {
      "cell_type": "code",
      "execution_count": null,
      "metadata": {
        "colab": {
          "base_uri": "https://localhost:8080/"
        },
        "id": "KYqbBt6TK1Yb",
        "outputId": "9b124b38-0d36-422c-ac68-56cf1b865e88"
      },
      "outputs": [
        {
          "name": "stdout",
          "output_type": "stream",
          "text": [
            "The ROC-AUC score of LeNet is: 0.7857869000822217\n"
          ]
        }
      ],
      "source": [
        "print(\"The ROC-AUC score of LeNet is:\", Simple_ResNet_AUC_1)"
      ]
    },
    {
      "cell_type": "code",
      "execution_count": null,
      "metadata": {
        "colab": {
          "base_uri": "https://localhost:8080/",
          "height": 472
        },
        "id": "v6R8nR-FK1Yb",
        "outputId": "42c1939c-0ac1-4d8b-d812-c921a91f207f"
      },
      "outputs": [
        {
          "data": {
            "image/png": "[encoded data removed]",
            "text/plain": [
              "<Figure size 640x480 with 1 Axes>"
            ]
          },
          "metadata": {},
          "output_type": "display_data"
        }
      ],
      "source": [
        "plt.plot(fpr, tpr, \"--\", color=\"magenta\")\n",
        "#plt.plot([0,1],[0,1],\"--\")\n",
        "plt.grid()\n",
        "plt.xlabel(\"False Positive Rate\")\n",
        "plt.ylabel(\"True Positive Rate\")\n",
        "plt.title(\"ROC curve for Simplified ResNet\")\n",
        "plt.show()"
      ]
    },
    {
      "cell_type": "markdown",
      "metadata": {
        "id": "aHN8Xyq0LUnc"
      },
      "source": [
        "### V-D. Pre-trained ResNet-18 results (BEST performance)"
      ]
    },
    {
      "cell_type": "markdown",
      "metadata": {
        "id": "98XZ2WNjOMBY"
      },
      "source": [
        "Batch size: 500\n",
        "\n",
        "Training on: A100 GPU\n",
        "\n",
        "Learning Rate: 1e-2 (5 epoch), 1e-3 (3 epoch) \n",
        "\n",
        "Optimizer: Adam\n",
        "\n",
        "Test Accuracy ~ 74.0%"
      ]
    },
    {
      "cell_type": "markdown",
      "metadata": {
        "id": "taDOlmmmNX1w"
      },
      "source": [
        "#### New Dataset (Pre-trained ResNet-18)"
      ]
    },
    {
      "cell_type": "code",
      "execution_count": null,
      "metadata": {
        "id": "LqRKlJ-BNVuy"
      },
      "outputs": [],
      "source": [
        "train_set = MyDataset(shuffle_list=shuffle_list, train=True, transform=my_transform_pretrained)\n",
        "train_loader =  DataLoader(train_set, batch_size=500, shuffle=True)"
      ]
    },
    {
      "cell_type": "code",
      "execution_count": null,
      "metadata": {
        "id": "kimezV5TNVuz"
      },
      "outputs": [],
      "source": [
        "test_set = MyDataset(shuffle_list=shuffle_list, train=False, transform=my_transform_pretrained)\n",
        "test_loader =  DataLoader(test_set, batch_size=500, shuffle=False)"
      ]
    },
    {
      "cell_type": "markdown",
      "metadata": {
        "id": "Jp8jVzTTeXrg"
      },
      "source": [
        "#### Training and Accuracy (Pre-trained ResNet-18)"
      ]
    },
    {
      "cell_type": "code",
      "execution_count": null,
      "metadata": {
        "colab": {
          "base_uri": "https://localhost:8080/"
        },
        "id": "Cx6UF7NsKu0t",
        "outputId": "a79d0c42-8e44-47a9-a842-44da86f84b84"
      },
      "outputs": [
        {
          "name": "stdout",
          "output_type": "stream",
          "text": [
            "-------------Epoch 1-------------\n",
            "batch: [  200], loss: 0.740\n",
            "temporary loss: 0.674751 | [100000/448200]\n",
            "batch: [  400], loss: 0.671\n",
            "temporary loss: 0.665364 | [200000/448200]\n",
            "batch: [  600], loss: 0.629\n",
            "temporary loss: 0.614760 | [300000/448200]\n",
            "batch: [  800], loss: 0.587\n",
            "temporary loss: 0.572252 | [400000/448200]\n",
            "Test Error: \n",
            " Accuracy: 71.0%\n",
            "Avg loss: 0.571762 \n",
            "\n",
            "-------------Epoch 2-------------\n",
            "batch: [  200], loss: 0.580\n",
            "temporary loss: 0.548804 | [100000/448200]\n",
            "batch: [  400], loss: 0.566\n",
            "temporary loss: 0.561248 | [200000/448200]\n",
            "batch: [  600], loss: 0.563\n",
            "temporary loss: 0.531189 | [300000/448200]\n",
            "batch: [  800], loss: 0.560\n",
            "temporary loss: 0.590924 | [400000/448200]\n",
            "Test Error: \n",
            " Accuracy: 72.3%\n",
            "Avg loss: 0.559428 \n",
            "\n",
            "-------------Epoch 3-------------\n",
            "batch: [  200], loss: 0.559\n",
            "temporary loss: 0.533297 | [100000/448200]\n",
            "batch: [  400], loss: 0.558\n",
            "temporary loss: 0.561796 | [200000/448200]\n",
            "batch: [  600], loss: 0.556\n",
            "temporary loss: 0.555340 | [300000/448200]\n",
            "batch: [  800], loss: 0.553\n",
            "temporary loss: 0.572585 | [400000/448200]\n",
            "Test Error: \n",
            " Accuracy: 72.5%\n",
            "Avg loss: 0.551907 \n",
            "\n",
            "-------------Epoch 4-------------\n",
            "batch: [  200], loss: 0.553\n",
            "temporary loss: 0.552957 | [100000/448200]\n",
            "batch: [  400], loss: 0.550\n",
            "temporary loss: 0.559284 | [200000/448200]\n",
            "batch: [  600], loss: 0.548\n",
            "temporary loss: 0.566489 | [300000/448200]\n",
            "batch: [  800], loss: 0.549\n",
            "temporary loss: 0.550963 | [400000/448200]\n",
            "Test Error: \n",
            " Accuracy: 72.8%\n",
            "Avg loss: 0.545264 \n",
            "\n",
            "-------------Epoch 5-------------\n",
            "batch: [  200], loss: 0.549\n",
            "temporary loss: 0.567976 | [100000/448200]\n",
            "batch: [  400], loss: 0.548\n",
            "temporary loss: 0.534298 | [200000/448200]\n",
            "batch: [  600], loss: 0.546\n",
            "temporary loss: 0.584329 | [300000/448200]\n",
            "batch: [  800], loss: 0.544\n",
            "temporary loss: 0.535473 | [400000/448200]\n",
            "Test Error: \n",
            " Accuracy: 70.7%\n",
            "Avg loss: 0.567915 \n",
            "\n",
            "Done!\n",
            "Time Consumption 1895.159146308899\n"
          ]
        }
      ],
      "source": [
        "lr_list = [1e-2]*5\n",
        "time_start = time.time()\n",
        "# Pre-trained ResNet training\n",
        "for t in range( len(lr_list) ):\n",
        "    print(f\"-------------Epoch {t+1}-------------\")\n",
        "    #optimizer = optim.SGD(model.parameters(), lr=lr_list[t], momentum=0.9)\n",
        "    optimizer = optim.Adam(model_ResNet18.parameters(), lr=lr_list[t])\n",
        "    train_loop(train_loader, model_ResNet18, criterion, optimizer)\n",
        "    test_loop_Entropy(test_loader, model_ResNet18, criterion)\n",
        "print(\"Done!\")\n",
        "time_end = time.time()\n",
        "print(\"Time Consumption\",time_end-time_start)"
      ]
    },
    {
      "cell_type": "code",
      "execution_count": null,
      "metadata": {
        "colab": {
          "base_uri": "https://localhost:8080/"
        },
        "id": "YKsoKYB3Wmj8",
        "outputId": "d4706acc-efdf-4023-a7f8-b99b5b5b0561"
      },
      "outputs": [
        {
          "name": "stdout",
          "output_type": "stream",
          "text": [
            "-------------Epoch 1-------------\n",
            "batch: [  200], loss: 0.535\n",
            "temporary loss: 0.561012 | [100000/448200]\n",
            "batch: [  400], loss: 0.533\n",
            "temporary loss: 0.541025 | [200000/448200]\n",
            "batch: [  600], loss: 0.536\n",
            "temporary loss: 0.547842 | [300000/448200]\n",
            "batch: [  800], loss: 0.532\n",
            "temporary loss: 0.537174 | [400000/448200]\n",
            "Test Error: \n",
            " Accuracy: 74.0%\n",
            "Avg loss: 0.530638 \n",
            "\n",
            "-------------Epoch 2-------------\n",
            "batch: [  200], loss: 0.529\n",
            "temporary loss: 0.502378 | [100000/448200]\n",
            "batch: [  400], loss: 0.532\n",
            "temporary loss: 0.556422 | [200000/448200]\n",
            "batch: [  600], loss: 0.533\n",
            "temporary loss: 0.553168 | [300000/448200]\n",
            "batch: [  800], loss: 0.530\n",
            "temporary loss: 0.554753 | [400000/448200]\n",
            "Test Error: \n",
            " Accuracy: 74.0%\n",
            "Avg loss: 0.530979 \n",
            "\n",
            "-------------Epoch 3-------------\n",
            "batch: [  200], loss: 0.531\n",
            "temporary loss: 0.545476 | [100000/448200]\n",
            "batch: [  400], loss: 0.529\n",
            "temporary loss: 0.559358 | [200000/448200]\n",
            "batch: [  600], loss: 0.530\n",
            "temporary loss: 0.512510 | [300000/448200]\n",
            "batch: [  800], loss: 0.531\n",
            "temporary loss: 0.529369 | [400000/448200]\n",
            "Test Error: \n",
            " Accuracy: 74.0%\n",
            "Avg loss: 0.529789 \n",
            "\n",
            "Done!\n",
            "Time Consumption 1133.1551966667175\n"
          ]
        }
      ],
      "source": [
        "lr_list = [1e-3]*3\n",
        "time_start = time.time()\n",
        "# Pre-trained ResNet training\n",
        "for t in range( len(lr_list) ):\n",
        "    print(f\"-------------Epoch {t+1}-------------\")\n",
        "    #optimizer = optim.SGD(model.parameters(), lr=lr_list[t], momentum=0.9)\n",
        "    optimizer = optim.Adam(model_ResNet18.parameters(), lr=lr_list[t])\n",
        "    train_loop(train_loader, model_ResNet18, criterion, optimizer)\n",
        "    test_loop_Entropy(test_loader, model_ResNet18, criterion)\n",
        "print(\"Done!\")\n",
        "time_end = time.time()\n",
        "print(\"Time Consumption\",time_end-time_start)"
      ]
    },
    {
      "cell_type": "markdown",
      "metadata": {
        "id": "cxfpP0CqRDhm"
      },
      "source": [
        "In the initial test loop function, I forgot to include \"model.eval()\" for pre-trained models (with LayerNorm layers and Dropout layers). Therefore, the following is the results with \"model.eval()\"."
      ]
    },
    {
      "cell_type": "code",
      "execution_count": null,
      "metadata": {
        "colab": {
          "background_save": true,
          "base_uri": "https://localhost:8080/"
        },
        "id": "25lT9Gx5L3xX",
        "outputId": "5a39dda3-e982-43d7-df9a-d1ef9d61c79d"
      },
      "outputs": [
        {
          "name": "stdout",
          "output_type": "stream",
          "text": [
            "-------------Epoch 1-------------\n",
            "batch: [  200], loss: 0.693\n",
            "temporary loss: 0.635792 | [100000/448200]\n",
            "batch: [  400], loss: 0.629\n",
            "temporary loss: 0.609220 | [200000/448200]\n",
            "batch: [  600], loss: 0.593\n",
            "temporary loss: 0.593756 | [300000/448200]\n",
            "batch: [  800], loss: 0.581\n",
            "temporary loss: 0.570294 | [400000/448200]\n",
            "Test Error: \n",
            " Accuracy: 70.0%\n",
            "Avg loss: 0.587213 \n",
            "\n",
            "-------------Epoch 2-------------\n",
            "batch: [  200], loss: 0.590\n",
            "temporary loss: 0.578804 | [100000/448200]\n",
            "batch: [  400], loss: 0.570\n",
            "temporary loss: 0.588556 | [200000/448200]\n",
            "batch: [  600], loss: 0.566\n",
            "temporary loss: 0.585767 | [300000/448200]\n",
            "batch: [  800], loss: 0.561\n",
            "temporary loss: 0.558714 | [400000/448200]\n",
            "Test Error: \n",
            " Accuracy: 51.8%\n",
            "Avg loss: 0.901725 \n",
            "\n",
            "-------------Epoch 3-------------\n",
            "batch: [  200], loss: 0.561\n",
            "temporary loss: 0.567318 | [100000/448200]\n",
            "batch: [  400], loss: 0.558\n",
            "temporary loss: 0.544346 | [200000/448200]\n",
            "batch: [  600], loss: 0.555\n",
            "temporary loss: 0.555401 | [300000/448200]\n",
            "batch: [  800], loss: 0.554\n",
            "temporary loss: 0.544027 | [400000/448200]\n",
            "Test Error: \n",
            " Accuracy: 72.5%\n",
            "Avg loss: 0.553483 \n",
            "\n",
            "-------------Epoch 4-------------\n",
            "batch: [  200], loss: 0.552\n",
            "temporary loss: 0.554291 | [100000/448200]\n",
            "batch: [  400], loss: 0.551\n",
            "temporary loss: 0.602911 | [200000/448200]\n",
            "batch: [  600], loss: 0.548\n",
            "temporary loss: 0.533319 | [300000/448200]\n",
            "batch: [  800], loss: 0.548\n",
            "temporary loss: 0.541971 | [400000/448200]\n",
            "Test Error: \n",
            " Accuracy: 72.4%\n",
            "Avg loss: 0.555655 \n",
            "\n",
            "-------------Epoch 5-------------\n",
            "batch: [  200], loss: 0.546\n",
            "temporary loss: 0.528913 | [100000/448200]\n",
            "batch: [  400], loss: 0.546\n",
            "temporary loss: 0.553493 | [200000/448200]\n",
            "batch: [  600], loss: 0.544\n",
            "temporary loss: 0.551991 | [300000/448200]\n",
            "batch: [  800], loss: 0.543\n",
            "temporary loss: 0.554746 | [400000/448200]\n",
            "Test Error: \n",
            " Accuracy: 72.1%\n",
            "Avg loss: 0.570103 \n",
            "\n",
            "-------------Epoch 6-------------\n",
            "batch: [  200], loss: 0.536\n",
            "temporary loss: 0.512394 | [100000/448200]\n",
            "batch: [  400], loss: 0.533\n",
            "temporary loss: 0.529032 | [200000/448200]\n",
            "batch: [  600], loss: 0.532\n",
            "temporary loss: 0.536391 | [300000/448200]\n",
            "batch: [  800], loss: 0.529\n",
            "temporary loss: 0.554498 | [400000/448200]\n",
            "Test Error: \n",
            " Accuracy: 73.9%\n",
            "Avg loss: 0.533486 \n",
            "\n",
            "-------------Epoch 7-------------\n",
            "batch: [  200], loss: 0.529\n",
            "temporary loss: 0.508917 | [100000/448200]\n",
            "batch: [  400], loss: 0.530\n",
            "temporary loss: 0.530617 | [200000/448200]\n",
            "batch: [  600], loss: 0.531\n",
            "temporary loss: 0.516685 | [300000/448200]\n",
            "batch: [  800], loss: 0.532\n",
            "temporary loss: 0.541576 | [400000/448200]\n",
            "Test Error: \n",
            " Accuracy: 73.9%\n",
            "Avg loss: 0.533388 \n",
            "\n",
            "-------------Epoch 8-------------\n",
            "batch: [  200], loss: 0.529\n",
            "temporary loss: 0.512832 | [100000/448200]\n",
            "batch: [  400], loss: 0.532\n",
            "temporary loss: 0.549262 | [200000/448200]\n",
            "batch: [  600], loss: 0.529\n",
            "temporary loss: 0.526843 | [300000/448200]\n",
            "batch: [  800], loss: 0.527\n",
            "temporary loss: 0.521666 | [400000/448200]\n",
            "Test Error: \n",
            " Accuracy: 73.8%\n",
            "Avg loss: 0.532658 \n",
            "\n",
            "-------------Epoch 9-------------\n",
            "batch: [  200], loss: 0.527\n",
            "temporary loss: 0.533866 | [100000/448200]\n",
            "batch: [  400], loss: 0.529\n",
            "temporary loss: 0.506937 | [200000/448200]\n",
            "batch: [  600], loss: 0.529\n",
            "temporary loss: 0.516164 | [300000/448200]\n",
            "batch: [  800], loss: 0.527\n",
            "temporary loss: 0.520362 | [400000/448200]\n",
            "Test Error: \n",
            " Accuracy: 74.0%\n",
            "Avg loss: 0.531389 \n",
            "\n",
            "-------------Epoch 10-------------\n",
            "batch: [  200], loss: 0.528\n",
            "temporary loss: 0.484199 | [100000/448200]\n",
            "batch: [  400], loss: 0.525\n",
            "temporary loss: 0.510110 | [200000/448200]\n",
            "batch: [  600], loss: 0.526\n",
            "temporary loss: 0.510745 | [300000/448200]\n",
            "batch: [  800], loss: 0.529\n",
            "temporary loss: 0.560029 | [400000/448200]\n",
            "Test Error: \n",
            " Accuracy: 73.5%\n",
            "Avg loss: 0.537974 \n",
            "\n",
            "-------------Epoch 11-------------\n",
            "batch: [  200], loss: 0.527\n",
            "temporary loss: 0.530160 | [100000/448200]\n",
            "batch: [  400], loss: 0.527\n",
            "temporary loss: 0.503957 | [200000/448200]\n",
            "batch: [  600], loss: 0.525\n",
            "temporary loss: 0.488607 | [300000/448200]\n",
            "batch: [  800], loss: 0.526\n",
            "temporary loss: 0.539281 | [400000/448200]\n",
            "Test Error: \n",
            " Accuracy: 73.9%\n",
            "Avg loss: 0.532106 \n",
            "\n",
            "Done!\n",
            "Time Consumption 4169.502285480499\n"
          ]
        }
      ],
      "source": [
        "lr_list = [1e-2]*5 + [1e-3]*6\n",
        "time_start = time.time()\n",
        "# Pre-trained ResNet training\n",
        "for t in range( len(lr_list) ):\n",
        "    print(f\"-------------Epoch {t+1}-------------\")\n",
        "    #optimizer = optim.SGD(model.parameters(), lr=lr_list[t], momentum=0.9)\n",
        "    optimizer = optim.Adam(model_ResNet18.parameters(), lr=lr_list[t])\n",
        "    train_loop(train_loader, model_ResNet18, criterion, optimizer)\n",
        "    test_loop_Entropy(test_loader, model_ResNet18, criterion)\n",
        "print(\"Done!\")\n",
        "time_end = time.time()\n",
        "print(\"Time Consumption\",time_end-time_start)"
      ]
    },
    {
      "cell_type": "markdown",
      "metadata": {
        "id": "WlEbSfnQbPji"
      },
      "source": [
        "#### ROC and AUC (Pre-trained ResNet-18)"
      ]
    },
    {
      "cell_type": "code",
      "execution_count": null,
      "metadata": {
        "colab": {
          "base_uri": "https://localhost:8080/"
        },
        "id": "F9Oa6-wVbPji",
        "outputId": "79d14b7f-f171-4bad-ec92-e8e6a3f7fc4d"
      },
      "outputs": [
        {
          "name": "stdout",
          "output_type": "stream",
          "text": [
            "Process: 0.0\\%\n",
            "Process: 25.0\\%\n",
            "Process: 50.0\\%\n",
            "Process: 75.0\\%\n"
          ]
        }
      ],
      "source": [
        "total_prob_ResNet18, total_label_ResNet18 = test_loop_prob(test_loader, model_ResNet18)\n",
        "fpr, tpr, thresholds = metrics.roc_curve(total_label_ResNet18, total_prob_ResNet18)\n",
        "ResNet18_AUC_1 = metrics.roc_auc_score(total_label_ResNet18, total_prob_ResNet18)"
      ]
    },
    {
      "cell_type": "code",
      "execution_count": null,
      "metadata": {
        "colab": {
          "base_uri": "https://localhost:8080/"
        },
        "id": "C6LsmkkObPjj",
        "outputId": "ae17bc1d-85e3-4d4b-9a19-41bf29175b18"
      },
      "outputs": [
        {
          "name": "stdout",
          "output_type": "stream",
          "text": [
            "The ROC-AUC score of Pre-trained ResNet-18 is: 0.812007317729629\n"
          ]
        }
      ],
      "source": [
        "print(\"The ROC-AUC score of Pre-trained ResNet-18 is:\", ResNet18_AUC_1)"
      ]
    },
    {
      "cell_type": "code",
      "execution_count": null,
      "metadata": {
        "colab": {
          "base_uri": "https://localhost:8080/",
          "height": 472
        },
        "id": "MkfD04z3bPjj",
        "outputId": "b92a3987-01c6-489f-927e-6a1b5cd90be0"
      },
      "outputs": [
        {
          "data": {
            "image/png": "[encoded data removed]",
            "text/plain": [
              "<Figure size 640x480 with 1 Axes>"
            ]
          },
          "metadata": {},
          "output_type": "display_data"
        }
      ],
      "source": [
        "plt.plot(fpr, tpr, \"--\", color=\"magenta\")\n",
        "#plt.plot([0,1],[0,1],\"--\")\n",
        "plt.grid()\n",
        "plt.xlabel(\"False Positive Rate\")\n",
        "plt.ylabel(\"True Positive Rate\")\n",
        "plt.title(\"ROC curve for Pre-trained ResNet-18\")\n",
        "plt.show()"
      ]
    },
    {
      "cell_type": "markdown",
      "metadata": {
        "id": "wkw_wQK-chc4"
      },
      "source": [
        "### V-E. Pre-trained VGG 16"
      ]
    },
    {
      "cell_type": "markdown",
      "metadata": {
        "id": "b_Eb8liJdbbC"
      },
      "source": [
        "Batch size: 200\n",
        "\n",
        "Training on: A100 GPU\n",
        "\n",
        "Learning Ratea: 1e-2, 1e-3, 1e-4\n",
        "\n",
        "Optimizer: Adam\n",
        "\n",
        "Test Accuracy ~ 50.3% (alomost equal to coin tosser); no need to calculate ROC-AUC\n",
        "\n",
        "The training is very slow and computational expensive."
      ]
    },
    {
      "cell_type": "markdown",
      "metadata": {
        "id": "5n2uLwX1dkJA"
      },
      "source": [
        "#### New Dataloader with smaller batches"
      ]
    },
    {
      "cell_type": "code",
      "execution_count": null,
      "metadata": {
        "id": "XH5Ui_MtdbbD"
      },
      "outputs": [],
      "source": [
        "#train_set = MyDataset(shuffle_list=shuffle_list, train=True, transform=my_transform_pretrained)\n",
        "train_loader =  DataLoader(train_set, batch_size=200, shuffle=True)"
      ]
    },
    {
      "cell_type": "code",
      "execution_count": null,
      "metadata": {
        "id": "VjHbucGTdbbD"
      },
      "outputs": [],
      "source": [
        "#test_set = MyDataset(shuffle_list=shuffle_list, train=False, transform=my_transform_pretrained)\n",
        "test_loader =  DataLoader(test_set, batch_size=200, shuffle=False)"
      ]
    },
    {
      "cell_type": "markdown",
      "metadata": {
        "id": "rWbMSqZceiHm"
      },
      "source": [
        "#### Training and Accuracy (Pre-trained VGG16)"
      ]
    },
    {
      "cell_type": "code",
      "execution_count": null,
      "metadata": {
        "colab": {
          "base_uri": "https://localhost:8080/"
        },
        "id": "hl7Y9dPkdbbD",
        "outputId": "ac6762f0-c589-4419-cbbe-f22628dcd321"
      },
      "outputs": [
        {
          "name": "stdout",
          "output_type": "stream",
          "text": [
            "-------------Epoch 1-------------\n",
            "batch: [  200], loss: 30495409.041\n",
            "temporary loss: 0.692964 | [40000/448200]\n",
            "batch: [  400], loss: 43.491\n",
            "temporary loss: 0.693337 | [80000/448200]\n",
            "batch: [  600], loss: 4.223\n",
            "temporary loss: 0.693330 | [120000/448200]\n",
            "batch: [  800], loss: 1.129\n",
            "temporary loss: 0.693144 | [160000/448200]\n",
            "batch: [ 1000], loss: 1.060\n",
            "temporary loss: 0.692434 | [200000/448200]\n",
            "batch: [ 1200], loss: 0.730\n",
            "temporary loss: 0.693299 | [240000/448200]\n",
            "batch: [ 1400], loss: 0.697\n",
            "temporary loss: 0.693155 | [280000/448200]\n",
            "batch: [ 1600], loss: 0.701\n",
            "temporary loss: 0.694630 | [320000/448200]\n",
            "batch: [ 1800], loss: 0.878\n",
            "temporary loss: 0.693752 | [360000/448200]\n",
            "batch: [ 2000], loss: 0.743\n",
            "temporary loss: 0.693450 | [400000/448200]\n",
            "batch: [ 2200], loss: 0.821\n",
            "temporary loss: 0.693645 | [440000/448200]\n",
            "Test Error: \n",
            " Accuracy: 49.7%\n",
            "Avg loss: 0.693232 \n",
            "\n",
            "Done!\n",
            "Time Consumption 992.9338898658752\n"
          ]
        }
      ],
      "source": [
        "lr_list = [1e-2]\n",
        "time_start = time.time()\n",
        "# Pre-trained ResNet training\n",
        "for t in range( len(lr_list) ):\n",
        "    print(f\"-------------Epoch {t+1}-------------\")\n",
        "    #optimizer = optim.SGD(model.parameters(), lr=lr_list[t], momentum=0.9)\n",
        "    optimizer = optim.Adam(model_VGG16.parameters(), lr=lr_list[t])\n",
        "    train_loop(train_loader, model_VGG16, criterion, optimizer)\n",
        "    test_loop_Entropy(test_loader, model_VGG16, criterion)\n",
        "print(\"Done!\")\n",
        "time_end = time.time()\n",
        "print(\"Time Consumption\",time_end-time_start)"
      ]
    },
    {
      "cell_type": "code",
      "execution_count": null,
      "metadata": {
        "colab": {
          "background_save": true,
          "base_uri": "https://localhost:8080/"
        },
        "id": "TCJD88ywmFV5",
        "outputId": "6eee9514-cd71-4b28-bd8a-83703883855c"
      },
      "outputs": [
        {
          "name": "stdout",
          "output_type": "stream",
          "text": [
            "-------------Epoch 1-------------\n",
            "batch: [  200], loss: 0.693\n",
            "temporary loss: 0.693501 | [40000/448200]\n",
            "batch: [  400], loss: 0.717\n",
            "temporary loss: 0.692994 | [80000/448200]\n",
            "batch: [  600], loss: 0.703\n",
            "temporary loss: 0.692833 | [120000/448200]\n",
            "batch: [  800], loss: 0.693\n",
            "temporary loss: 0.692997 | [160000/448200]\n",
            "batch: [ 1000], loss: 0.693\n",
            "temporary loss: 0.693422 | [200000/448200]\n",
            "batch: [ 1200], loss: 0.693\n",
            "temporary loss: 0.693232 | [240000/448200]\n",
            "batch: [ 1400], loss: 0.693\n",
            "temporary loss: 0.693183 | [280000/448200]\n",
            "batch: [ 1600], loss: 0.693\n",
            "temporary loss: 0.693109 | [320000/448200]\n",
            "batch: [ 1800], loss: 0.693\n",
            "temporary loss: 0.693134 | [360000/448200]\n",
            "batch: [ 2000], loss: 0.693\n",
            "temporary loss: 0.693840 | [400000/448200]\n",
            "batch: [ 2200], loss: 0.693\n",
            "temporary loss: 0.693116 | [440000/448200]\n",
            "Test Error: \n",
            " Accuracy: 49.7%\n",
            "Avg loss: 0.693163 \n",
            "\n",
            "-------------Epoch 2-------------\n",
            "batch: [  200], loss: 0.693\n",
            "temporary loss: 0.693064 | [40000/448200]\n",
            "batch: [  400], loss: 0.693\n",
            "temporary loss: 0.693334 | [80000/448200]\n",
            "batch: [  600], loss: 0.693\n",
            "temporary loss: 0.692922 | [120000/448200]\n",
            "batch: [  800], loss: 0.693\n",
            "temporary loss: 0.693352 | [160000/448200]\n",
            "batch: [ 1000], loss: 0.693\n",
            "temporary loss: 0.693323 | [200000/448200]\n",
            "batch: [ 1200], loss: 0.693\n",
            "temporary loss: 0.693231 | [240000/448200]\n",
            "batch: [ 1400], loss: 0.693\n",
            "temporary loss: 0.693075 | [280000/448200]\n",
            "batch: [ 1600], loss: 0.693\n",
            "temporary loss: 0.693223 | [320000/448200]\n",
            "batch: [ 1800], loss: 0.699\n",
            "temporary loss: 0.693289 | [360000/448200]\n",
            "batch: [ 2000], loss: 0.704\n",
            "temporary loss: 0.693178 | [400000/448200]\n",
            "batch: [ 2200], loss: 0.722\n",
            "temporary loss: 0.693193 | [440000/448200]\n",
            "Test Error: \n",
            " Accuracy: 50.3%\n",
            "Avg loss: 0.699986 \n",
            "\n",
            "Done!\n",
            "Time Consumption 1987.2106585502625\n"
          ]
        }
      ],
      "source": [
        "lr_list = [1e-3, 1e-4]\n",
        "time_start = time.time()\n",
        "# Pre-trained ResNet training\n",
        "for t in range( len(lr_list) ):\n",
        "    print(f\"-------------Epoch {t+1}-------------\")\n",
        "    #optimizer = optim.SGD(model.parameters(), lr=lr_list[t], momentum=0.9)\n",
        "    optimizer = optim.Adam(model_VGG16.parameters(), lr=lr_list[t])\n",
        "    train_loop(train_loader, model_VGG16, criterion, optimizer)\n",
        "    test_loop_Entropy(test_loader, model_VGG16, criterion)\n",
        "print(\"Done!\")\n",
        "time_end = time.time()\n",
        "print(\"Time Consumption\",time_end-time_start)"
      ]
    },
    {
      "cell_type": "markdown",
      "metadata": {
        "id": "0NMTexb6gVHy"
      },
      "source": [
        "### V-F. VGG 166 (not pre-trained) results"
      ]
    },
    {
      "cell_type": "markdown",
      "metadata": {
        "id": "VTtsCaUDv-ZN"
      },
      "source": [
        "Batch size: 200\n",
        "\n",
        "Training on: A100 GPU\n",
        "\n",
        "Learning Rate: 1e-3\n",
        "\n",
        "Optimizer: Adam\n",
        "\n",
        "Test Accuracy ~ 50.3% (almost qual to coin tosser)"
      ]
    },
    {
      "cell_type": "markdown",
      "metadata": {
        "id": "nkPE92r0v-ZN"
      },
      "source": [
        "#### Training and Accuracy (VGG16 without pre-trained parameters)"
      ]
    },
    {
      "cell_type": "code",
      "execution_count": null,
      "metadata": {
        "colab": {
          "base_uri": "https://localhost:8080/"
        },
        "id": "MLGIRxpiv-ZN",
        "outputId": "a8dd3ef6-1445-4c9c-93a0-a7e87c5855be"
      },
      "outputs": [
        {
          "name": "stdout",
          "output_type": "stream",
          "text": [
            "-------------Epoch 1-------------\n",
            "batch: [  200], loss: 0.712\n",
            "temporary loss: 0.691462 | [40000/448200]\n",
            "batch: [  400], loss: 0.693\n",
            "temporary loss: 0.689889 | [80000/448200]\n",
            "batch: [  600], loss: 0.693\n",
            "temporary loss: 0.693212 | [120000/448200]\n",
            "batch: [  800], loss: 0.693\n",
            "temporary loss: 0.693324 | [160000/448200]\n",
            "batch: [ 1000], loss: 0.693\n",
            "temporary loss: 0.693122 | [200000/448200]\n",
            "batch: [ 1200], loss: 0.693\n",
            "temporary loss: 0.693236 | [240000/448200]\n",
            "batch: [ 1400], loss: 0.693\n",
            "temporary loss: 0.693503 | [280000/448200]\n",
            "batch: [ 1600], loss: 0.693\n",
            "temporary loss: 0.692238 | [320000/448200]\n",
            "batch: [ 1800], loss: 0.693\n",
            "temporary loss: 0.693481 | [360000/448200]\n",
            "batch: [ 2000], loss: 0.693\n",
            "temporary loss: 0.692670 | [400000/448200]\n",
            "batch: [ 2200], loss: 0.693\n",
            "temporary loss: 0.693368 | [440000/448200]\n",
            "Test Error: \n",
            " Accuracy: 50.3%\n",
            "Avg loss: 0.693123 \n",
            "\n",
            "Done!\n",
            "Time Consumption 990.8063123226166\n"
          ]
        }
      ],
      "source": [
        "lr_list = [1e-3]\n",
        "time_start = time.time()\n",
        "# Pre-trained ResNet training\n",
        "for t in range( len(lr_list) ):\n",
        "    print(f\"-------------Epoch {t+1}-------------\")\n",
        "    #optimizer = optim.SGD(model.parameters(), lr=lr_list[t], momentum=0.9)\n",
        "    optimizer = optim.Adam(model_VGG16.parameters(), lr=lr_list[t])\n",
        "    train_loop(train_loader, model_VGG16, criterion, optimizer)\n",
        "    test_loop_Entropy(test_loader, model_VGG16, criterion)\n",
        "print(\"Done!\")\n",
        "time_end = time.time()\n",
        "print(\"Time Consumption\",time_end-time_start)"
      ]
    },
    {
      "cell_type": "markdown",
      "metadata": {
        "id": "l9lX-NsY2bL-"
      },
      "source": [
        "### V-G. Pre-trained ViT results"
      ]
    },
    {
      "cell_type": "markdown",
      "metadata": {
        "id": "5MIhaP4t28X2"
      },
      "source": [
        "Batch size: 200\n",
        "\n",
        "Training on: A100 GPU\n",
        "\n",
        "Learning Rate: 1e-3 (5 epoch), 1e-4 (3 epoch)\n",
        "\n",
        "Optimizer: Adam\n",
        "\n",
        "Test Accuracy ~ 72.5% (underfit, not well-trained yet) \n",
        "\n",
        "Time: The training of ViT is very slow and computational expensive. Each epoch will cost about 1 hour on A100 GPU."
      ]
    },
    {
      "cell_type": "markdown",
      "metadata": {
        "id": "OegdOug928X2"
      },
      "source": [
        "#### Training and Accuracy (Pre-trained ViT)"
      ]
    },
    {
      "cell_type": "code",
      "execution_count": null,
      "metadata": {
        "colab": {
          "base_uri": "https://localhost:8080/"
        },
        "id": "efm4dGtM28X2",
        "outputId": "84bf175d-cb69-476e-952c-f75c7d059cfa"
      },
      "outputs": [
        {
          "name": "stdout",
          "output_type": "stream",
          "text": [
            "-------------Epoch 1-------------\n",
            "batch: [  200], loss: 0.746\n",
            "temporary loss: 0.693299 | [40000/448200]\n",
            "batch: [  400], loss: 0.699\n",
            "temporary loss: 0.691458 | [80000/448200]\n",
            "batch: [  600], loss: 0.684\n",
            "temporary loss: 0.674643 | [120000/448200]\n",
            "batch: [  800], loss: 0.670\n",
            "temporary loss: 0.669602 | [160000/448200]\n",
            "batch: [ 1000], loss: 0.657\n",
            "temporary loss: 0.672156 | [200000/448200]\n",
            "batch: [ 1200], loss: 0.645\n",
            "temporary loss: 0.625073 | [240000/448200]\n",
            "batch: [ 1400], loss: 0.637\n",
            "temporary loss: 0.641013 | [280000/448200]\n",
            "batch: [ 1600], loss: 0.628\n",
            "temporary loss: 0.642921 | [320000/448200]\n",
            "batch: [ 1800], loss: 0.625\n",
            "temporary loss: 0.601461 | [360000/448200]\n",
            "batch: [ 2000], loss: 0.617\n",
            "temporary loss: 0.572669 | [400000/448200]\n",
            "batch: [ 2200], loss: 0.615\n",
            "temporary loss: 0.570742 | [440000/448200]\n",
            "Test Error: \n",
            " Accuracy: 68.4%\n",
            "Avg loss: 0.602019 \n",
            "\n",
            "Done!\n",
            "Time Consumption 3339.724937438965\n"
          ]
        }
      ],
      "source": [
        "lr_list = [1e-3]\n",
        "time_start = time.time()\n",
        "# Pre-trained ResNet training\n",
        "for t in range( len(lr_list) ):\n",
        "    print(f\"-------------Epoch {t+1}-------------\")\n",
        "    #optimizer = optim.SGD(model.parameters(), lr=lr_list[t], momentum=0.9)\n",
        "    optimizer = optim.Adam(model_ViT.parameters(), lr=lr_list[t])\n",
        "    train_loop(train_loader, model_ViT, criterion, optimizer)\n",
        "    test_loop_Entropy(test_loader, model_ViT, criterion)\n",
        "print(\"Done!\")\n",
        "time_end = time.time()\n",
        "print(\"Time Consumption\",time_end-time_start)"
      ]
    },
    {
      "cell_type": "code",
      "execution_count": null,
      "metadata": {
        "id": "JxwnUG1uB3qz"
      },
      "outputs": [],
      "source": [
        "path = \"./gdrive/MyDrive/CMS_model/ViT_task1_weights.pth\"\n",
        "torch.save(model_ViT.state_dict(), path)"
      ]
    },
    {
      "cell_type": "code",
      "execution_count": null,
      "metadata": {
        "colab": {
          "base_uri": "https://localhost:8080/"
        },
        "id": "LStD3Rj1xDDJ",
        "outputId": "e40c99c6-8833-47f4-9162-6d366ff10829"
      },
      "outputs": [
        {
          "data": {
            "text/plain": [
              "<All keys matched successfully>"
            ]
          },
          "execution_count": 24,
          "metadata": {},
          "output_type": "execute_result"
        }
      ],
      "source": [
        "path = \"./gdrive/MyDrive/CMS_model/ViT_task1_weights.pth\"\n",
        "model_ViT.load_state_dict( torch.load(path) )"
      ]
    },
    {
      "cell_type": "code",
      "execution_count": null,
      "metadata": {
        "colab": {
          "base_uri": "https://localhost:8080/"
        },
        "id": "LUFc3TLrzD43",
        "outputId": "23d4ed37-877f-43ac-d73d-83685f214ec1"
      },
      "outputs": [
        {
          "name": "stdout",
          "output_type": "stream",
          "text": [
            "Test Error: \n",
            " Accuracy: 68.2%\n",
            "Avg loss: 0.603492 \n",
            "\n"
          ]
        }
      ],
      "source": [
        "test_loop_Entropy(test_loader, model_ViT, criterion)"
      ]
    },
    {
      "cell_type": "code",
      "execution_count": null,
      "metadata": {
        "colab": {
          "base_uri": "https://localhost:8080/"
        },
        "id": "Suokc3w5xSAq",
        "outputId": "5c4825a1-81d5-4dc1-a0a9-bd1b9fc71546"
      },
      "outputs": [
        {
          "name": "stdout",
          "output_type": "stream",
          "text": [
            "-------------Epoch 1-------------\n",
            "batch: [  200], loss: 0.616\n",
            "temporary loss: 0.600729 | [40000/448200]\n",
            "batch: [  400], loss: 0.614\n",
            "temporary loss: 0.564398 | [80000/448200]\n",
            "batch: [  600], loss: 0.613\n",
            "temporary loss: 0.602672 | [120000/448200]\n",
            "batch: [  800], loss: 0.602\n",
            "temporary loss: 0.658477 | [160000/448200]\n",
            "batch: [ 1000], loss: 0.606\n",
            "temporary loss: 0.604870 | [200000/448200]\n",
            "batch: [ 1200], loss: 0.602\n",
            "temporary loss: 0.615562 | [240000/448200]\n",
            "batch: [ 1400], loss: 0.599\n",
            "temporary loss: 0.591999 | [280000/448200]\n",
            "batch: [ 1600], loss: 0.596\n",
            "temporary loss: 0.579711 | [320000/448200]\n",
            "batch: [ 1800], loss: 0.597\n",
            "temporary loss: 0.590777 | [360000/448200]\n",
            "batch: [ 2000], loss: 0.599\n",
            "temporary loss: 0.614489 | [400000/448200]\n",
            "batch: [ 2200], loss: 0.596\n",
            "temporary loss: 0.562108 | [440000/448200]\n",
            "Test Error: \n",
            " Accuracy: 68.8%\n",
            "Avg loss: 0.596738 \n",
            "\n",
            "-------------Epoch 2-------------\n",
            "batch: [  200], loss: 0.597\n",
            "temporary loss: 0.638775 | [40000/448200]\n",
            "batch: [  400], loss: 0.593\n",
            "temporary loss: 0.617433 | [80000/448200]\n",
            "batch: [  600], loss: 0.597\n",
            "temporary loss: 0.613549 | [120000/448200]\n",
            "batch: [  800], loss: 0.591\n",
            "temporary loss: 0.565158 | [160000/448200]\n",
            "batch: [ 1000], loss: 0.596\n",
            "temporary loss: 0.598097 | [200000/448200]\n",
            "batch: [ 1200], loss: 0.590\n",
            "temporary loss: 0.597995 | [240000/448200]\n",
            "batch: [ 1400], loss: 0.590\n",
            "temporary loss: 0.615103 | [280000/448200]\n",
            "batch: [ 1600], loss: 0.587\n",
            "temporary loss: 0.624893 | [320000/448200]\n",
            "batch: [ 1800], loss: 0.590\n",
            "temporary loss: 0.573909 | [360000/448200]\n",
            "batch: [ 2000], loss: 0.588\n",
            "temporary loss: 0.585182 | [400000/448200]\n",
            "batch: [ 2200], loss: 0.591\n",
            "temporary loss: 0.556258 | [440000/448200]\n",
            "Test Error: \n",
            " Accuracy: 69.5%\n",
            "Avg loss: 0.591624 \n",
            "\n",
            "-------------Epoch 3-------------\n",
            "batch: [  200], loss: 0.586\n",
            "temporary loss: 0.554676 | [40000/448200]\n",
            "batch: [  400], loss: 0.586\n",
            "temporary loss: 0.574172 | [80000/448200]\n",
            "batch: [  600], loss: 0.586\n",
            "temporary loss: 0.587441 | [120000/448200]\n",
            "batch: [  800], loss: 0.591\n",
            "temporary loss: 0.565263 | [160000/448200]\n",
            "batch: [ 1000], loss: 0.582\n",
            "temporary loss: 0.595096 | [200000/448200]\n",
            "batch: [ 1200], loss: 0.587\n",
            "temporary loss: 0.589558 | [240000/448200]\n",
            "batch: [ 1400], loss: 0.581\n",
            "temporary loss: 0.619084 | [280000/448200]\n",
            "batch: [ 1600], loss: 0.584\n",
            "temporary loss: 0.565487 | [320000/448200]\n",
            "batch: [ 1800], loss: 0.582\n",
            "temporary loss: 0.599787 | [360000/448200]\n",
            "batch: [ 2000], loss: 0.585\n",
            "temporary loss: 0.592875 | [400000/448200]\n",
            "batch: [ 2200], loss: 0.581\n",
            "temporary loss: 0.559158 | [440000/448200]\n",
            "Test Error: \n",
            " Accuracy: 71.0%\n",
            "Avg loss: 0.572212 \n",
            "\n",
            "-------------Epoch 4-------------\n",
            "batch: [  200], loss: 0.583\n",
            "temporary loss: 0.591523 | [40000/448200]\n",
            "batch: [  400], loss: 0.578\n",
            "temporary loss: 0.536723 | [80000/448200]\n",
            "batch: [  600], loss: 0.578\n",
            "temporary loss: 0.546939 | [120000/448200]\n",
            "batch: [  800], loss: 0.579\n",
            "temporary loss: 0.592515 | [160000/448200]\n",
            "batch: [ 1000], loss: 0.579\n",
            "temporary loss: 0.519955 | [200000/448200]\n",
            "batch: [ 1200], loss: 0.578\n",
            "temporary loss: 0.612599 | [240000/448200]\n",
            "batch: [ 1400], loss: 0.576\n",
            "temporary loss: 0.594813 | [280000/448200]\n",
            "batch: [ 1600], loss: 0.581\n",
            "temporary loss: 0.633234 | [320000/448200]\n",
            "batch: [ 1800], loss: 0.577\n",
            "temporary loss: 0.577658 | [360000/448200]\n",
            "batch: [ 2000], loss: 0.577\n",
            "temporary loss: 0.559089 | [400000/448200]\n",
            "batch: [ 2200], loss: 0.574\n",
            "temporary loss: 0.557067 | [440000/448200]\n",
            "Test Error: \n",
            " Accuracy: 70.8%\n",
            "Avg loss: 0.571066 \n",
            "\n",
            "Done!\n",
            "Time Consumption 13352.6440243721\n"
          ]
        }
      ],
      "source": [
        "path2 = \"./gdrive/MyDrive/CMS_model/ViT_task1_weights_02.pth\"\n",
        "lr_list = [1e-3] * 4\n",
        "time_start = time.time()\n",
        "# Pre-trained ResNet training\n",
        "for t in range( len(lr_list) ):\n",
        "    print(f\"-------------Epoch {t+1}-------------\")\n",
        "    #optimizer = optim.SGD(model.parameters(), lr=lr_list[t], momentum=0.9)\n",
        "    optimizer = optim.Adam(model_ViT.parameters(), lr=lr_list[t])\n",
        "    train_loop(train_loader, model_ViT, criterion, optimizer)\n",
        "    test_loop_Entropy(test_loader, model_ViT, criterion)\n",
        "print(\"Done!\")\n",
        "time_end = time.time()\n",
        "torch.save(model_ViT.state_dict(), path2)\n",
        "print(\"Time Consumption\",time_end-time_start)"
      ]
    },
    {
      "cell_type": "code",
      "execution_count": null,
      "metadata": {
        "colab": {
          "background_save": true,
          "base_uri": "https://localhost:8080/"
        },
        "id": "efyfzyQgvuxL",
        "outputId": "735f005c-a31c-4918-dcb0-400ad65bd9b5"
      },
      "outputs": [
        {
          "name": "stdout",
          "output_type": "stream",
          "text": [
            "-------------Epoch 1-------------\n",
            "batch: [  200], loss: 0.567\n",
            "temporary loss: 0.634036 | [40000/448200]\n",
            "batch: [  400], loss: 0.560\n",
            "temporary loss: 0.592325 | [80000/448200]\n",
            "batch: [  600], loss: 0.560\n",
            "temporary loss: 0.510238 | [120000/448200]\n",
            "batch: [  800], loss: 0.560\n",
            "temporary loss: 0.561333 | [160000/448200]\n",
            "batch: [ 1000], loss: 0.562\n",
            "temporary loss: 0.588687 | [200000/448200]\n",
            "batch: [ 1200], loss: 0.560\n",
            "temporary loss: 0.548363 | [240000/448200]\n",
            "batch: [ 1400], loss: 0.560\n",
            "temporary loss: 0.533402 | [280000/448200]\n",
            "batch: [ 1600], loss: 0.560\n",
            "temporary loss: 0.582457 | [320000/448200]\n",
            "batch: [ 1800], loss: 0.559\n",
            "temporary loss: 0.528317 | [360000/448200]\n",
            "batch: [ 2000], loss: 0.557\n",
            "temporary loss: 0.579121 | [400000/448200]\n",
            "batch: [ 2200], loss: 0.560\n",
            "temporary loss: 0.567330 | [440000/448200]\n",
            "Test Error: \n",
            " Accuracy: 72.1%\n",
            "Avg loss: 0.556552 \n",
            "\n",
            "-------------Epoch 2-------------\n",
            "batch: [  200], loss: 0.561\n",
            "temporary loss: 0.577444 | [40000/448200]\n",
            "batch: [  400], loss: 0.558\n",
            "temporary loss: 0.537839 | [80000/448200]\n",
            "batch: [  600], loss: 0.556\n",
            "temporary loss: 0.563745 | [120000/448200]\n",
            "batch: [  800], loss: 0.559\n",
            "temporary loss: 0.573290 | [160000/448200]\n",
            "batch: [ 1000], loss: 0.558\n",
            "temporary loss: 0.503919 | [200000/448200]\n",
            "batch: [ 1200], loss: 0.556\n",
            "temporary loss: 0.520209 | [240000/448200]\n",
            "batch: [ 1400], loss: 0.556\n",
            "temporary loss: 0.520841 | [280000/448200]\n",
            "batch: [ 1600], loss: 0.558\n",
            "temporary loss: 0.538886 | [320000/448200]\n",
            "batch: [ 1800], loss: 0.554\n",
            "temporary loss: 0.512755 | [360000/448200]\n",
            "batch: [ 2000], loss: 0.553\n",
            "temporary loss: 0.522497 | [400000/448200]\n",
            "batch: [ 2200], loss: 0.555\n",
            "temporary loss: 0.539293 | [440000/448200]\n",
            "Test Error: \n",
            " Accuracy: 72.3%\n",
            "Avg loss: 0.554683 \n",
            "\n",
            "-------------Epoch 3-------------\n",
            "batch: [  200], loss: 0.558\n",
            "temporary loss: 0.567283 | [40000/448200]\n",
            "batch: [  400], loss: 0.557\n",
            "temporary loss: 0.587662 | [80000/448200]\n",
            "batch: [  600], loss: 0.554\n",
            "temporary loss: 0.580128 | [120000/448200]\n",
            "batch: [  800], loss: 0.551\n",
            "temporary loss: 0.547832 | [160000/448200]\n",
            "batch: [ 1000], loss: 0.556\n",
            "temporary loss: 0.533071 | [200000/448200]\n",
            "batch: [ 1200], loss: 0.556\n",
            "temporary loss: 0.541484 | [240000/448200]\n",
            "batch: [ 1400], loss: 0.552\n",
            "temporary loss: 0.555121 | [280000/448200]\n",
            "batch: [ 1600], loss: 0.554\n",
            "temporary loss: 0.588873 | [320000/448200]\n",
            "batch: [ 1800], loss: 0.558\n",
            "temporary loss: 0.590736 | [360000/448200]\n",
            "batch: [ 2000], loss: 0.558\n",
            "temporary loss: 0.612006 | [400000/448200]\n",
            "batch: [ 2200], loss: 0.551\n",
            "temporary loss: 0.544465 | [440000/448200]\n",
            "Test Error: \n",
            " Accuracy: 72.5%\n",
            "Avg loss: 0.552502 \n",
            "\n",
            "Done!\n",
            "Time Consumption 10014.278172254562\n"
          ]
        }
      ],
      "source": [
        "path3 = \"./gdrive/MyDrive/CMS_model/ViT_task1_weights_03.pth\"\n",
        "lr_list = [1e-4] * 3\n",
        "time_start = time.time()\n",
        "# Pre-trained ResNet training\n",
        "for t in range( len(lr_list) ):\n",
        "    print(f\"-------------Epoch {t+1}-------------\")\n",
        "    #optimizer = optim.SGD(model.parameters(), lr=lr_list[t], momentum=0.9)\n",
        "    optimizer = optim.Adam(model_ViT.parameters(), lr=lr_list[t])\n",
        "    train_loop(train_loader, model_ViT, criterion, optimizer)\n",
        "    test_loop_Entropy(test_loader, model_ViT, criterion)\n",
        "print(\"Done!\")\n",
        "time_end = time.time()\n",
        "torch.save(model_ViT.state_dict(), path3)\n",
        "print(\"Time Consumption\",time_end-time_start)"
      ]
    },
    {
      "cell_type": "markdown",
      "metadata": {
        "id": "leOe4D3cVvoi"
      },
      "source": [
        "## VI. Further Discussion (better performance ?)"
      ]
    },
    {
      "cell_type": "markdown",
      "metadata": {
        "id": "qPSJym4lV6Ik"
      },
      "source": [
        "### Correlation between two channels (energy channel and time channel)\n",
        "CMS data might be very different from image data, although the dimensionality of CMS data is very similar with image data. \n",
        "1. Image data: $N_{\\text{samples}}\\times \\text{Channel}\\times \\text{Height} \\times \\text{Width}$: There is no strong correlation between three channels of \"RGB\" images.\n",
        "2. CMS data: $N_{\\text{samples}}\\times \\text{Channel}\\times \\text{Height} \\times \\text{Width}$: The correlation between two channels of CMS data (energy channel and time channel) is unknown.\n",
        "\n",
        "This is the possible reason why the performance of CNN-based models (including LeNet, ResNet) is not so perfect on this dataset.\n",
        "\n",
        "Therefore, we try to only use the energy channel for the classification task in the following numeric experiments."
      ]
    },
    {
      "cell_type": "markdown",
      "metadata": {
        "id": "D9Mz7HO3PZxI"
      },
      "source": [
        "#### Dataset and Dataloader with only the energy channel"
      ]
    },
    {
      "cell_type": "code",
      "execution_count": null,
      "metadata": {
        "id": "-7RtBso1V2pg"
      },
      "outputs": [],
      "source": [
        "total_X = total_X[:,:,:,:1]"
      ]
    },
    {
      "cell_type": "code",
      "execution_count": null,
      "metadata": {
        "id": "PsQeFev3PjJm"
      },
      "outputs": [],
      "source": [
        "train_set = MyDataset(shuffle_list=shuffle_list, train=True, transform=my_transform_normal)\n",
        "train_loader =  DataLoader(train_set, batch_size=500, shuffle=True)"
      ]
    },
    {
      "cell_type": "code",
      "execution_count": null,
      "metadata": {
        "id": "dOU8sJiCPjJm"
      },
      "outputs": [],
      "source": [
        "test_set = MyDataset(shuffle_list=shuffle_list, train=False, transform=my_transform_normal)\n",
        "test_loader =  DataLoader(test_set, batch_size=500, shuffle=False)"
      ]
    },
    {
      "cell_type": "markdown",
      "metadata": {
        "id": "6-Wrt6ixPqVa"
      },
      "source": [
        "#### Numeric Experiment on Single Channel LeNet"
      ]
    },
    {
      "cell_type": "code",
      "execution_count": null,
      "metadata": {
        "id": "8L-FZqg1P5xC"
      },
      "outputs": [],
      "source": [
        "class Lenet5_single_channel(nn.Module):\n",
        "    def __init__(self):\n",
        "        super().__init__()\n",
        "        self.conv1 = nn.Conv2d(1, 6, 5)\n",
        "        self.pool = nn.MaxPool2d(2, 2)\n",
        "        self.conv2 = nn.Conv2d(6, 16, 5)\n",
        "        self.fc1 = nn.Linear(16 * 5 * 5, 120)\n",
        "        self.fc2 = nn.Linear(120, 84)\n",
        "        self.fc3 = nn.Linear(84, 2)\n",
        "\n",
        "    def forward(self, x):\n",
        "        x = self.pool(F.relu(self.conv1(x)))\n",
        "        x = self.pool(F.relu(self.conv2(x)))\n",
        "        x = torch.flatten(x, 1) # flatten all dimensions except batch\n",
        "        x = F.relu(self.fc1(x))\n",
        "        x = F.relu(self.fc2(x))\n",
        "        x = self.fc3(x)\n",
        "        return x"
      ]
    },
    {
      "cell_type": "code",
      "execution_count": null,
      "metadata": {
        "id": "ilVSFFX5P5xC"
      },
      "outputs": [],
      "source": [
        "model_LeNet_single = Lenet5_single_channel().to(device)"
      ]
    },
    {
      "cell_type": "code",
      "execution_count": null,
      "metadata": {
        "id": "ZgF3BKQgQIbZ"
      },
      "outputs": [],
      "source": [
        "lr_list = [1e-2]*5 + [1e-3]*3 + [1e-4]*2"
      ]
    },
    {
      "cell_type": "code",
      "execution_count": null,
      "metadata": {
        "colab": {
          "base_uri": "https://localhost:8080/"
        },
        "id": "x-Sxp9h0QIbZ",
        "outputId": "94d856e3-6ed9-4a53-dfdf-0d6885cbbda7"
      },
      "outputs": [
        {
          "name": "stdout",
          "output_type": "stream",
          "text": [
            "-------------Epoch 1-------------\n",
            "batch: [  200], loss: 0.650\n",
            "temporary loss: 0.616228 | [100000/448200]\n",
            "batch: [  400], loss: 0.603\n",
            "temporary loss: 0.610496 | [200000/448200]\n",
            "batch: [  600], loss: 0.592\n",
            "temporary loss: 0.574247 | [300000/448200]\n",
            "batch: [  800], loss: 0.583\n",
            "temporary loss: 0.575070 | [400000/448200]\n",
            "Test Error: \n",
            " Accuracy: 70.9%\n",
            "Avg loss: 0.579125 \n",
            "\n",
            "-------------Epoch 2-------------\n",
            "batch: [  200], loss: 0.581\n",
            "temporary loss: 0.563609 | [100000/448200]\n",
            "batch: [  400], loss: 0.578\n",
            "temporary loss: 0.578217 | [200000/448200]\n",
            "batch: [  600], loss: 0.573\n",
            "temporary loss: 0.571977 | [300000/448200]\n",
            "batch: [  800], loss: 0.571\n",
            "temporary loss: 0.551068 | [400000/448200]\n",
            "Test Error: \n",
            " Accuracy: 71.7%\n",
            "Avg loss: 0.566196 \n",
            "\n",
            "-------------Epoch 3-------------\n",
            "batch: [  200], loss: 0.569\n",
            "temporary loss: 0.618953 | [100000/448200]\n",
            "batch: [  400], loss: 0.569\n",
            "temporary loss: 0.557745 | [200000/448200]\n",
            "batch: [  600], loss: 0.570\n",
            "temporary loss: 0.578463 | [300000/448200]\n",
            "batch: [  800], loss: 0.565\n",
            "temporary loss: 0.545101 | [400000/448200]\n",
            "Test Error: \n",
            " Accuracy: 71.8%\n",
            "Avg loss: 0.564233 \n",
            "\n",
            "-------------Epoch 4-------------\n",
            "batch: [  200], loss: 0.566\n",
            "temporary loss: 0.583628 | [100000/448200]\n",
            "batch: [  400], loss: 0.563\n",
            "temporary loss: 0.566430 | [200000/448200]\n",
            "batch: [  600], loss: 0.564\n",
            "temporary loss: 0.557819 | [300000/448200]\n",
            "batch: [  800], loss: 0.562\n",
            "temporary loss: 0.564272 | [400000/448200]\n",
            "Test Error: \n",
            " Accuracy: 71.8%\n",
            "Avg loss: 0.562153 \n",
            "\n",
            "-------------Epoch 5-------------\n",
            "batch: [  200], loss: 0.561\n",
            "temporary loss: 0.578866 | [100000/448200]\n",
            "batch: [  400], loss: 0.563\n",
            "temporary loss: 0.554175 | [200000/448200]\n",
            "batch: [  600], loss: 0.558\n",
            "temporary loss: 0.571500 | [300000/448200]\n",
            "batch: [  800], loss: 0.562\n",
            "temporary loss: 0.560506 | [400000/448200]\n",
            "Test Error: \n",
            " Accuracy: 71.5%\n",
            "Avg loss: 0.567009 \n",
            "\n",
            "-------------Epoch 6-------------\n",
            "batch: [  200], loss: 0.554\n",
            "temporary loss: 0.524574 | [100000/448200]\n",
            "batch: [  400], loss: 0.549\n",
            "temporary loss: 0.551378 | [200000/448200]\n",
            "batch: [  600], loss: 0.551\n",
            "temporary loss: 0.557024 | [300000/448200]\n",
            "batch: [  800], loss: 0.551\n",
            "temporary loss: 0.570350 | [400000/448200]\n",
            "Test Error: \n",
            " Accuracy: 72.7%\n",
            "Avg loss: 0.552846 \n",
            "\n",
            "-------------Epoch 7-------------\n",
            "batch: [  200], loss: 0.550\n",
            "temporary loss: 0.530634 | [100000/448200]\n",
            "batch: [  400], loss: 0.550\n",
            "temporary loss: 0.525980 | [200000/448200]\n",
            "batch: [  600], loss: 0.549\n",
            "temporary loss: 0.543932 | [300000/448200]\n",
            "batch: [  800], loss: 0.552\n",
            "temporary loss: 0.520731 | [400000/448200]\n",
            "Test Error: \n",
            " Accuracy: 72.7%\n",
            "Avg loss: 0.551276 \n",
            "\n",
            "-------------Epoch 8-------------\n",
            "batch: [  200], loss: 0.549\n",
            "temporary loss: 0.539724 | [100000/448200]\n",
            "batch: [  400], loss: 0.549\n",
            "temporary loss: 0.545229 | [200000/448200]\n",
            "batch: [  600], loss: 0.550\n",
            "temporary loss: 0.546412 | [300000/448200]\n",
            "batch: [  800], loss: 0.548\n",
            "temporary loss: 0.553967 | [400000/448200]\n",
            "Test Error: \n",
            " Accuracy: 72.8%\n",
            "Avg loss: 0.550641 \n",
            "\n",
            "-------------Epoch 9-------------\n",
            "batch: [  200], loss: 0.546\n",
            "temporary loss: 0.561013 | [100000/448200]\n",
            "batch: [  400], loss: 0.549\n",
            "temporary loss: 0.565398 | [200000/448200]\n",
            "batch: [  600], loss: 0.547\n",
            "temporary loss: 0.505207 | [300000/448200]\n",
            "batch: [  800], loss: 0.550\n",
            "temporary loss: 0.556633 | [400000/448200]\n",
            "Test Error: \n",
            " Accuracy: 72.8%\n",
            "Avg loss: 0.550198 \n",
            "\n",
            "-------------Epoch 10-------------\n",
            "batch: [  200], loss: 0.545\n",
            "temporary loss: 0.559719 | [100000/448200]\n",
            "batch: [  400], loss: 0.548\n",
            "temporary loss: 0.581654 | [200000/448200]\n",
            "batch: [  600], loss: 0.547\n",
            "temporary loss: 0.511307 | [300000/448200]\n",
            "batch: [  800], loss: 0.550\n",
            "temporary loss: 0.549655 | [400000/448200]\n",
            "Test Error: \n",
            " Accuracy: 72.8%\n",
            "Avg loss: 0.550206 \n",
            "\n",
            "Done!\n",
            "Time Consumption:  124.27142119407654\n"
          ]
        }
      ],
      "source": [
        "time_start = time.time()\n",
        "for t in range( len(lr_list) ):\n",
        "    print(f\"-------------Epoch {t+1}-------------\")\n",
        "    #optimizer = optim.SGD(model.parameters(), lr=lr_list[t], momentum=0.9)\n",
        "    optimizer = optim.Adam(model_LeNet_single.parameters(), lr=lr_list[t])\n",
        "    train_loop(train_loader, model_LeNet_single, criterion, optimizer)\n",
        "    test_loop_Entropy(test_loader, model_LeNet_single, criterion)\n",
        "print(\"Done!\")\n",
        "time_end = time.time()\n",
        "print(\"Time Consumption: \", time_end - time_start)"
      ]
    },
    {
      "cell_type": "code",
      "execution_count": null,
      "metadata": {
        "colab": {
          "base_uri": "https://localhost:8080/"
        },
        "id": "YrQuqAdOQT3N",
        "outputId": "6e077bc7-3d04-4ec1-c63b-ebd0c5d66173"
      },
      "outputs": [
        {
          "name": "stdout",
          "output_type": "stream",
          "text": [
            "Process: 0.0\\%\n",
            "Process: 25.0\\%\n",
            "Process: 50.0\\%\n",
            "Process: 75.0\\%\n"
          ]
        }
      ],
      "source": [
        "total_prob_LeNet_single, total_label_LeNet_single = test_loop_prob(test_loader, model_LeNet_single)\n",
        "fpr, tpr, thresholds = metrics.roc_curve(total_label_LeNet_single, total_prob_LeNet_single)\n",
        "LeNet_single_AUC_1 = metrics.roc_auc_score(total_label_LeNet_single, total_prob_LeNet_single)"
      ]
    },
    {
      "cell_type": "code",
      "execution_count": null,
      "metadata": {
        "colab": {
          "base_uri": "https://localhost:8080/"
        },
        "id": "LydlrimhQT3O",
        "outputId": "38ad1942-e90c-41f0-c553-7296d1877984"
      },
      "outputs": [
        {
          "name": "stdout",
          "output_type": "stream",
          "text": [
            "The ROC-AUC score of Single Channel LeNet is: 0.7926589426117382\n"
          ]
        }
      ],
      "source": [
        "print(\"The ROC-AUC score of Single Channel LeNet is:\", LeNet_single_AUC_1)"
      ]
    },
    {
      "cell_type": "code",
      "execution_count": null,
      "metadata": {
        "colab": {
          "base_uri": "https://localhost:8080/",
          "height": 472
        },
        "id": "MFMMPi2XQT3O",
        "outputId": "d5a0aaa0-f847-460d-f9f2-2385068859df"
      },
      "outputs": [
        {
          "data": {
            "image/png": "[encoded data removed]",
            "text/plain": [
              "<Figure size 640x480 with 1 Axes>"
            ]
          },
          "metadata": {},
          "output_type": "display_data"
        }
      ],
      "source": [
        "plt.plot(fpr, tpr, \"--\", color=\"magenta\")\n",
        "#plt.plot([0,1],[0,1],\"--\")\n",
        "plt.grid()\n",
        "plt.xlabel(\"False Positive Rate\")\n",
        "plt.ylabel(\"True Positive Rate\")\n",
        "plt.title(\"ROC curve for single-channel LeNet (CNN)\")\n",
        "plt.show()"
      ]
    },
    {
      "cell_type": "markdown",
      "metadata": {
        "id": "bwtx9wOxQrvB"
      },
      "source": [
        "#### Numeric Experiment on Single Channel Simplified ResNet"
      ]
    },
    {
      "cell_type": "code",
      "execution_count": null,
      "metadata": {
        "id": "dC--1uDgQ_aU"
      },
      "outputs": [],
      "source": [
        "class ResNet_single_channel(torch.nn.Module):\n",
        "    def __init__(self):\n",
        "        super().__init__()\n",
        "        self.conv1=torch.nn.Conv2d(1,20,5)\n",
        "        self.conv2=torch.nn.Conv2d(20,15,3)\n",
        "        self.maxpool=torch.nn.MaxPool2d(2)\n",
        "        self.resblock1=ResBlock(channels_in=20)\n",
        "        self.resblock2=ResBlock(channels_in=15)\n",
        "        self.full_c=torch.nn.Linear(540,2)\n",
        "\n",
        "    def forward(self,x):\n",
        "        size=x.shape[0]\n",
        "        x=F.relu(self.maxpool(self.conv1(x)))\n",
        "        x=self.resblock1(x)\n",
        "        x=F.relu(self.maxpool(self.conv2(x)))\n",
        "        x=self.resblock2(x)\n",
        "        x=x.view(size,-1)\n",
        "        x=self.full_c(x)\n",
        "        return x"
      ]
    },
    {
      "cell_type": "code",
      "execution_count": null,
      "metadata": {
        "id": "jwB99lUrQ_aU"
      },
      "outputs": [],
      "source": [
        "model_Simple_ResNet_single = ResNet_single_channel().to(device)"
      ]
    },
    {
      "cell_type": "code",
      "execution_count": null,
      "metadata": {
        "colab": {
          "base_uri": "https://localhost:8080/"
        },
        "id": "_x0mBUZpRVrG",
        "outputId": "2593f6c3-9236-4482-c0dd-415b26c6cd9d"
      },
      "outputs": [
        {
          "name": "stdout",
          "output_type": "stream",
          "text": [
            "-------------Epoch 1-------------\n",
            "batch: [  200], loss: 0.666\n",
            "temporary loss: 0.645053 | [100000/448200]\n",
            "batch: [  400], loss: 0.626\n",
            "temporary loss: 0.611690 | [200000/448200]\n",
            "batch: [  600], loss: 0.600\n",
            "temporary loss: 0.572057 | [300000/448200]\n",
            "batch: [  800], loss: 0.596\n",
            "temporary loss: 0.589399 | [400000/448200]\n",
            "Test Error: \n",
            " Accuracy: 69.3%\n",
            "Avg loss: 0.591594 \n",
            "\n",
            "-------------Epoch 2-------------\n",
            "batch: [  200], loss: 0.590\n",
            "temporary loss: 0.568572 | [100000/448200]\n",
            "batch: [  400], loss: 0.584\n",
            "temporary loss: 0.557500 | [200000/448200]\n",
            "batch: [  600], loss: 0.586\n",
            "temporary loss: 0.560311 | [300000/448200]\n",
            "batch: [  800], loss: 0.579\n",
            "temporary loss: 0.558588 | [400000/448200]\n",
            "Test Error: \n",
            " Accuracy: 70.4%\n",
            "Avg loss: 0.579351 \n",
            "\n",
            "-------------Epoch 3-------------\n",
            "batch: [  200], loss: 0.585\n",
            "temporary loss: 0.579588 | [100000/448200]\n",
            "batch: [  400], loss: 0.580\n",
            "temporary loss: 0.550817 | [200000/448200]\n",
            "batch: [  600], loss: 0.577\n",
            "temporary loss: 0.571427 | [300000/448200]\n",
            "batch: [  800], loss: 0.575\n",
            "temporary loss: 0.545452 | [400000/448200]\n",
            "Test Error: \n",
            " Accuracy: 70.7%\n",
            "Avg loss: 0.574404 \n",
            "\n",
            "-------------Epoch 4-------------\n",
            "batch: [  200], loss: 0.577\n",
            "temporary loss: 0.557143 | [100000/448200]\n",
            "batch: [  400], loss: 0.574\n",
            "temporary loss: 0.554976 | [200000/448200]\n",
            "batch: [  600], loss: 0.572\n",
            "temporary loss: 0.550862 | [300000/448200]\n",
            "batch: [  800], loss: 0.573\n",
            "temporary loss: 0.580989 | [400000/448200]\n",
            "Test Error: \n",
            " Accuracy: 71.1%\n",
            "Avg loss: 0.569837 \n",
            "\n",
            "-------------Epoch 5-------------\n",
            "batch: [  200], loss: 0.571\n",
            "temporary loss: 0.547445 | [100000/448200]\n",
            "batch: [  400], loss: 0.571\n",
            "temporary loss: 0.534400 | [200000/448200]\n",
            "batch: [  600], loss: 0.571\n",
            "temporary loss: 0.584406 | [300000/448200]\n",
            "batch: [  800], loss: 0.570\n",
            "temporary loss: 0.567802 | [400000/448200]\n",
            "Test Error: \n",
            " Accuracy: 71.2%\n",
            "Avg loss: 0.569878 \n",
            "\n",
            "-------------Epoch 6-------------\n",
            "batch: [  200], loss: 0.571\n",
            "temporary loss: 0.551998 | [100000/448200]\n",
            "batch: [  400], loss: 0.569\n",
            "temporary loss: 0.563978 | [200000/448200]\n",
            "batch: [  600], loss: 0.568\n",
            "temporary loss: 0.555592 | [300000/448200]\n",
            "batch: [  800], loss: 0.563\n",
            "temporary loss: 0.562111 | [400000/448200]\n",
            "Test Error: \n",
            " Accuracy: 71.6%\n",
            "Avg loss: 0.565011 \n",
            "\n",
            "-------------Epoch 7-------------\n",
            "batch: [  200], loss: 0.556\n",
            "temporary loss: 0.543999 | [100000/448200]\n",
            "batch: [  400], loss: 0.557\n",
            "temporary loss: 0.533623 | [200000/448200]\n",
            "batch: [  600], loss: 0.559\n",
            "temporary loss: 0.521065 | [300000/448200]\n",
            "batch: [  800], loss: 0.554\n",
            "temporary loss: 0.556184 | [400000/448200]\n",
            "Test Error: \n",
            " Accuracy: 72.4%\n",
            "Avg loss: 0.556673 \n",
            "\n",
            "-------------Epoch 8-------------\n",
            "batch: [  200], loss: 0.555\n",
            "temporary loss: 0.579038 | [100000/448200]\n",
            "batch: [  400], loss: 0.553\n",
            "temporary loss: 0.531256 | [200000/448200]\n",
            "batch: [  600], loss: 0.555\n",
            "temporary loss: 0.542702 | [300000/448200]\n",
            "batch: [  800], loss: 0.554\n",
            "temporary loss: 0.566423 | [400000/448200]\n",
            "Test Error: \n",
            " Accuracy: 72.2%\n",
            "Avg loss: 0.556802 \n",
            "\n",
            "-------------Epoch 9-------------\n",
            "batch: [  200], loss: 0.551\n",
            "temporary loss: 0.553674 | [100000/448200]\n",
            "batch: [  400], loss: 0.552\n",
            "temporary loss: 0.535252 | [200000/448200]\n",
            "batch: [  600], loss: 0.553\n",
            "temporary loss: 0.509578 | [300000/448200]\n",
            "batch: [  800], loss: 0.556\n",
            "temporary loss: 0.586331 | [400000/448200]\n",
            "Test Error: \n",
            " Accuracy: 72.3%\n",
            "Avg loss: 0.556597 \n",
            "\n",
            "-------------Epoch 10-------------\n",
            "batch: [  200], loss: 0.552\n",
            "temporary loss: 0.574834 | [100000/448200]\n",
            "batch: [  400], loss: 0.552\n",
            "temporary loss: 0.503480 | [200000/448200]\n",
            "batch: [  600], loss: 0.551\n",
            "temporary loss: 0.543421 | [300000/448200]\n",
            "batch: [  800], loss: 0.552\n",
            "temporary loss: 0.549267 | [400000/448200]\n",
            "Test Error: \n",
            " Accuracy: 72.4%\n",
            "Avg loss: 0.555021 \n",
            "\n",
            "-------------Epoch 11-------------\n",
            "batch: [  200], loss: 0.553\n",
            "temporary loss: 0.593456 | [100000/448200]\n",
            "batch: [  400], loss: 0.550\n",
            "temporary loss: 0.553799 | [200000/448200]\n",
            "batch: [  600], loss: 0.551\n",
            "temporary loss: 0.546023 | [300000/448200]\n",
            "batch: [  800], loss: 0.550\n",
            "temporary loss: 0.556698 | [400000/448200]\n",
            "Test Error: \n",
            " Accuracy: 72.5%\n",
            "Avg loss: 0.553791 \n",
            "\n",
            "-------------Epoch 12-------------\n",
            "batch: [  200], loss: 0.548\n",
            "temporary loss: 0.541768 | [100000/448200]\n",
            "batch: [  400], loss: 0.550\n",
            "temporary loss: 0.572976 | [200000/448200]\n",
            "batch: [  600], loss: 0.550\n",
            "temporary loss: 0.558845 | [300000/448200]\n",
            "batch: [  800], loss: 0.553\n",
            "temporary loss: 0.528834 | [400000/448200]\n",
            "Test Error: \n",
            " Accuracy: 72.4%\n",
            "Avg loss: 0.555636 \n",
            "\n",
            "Done!\n",
            "Time Consumption 162.96337366104126\n"
          ]
        }
      ],
      "source": [
        "lr_list = [1e-3]*6 + [1e-4]*6\n",
        "time_start = time.time()\n",
        "# Pre-trained ResNet training\n",
        "for t in range( len(lr_list) ):\n",
        "    print(f\"-------------Epoch {t+1}-------------\")\n",
        "    #optimizer = optim.SGD(model.parameters(), lr=lr_list[t], momentum=0.9)\n",
        "    optimizer = optim.Adam(model_Simple_ResNet_single.parameters(), lr=lr_list[t])\n",
        "    train_loop(train_loader, model_Simple_ResNet_single, criterion, optimizer)\n",
        "    test_loop_Entropy(test_loader, model_Simple_ResNet_single, criterion)\n",
        "print(\"Done!\")\n",
        "time_end = time.time()\n",
        "print(\"Time Consumption\",time_end-time_start)"
      ]
    },
    {
      "cell_type": "code",
      "execution_count": null,
      "metadata": {
        "colab": {
          "base_uri": "https://localhost:8080/"
        },
        "id": "kphDm9FPSM1N",
        "outputId": "f8b29e6b-a48e-45fa-af61-c06ac4d8290a"
      },
      "outputs": [
        {
          "name": "stdout",
          "output_type": "stream",
          "text": [
            "Process: 0.0\\%\n",
            "Process: 25.0\\%\n",
            "Process: 50.0\\%\n",
            "Process: 75.0\\%\n"
          ]
        }
      ],
      "source": [
        "total_prob_Simple_ResNet_single, total_label_Simple_ResNet_single = test_loop_prob(test_loader, model_Simple_ResNet_single)\n",
        "fpr, tpr, thresholds = metrics.roc_curve(total_label_Simple_ResNet_single, total_prob_Simple_ResNet_single)\n",
        "Simple_ResNet_single_AUC_1 = metrics.roc_auc_score(total_label_Simple_ResNet_single, total_prob_Simple_ResNet_single)"
      ]
    },
    {
      "cell_type": "code",
      "execution_count": null,
      "metadata": {
        "colab": {
          "base_uri": "https://localhost:8080/"
        },
        "id": "0CQ-iD9PSM1N",
        "outputId": "d9e4abcc-8ceb-4c9a-c8c3-e68dfee383ed"
      },
      "outputs": [
        {
          "name": "stdout",
          "output_type": "stream",
          "text": [
            "The ROC-AUC score of Single Channel Simpified ResNet is: 0.7898301730353752\n"
          ]
        }
      ],
      "source": [
        "print(\"The ROC-AUC score of Single Channel Simpified ResNet is:\", Simple_ResNet_single_AUC_1)"
      ]
    },
    {
      "cell_type": "code",
      "execution_count": null,
      "metadata": {
        "colab": {
          "base_uri": "https://localhost:8080/",
          "height": 472
        },
        "id": "i6k2QybaSM1O",
        "outputId": "f88506cd-1773-4e9c-d8c7-1b74e48aab76"
      },
      "outputs": [
        {
          "data": {
            "image/png": "[encoded data removed]",
            "text/plain": [
              "<Figure size 640x480 with 1 Axes>"
            ]
          },
          "metadata": {},
          "output_type": "display_data"
        }
      ],
      "source": [
        "plt.plot(fpr, tpr, \"--\", color=\"magenta\")\n",
        "#plt.plot([0,1],[0,1],\"--\")\n",
        "plt.grid()\n",
        "plt.xlabel(\"False Positive Rate\")\n",
        "plt.ylabel(\"True Positive Rate\")\n",
        "plt.title(\"ROC curve for Single Channel Simplified ResNet\")\n",
        "plt.show()"
      ]
    },
    {
      "cell_type": "markdown",
      "metadata": {
        "id": "AwR3xW7YSmg_"
      },
      "source": [
        "#### Numeric Experiment on Pre-trained ResNet-18"
      ]
    },
    {
      "cell_type": "code",
      "execution_count": null,
      "metadata": {
        "id": "k_ZxhRupTZNA"
      },
      "outputs": [],
      "source": [
        "my_transform_single_channel = transforms.Compose([transforms.ToTensor(), transforms.Resize((224, 224)),\n",
        "                                   transforms.Lambda(lambda x: x.repeat(3, 1, 1) )\n",
        "    ])"
      ]
    },
    {
      "cell_type": "code",
      "execution_count": null,
      "metadata": {
        "id": "PT6Pq711TUTj"
      },
      "outputs": [],
      "source": [
        "train_set = MyDataset(shuffle_list=shuffle_list, train=True, transform=my_transform_single_channel)\n",
        "train_loader =  DataLoader(train_set, batch_size=500, shuffle=True)"
      ]
    },
    {
      "cell_type": "code",
      "execution_count": null,
      "metadata": {
        "id": "oLA_7OAGTUTk"
      },
      "outputs": [],
      "source": [
        "test_set = MyDataset(shuffle_list=shuffle_list, train=False, transform=my_transform_single_channel)\n",
        "test_loader =  DataLoader(test_set, batch_size=500, shuffle=False)"
      ]
    },
    {
      "cell_type": "code",
      "execution_count": null,
      "metadata": {
        "colab": {
          "base_uri": "https://localhost:8080/"
        },
        "id": "yBDKPx9eTtj0",
        "outputId": "69f44bce-0a77-4139-a21d-c098ff612d19"
      },
      "outputs": [
        {
          "name": "stdout",
          "output_type": "stream",
          "text": [
            "-------------Epoch 1-------------\n",
            "batch: [  200], loss: 0.703\n",
            "temporary loss: 0.613999 | [100000/448200]\n",
            "batch: [  400], loss: 0.602\n",
            "temporary loss: 0.596002 | [200000/448200]\n",
            "batch: [  600], loss: 0.584\n",
            "temporary loss: 0.553069 | [300000/448200]\n",
            "batch: [  800], loss: 0.574\n",
            "temporary loss: 0.588350 | [400000/448200]\n",
            "Test Error: \n",
            " Accuracy: 71.4%\n",
            "Avg loss: 0.568113 \n",
            "\n",
            "-------------Epoch 2-------------\n",
            "batch: [  200], loss: 0.577\n",
            "temporary loss: 0.590615 | [100000/448200]\n",
            "batch: [  400], loss: 0.567\n",
            "temporary loss: 0.580573 | [200000/448200]\n",
            "batch: [  600], loss: 0.563\n",
            "temporary loss: 0.560892 | [300000/448200]\n",
            "batch: [  800], loss: 0.557\n",
            "temporary loss: 0.583204 | [400000/448200]\n",
            "Test Error: \n",
            " Accuracy: 72.4%\n",
            "Avg loss: 0.555168 \n",
            "\n",
            "-------------Epoch 3-------------\n",
            "batch: [  200], loss: 0.556\n",
            "temporary loss: 0.599982 | [100000/448200]\n",
            "batch: [  400], loss: 0.555\n",
            "temporary loss: 0.556624 | [200000/448200]\n",
            "batch: [  600], loss: 0.556\n",
            "temporary loss: 0.523451 | [300000/448200]\n",
            "batch: [  800], loss: 0.551\n",
            "temporary loss: 0.522999 | [400000/448200]\n",
            "Test Error: \n",
            " Accuracy: 72.5%\n",
            "Avg loss: 0.554330 \n",
            "\n",
            "-------------Epoch 4-------------\n",
            "batch: [  200], loss: 0.553\n",
            "temporary loss: 0.531712 | [100000/448200]\n",
            "batch: [  400], loss: 0.547\n",
            "temporary loss: 0.548432 | [200000/448200]\n",
            "batch: [  600], loss: 0.549\n",
            "temporary loss: 0.562903 | [300000/448200]\n",
            "batch: [  800], loss: 0.549\n",
            "temporary loss: 0.550828 | [400000/448200]\n",
            "Test Error: \n",
            " Accuracy: 73.0%\n",
            "Avg loss: 0.547991 \n",
            "\n",
            "-------------Epoch 5-------------\n",
            "batch: [  200], loss: 0.547\n",
            "temporary loss: 0.578186 | [100000/448200]\n",
            "batch: [  400], loss: 0.548\n",
            "temporary loss: 0.545538 | [200000/448200]\n",
            "batch: [  600], loss: 0.545\n",
            "temporary loss: 0.593671 | [300000/448200]\n",
            "batch: [  800], loss: 0.541\n",
            "temporary loss: 0.532404 | [400000/448200]\n",
            "Test Error: \n",
            " Accuracy: 73.0%\n",
            "Avg loss: 0.546093 \n",
            "\n",
            "-------------Epoch 6-------------\n",
            "batch: [  200], loss: 0.534\n",
            "temporary loss: 0.532709 | [100000/448200]\n",
            "batch: [  400], loss: 0.535\n",
            "temporary loss: 0.554970 | [200000/448200]\n",
            "batch: [  600], loss: 0.535\n",
            "temporary loss: 0.536783 | [300000/448200]\n",
            "batch: [  800], loss: 0.533\n",
            "temporary loss: 0.556470 | [400000/448200]\n",
            "Test Error: \n",
            " Accuracy: 73.8%\n",
            "Avg loss: 0.536405 \n",
            "\n",
            "-------------Epoch 7-------------\n",
            "batch: [  200], loss: 0.532\n",
            "temporary loss: 0.523257 | [100000/448200]\n",
            "batch: [  400], loss: 0.531\n",
            "temporary loss: 0.515947 | [200000/448200]\n",
            "batch: [  600], loss: 0.534\n",
            "temporary loss: 0.530530 | [300000/448200]\n",
            "batch: [  800], loss: 0.533\n",
            "temporary loss: 0.524516 | [400000/448200]\n",
            "Test Error: \n",
            " Accuracy: 73.9%\n",
            "Avg loss: 0.535512 \n",
            "\n",
            "-------------Epoch 8-------------\n",
            "batch: [  200], loss: 0.531\n",
            "temporary loss: 0.513885 | [100000/448200]\n",
            "batch: [  400], loss: 0.530\n",
            "temporary loss: 0.535064 | [200000/448200]\n",
            "batch: [  600], loss: 0.532\n",
            "temporary loss: 0.555062 | [300000/448200]\n",
            "batch: [  800], loss: 0.533\n",
            "temporary loss: 0.537285 | [400000/448200]\n",
            "Test Error: \n",
            " Accuracy: 73.9%\n",
            "Avg loss: 0.535511 \n",
            "\n",
            "-------------Epoch 9-------------\n",
            "batch: [  200], loss: 0.530\n",
            "temporary loss: 0.515994 | [100000/448200]\n",
            "batch: [  400], loss: 0.532\n",
            "temporary loss: 0.548177 | [200000/448200]\n",
            "batch: [  600], loss: 0.528\n",
            "temporary loss: 0.513806 | [300000/448200]\n",
            "batch: [  800], loss: 0.532\n",
            "temporary loss: 0.538983 | [400000/448200]\n",
            "Test Error: \n",
            " Accuracy: 74.0%\n",
            "Avg loss: 0.533951 \n",
            "\n",
            "Done!\n",
            "Time Consumption 7667.778812885284\n"
          ]
        }
      ],
      "source": [
        "lr_list = [1e-2]*5 + [1e-3]*4\n",
        "time_start = time.time()\n",
        "# Pre-trained ResNet training\n",
        "for t in range( len(lr_list) ):\n",
        "    print(f\"-------------Epoch {t+1}-------------\")\n",
        "    #optimizer = optim.SGD(model.parameters(), lr=lr_list[t], momentum=0.9)\n",
        "    optimizer = optim.Adam(model_ResNet18.parameters(), lr=lr_list[t])\n",
        "    train_loop(train_loader, model_ResNet18, criterion, optimizer)\n",
        "    test_loop_Entropy(test_loader, model_ResNet18, criterion)\n",
        "print(\"Done!\")\n",
        "time_end = time.time()\n",
        "print(\"Time Consumption\",time_end-time_start)"
      ]
    },
    {
      "cell_type": "code",
      "execution_count": null,
      "metadata": {
        "colab": {
          "base_uri": "https://localhost:8080/"
        },
        "id": "ezRAgZJMT0q7",
        "outputId": "2c16c00f-df56-479a-b459-6a41c9c9269d"
      },
      "outputs": [
        {
          "name": "stdout",
          "output_type": "stream",
          "text": [
            "Process: 0.0\\%\n",
            "Process: 25.0\\%\n",
            "Process: 50.0\\%\n",
            "Process: 75.0\\%\n"
          ]
        }
      ],
      "source": [
        "total_prob_ResNet18_single, total_label_ResNet18_single = test_loop_prob(test_loader, model_ResNet18)\n",
        "fpr, tpr, thresholds = metrics.roc_curve(total_label_ResNet18_single, total_prob_ResNet18_single)\n",
        "ResNet18_single_AUC_1 = metrics.roc_auc_score(total_label_ResNet18_single, total_prob_ResNet18_single)"
      ]
    },
    {
      "cell_type": "code",
      "execution_count": null,
      "metadata": {
        "colab": {
          "base_uri": "https://localhost:8080/"
        },
        "id": "87AakGAwT0q7",
        "outputId": "9ee34751-5435-47c7-d4f6-0943fea48115"
      },
      "outputs": [
        {
          "name": "stdout",
          "output_type": "stream",
          "text": [
            "The ROC-AUC score of Single Channel Pre-trained ResNet-18 is: 0.8082539582442674\n"
          ]
        }
      ],
      "source": [
        "print(\"The ROC-AUC score of Single Channel Pre-trained ResNet-18 is:\", ResNet18_single_AUC_1)"
      ]
    },
    {
      "cell_type": "code",
      "execution_count": null,
      "metadata": {
        "colab": {
          "base_uri": "https://localhost:8080/",
          "height": 472
        },
        "id": "J7FCEMlUT0q7",
        "outputId": "c6947cf5-b28f-4890-9cba-4a0474c0dca5"
      },
      "outputs": [
        {
          "data": {
            "image/png": "[encoded data removed]",
            "text/plain": [
              "<Figure size 640x480 with 1 Axes>"
            ]
          },
          "metadata": {},
          "output_type": "display_data"
        }
      ],
      "source": [
        "plt.plot(fpr, tpr, \"--\", color=\"magenta\")\n",
        "#plt.plot([0,1],[0,1],\"--\")\n",
        "plt.grid()\n",
        "plt.xlabel(\"False Positive Rate\")\n",
        "plt.ylabel(\"True Positive Rate\")\n",
        "plt.title(\"ROC curve for Single Channel Pre-trained ResNet-18\")\n",
        "plt.show()"
      ]
    },
    {
      "cell_type": "code",
      "execution_count": null,
      "metadata": {
        "id": "szpxRzsucVYc"
      },
      "outputs": [],
      "source": [
        "path = \"./gdrive/MyDrive/CMS_model/ResNet_single_channel_task1_weights.pth\"\n",
        "torch.save(model_ResNet18.state_dict(), path)"
      ]
    },
    {
      "cell_type": "markdown",
      "metadata": {
        "id": "QjbmHwAeSsOY"
      },
      "source": [
        "## VII. Conclusion"
      ]
    },
    {
      "cell_type": "markdown",
      "metadata": {
        "id": "3gdLit01su8f"
      },
      "source": [
        "### Two-channel Input"
      ]
    },
    {
      "cell_type": "markdown",
      "metadata": {
        "id": "6ldwBKPjUFgC"
      },
      "source": [
        "Pre-trained ResNet-18 has the best performance on the electron/photon classfication dataset for two channel input:\n",
        "1. Accuracy ~ 74.0 %\n",
        "2. ROC-AUC score ~ 0.812"
      ]
    },
    {
      "cell_type": "markdown",
      "metadata": {
        "id": "raf770NIutIj"
      },
      "source": [
        "### Single Channel Input"
      ]
    },
    {
      "cell_type": "markdown",
      "metadata": {
        "id": "RiOxhyGAUlox"
      },
      "source": [
        "Besides, if we only use the energy channel data, the model could have better or comparable performance.\n",
        "\n",
        "1. LeNet: \n",
        "\n",
        "Accuracy: 71.9% (two-channel) vs 72.8% (single channel)\n",
        "\n",
        "ROC-AUC score: 0.778 (two-channel) vs 0.793 (single channel)\n",
        "\n",
        "2. SImplified ResNet (two ResBlock): \n",
        "\n",
        "Accuracy: 72.1% (two-channel) vs 72.4% (single channel)\n",
        "\n",
        "ROC-AUC score: 0.786 (two-channel) vs 0.790 (single channel)\n",
        "\n",
        "3. Pre-trained ResNet-18: \n",
        "\n",
        "Accuracy: 74.0% (two-channel) vs 74.0% (single channel)\n",
        "\n",
        "ROC-AUC score: 0.812 (two-channel) vs 0.808 (single channel)"
      ]
    },
    {
      "cell_type": "markdown",
      "metadata": {
        "id": "U6lVa8O8ssb6"
      },
      "source": [
        "### Conclusion: "
      ]
    },
    {
      "cell_type": "markdown",
      "metadata": {
        "id": "NT8sV997sdDp"
      },
      "source": [
        "In these three models, single channel input has better or at least comparable performance than two-channel input, which means the information of time channel is not well utilized."
      ]
    },
    {
      "cell_type": "markdown",
      "metadata": {
        "id": "Ef3LzBZxtHI8"
      },
      "source": [
        "### Further Directions:"
      ]
    },
    {
      "cell_type": "markdown",
      "metadata": {
        "id": "c07dwcA2tKib"
      },
      "source": [
        "Therefore, a good mixer of two channels might be needed, or we can apply parametric affine transformation on these two channels.\n",
        "\n",
        "1. MLP-mixer\n",
        "\n",
        "2. ResMLP"
      ]
    }
  ],
  "metadata": {
    "accelerator": "GPU",
    "colab": {
      "collapsed_sections": [
        "RlGlrSQVJdW_",
        "h6B46aPGTigc",
        "W4ySO4Vzlt3c",
        "FMaHfjailzp5",
        "TGVKWmWWuKND",
        "rtGl0m0QuCy3",
        "bT33C33zudIs",
        "EuSHbBm7uCSo",
        "QeyrL5YGuzdF",
        "SgbuDN72viYv",
        "ZKcCl-ab8b38",
        "V7w6pQAKF4Mp",
        "95kAzVd4GDPD",
        "oFh-yNL7eLKM",
        "wkw_wQK-chc4",
        "5n2uLwX1dkJA",
        "rWbMSqZceiHm",
        "0NMTexb6gVHy",
        "nkPE92r0v-ZN",
        "l9lX-NsY2bL-",
        "leOe4D3cVvoi",
        "qPSJym4lV6Ik",
        "D9Mz7HO3PZxI",
        "6-Wrt6ixPqVa",
        "bwtx9wOxQrvB",
        "AwR3xW7YSmg_"
      ],
      "provenance": []
    },
    "gpuClass": "premium",
    "kernelspec": {
      "display_name": "Python 3 (ipykernel)",
      "language": "python",
      "name": "python3"
    },
    "language_info": {
      "codemirror_mode": {
        "name": "ipython",
        "version": 3
      },
      "file_extension": ".py",
      "mimetype": "text/x-python",
      "name": "python",
      "nbconvert_exporter": "python",
      "pygments_lexer": "ipython3",
      "version": "3.10.10"
    },
    "widgets": {
      "application/vnd.jupyter.widget-state+json": {
        "0f3caf0934cc49228c6e3b52f887101f": {
          "model_module": "@jupyter-widgets/controls",
          "model_module_version": "1.5.0",
          "model_name": "DescriptionStyleModel",
          "state": {
            "_model_module": "@jupyter-widgets/controls",
            "_model_module_version": "1.5.0",
            "_model_name": "DescriptionStyleModel",
            "_view_count": null,
            "_view_module": "@jupyter-widgets/base",
            "_view_module_version": "1.2.0",
            "_view_name": "StyleView",
            "description_width": ""
          }
        },
        "1100ff8f97a8422b919ab25200057599": {
          "model_module": "@jupyter-widgets/controls",
          "model_module_version": "1.5.0",
          "model_name": "HBoxModel",
          "state": {
            "_dom_classes": [],
            "_model_module": "@jupyter-widgets/controls",
            "_model_module_version": "1.5.0",
            "_model_name": "HBoxModel",
            "_view_count": null,
            "_view_module": "@jupyter-widgets/controls",
            "_view_module_version": "1.5.0",
            "_view_name": "HBoxView",
            "box_style": "",
            "children": [
              "IPY_MODEL_e2f54a70d5a74c5aba9e4b09118244b5",
              "IPY_MODEL_50226fc903b4410ea56a7c5ca848d298",
              "IPY_MODEL_cd2afdf7dc494b518cd0c83d237bdeb6"
            ],
            "layout": "IPY_MODEL_8ae4294ed898433ba14c4d671ab1ec71"
          }
        },
        "114493495eb8411c868b91154d65d101": {
          "model_module": "@jupyter-widgets/controls",
          "model_module_version": "1.5.0",
          "model_name": "ProgressStyleModel",
          "state": {
            "_model_module": "@jupyter-widgets/controls",
            "_model_module_version": "1.5.0",
            "_model_name": "ProgressStyleModel",
            "_view_count": null,
            "_view_module": "@jupyter-widgets/base",
            "_view_module_version": "1.2.0",
            "_view_name": "StyleView",
            "bar_color": null,
            "description_width": ""
          }
        },
        "26ac165caca74bd5b216a35c54b11745": {
          "model_module": "@jupyter-widgets/base",
          "model_module_version": "1.2.0",
          "model_name": "LayoutModel",
          "state": {
            "_model_module": "@jupyter-widgets/base",
            "_model_module_version": "1.2.0",
            "_model_name": "LayoutModel",
            "_view_count": null,
            "_view_module": "@jupyter-widgets/base",
            "_view_module_version": "1.2.0",
            "_view_name": "LayoutView",
            "align_content": null,
            "align_items": null,
            "align_self": null,
            "border": null,
            "bottom": null,
            "display": null,
            "flex": null,
            "flex_flow": null,
            "grid_area": null,
            "grid_auto_columns": null,
            "grid_auto_flow": null,
            "grid_auto_rows": null,
            "grid_column": null,
            "grid_gap": null,
            "grid_row": null,
            "grid_template_areas": null,
            "grid_template_columns": null,
            "grid_template_rows": null,
            "height": null,
            "justify_content": null,
            "justify_items": null,
            "left": null,
            "margin": null,
            "max_height": null,
            "max_width": null,
            "min_height": null,
            "min_width": null,
            "object_fit": null,
            "object_position": null,
            "order": null,
            "overflow": null,
            "overflow_x": null,
            "overflow_y": null,
            "padding": null,
            "right": null,
            "top": null,
            "visibility": null,
            "width": null
          }
        },
        "50226fc903b4410ea56a7c5ca848d298": {
          "model_module": "@jupyter-widgets/controls",
          "model_module_version": "1.5.0",
          "model_name": "FloatProgressModel",
          "state": {
            "_dom_classes": [],
            "_model_module": "@jupyter-widgets/controls",
            "_model_module_version": "1.5.0",
            "_model_name": "FloatProgressModel",
            "_view_count": null,
            "_view_module": "@jupyter-widgets/controls",
            "_view_module_version": "1.5.0",
            "_view_name": "ProgressView",
            "bar_style": "success",
            "description": "",
            "description_tooltip": null,
            "layout": "IPY_MODEL_53ae602ef39843d08bfe7c1a404d8a4c",
            "max": 46830571,
            "min": 0,
            "orientation": "horizontal",
            "style": "IPY_MODEL_114493495eb8411c868b91154d65d101",
            "value": 46830571
          }
        },
        "53ae602ef39843d08bfe7c1a404d8a4c": {
          "model_module": "@jupyter-widgets/base",
          "model_module_version": "1.2.0",
          "model_name": "LayoutModel",
          "state": {
            "_model_module": "@jupyter-widgets/base",
            "_model_module_version": "1.2.0",
            "_model_name": "LayoutModel",
            "_view_count": null,
            "_view_module": "@jupyter-widgets/base",
            "_view_module_version": "1.2.0",
            "_view_name": "LayoutView",
            "align_content": null,
            "align_items": null,
            "align_self": null,
            "border": null,
            "bottom": null,
            "display": null,
            "flex": null,
            "flex_flow": null,
            "grid_area": null,
            "grid_auto_columns": null,
            "grid_auto_flow": null,
            "grid_auto_rows": null,
            "grid_column": null,
            "grid_gap": null,
            "grid_row": null,
            "grid_template_areas": null,
            "grid_template_columns": null,
            "grid_template_rows": null,
            "height": null,
            "justify_content": null,
            "justify_items": null,
            "left": null,
            "margin": null,
            "max_height": null,
            "max_width": null,
            "min_height": null,
            "min_width": null,
            "object_fit": null,
            "object_position": null,
            "order": null,
            "overflow": null,
            "overflow_x": null,
            "overflow_y": null,
            "padding": null,
            "right": null,
            "top": null,
            "visibility": null,
            "width": null
          }
        },
        "5591034967204a818b0d33dd904eacf3": {
          "model_module": "@jupyter-widgets/controls",
          "model_module_version": "1.5.0",
          "model_name": "DescriptionStyleModel",
          "state": {
            "_model_module": "@jupyter-widgets/controls",
            "_model_module_version": "1.5.0",
            "_model_name": "DescriptionStyleModel",
            "_view_count": null,
            "_view_module": "@jupyter-widgets/base",
            "_view_module_version": "1.2.0",
            "_view_name": "StyleView",
            "description_width": ""
          }
        },
        "8ae4294ed898433ba14c4d671ab1ec71": {
          "model_module": "@jupyter-widgets/base",
          "model_module_version": "1.2.0",
          "model_name": "LayoutModel",
          "state": {
            "_model_module": "@jupyter-widgets/base",
            "_model_module_version": "1.2.0",
            "_model_name": "LayoutModel",
            "_view_count": null,
            "_view_module": "@jupyter-widgets/base",
            "_view_module_version": "1.2.0",
            "_view_name": "LayoutView",
            "align_content": null,
            "align_items": null,
            "align_self": null,
            "border": null,
            "bottom": null,
            "display": null,
            "flex": null,
            "flex_flow": null,
            "grid_area": null,
            "grid_auto_columns": null,
            "grid_auto_flow": null,
            "grid_auto_rows": null,
            "grid_column": null,
            "grid_gap": null,
            "grid_row": null,
            "grid_template_areas": null,
            "grid_template_columns": null,
            "grid_template_rows": null,
            "height": null,
            "justify_content": null,
            "justify_items": null,
            "left": null,
            "margin": null,
            "max_height": null,
            "max_width": null,
            "min_height": null,
            "min_width": null,
            "object_fit": null,
            "object_position": null,
            "order": null,
            "overflow": null,
            "overflow_x": null,
            "overflow_y": null,
            "padding": null,
            "right": null,
            "top": null,
            "visibility": null,
            "width": null
          }
        },
        "cd2afdf7dc494b518cd0c83d237bdeb6": {
          "model_module": "@jupyter-widgets/controls",
          "model_module_version": "1.5.0",
          "model_name": "HTMLModel",
          "state": {
            "_dom_classes": [],
            "_model_module": "@jupyter-widgets/controls",
            "_model_module_version": "1.5.0",
            "_model_name": "HTMLModel",
            "_view_count": null,
            "_view_module": "@jupyter-widgets/controls",
            "_view_module_version": "1.5.0",
            "_view_name": "HTMLView",
            "description": "",
            "description_tooltip": null,
            "layout": "IPY_MODEL_cef2735b62404de0b0c5bad1b959af7e",
            "placeholder": "​",
            "style": "IPY_MODEL_5591034967204a818b0d33dd904eacf3",
            "value": " 44.7M/44.7M [00:00&lt;00:00, 262MB/s]"
          }
        },
        "cef2735b62404de0b0c5bad1b959af7e": {
          "model_module": "@jupyter-widgets/base",
          "model_module_version": "1.2.0",
          "model_name": "LayoutModel",
          "state": {
            "_model_module": "@jupyter-widgets/base",
            "_model_module_version": "1.2.0",
            "_model_name": "LayoutModel",
            "_view_count": null,
            "_view_module": "@jupyter-widgets/base",
            "_view_module_version": "1.2.0",
            "_view_name": "LayoutView",
            "align_content": null,
            "align_items": null,
            "align_self": null,
            "border": null,
            "bottom": null,
            "display": null,
            "flex": null,
            "flex_flow": null,
            "grid_area": null,
            "grid_auto_columns": null,
            "grid_auto_flow": null,
            "grid_auto_rows": null,
            "grid_column": null,
            "grid_gap": null,
            "grid_row": null,
            "grid_template_areas": null,
            "grid_template_columns": null,
            "grid_template_rows": null,
            "height": null,
            "justify_content": null,
            "justify_items": null,
            "left": null,
            "margin": null,
            "max_height": null,
            "max_width": null,
            "min_height": null,
            "min_width": null,
            "object_fit": null,
            "object_position": null,
            "order": null,
            "overflow": null,
            "overflow_x": null,
            "overflow_y": null,
            "padding": null,
            "right": null,
            "top": null,
            "visibility": null,
            "width": null
          }
        },
        "e2f54a70d5a74c5aba9e4b09118244b5": {
          "model_module": "@jupyter-widgets/controls",
          "model_module_version": "1.5.0",
          "model_name": "HTMLModel",
          "state": {
            "_dom_classes": [],
            "_model_module": "@jupyter-widgets/controls",
            "_model_module_version": "1.5.0",
            "_model_name": "HTMLModel",
            "_view_count": null,
            "_view_module": "@jupyter-widgets/controls",
            "_view_module_version": "1.5.0",
            "_view_name": "HTMLView",
            "description": "",
            "description_tooltip": null,
            "layout": "IPY_MODEL_26ac165caca74bd5b216a35c54b11745",
            "placeholder": "​",
            "style": "IPY_MODEL_0f3caf0934cc49228c6e3b52f887101f",
            "value": "100%"
          }
        }
      }
    }
  },
  "nbformat": 4,
  "nbformat_minor": 0
}