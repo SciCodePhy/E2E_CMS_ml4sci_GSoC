{
  "cells": [
    {
      "cell_type": "markdown",
      "metadata": {
        "id": "o4qkvLAnkp9x"
      },
      "source": [
        "# Supplement (bonus) to Additional Task (CMS and E2E): Vision Transformers for End-to-End Particle Identification with the CMS Experiment\n",
        "### Chenguang Guan\n",
        "\n",
        "1. In the task-1 notebook (\"E2E_and_CMS_task1_pytorch.ipynb\") and the first additional task notebook (\"E2E_and_CMS_Additional_Task_ViT.ipynb\"), we have applied pre-trained ViT and Swin Transformer to the E2E classification problem.\n",
        "\n",
        "2. In this notebook, we will compare ViT with MLP mixer, which is a supplement to the the first additional task notebook (\"E2E_and_CMS_Additional_Task_ViT.ipynb\")."
      ]
    },
    {
      "cell_type": "markdown",
      "metadata": {
        "id": "aFhbEUiCwKh5"
      },
      "source": [
        "## I. Preparation"
      ]
    },
    {
      "cell_type": "code",
      "execution_count": null,
      "metadata": {
        "colab": {
          "base_uri": "https://localhost:8080/"
        },
        "id": "-fwM201m560x",
        "outputId": "f5e3bd33-30e7-4c57-f64b-b13e472a9a19",
        "scrolled": false
      },
      "outputs": [
        {
          "name": "stdout",
          "output_type": "stream",
          "text": [
            "Sun Apr  2 14:20:57 2023       \n",
            "+-----------------------------------------------------------------------------+\n",
            "| NVIDIA-SMI 525.85.12    Driver Version: 525.85.12    CUDA Version: 12.0     |\n",
            "|-------------------------------+----------------------+----------------------+\n",
            "| GPU  Name        Persistence-M| Bus-Id        Disp.A | Volatile Uncorr. ECC |\n",
            "| Fan  Temp  Perf  Pwr:Usage/Cap|         Memory-Usage | GPU-Util  Compute M. |\n",
            "|                               |                      |               MIG M. |\n",
            "|===============================+======================+======================|\n",
            "|   0  NVIDIA A100-SXM...  Off  | 00000000:00:04.0 Off |                    0 |\n",
            "| N/A   29C    P0    42W / 400W |      0MiB / 40960MiB |      0%      Default |\n",
            "|                               |                      |             Disabled |\n",
            "+-------------------------------+----------------------+----------------------+\n",
            "                                                                               \n",
            "+-----------------------------------------------------------------------------+\n",
            "| Processes:                                                                  |\n",
            "|  GPU   GI   CI        PID   Type   Process name                  GPU Memory |\n",
            "|        ID   ID                                                   Usage      |\n",
            "|=============================================================================|\n",
            "|  No running processes found                                                 |\n",
            "+-----------------------------------------------------------------------------+\n"
          ]
        }
      ],
      "source": [
        "!/opt/bin/nvidia-smi"
      ]
    },
    {
      "cell_type": "code",
      "execution_count": 1,
      "metadata": {
        "colab": {
          "base_uri": "https://localhost:8080/"
        },
        "id": "L2llf81aoc1X",
        "outputId": "619dd8a8-5342-4447-c13e-198a7b5e6808",
        "scrolled": false
      },
      "outputs": [
        {
          "output_type": "stream",
          "name": "stdout",
          "text": [
            "Mounted at /content/gdrive\n"
          ]
        }
      ],
      "source": [
        "from google.colab import drive\n",
        "drive.mount(\"/content/gdrive\", force_remount=True)"
      ]
    },
    {
      "cell_type": "code",
      "execution_count": 2,
      "metadata": {
        "id": "Z6JbsW9tCr9p"
      },
      "outputs": [],
      "source": [
        "!cp --recursive \"/content/gdrive/MyDrive/CMS_data\" ."
      ]
    },
    {
      "cell_type": "code",
      "execution_count": 3,
      "metadata": {
        "colab": {
          "base_uri": "https://localhost:8080/"
        },
        "id": "4qG7N3ePw9oG",
        "outputId": "fd525ae8-dac4-44c6-a501-2ba7c8b93f53"
      },
      "outputs": [
        {
          "output_type": "stream",
          "name": "stdout",
          "text": [
            "Looking in indexes: https://pypi.org/simple, https://us-python.pkg.dev/colab-wheels/public/simple/\n",
            "Collecting einops\n",
            "  Downloading einops-0.6.0-py3-none-any.whl (41 kB)\n",
            "\u001b[2K     \u001b[90m━━━━━━━━━━━━━━━━━━━━━━━━━━━━━━━━━━━━━━━━\u001b[0m \u001b[32m41.6/41.6 KB\u001b[0m \u001b[31m5.5 MB/s\u001b[0m eta \u001b[36m0:00:00\u001b[0m\n",
            "\u001b[?25hInstalling collected packages: einops\n",
            "Successfully installed einops-0.6.0\n"
          ]
        }
      ],
      "source": [
        "pip install einops"
      ]
    },
    {
      "cell_type": "code",
      "execution_count": 4,
      "metadata": {
        "id": "iPugPqI5pJoE"
      },
      "outputs": [],
      "source": [
        "import h5py\n",
        "import torch\n",
        "\n",
        "import numpy as np\n",
        "\n",
        "from torch.utils.data import Dataset, DataLoader\n",
        "\n",
        "import torchvision\n",
        "import torch.nn as nn\n",
        "import torch.nn.functional as F\n",
        "import torch.optim as optim\n",
        "\n",
        "import torchvision.transforms as transforms\n",
        "\n",
        "\n",
        "import random\n",
        "import time\n",
        "\n",
        "from sklearn import metrics\n",
        "\n",
        "from einops import rearrange, repeat\n",
        "from einops.layers.torch import Rearrange"
      ]
    },
    {
      "cell_type": "code",
      "execution_count": 5,
      "metadata": {
        "id": "SDo9IfxRTHYT"
      },
      "outputs": [],
      "source": [
        "import matplotlib.pyplot as plt"
      ]
    },
    {
      "cell_type": "code",
      "execution_count": 6,
      "metadata": {
        "colab": {
          "base_uri": "https://localhost:8080/"
        },
        "id": "7U_IYAN6qqGQ",
        "outputId": "f413f273-bcf0-4d7a-d14a-29eac84d0a13"
      },
      "outputs": [
        {
          "output_type": "stream",
          "name": "stdout",
          "text": [
            "Device is: cuda\n"
          ]
        }
      ],
      "source": [
        "device=torch.device('cuda' if torch.cuda.is_available() else 'cpu')\n",
        "print(\"Device is:\", device)"
      ]
    },
    {
      "cell_type": "markdown",
      "metadata": {
        "id": "Z09l1TXilWp9"
      },
      "source": [
        "## II. Dataset"
      ]
    },
    {
      "cell_type": "code",
      "execution_count": null,
      "metadata": {
        "id": "_OrOYVH3pTUn"
      },
      "outputs": [],
      "source": [
        "shuffle_list = np.arange(0, 249000*2, 1) \n",
        "random.shuffle(shuffle_list)"
      ]
    },
    {
      "cell_type": "code",
      "execution_count": null,
      "metadata": {
        "id": "ONjdq7GvKJo6"
      },
      "outputs": [],
      "source": [
        "np.save(\"/content/gdrive/MyDrive/CMS_data/shuffle_list.npy\",shuffle_list)"
      ]
    },
    {
      "cell_type": "code",
      "execution_count": 7,
      "metadata": {
        "id": "AqiCbEvhLT1S"
      },
      "outputs": [],
      "source": [
        "shuffle_list = np.load(\"/content/gdrive/MyDrive/CMS_data/shuffle_list.npy\")"
      ]
    },
    {
      "cell_type": "code",
      "execution_count": 8,
      "metadata": {
        "id": "N2E4S0mrICor"
      },
      "outputs": [],
      "source": [
        "f1 = h5py.File(r'/content/CMS_data/SingleElectronPt50_IMGCROPS_n249k_RHv1.hdf5', 'r')\n",
        "f2 = h5py.File(r'/content/CMS_data/SinglePhotonPt50_IMGCROPS_n249k_RHv1.hdf5', 'r')\n",
        "total_X = np.concatenate( (f1[\"X\"][:], f2[\"X\"][:] ), axis=0 )\n",
        "total_y = np.concatenate( (f1[\"y\"][:], f2[\"y\"][:] ), axis=0 )"
      ]
    },
    {
      "cell_type": "code",
      "execution_count": 9,
      "metadata": {
        "id": "JdFr9POuJP6u"
      },
      "outputs": [],
      "source": [
        "total_X = total_X[shuffle_list]\n",
        "total_y = total_y[shuffle_list].astype(int)"
      ]
    },
    {
      "cell_type": "code",
      "execution_count": 10,
      "metadata": {
        "id": "kM_WpGoN0z9O"
      },
      "outputs": [],
      "source": [
        "class MyDataset(Dataset):\n",
        "    def __init__(self, shuffle_list, train=True, transform=None, target_transform=None):\n",
        "        global total_X, total_y\n",
        "        self.transform = transform\n",
        "        self.target_transform = target_transform\n",
        "        self.train = train\n",
        "        self.length = len(total_X)\n",
        "        self.train_length = int( self.length * 9/10)\n",
        "        self.test_length = int( self.length / 10)\n",
        "            \n",
        "    def __len__(self):\n",
        "        if self.train:\n",
        "            return self.train_length\n",
        "        else:\n",
        "            return self.test_length\n",
        "    \n",
        "    def __getitem__(self,idx):\n",
        "        if self.train:\n",
        "            image, label = total_X[idx], total_y[idx]\n",
        "        else:\n",
        "            image, label = total_X[idx + self.train_length], total_y[idx + self.train_length]\n",
        "        if self.transform:\n",
        "            image = self.transform(image)\n",
        "        if self.target_transform:\n",
        "            label = self.target_transform(label)\n",
        "        return image, label"
      ]
    },
    {
      "cell_type": "code",
      "execution_count": 11,
      "metadata": {
        "id": "L6C-9NvFisC3"
      },
      "outputs": [],
      "source": [
        "my_transform_normal = transforms.ToTensor()"
      ]
    },
    {
      "cell_type": "code",
      "execution_count": null,
      "metadata": {
        "id": "RPAh7klxisC3"
      },
      "outputs": [],
      "source": [
        "my_transform_pretrained = transforms.Compose([transforms.ToTensor(), transforms.Resize((224,224))])"
      ]
    },
    {
      "cell_type": "code",
      "execution_count": null,
      "metadata": {
        "id": "FnZ0Dyp0ja9x"
      },
      "outputs": [],
      "source": [
        "my_transform_single_channel = transforms.Compose([transforms.ToTensor(), transforms.Resize((224, 224)),\n",
        "                                   transforms.Lambda(lambda x: x.repeat(3, 1, 1) )\n",
        "    ])"
      ]
    },
    {
      "cell_type": "code",
      "execution_count": 12,
      "metadata": {
        "id": "0S2EbXVsqVlh"
      },
      "outputs": [],
      "source": [
        "train_set = MyDataset(shuffle_list=shuffle_list, train=True, transform=my_transform_normal)\n",
        "train_loader =  DataLoader(train_set, batch_size=500, shuffle=True)"
      ]
    },
    {
      "cell_type": "code",
      "execution_count": 13,
      "metadata": {
        "id": "kpi9YN64iyOF"
      },
      "outputs": [],
      "source": [
        "test_set = MyDataset(shuffle_list=shuffle_list, train=False, transform=my_transform_normal)\n",
        "test_loader =  DataLoader(test_set, batch_size=500, shuffle=False)"
      ]
    },
    {
      "cell_type": "markdown",
      "metadata": {
        "id": "wRpP1bkpn9L_"
      },
      "source": [
        "## III. Train and Test Loop"
      ]
    },
    {
      "cell_type": "code",
      "execution_count": 12,
      "metadata": {
        "id": "_RaBVthUoAr9"
      },
      "outputs": [],
      "source": [
        "criterion = nn.CrossEntropyLoss()"
      ]
    },
    {
      "cell_type": "code",
      "execution_count": 13,
      "metadata": {
        "id": "LwNKVkC2qk71"
      },
      "outputs": [],
      "source": [
        "def train_loop(dataloader, model, loss_fn, optimizer):\n",
        "    model.train()\n",
        "    size = len(dataloader.dataset)\n",
        "    running_loss = 0.\n",
        "    #total_sample = 0\n",
        "    for batch_i, data in enumerate(dataloader):\n",
        "        # get the inputs; data is a list of [inputs, labels]\n",
        "        inputs, labels = data[0].to(device), data[1].to(device)\n",
        "        \n",
        "        # zero the parameter gradients\n",
        "        optimizer.zero_grad()\n",
        "        \n",
        "        # Compute prediction and loss\n",
        "        outputs = model(inputs)\n",
        "        loss = loss_fn(outputs, labels)\n",
        "        \n",
        "        # Backpropagation\n",
        "        loss.backward()\n",
        "        optimizer.step()\n",
        "        \n",
        "        # print statistics\n",
        "        running_loss += loss.item()\n",
        "        num_batch_print = 200\n",
        "        if batch_i % num_batch_print == num_batch_print - 1:\n",
        "            current = (batch_i + 1) * len(inputs)\n",
        "            print(f'batch: [{batch_i + 1:5d}], loss: {running_loss / num_batch_print:.3f}')\n",
        "            print(f'temporary loss: {loss.item():>7f} | [{current:>5d}/{size:>5d}]')\n",
        "            running_loss = 0"
      ]
    },
    {
      "cell_type": "code",
      "execution_count": 14,
      "metadata": {
        "id": "e2qgnoTkqr41"
      },
      "outputs": [],
      "source": [
        "def test_loop_Entropy(dataloader, model, loss_fn):\n",
        "    model.eval()\n",
        "    #size = len(dataloader.dataset)\n",
        "    num_batches = len(dataloader)\n",
        "    \n",
        "    test_loss, correct = 0, 0\n",
        "    total = 0\n",
        "    \n",
        "    with torch.no_grad():\n",
        "        for data in dataloader:\n",
        "            # get the inputs for test dataset\n",
        "            images, labels = data[0].to(device), data[1].to(device)\n",
        "            \n",
        "            # calculate the outputs\n",
        "            outputs = model(images)\n",
        "            \n",
        "            # classify which class the output in\n",
        "            _, predicted = torch.max(outputs.data, 1)\n",
        "            #_, labels_value = torch.max(labels.data, 1)\n",
        "            \n",
        "            # obtain the statistics of test loss and correctness\n",
        "            test_loss += loss_fn(outputs, labels).item()\n",
        "            correct += (predicted == labels).sum().item() \n",
        "            #correct += (predicted == labels_value).sum().item() \n",
        "            total += labels.size(0)\n",
        "\n",
        "    print(f\"Test Error: \\n Accuracy: {(100 * correct / total):>0.1f}%\")\n",
        "    print(f\"Avg loss: {test_loss / num_batches:>8f} \\n\")\n",
        "    return test_loss / num_batches"
      ]
    },
    {
      "cell_type": "code",
      "execution_count": 15,
      "metadata": {
        "id": "7CuJFThl0yWc"
      },
      "outputs": [],
      "source": [
        "def test_loop_prob(dataloader, model):\n",
        "    model.eval()\n",
        "    #size = len(dataloader.dataset)\n",
        "    num_batches = len(dataloader)\n",
        "    \n",
        "    total_prob = list()\n",
        "    total_label = list()\n",
        "    i = 0\n",
        "    with torch.no_grad():\n",
        "        for (i, data) in enumerate(dataloader):\n",
        "            # get the inputs for test dataset\n",
        "            images, labels = data[0].to(device), data[1].to(device)\n",
        "            \n",
        "            # calculate the outputs\n",
        "            outputs = model(images)\n",
        "            probabilities = F.softmax(outputs, dim=1)[:, 1]\n",
        "            \n",
        "            total_prob += torch.Tensor.cpu(probabilities).numpy().tolist()\n",
        "            \n",
        "            total_label += torch.Tensor.cpu(labels).numpy().tolist()\n",
        "            \n",
        "            if i % 25 == 0:\n",
        "                print(f\"Process: {i/num_batches*100}\\%\")\n",
        "    return np.array(total_prob), np.array(total_label)"
      ]
    },
    {
      "cell_type": "markdown",
      "metadata": {
        "id": "AlUgDkGmnc8N"
      },
      "source": [
        "## III. ViT"
      ]
    },
    {
      "cell_type": "markdown",
      "metadata": {
        "id": "5MIhaP4t28X2"
      },
      "source": [
        "The implementation is from https://github.com/lucidrains/vit-pytorch, where we change the prenorm to postnorm.\n",
        "\n",
        "Batch size: 500\n",
        "\n",
        "Training on: A100 GPU\n",
        "\n",
        "Learning Rate: if the test loss isn't improved for three consecutive epochs, the learning rate will be reduced by a factor of ten.\n",
        "\n",
        "Optimizer: Adam\n",
        "\n",
        "Test Accuracy: 69.7% (Pre-norm); 69.9% (Post-norm)\n",
        "\n",
        "ROC-AUC score: 0.76 (Post-norm)\n",
        "\n",
        "The post-norm has slightly better performance."
      ]
    },
    {
      "cell_type": "code",
      "source": [
        "def pair(t):\n",
        "    return t if isinstance(t, tuple) else (t, t)\n",
        "\n",
        "class PostNorm(nn.Module):\n",
        "    def __init__(self, dim, fn):\n",
        "        super().__init__()\n",
        "        self.norm = nn.LayerNorm(dim)\n",
        "        self.fn = fn\n",
        "    def forward(self, x, **kwargs):\n",
        "        return self.norm( self.fn(x, **kwargs) )\n",
        "\n",
        "class PreNorm(nn.Module):\n",
        "    def __init__(self, dim, fn):\n",
        "        super().__init__()\n",
        "        self.norm = nn.LayerNorm(dim)\n",
        "        self.fn = fn\n",
        "    def forward(self, x, **kwargs):\n",
        "        return self.fn(self.norm(x), **kwargs)\n",
        "\n",
        "class FeedForward(nn.Module):\n",
        "    def __init__(self, dim, hidden_dim, dropout = 0.):\n",
        "        super().__init__()\n",
        "        self.net = nn.Sequential(\n",
        "            nn.Linear(dim, hidden_dim),\n",
        "            nn.GELU(),\n",
        "            nn.Dropout(dropout),\n",
        "            nn.Linear(hidden_dim, dim),\n",
        "            nn.Dropout(dropout)\n",
        "        )\n",
        "    def forward(self, x):\n",
        "        return self.net(x)\n",
        "\n",
        "class Attention(nn.Module):\n",
        "    def __init__(self, dim, heads = 8, dim_head = 64, dropout = 0.):\n",
        "        super().__init__()\n",
        "        inner_dim = dim_head *  heads\n",
        "        project_out = not (heads == 1 and dim_head == dim)\n",
        "\n",
        "        self.heads = heads\n",
        "        self.scale = dim_head ** -0.5\n",
        "\n",
        "        self.attend = nn.Softmax(dim = -1)\n",
        "        self.dropout = nn.Dropout(dropout)\n",
        "\n",
        "        self.to_qkv = nn.Linear(dim, inner_dim * 3, bias = False)\n",
        "\n",
        "        self.to_out = nn.Sequential(\n",
        "            nn.Linear(inner_dim, dim),\n",
        "            nn.Dropout(dropout)\n",
        "        ) if project_out else nn.Identity()\n",
        "\n",
        "    def forward(self, x):\n",
        "        qkv = self.to_qkv(x).chunk(3, dim = -1)\n",
        "        q, k, v = map(lambda t: rearrange(t, 'b n (h d) -> b h n d', h = self.heads), qkv)\n",
        "\n",
        "        dots = torch.matmul(q, k.transpose(-1, -2)) * self.scale\n",
        "\n",
        "        attn = self.attend(dots)\n",
        "        attn = self.dropout(attn)\n",
        "\n",
        "        out = torch.matmul(attn, v)\n",
        "        out = rearrange(out, 'b h n d -> b n (h d)')\n",
        "        return self.to_out(out)\n"
      ],
      "metadata": {
        "id": "PO_zbykLGED4"
      },
      "execution_count": 30,
      "outputs": []
    },
    {
      "cell_type": "markdown",
      "source": [
        "### Pre-norm"
      ],
      "metadata": {
        "id": "tbmExHfQNHee"
      }
    },
    {
      "cell_type": "code",
      "source": [
        "class Transformer_pre(nn.Module):\n",
        "    def __init__(self, dim, depth, heads, dim_head, mlp_dim, dropout = 0.):\n",
        "        super().__init__()\n",
        "        self.layers = nn.ModuleList([])\n",
        "        for _ in range(depth):\n",
        "            self.layers.append(nn.ModuleList([\n",
        "                PreNorm(dim, Attention(dim, heads = heads, dim_head = dim_head, dropout = dropout)),\n",
        "                PreNorm(dim, FeedForward(dim, mlp_dim, dropout = dropout))\n",
        "            ]))\n",
        "    def forward(self, x):\n",
        "        for attn, ff in self.layers:\n",
        "            x = attn(x) + x\n",
        "            x = ff(x) + x\n",
        "        return x"
      ],
      "metadata": {
        "id": "lIpGbA-xOjfB"
      },
      "execution_count": 35,
      "outputs": []
    },
    {
      "cell_type": "code",
      "source": [
        "class ViT_pre(nn.Module):\n",
        "    def __init__(self, *, image_size, patch_size, num_classes, dim, depth, heads, mlp_dim, pool = 'cls', channels = 3, dim_head = 64, dropout = 0., emb_dropout = 0.):\n",
        "        super().__init__()\n",
        "        image_height, image_width = pair(image_size)\n",
        "        patch_height, patch_width = pair(patch_size)\n",
        "\n",
        "        assert image_height % patch_height == 0 and image_width % patch_width == 0, 'Image dimensions must be divisible by the patch size.'\n",
        "\n",
        "        num_patches = (image_height // patch_height) * (image_width // patch_width)\n",
        "        patch_dim = channels * patch_height * patch_width\n",
        "        assert pool in {'cls', 'mean'}, 'pool type must be either cls (cls token) or mean (mean pooling)'\n",
        "\n",
        "        self.to_patch_embedding = nn.Sequential(\n",
        "            Rearrange('b c (h p1) (w p2) -> b (h w) (p1 p2 c)', p1 = patch_height, p2 = patch_width),\n",
        "            nn.LayerNorm(patch_dim),\n",
        "            nn.Linear(patch_dim, dim),\n",
        "            nn.LayerNorm(dim),\n",
        "        )\n",
        "\n",
        "        self.pos_embedding = nn.Parameter(torch.randn(1, num_patches + 1, dim))\n",
        "        self.cls_token = nn.Parameter(torch.randn(1, 1, dim))\n",
        "        self.dropout = nn.Dropout(emb_dropout)\n",
        "\n",
        "        self.transformer = Transformer_pre(dim, depth, heads, dim_head, mlp_dim, dropout)\n",
        "\n",
        "        self.pool = pool\n",
        "        self.to_latent = nn.Identity()\n",
        "\n",
        "        self.mlp_head = nn.Sequential(\n",
        "            nn.LayerNorm(dim),\n",
        "            nn.Linear(dim, num_classes)\n",
        "        )\n",
        "\n",
        "    def forward(self, img):\n",
        "        x = self.to_patch_embedding(img)\n",
        "        b, n, _ = x.shape\n",
        "\n",
        "        cls_tokens = repeat(self.cls_token, '1 1 d -> b 1 d', b = b)\n",
        "        x = torch.cat((cls_tokens, x), dim=1)\n",
        "        x += self.pos_embedding[:, :(n + 1)]\n",
        "        x = self.dropout(x)\n",
        "\n",
        "        x = self.transformer(x)\n",
        "\n",
        "        x = x.mean(dim = 1) if self.pool == 'mean' else x[:, 0]\n",
        "\n",
        "        x = self.to_latent(x)\n",
        "        return self.mlp_head(x)"
      ],
      "metadata": {
        "id": "ajqaXb7-Nfye"
      },
      "execution_count": 36,
      "outputs": []
    },
    {
      "cell_type": "markdown",
      "source": [
        "### Post-norm"
      ],
      "metadata": {
        "id": "vRgPTV02NOQq"
      }
    },
    {
      "cell_type": "code",
      "source": [
        "class Transformer_post(nn.Module):\n",
        "    def __init__(self, dim, depth, heads, dim_head, mlp_dim, dropout = 0.):\n",
        "        super().__init__()\n",
        "        self.layers = nn.ModuleList([])\n",
        "        for _ in range(depth):\n",
        "            self.layers.append(nn.ModuleList([\n",
        "                PostNorm(dim, Attention(dim, heads = heads, dim_head = dim_head, dropout = dropout)),\n",
        "                PostNorm(dim, FeedForward(dim, mlp_dim, dropout = dropout))\n",
        "            ]))\n",
        "    def forward(self, x):\n",
        "        for attn, ff in self.layers:\n",
        "            x = attn(x) + x\n",
        "            x = ff(x) + x\n",
        "        return x"
      ],
      "metadata": {
        "id": "ILMrCrUMO8e2"
      },
      "execution_count": 37,
      "outputs": []
    },
    {
      "cell_type": "code",
      "source": [
        "class ViT_post(nn.Module):\n",
        "    def __init__(self, *, image_size, patch_size, num_classes, dim, depth, heads, mlp_dim, pool = 'cls', channels = 3, dim_head = 64, dropout = 0., emb_dropout = 0.):\n",
        "        super().__init__()\n",
        "        image_height, image_width = pair(image_size)\n",
        "        patch_height, patch_width = pair(patch_size)\n",
        "\n",
        "        assert image_height % patch_height == 0 and image_width % patch_width == 0, 'Image dimensions must be divisible by the patch size.'\n",
        "\n",
        "        num_patches = (image_height // patch_height) * (image_width // patch_width)\n",
        "        patch_dim = channels * patch_height * patch_width\n",
        "        assert pool in {'cls', 'mean'}, 'pool type must be either cls (cls token) or mean (mean pooling)'\n",
        "\n",
        "        self.to_patch_embedding = nn.Sequential(\n",
        "            Rearrange('b c (h p1) (w p2) -> b (h w) (p1 p2 c)', p1 = patch_height, p2 = patch_width),\n",
        "            nn.LayerNorm(patch_dim),\n",
        "            nn.Linear(patch_dim, dim),\n",
        "            nn.LayerNorm(dim),\n",
        "        )\n",
        "\n",
        "        self.pos_embedding = nn.Parameter(torch.randn(1, num_patches + 1, dim))\n",
        "        self.cls_token = nn.Parameter(torch.randn(1, 1, dim))\n",
        "        self.dropout = nn.Dropout(emb_dropout)\n",
        "\n",
        "        self.transformer = Transformer_post(dim, depth, heads, dim_head, mlp_dim, dropout)\n",
        "\n",
        "        self.pool = pool\n",
        "        self.to_latent = nn.Identity()\n",
        "\n",
        "        self.mlp_head = nn.Sequential(\n",
        "            nn.LayerNorm(dim),\n",
        "            nn.Linear(dim, num_classes)\n",
        "        )\n",
        "\n",
        "    def forward(self, img):\n",
        "        x = self.to_patch_embedding(img)\n",
        "        b, n, _ = x.shape\n",
        "\n",
        "        cls_tokens = repeat(self.cls_token, '1 1 d -> b 1 d', b = b)\n",
        "        x = torch.cat((cls_tokens, x), dim=1)\n",
        "        x += self.pos_embedding[:, :(n + 1)]\n",
        "        x = self.dropout(x)\n",
        "\n",
        "        x = self.transformer(x)\n",
        "\n",
        "        x = x.mean(dim = 1) if self.pool == 'mean' else x[:, 0]\n",
        "\n",
        "        x = self.to_latent(x)\n",
        "        return self.mlp_head(x)"
      ],
      "metadata": {
        "id": "zvwS12i9MzB1"
      },
      "execution_count": 38,
      "outputs": []
    },
    {
      "cell_type": "markdown",
      "metadata": {
        "id": "OegdOug928X2"
      },
      "source": [
        "### Training and Accuracy (ViT)"
      ]
    },
    {
      "cell_type": "markdown",
      "source": [
        "pre-norm"
      ],
      "metadata": {
        "id": "I3O_hpv7TxMx"
      }
    },
    {
      "cell_type": "code",
      "source": [
        "model_ViT = ViT_pre(image_size=32, patch_size=4, num_classes=2, dim=32, depth=6, heads=8, mlp_dim=128, pool=\"cls\", channels=2, dim_head=32).to(device)"
      ],
      "metadata": {
        "id": "on7jKmBoQJlX"
      },
      "execution_count": 44,
      "outputs": []
    },
    {
      "cell_type": "code",
      "source": [
        "lr = 1e-3\n",
        "optimizer = optim.Adam(model_ViT.parameters(), lr=lr)\n",
        "lowest_loss = 1e4\n",
        "count = 0\n",
        "time_start = time.time()\n",
        "for t in range( 20 ):\n",
        "    print(f\"-------------Epoch {t+1}-------------\")\n",
        "    print(\"current learning rate\", lr)\n",
        "    #optimizer = optim.SGD(model.parameters(), lr=lr_list[t], momentum=0.9)\n",
        "    train_loop(train_loader, model_ViT, criterion, optimizer)\n",
        "    test_loss = test_loop_Entropy(test_loader, model_ViT, criterion)\n",
        "    if int(test_loss * 100) < lowest_loss:\n",
        "        lowest_loss = int(test_loss * 100)\n",
        "        count = 0\n",
        "    else:\n",
        "        count += 1\n",
        "    if count == 3:\n",
        "        lr /= 10\n",
        "        optimizer = optim.Adam(model_ViT.parameters(), lr=lr)\n",
        "        count = 0\n",
        "print(\"Done!\")\n",
        "time_end = time.time()\n",
        "print(\"Time Consumption\",time_end-time_start)"
      ],
      "metadata": {
        "colab": {
          "base_uri": "https://localhost:8080/"
        },
        "outputId": "b26b2b97-be73-4bd1-916a-77f313ec1c72",
        "id": "Z60ow5tRQJlY"
      },
      "execution_count": 45,
      "outputs": [
        {
          "output_type": "stream",
          "name": "stdout",
          "text": [
            "-------------Epoch 1-------------\n",
            "current learning rate 0.001\n",
            "batch: [  200], loss: 0.692\n",
            "temporary loss: 0.665314 | [100000/448200]\n",
            "batch: [  400], loss: 0.668\n",
            "temporary loss: 0.651435 | [200000/448200]\n",
            "batch: [  600], loss: 0.655\n",
            "temporary loss: 0.649895 | [300000/448200]\n",
            "batch: [  800], loss: 0.645\n",
            "temporary loss: 0.654485 | [400000/448200]\n",
            "Test Error: \n",
            " Accuracy: 62.8%\n",
            "Avg loss: 0.654310 \n",
            "\n",
            "-------------Epoch 2-------------\n",
            "current learning rate 0.001\n",
            "batch: [  200], loss: 0.633\n",
            "temporary loss: 0.595667 | [100000/448200]\n",
            "batch: [  400], loss: 0.632\n",
            "temporary loss: 0.607458 | [200000/448200]\n",
            "batch: [  600], loss: 0.623\n",
            "temporary loss: 0.637537 | [300000/448200]\n",
            "batch: [  800], loss: 0.622\n",
            "temporary loss: 0.581627 | [400000/448200]\n",
            "Test Error: \n",
            " Accuracy: 66.0%\n",
            "Avg loss: 0.625156 \n",
            "\n",
            "-------------Epoch 3-------------\n",
            "current learning rate 0.001\n",
            "batch: [  200], loss: 0.615\n",
            "temporary loss: 0.622645 | [100000/448200]\n",
            "batch: [  400], loss: 0.617\n",
            "temporary loss: 0.628382 | [200000/448200]\n",
            "batch: [  600], loss: 0.613\n",
            "temporary loss: 0.607475 | [300000/448200]\n",
            "batch: [  800], loss: 0.612\n",
            "temporary loss: 0.607268 | [400000/448200]\n",
            "Test Error: \n",
            " Accuracy: 67.5%\n",
            "Avg loss: 0.613855 \n",
            "\n",
            "-------------Epoch 4-------------\n",
            "current learning rate 0.001\n",
            "batch: [  200], loss: 0.608\n",
            "temporary loss: 0.624736 | [100000/448200]\n",
            "batch: [  400], loss: 0.605\n",
            "temporary loss: 0.597865 | [200000/448200]\n",
            "batch: [  600], loss: 0.607\n",
            "temporary loss: 0.616042 | [300000/448200]\n",
            "batch: [  800], loss: 0.605\n",
            "temporary loss: 0.611647 | [400000/448200]\n",
            "Test Error: \n",
            " Accuracy: 68.4%\n",
            "Avg loss: 0.605160 \n",
            "\n",
            "-------------Epoch 5-------------\n",
            "current learning rate 0.001\n",
            "batch: [  200], loss: 0.600\n",
            "temporary loss: 0.589345 | [100000/448200]\n",
            "batch: [  400], loss: 0.600\n",
            "temporary loss: 0.574852 | [200000/448200]\n",
            "batch: [  600], loss: 0.600\n",
            "temporary loss: 0.585639 | [300000/448200]\n",
            "batch: [  800], loss: 0.603\n",
            "temporary loss: 0.592510 | [400000/448200]\n",
            "Test Error: \n",
            " Accuracy: 68.5%\n",
            "Avg loss: 0.603625 \n",
            "\n",
            "-------------Epoch 6-------------\n",
            "current learning rate 0.001\n",
            "batch: [  200], loss: 0.595\n",
            "temporary loss: 0.556994 | [100000/448200]\n",
            "batch: [  400], loss: 0.596\n",
            "temporary loss: 0.601151 | [200000/448200]\n",
            "batch: [  600], loss: 0.596\n",
            "temporary loss: 0.582972 | [300000/448200]\n",
            "batch: [  800], loss: 0.599\n",
            "temporary loss: 0.593315 | [400000/448200]\n",
            "Test Error: \n",
            " Accuracy: 68.9%\n",
            "Avg loss: 0.601514 \n",
            "\n",
            "-------------Epoch 7-------------\n",
            "current learning rate 0.001\n",
            "batch: [  200], loss: 0.594\n",
            "temporary loss: 0.593396 | [100000/448200]\n",
            "batch: [  400], loss: 0.593\n",
            "temporary loss: 0.620332 | [200000/448200]\n",
            "batch: [  600], loss: 0.593\n",
            "temporary loss: 0.613925 | [300000/448200]\n",
            "batch: [  800], loss: 0.597\n",
            "temporary loss: 0.602353 | [400000/448200]\n",
            "Test Error: \n",
            " Accuracy: 68.9%\n",
            "Avg loss: 0.597669 \n",
            "\n",
            "-------------Epoch 8-------------\n",
            "current learning rate 0.001\n",
            "batch: [  200], loss: 0.591\n",
            "temporary loss: 0.556309 | [100000/448200]\n",
            "batch: [  400], loss: 0.592\n",
            "temporary loss: 0.579653 | [200000/448200]\n",
            "batch: [  600], loss: 0.589\n",
            "temporary loss: 0.578663 | [300000/448200]\n",
            "batch: [  800], loss: 0.593\n",
            "temporary loss: 0.595158 | [400000/448200]\n",
            "Test Error: \n",
            " Accuracy: 68.9%\n",
            "Avg loss: 0.597721 \n",
            "\n",
            "-------------Epoch 9-------------\n",
            "current learning rate 0.001\n",
            "batch: [  200], loss: 0.587\n",
            "temporary loss: 0.620846 | [100000/448200]\n",
            "batch: [  400], loss: 0.590\n",
            "temporary loss: 0.574499 | [200000/448200]\n",
            "batch: [  600], loss: 0.589\n",
            "temporary loss: 0.603515 | [300000/448200]\n",
            "batch: [  800], loss: 0.587\n",
            "temporary loss: 0.555485 | [400000/448200]\n",
            "Test Error: \n",
            " Accuracy: 69.5%\n",
            "Avg loss: 0.594713 \n",
            "\n",
            "-------------Epoch 10-------------\n",
            "current learning rate 0.001\n",
            "batch: [  200], loss: 0.585\n",
            "temporary loss: 0.599904 | [100000/448200]\n",
            "batch: [  400], loss: 0.586\n",
            "temporary loss: 0.583518 | [200000/448200]\n",
            "batch: [  600], loss: 0.586\n",
            "temporary loss: 0.589211 | [300000/448200]\n",
            "batch: [  800], loss: 0.586\n",
            "temporary loss: 0.566577 | [400000/448200]\n",
            "Test Error: \n",
            " Accuracy: 69.2%\n",
            "Avg loss: 0.595836 \n",
            "\n",
            "-------------Epoch 11-------------\n",
            "current learning rate 0.0001\n",
            "batch: [  200], loss: 0.573\n",
            "temporary loss: 0.562229 | [100000/448200]\n",
            "batch: [  400], loss: 0.573\n",
            "temporary loss: 0.565889 | [200000/448200]\n",
            "batch: [  600], loss: 0.572\n",
            "temporary loss: 0.536213 | [300000/448200]\n",
            "batch: [  800], loss: 0.571\n",
            "temporary loss: 0.555109 | [400000/448200]\n",
            "Test Error: \n",
            " Accuracy: 69.9%\n",
            "Avg loss: 0.589347 \n",
            "\n",
            "-------------Epoch 12-------------\n",
            "current learning rate 0.0001\n",
            "batch: [  200], loss: 0.567\n",
            "temporary loss: 0.603684 | [100000/448200]\n",
            "batch: [  400], loss: 0.569\n",
            "temporary loss: 0.548723 | [200000/448200]\n",
            "batch: [  600], loss: 0.570\n",
            "temporary loss: 0.573894 | [300000/448200]\n",
            "batch: [  800], loss: 0.570\n",
            "temporary loss: 0.545111 | [400000/448200]\n",
            "Test Error: \n",
            " Accuracy: 69.8%\n",
            "Avg loss: 0.589900 \n",
            "\n",
            "-------------Epoch 13-------------\n",
            "current learning rate 0.0001\n",
            "batch: [  200], loss: 0.567\n",
            "temporary loss: 0.562765 | [100000/448200]\n",
            "batch: [  400], loss: 0.567\n",
            "temporary loss: 0.579151 | [200000/448200]\n",
            "batch: [  600], loss: 0.567\n",
            "temporary loss: 0.577604 | [300000/448200]\n",
            "batch: [  800], loss: 0.566\n",
            "temporary loss: 0.565027 | [400000/448200]\n",
            "Test Error: \n",
            " Accuracy: 69.6%\n",
            "Avg loss: 0.591154 \n",
            "\n",
            "-------------Epoch 14-------------\n",
            "current learning rate 0.0001\n",
            "batch: [  200], loss: 0.566\n",
            "temporary loss: 0.561408 | [100000/448200]\n",
            "batch: [  400], loss: 0.565\n",
            "temporary loss: 0.566595 | [200000/448200]\n",
            "batch: [  600], loss: 0.566\n",
            "temporary loss: 0.593488 | [300000/448200]\n",
            "batch: [  800], loss: 0.565\n",
            "temporary loss: 0.582791 | [400000/448200]\n",
            "Test Error: \n",
            " Accuracy: 69.8%\n",
            "Avg loss: 0.589955 \n",
            "\n",
            "-------------Epoch 15-------------\n",
            "current learning rate 1e-05\n",
            "batch: [  200], loss: 0.562\n",
            "temporary loss: 0.553258 | [100000/448200]\n",
            "batch: [  400], loss: 0.561\n",
            "temporary loss: 0.555175 | [200000/448200]\n",
            "batch: [  600], loss: 0.563\n",
            "temporary loss: 0.557089 | [300000/448200]\n",
            "batch: [  800], loss: 0.563\n",
            "temporary loss: 0.558739 | [400000/448200]\n",
            "Test Error: \n",
            " Accuracy: 69.8%\n",
            "Avg loss: 0.590876 \n",
            "\n",
            "-------------Epoch 16-------------\n",
            "current learning rate 1e-05\n",
            "batch: [  200], loss: 0.562\n",
            "temporary loss: 0.575793 | [100000/448200]\n",
            "batch: [  400], loss: 0.562\n",
            "temporary loss: 0.575940 | [200000/448200]\n",
            "batch: [  600], loss: 0.563\n",
            "temporary loss: 0.552813 | [300000/448200]\n",
            "batch: [  800], loss: 0.561\n",
            "temporary loss: 0.562425 | [400000/448200]\n",
            "Test Error: \n",
            " Accuracy: 69.7%\n",
            "Avg loss: 0.591249 \n",
            "\n",
            "-------------Epoch 17-------------\n",
            "current learning rate 1e-05\n",
            "batch: [  200], loss: 0.562\n",
            "temporary loss: 0.533898 | [100000/448200]\n",
            "batch: [  400], loss: 0.561\n",
            "temporary loss: 0.578933 | [200000/448200]\n",
            "batch: [  600], loss: 0.562\n",
            "temporary loss: 0.544974 | [300000/448200]\n",
            "batch: [  800], loss: 0.560\n",
            "temporary loss: 0.547923 | [400000/448200]\n",
            "Test Error: \n",
            " Accuracy: 69.7%\n",
            "Avg loss: 0.591588 \n",
            "\n",
            "-------------Epoch 18-------------\n",
            "current learning rate 1.0000000000000002e-06\n",
            "batch: [  200], loss: 0.562\n",
            "temporary loss: 0.563159 | [100000/448200]\n",
            "batch: [  400], loss: 0.560\n",
            "temporary loss: 0.563933 | [200000/448200]\n",
            "batch: [  600], loss: 0.562\n",
            "temporary loss: 0.548853 | [300000/448200]\n",
            "batch: [  800], loss: 0.561\n",
            "temporary loss: 0.569390 | [400000/448200]\n",
            "Test Error: \n",
            " Accuracy: 69.8%\n",
            "Avg loss: 0.591577 \n",
            "\n",
            "-------------Epoch 19-------------\n",
            "current learning rate 1.0000000000000002e-06\n",
            "batch: [  200], loss: 0.560\n",
            "temporary loss: 0.537618 | [100000/448200]\n",
            "batch: [  400], loss: 0.564\n",
            "temporary loss: 0.603268 | [200000/448200]\n",
            "batch: [  600], loss: 0.561\n",
            "temporary loss: 0.526007 | [300000/448200]\n",
            "batch: [  800], loss: 0.563\n",
            "temporary loss: 0.549683 | [400000/448200]\n",
            "Test Error: \n",
            " Accuracy: 69.7%\n",
            "Avg loss: 0.591603 \n",
            "\n",
            "-------------Epoch 20-------------\n",
            "current learning rate 1.0000000000000002e-06\n",
            "batch: [  200], loss: 0.562\n",
            "temporary loss: 0.538146 | [100000/448200]\n",
            "batch: [  400], loss: 0.561\n",
            "temporary loss: 0.578592 | [200000/448200]\n",
            "batch: [  600], loss: 0.561\n",
            "temporary loss: 0.556156 | [300000/448200]\n",
            "batch: [  800], loss: 0.561\n",
            "temporary loss: 0.552808 | [400000/448200]\n",
            "Test Error: \n",
            " Accuracy: 69.7%\n",
            "Avg loss: 0.591633 \n",
            "\n",
            "Done!\n",
            "Time Consumption 862.4808888435364\n"
          ]
        }
      ]
    },
    {
      "cell_type": "code",
      "execution_count": 46,
      "metadata": {
        "id": "2e-sO85lQOd0"
      },
      "outputs": [],
      "source": [
        "path = \"./gdrive/MyDrive/CMS_model/DIY_ViT_pre_norm_weights.pth\"\n",
        "torch.save(model_ViT.state_dict(), path)"
      ]
    },
    {
      "cell_type": "code",
      "execution_count": null,
      "metadata": {
        "colab": {
          "base_uri": "https://localhost:8080/"
        },
        "outputId": "e40c99c6-8833-47f4-9162-6d366ff10829",
        "id": "ATXwl_-MQOd1"
      },
      "outputs": [
        {
          "data": {
            "text/plain": [
              "<All keys matched successfully>"
            ]
          },
          "execution_count": 24,
          "metadata": {},
          "output_type": "execute_result"
        }
      ],
      "source": [
        "path = \"./gdrive/MyDrive/CMS_model/DIY_ViT_pre_norm_weights.pth\"\n",
        "model_ViT.load_state_dict( torch.load(path) )"
      ]
    },
    {
      "cell_type": "markdown",
      "source": [
        "Post-norm"
      ],
      "metadata": {
        "id": "SlJREoeKPVDD"
      }
    },
    {
      "cell_type": "code",
      "source": [
        "model_ViT = ViT_post(image_size=32, patch_size=4, num_classes=2, dim=32, depth=6, heads=8, mlp_dim=128, pool=\"cls\", channels=2, dim_head=32).to(device)"
      ],
      "metadata": {
        "id": "ffuuDWfuFnMj"
      },
      "execution_count": 48,
      "outputs": []
    },
    {
      "cell_type": "code",
      "source": [
        "lr = 1e-3\n",
        "optimizer = optim.Adam(model_ViT.parameters(), lr=lr)\n",
        "lowest_loss = 1e4\n",
        "count = 0\n",
        "time_start = time.time()\n",
        "for t in range( 20 ):\n",
        "    print(f\"-------------Epoch {t+1}-------------\")\n",
        "    print(\"current learning rate\", lr)\n",
        "    #optimizer = optim.SGD(model.parameters(), lr=lr_list[t], momentum=0.9)\n",
        "    train_loop(train_loader, model_ViT, criterion, optimizer)\n",
        "    test_loss = test_loop_Entropy(test_loader, model_ViT, criterion)\n",
        "    if int(test_loss * 100) < lowest_loss:\n",
        "        lowest_loss = int(test_loss * 100)\n",
        "        count = 0\n",
        "    else:\n",
        "        count += 1\n",
        "    if count == 3:\n",
        "        lr /= 10\n",
        "        optimizer = optim.Adam(model_ViT.parameters(), lr=lr)\n",
        "        count = 0\n",
        "print(\"Done!\")\n",
        "time_end = time.time()\n",
        "print(\"Time Consumption\",time_end-time_start)"
      ],
      "metadata": {
        "colab": {
          "base_uri": "https://localhost:8080/"
        },
        "id": "MamnPPqY6C-y",
        "outputId": "acac2f84-02b5-4b66-b2e2-120841545486"
      },
      "execution_count": 42,
      "outputs": [
        {
          "output_type": "stream",
          "name": "stdout",
          "text": [
            "-------------Epoch 1-------------\n",
            "current learning rate 0.001\n",
            "batch: [  200], loss: 0.690\n",
            "temporary loss: 0.674187 | [100000/448200]\n",
            "batch: [  400], loss: 0.664\n",
            "temporary loss: 0.666566 | [200000/448200]\n",
            "batch: [  600], loss: 0.653\n",
            "temporary loss: 0.645730 | [300000/448200]\n",
            "batch: [  800], loss: 0.645\n",
            "temporary loss: 0.652268 | [400000/448200]\n",
            "Test Error: \n",
            " Accuracy: 64.4%\n",
            "Avg loss: 0.636669 \n",
            "\n",
            "-------------Epoch 2-------------\n",
            "current learning rate 0.001\n",
            "batch: [  200], loss: 0.634\n",
            "temporary loss: 0.647865 | [100000/448200]\n",
            "batch: [  400], loss: 0.632\n",
            "temporary loss: 0.622703 | [200000/448200]\n",
            "batch: [  600], loss: 0.627\n",
            "temporary loss: 0.567416 | [300000/448200]\n",
            "batch: [  800], loss: 0.626\n",
            "temporary loss: 0.621813 | [400000/448200]\n",
            "Test Error: \n",
            " Accuracy: 66.2%\n",
            "Avg loss: 0.622499 \n",
            "\n",
            "-------------Epoch 3-------------\n",
            "current learning rate 0.001\n",
            "batch: [  200], loss: 0.622\n",
            "temporary loss: 0.627090 | [100000/448200]\n",
            "batch: [  400], loss: 0.618\n",
            "temporary loss: 0.612087 | [200000/448200]\n",
            "batch: [  600], loss: 0.616\n",
            "temporary loss: 0.628523 | [300000/448200]\n",
            "batch: [  800], loss: 0.614\n",
            "temporary loss: 0.622118 | [400000/448200]\n",
            "Test Error: \n",
            " Accuracy: 67.4%\n",
            "Avg loss: 0.614864 \n",
            "\n",
            "-------------Epoch 4-------------\n",
            "current learning rate 0.001\n",
            "batch: [  200], loss: 0.612\n",
            "temporary loss: 0.603884 | [100000/448200]\n",
            "batch: [  400], loss: 0.610\n",
            "temporary loss: 0.614592 | [200000/448200]\n",
            "batch: [  600], loss: 0.612\n",
            "temporary loss: 0.626439 | [300000/448200]\n",
            "batch: [  800], loss: 0.610\n",
            "temporary loss: 0.612225 | [400000/448200]\n",
            "Test Error: \n",
            " Accuracy: 67.7%\n",
            "Avg loss: 0.611186 \n",
            "\n",
            "-------------Epoch 5-------------\n",
            "current learning rate 0.001\n",
            "batch: [  200], loss: 0.608\n",
            "temporary loss: 0.600868 | [100000/448200]\n",
            "batch: [  400], loss: 0.605\n",
            "temporary loss: 0.585909 | [200000/448200]\n",
            "batch: [  600], loss: 0.604\n",
            "temporary loss: 0.615064 | [300000/448200]\n",
            "batch: [  800], loss: 0.604\n",
            "temporary loss: 0.607842 | [400000/448200]\n",
            "Test Error: \n",
            " Accuracy: 68.3%\n",
            "Avg loss: 0.605598 \n",
            "\n",
            "-------------Epoch 6-------------\n",
            "current learning rate 0.001\n",
            "batch: [  200], loss: 0.600\n",
            "temporary loss: 0.618415 | [100000/448200]\n",
            "batch: [  400], loss: 0.601\n",
            "temporary loss: 0.628819 | [200000/448200]\n",
            "batch: [  600], loss: 0.603\n",
            "temporary loss: 0.578703 | [300000/448200]\n",
            "batch: [  800], loss: 0.602\n",
            "temporary loss: 0.576186 | [400000/448200]\n",
            "Test Error: \n",
            " Accuracy: 68.3%\n",
            "Avg loss: 0.605280 \n",
            "\n",
            "-------------Epoch 7-------------\n",
            "current learning rate 0.001\n",
            "batch: [  200], loss: 0.600\n",
            "temporary loss: 0.584241 | [100000/448200]\n",
            "batch: [  400], loss: 0.598\n",
            "temporary loss: 0.605396 | [200000/448200]\n",
            "batch: [  600], loss: 0.598\n",
            "temporary loss: 0.602137 | [300000/448200]\n",
            "batch: [  800], loss: 0.597\n",
            "temporary loss: 0.580077 | [400000/448200]\n",
            "Test Error: \n",
            " Accuracy: 68.8%\n",
            "Avg loss: 0.599791 \n",
            "\n",
            "-------------Epoch 8-------------\n",
            "current learning rate 0.001\n",
            "batch: [  200], loss: 0.595\n",
            "temporary loss: 0.602078 | [100000/448200]\n",
            "batch: [  400], loss: 0.595\n",
            "temporary loss: 0.596594 | [200000/448200]\n",
            "batch: [  600], loss: 0.597\n",
            "temporary loss: 0.557940 | [300000/448200]\n",
            "batch: [  800], loss: 0.594\n",
            "temporary loss: 0.577474 | [400000/448200]\n",
            "Test Error: \n",
            " Accuracy: 69.3%\n",
            "Avg loss: 0.596571 \n",
            "\n",
            "-------------Epoch 9-------------\n",
            "current learning rate 0.001\n",
            "batch: [  200], loss: 0.594\n",
            "temporary loss: 0.558967 | [100000/448200]\n",
            "batch: [  400], loss: 0.595\n",
            "temporary loss: 0.594534 | [200000/448200]\n",
            "batch: [  600], loss: 0.592\n",
            "temporary loss: 0.566094 | [300000/448200]\n",
            "batch: [  800], loss: 0.592\n",
            "temporary loss: 0.598879 | [400000/448200]\n",
            "Test Error: \n",
            " Accuracy: 68.7%\n",
            "Avg loss: 0.604568 \n",
            "\n",
            "-------------Epoch 10-------------\n",
            "current learning rate 0.001\n",
            "batch: [  200], loss: 0.592\n",
            "temporary loss: 0.543222 | [100000/448200]\n",
            "batch: [  400], loss: 0.592\n",
            "temporary loss: 0.597787 | [200000/448200]\n",
            "batch: [  600], loss: 0.592\n",
            "temporary loss: 0.557530 | [300000/448200]\n",
            "batch: [  800], loss: 0.591\n",
            "temporary loss: 0.589213 | [400000/448200]\n",
            "Test Error: \n",
            " Accuracy: 69.3%\n",
            "Avg loss: 0.596389 \n",
            "\n",
            "-------------Epoch 11-------------\n",
            "current learning rate 0.0001\n",
            "batch: [  200], loss: 0.582\n",
            "temporary loss: 0.581759 | [100000/448200]\n",
            "batch: [  400], loss: 0.580\n",
            "temporary loss: 0.594523 | [200000/448200]\n",
            "batch: [  600], loss: 0.581\n",
            "temporary loss: 0.582799 | [300000/448200]\n",
            "batch: [  800], loss: 0.581\n",
            "temporary loss: 0.583220 | [400000/448200]\n",
            "Test Error: \n",
            " Accuracy: 70.0%\n",
            "Avg loss: 0.589420 \n",
            "\n",
            "-------------Epoch 12-------------\n",
            "current learning rate 0.0001\n",
            "batch: [  200], loss: 0.579\n",
            "temporary loss: 0.568564 | [100000/448200]\n",
            "batch: [  400], loss: 0.578\n",
            "temporary loss: 0.575166 | [200000/448200]\n",
            "batch: [  600], loss: 0.576\n",
            "temporary loss: 0.591987 | [300000/448200]\n",
            "batch: [  800], loss: 0.579\n",
            "temporary loss: 0.569382 | [400000/448200]\n",
            "Test Error: \n",
            " Accuracy: 70.0%\n",
            "Avg loss: 0.588119 \n",
            "\n",
            "-------------Epoch 13-------------\n",
            "current learning rate 0.0001\n",
            "batch: [  200], loss: 0.579\n",
            "temporary loss: 0.580789 | [100000/448200]\n",
            "batch: [  400], loss: 0.576\n",
            "temporary loss: 0.566724 | [200000/448200]\n",
            "batch: [  600], loss: 0.577\n",
            "temporary loss: 0.578888 | [300000/448200]\n",
            "batch: [  800], loss: 0.578\n",
            "temporary loss: 0.616859 | [400000/448200]\n",
            "Test Error: \n",
            " Accuracy: 69.9%\n",
            "Avg loss: 0.588288 \n",
            "\n",
            "-------------Epoch 14-------------\n",
            "current learning rate 0.0001\n",
            "batch: [  200], loss: 0.576\n",
            "temporary loss: 0.571008 | [100000/448200]\n",
            "batch: [  400], loss: 0.575\n",
            "temporary loss: 0.555593 | [200000/448200]\n",
            "batch: [  600], loss: 0.576\n",
            "temporary loss: 0.600369 | [300000/448200]\n",
            "batch: [  800], loss: 0.575\n",
            "temporary loss: 0.547621 | [400000/448200]\n",
            "Test Error: \n",
            " Accuracy: 69.8%\n",
            "Avg loss: 0.589043 \n",
            "\n",
            "-------------Epoch 15-------------\n",
            "current learning rate 1e-05\n",
            "batch: [  200], loss: 0.571\n",
            "temporary loss: 0.559766 | [100000/448200]\n",
            "batch: [  400], loss: 0.573\n",
            "temporary loss: 0.589434 | [200000/448200]\n",
            "batch: [  600], loss: 0.573\n",
            "temporary loss: 0.532087 | [300000/448200]\n",
            "batch: [  800], loss: 0.574\n",
            "temporary loss: 0.568937 | [400000/448200]\n",
            "Test Error: \n",
            " Accuracy: 69.8%\n",
            "Avg loss: 0.587904 \n",
            "\n",
            "-------------Epoch 16-------------\n",
            "current learning rate 1e-05\n",
            "batch: [  200], loss: 0.572\n",
            "temporary loss: 0.587954 | [100000/448200]\n",
            "batch: [  400], loss: 0.572\n",
            "temporary loss: 0.581788 | [200000/448200]\n",
            "batch: [  600], loss: 0.572\n",
            "temporary loss: 0.630443 | [300000/448200]\n",
            "batch: [  800], loss: 0.575\n",
            "temporary loss: 0.558955 | [400000/448200]\n",
            "Test Error: \n",
            " Accuracy: 69.9%\n",
            "Avg loss: 0.587824 \n",
            "\n",
            "-------------Epoch 17-------------\n",
            "current learning rate 1e-05\n",
            "batch: [  200], loss: 0.574\n",
            "temporary loss: 0.560816 | [100000/448200]\n",
            "batch: [  400], loss: 0.572\n",
            "temporary loss: 0.535443 | [200000/448200]\n",
            "batch: [  600], loss: 0.572\n",
            "temporary loss: 0.591409 | [300000/448200]\n",
            "batch: [  800], loss: 0.572\n",
            "temporary loss: 0.560483 | [400000/448200]\n",
            "Test Error: \n",
            " Accuracy: 69.8%\n",
            "Avg loss: 0.587941 \n",
            "\n",
            "-------------Epoch 18-------------\n",
            "current learning rate 1.0000000000000002e-06\n",
            "batch: [  200], loss: 0.573\n",
            "temporary loss: 0.588249 | [100000/448200]\n",
            "batch: [  400], loss: 0.573\n",
            "temporary loss: 0.539778 | [200000/448200]\n",
            "batch: [  600], loss: 0.573\n",
            "temporary loss: 0.554891 | [300000/448200]\n",
            "batch: [  800], loss: 0.570\n",
            "temporary loss: 0.564472 | [400000/448200]\n",
            "Test Error: \n",
            " Accuracy: 69.8%\n",
            "Avg loss: 0.587888 \n",
            "\n",
            "-------------Epoch 19-------------\n",
            "current learning rate 1.0000000000000002e-06\n",
            "batch: [  200], loss: 0.574\n",
            "temporary loss: 0.587593 | [100000/448200]\n",
            "batch: [  400], loss: 0.571\n",
            "temporary loss: 0.567237 | [200000/448200]\n",
            "batch: [  600], loss: 0.571\n",
            "temporary loss: 0.584701 | [300000/448200]\n",
            "batch: [  800], loss: 0.573\n",
            "temporary loss: 0.577682 | [400000/448200]\n",
            "Test Error: \n",
            " Accuracy: 69.9%\n",
            "Avg loss: 0.587887 \n",
            "\n",
            "-------------Epoch 20-------------\n",
            "current learning rate 1.0000000000000002e-06\n",
            "batch: [  200], loss: 0.573\n",
            "temporary loss: 0.578803 | [100000/448200]\n",
            "batch: [  400], loss: 0.572\n",
            "temporary loss: 0.568586 | [200000/448200]\n",
            "batch: [  600], loss: 0.573\n",
            "temporary loss: 0.565751 | [300000/448200]\n",
            "batch: [  800], loss: 0.571\n",
            "temporary loss: 0.577417 | [400000/448200]\n",
            "Test Error: \n",
            " Accuracy: 69.9%\n",
            "Avg loss: 0.587884 \n",
            "\n",
            "Done!\n",
            "Time Consumption 864.0547332763672\n"
          ]
        }
      ]
    },
    {
      "cell_type": "code",
      "execution_count": 43,
      "metadata": {
        "id": "JxwnUG1uB3qz"
      },
      "outputs": [],
      "source": [
        "path = \"./gdrive/MyDrive/CMS_model/DIY_ViT_post_norm_weights01.pth\"\n",
        "torch.save(model_ViT.state_dict(), path)"
      ]
    },
    {
      "cell_type": "code",
      "execution_count": 50,
      "metadata": {
        "colab": {
          "base_uri": "https://localhost:8080/"
        },
        "id": "LStD3Rj1xDDJ",
        "outputId": "1ef7ed3a-3b96-4dbd-f535-116864aac96c"
      },
      "outputs": [
        {
          "output_type": "execute_result",
          "data": {
            "text/plain": [
              "<All keys matched successfully>"
            ]
          },
          "metadata": {},
          "execution_count": 50
        }
      ],
      "source": [
        "path = \"./gdrive/MyDrive/CMS_model/DIY_ViT_post_norm_weights01.pth\"\n",
        "model_ViT.load_state_dict( torch.load(path) )"
      ]
    },
    {
      "cell_type": "markdown",
      "metadata": {
        "id": "W3WUfRD6u0kh"
      },
      "source": [
        "### ROC-AUC (ViT, post-norm)"
      ]
    },
    {
      "cell_type": "code",
      "execution_count": 51,
      "metadata": {
        "colab": {
          "base_uri": "https://localhost:8080/"
        },
        "id": "F9Oa6-wVbPji",
        "outputId": "035b4f04-ce0e-43ce-bc02-3420aed409a8"
      },
      "outputs": [
        {
          "output_type": "stream",
          "name": "stdout",
          "text": [
            "Process: 0.0\\%\n",
            "Process: 25.0\\%\n",
            "Process: 50.0\\%\n",
            "Process: 75.0\\%\n"
          ]
        }
      ],
      "source": [
        "total_prob_ViT, total_label_ViT = test_loop_prob(test_loader, model_ViT)\n",
        "fpr, tpr, thresholds = metrics.roc_curve(total_label_ViT, total_prob_ViT)\n",
        "ViT_AUC_1 = metrics.roc_auc_score(total_label_ViT, total_prob_ViT)"
      ]
    },
    {
      "cell_type": "code",
      "execution_count": 52,
      "metadata": {
        "colab": {
          "base_uri": "https://localhost:8080/"
        },
        "id": "C6LsmkkObPjj",
        "outputId": "23969ade-64d7-4aaa-c456-274ecbcc1488"
      },
      "outputs": [
        {
          "output_type": "stream",
          "name": "stdout",
          "text": [
            "The ROC-AUC score of Post-norm ViTis: 0.7560649162172641\n"
          ]
        }
      ],
      "source": [
        "print(\"The ROC-AUC score of Post-norm ViTis:\", ViT_AUC_1)"
      ]
    },
    {
      "cell_type": "code",
      "execution_count": 53,
      "metadata": {
        "colab": {
          "base_uri": "https://localhost:8080/",
          "height": 472
        },
        "id": "MkfD04z3bPjj",
        "outputId": "ed5f89e5-7362-4549-ff5e-9d3ea782bd89"
      },
      "outputs": [
        {
          "output_type": "display_data",
          "data": {
            "text/plain": [
              "<Figure size 640x480 with 1 Axes>"
            ],
            "image/png": "[encoded data removed]"
          },
          "metadata": {}
        }
      ],
      "source": [
        "plt.plot(fpr, tpr, \"--\", color=\"magenta\")\n",
        "#plt.plot([0,1],[0,1],\"--\")\n",
        "plt.grid()\n",
        "plt.xlabel(\"False Positive Rate\")\n",
        "plt.ylabel(\"True Positive Rate\")\n",
        "plt.title(\"ROC curve for Post-norm ViT\")\n",
        "plt.show()"
      ]
    },
    {
      "cell_type": "markdown",
      "source": [
        "## IV. MLP-mixer\n",
        "The MLP-mixer architecture comes from https://arxiv.org/abs/2105.01601 . We implement this architecture.\n",
        "\n",
        "Batch size: 200\n",
        "\n",
        "Training on: A100 GPU\n",
        "\n",
        "Learning Rate: if the test loss isn't improved for three consecutive epochs, the learning rate will be reduced by a factor of ten.\n",
        "\n",
        "Optimizer: Adam\n",
        "\n",
        "Test Accuracy: 70.0%\n",
        "\n",
        "ROC-AUC score: 0.76\n",
        "\n",
        "MLP-mixer has comparable performance with ViT."
      ],
      "metadata": {
        "id": "erASHLeXQfff"
      }
    },
    {
      "cell_type": "code",
      "execution_count": 16,
      "metadata": {
        "id": "5RyOV8lArlbi"
      },
      "outputs": [],
      "source": [
        "train_set = MyDataset(shuffle_list=shuffle_list, train=True, transform=my_transform_normal)\n",
        "train_loader =  DataLoader(train_set, batch_size=200, shuffle=True)"
      ]
    },
    {
      "cell_type": "code",
      "execution_count": 17,
      "metadata": {
        "id": "ZmXeG5j0rlbs"
      },
      "outputs": [],
      "source": [
        "test_set = MyDataset(shuffle_list=shuffle_list, train=False, transform=my_transform_normal)\n",
        "test_loader =  DataLoader(test_set, batch_size=200, shuffle=False)"
      ]
    },
    {
      "cell_type": "code",
      "source": [
        "def pair(t):\n",
        "    return t if isinstance(t, tuple) else (t, t)\n",
        "\n",
        "class PostNorm(nn.Module):\n",
        "    def __init__(self, dim, fn):\n",
        "        super().__init__()\n",
        "        self.norm = nn.LayerNorm(dim)\n",
        "        self.fn = fn\n",
        "    def forward(self, x, **kwargs):\n",
        "        return self.norm( self.fn(x, **kwargs) )\n",
        "\n",
        "class PreNorm(nn.Module):\n",
        "    def __init__(self, dim, fn):\n",
        "        super().__init__()\n",
        "        self.norm = nn.LayerNorm(dim)\n",
        "        self.fn = fn\n",
        "    def forward(self, x, **kwargs):\n",
        "        return self.fn(self.norm(x), **kwargs)"
      ],
      "metadata": {
        "id": "x90y8oc_Z2E8"
      },
      "execution_count": 18,
      "outputs": []
    },
    {
      "cell_type": "code",
      "source": [
        "class MixerBlock(nn.Module):\n",
        "    def __init__(self, patch_dim, MLP_dim1):\n",
        "        super().__init__()\n",
        "\n",
        "        self.MLP1 = nn.Sequential(\n",
        "            nn.Linear(patch_dim, MLP_dim1),\n",
        "            nn.GELU(),\n",
        "            nn.Linear(MLP_dim1, patch_dim),\n",
        "        )\n",
        "\n",
        "    def forward(self, x):\n",
        "\n",
        "        x = rearrange(x, \"b n p -> b p n\")\n",
        "        x = self.MLP1(x)\n",
        "        x = rearrange(x, \"b p n -> b n p\")\n",
        "\n",
        "        return x\n",
        "\n",
        "class MLPBlock(nn.Module):\n",
        "    def __init__(self, dim, MLP_dim2):\n",
        "        super().__init__()\n",
        "\n",
        "        self.MLP2 = nn.Sequential(\n",
        "            nn.Linear(dim, MLP_dim2),\n",
        "            nn.GELU(),\n",
        "            nn.Linear(MLP_dim2, dim),\n",
        "        )\n",
        "\n",
        "    def forward(self, x):\n",
        "\n",
        "        x = self.MLP2(x)\n",
        "\n",
        "        return x"
      ],
      "metadata": {
        "id": "QjCHXHGtQ4Pd"
      },
      "execution_count": 19,
      "outputs": []
    },
    {
      "cell_type": "code",
      "source": [
        "class Transformer_post(nn.Module):\n",
        "    def __init__(self, dim, patch_dim, depth, MLP_dim1, MLP_dim2):\n",
        "        super().__init__()\n",
        "        self.layers = nn.ModuleList([])\n",
        "        for _ in range(depth):\n",
        "            self.layers.append(nn.ModuleList([\n",
        "                PostNorm(dim, MixerBlock(patch_dim, MLP_dim1) ),\n",
        "                PostNorm(dim, MLPBlock(dim, MLP_dim2) )\n",
        "            ]))\n",
        "    def forward(self, x):\n",
        "        for mixer, ff in self.layers:\n",
        "            x = mixer(x) + x\n",
        "            x = ff(x) + x\n",
        "        return x"
      ],
      "metadata": {
        "id": "iBmilkw2aKtN"
      },
      "execution_count": 20,
      "outputs": []
    },
    {
      "cell_type": "code",
      "source": [
        "class MLP_mixer_post(nn.Module):\n",
        "    def __init__(self, *, image_size, patch_size, num_classes, dim, depth, MLP_dim1, MLP_dim2, pool = 'cls', channels = 3):\n",
        "        super().__init__()\n",
        "        image_height, image_width = pair(image_size)\n",
        "        patch_height, patch_width = pair(patch_size)\n",
        "\n",
        "        assert image_height % patch_height == 0 and image_width % patch_width == 0, 'Image dimensions must be divisible by the patch size.'\n",
        "\n",
        "        num_patches = (image_height // patch_height) * (image_width // patch_width)\n",
        "        patch_dim = channels * patch_height * patch_width\n",
        "        assert pool in {'cls', 'mean'}, 'pool type must be either cls (cls token) or mean (mean pooling)'\n",
        "\n",
        "        self.to_patch_embedding = nn.Sequential(\n",
        "            Rearrange('b c (h p1) (w p2) -> b (h w) (p1 p2 c)', p1 = patch_height, p2 = patch_width),\n",
        "            nn.LayerNorm(patch_dim),\n",
        "            nn.Linear(patch_dim, dim),\n",
        "            nn.LayerNorm(dim),\n",
        "        )\n",
        "\n",
        "        self.pos_embedding = nn.Parameter(torch.randn(1, num_patches + 1, dim))\n",
        "        self.cls_token = nn.Parameter(torch.randn(1, 1, dim))\n",
        "\n",
        "        self.transformer = Transformer_post(dim, num_patches + 1, depth, MLP_dim1, MLP_dim2)\n",
        "\n",
        "        self.pool = pool\n",
        "        self.to_latent = nn.Identity()\n",
        "\n",
        "        self.mlp_head = nn.Sequential(\n",
        "            nn.LayerNorm(dim),\n",
        "            nn.Linear(dim, num_classes)\n",
        "        )\n",
        "\n",
        "    def forward(self, img):\n",
        "        x = self.to_patch_embedding(img)\n",
        "        b, n, _ = x.shape\n",
        "\n",
        "        cls_tokens = repeat(self.cls_token, '1 1 d -> b 1 d', b = b)\n",
        "        x = torch.cat((cls_tokens, x), dim=1)\n",
        "        x += self.pos_embedding[:, :(n + 1)]\n",
        "\n",
        "        x = self.transformer(x)\n",
        "\n",
        "        x = x.mean(dim = 1) if self.pool == 'mean' else x[:, 0]\n",
        "\n",
        "        x = self.to_latent(x)\n",
        "        return self.mlp_head(x)"
      ],
      "metadata": {
        "id": "5VAMGGxMaKtN"
      },
      "execution_count": 21,
      "outputs": []
    },
    {
      "cell_type": "code",
      "source": [
        "model_mixer = MLP_mixer_post(image_size=32, patch_size=4, num_classes=2, dim=32, depth=6, MLP_dim1=128, MLP_dim2=128, channels=2).to(device)"
      ],
      "metadata": {
        "id": "NX3MblD3ZQN1"
      },
      "execution_count": 22,
      "outputs": []
    },
    {
      "cell_type": "code",
      "source": [
        "lr = 1e-3\n",
        "optimizer = optim.Adam(model_mixer.parameters(), lr=lr)\n",
        "lowest_loss = 1e4\n",
        "count = 0\n",
        "time_start = time.time()\n",
        "for t in range( 20 ):\n",
        "    print(f\"-------------Epoch {t+1}-------------\")\n",
        "    print(\"current learning rate\", lr)\n",
        "    #optimizer = optim.SGD(model.parameters(), lr=lr_list[t], momentum=0.9)\n",
        "    train_loop(train_loader, model_mixer, criterion, optimizer)\n",
        "    test_loss = test_loop_Entropy(test_loader, model_mixer, criterion)\n",
        "    if int(test_loss * 100) < lowest_loss:\n",
        "        lowest_loss = int(test_loss * 100)\n",
        "        count = 0\n",
        "    else:\n",
        "        count += 1\n",
        "    if count == 3:\n",
        "        lr /= 10\n",
        "        optimizer = optim.Adam(model_mixer.parameters(), lr=lr)\n",
        "        count = 0\n",
        "print(\"Done!\")\n",
        "time_end = time.time()\n",
        "print(\"Time Consumption\",time_end-time_start)"
      ],
      "metadata": {
        "colab": {
          "base_uri": "https://localhost:8080/"
        },
        "outputId": "d6766c3a-502e-4a1e-8c84-5e1c557b02c7",
        "id": "plP0H03SdVCs"
      },
      "execution_count": 23,
      "outputs": [
        {
          "output_type": "stream",
          "name": "stdout",
          "text": [
            "-------------Epoch 1-------------\n",
            "current learning rate 0.001\n",
            "batch: [  200], loss: 0.698\n",
            "temporary loss: 0.673596 | [40000/448200]\n",
            "batch: [  400], loss: 0.676\n",
            "temporary loss: 0.652516 | [80000/448200]\n",
            "batch: [  600], loss: 0.662\n",
            "temporary loss: 0.648319 | [120000/448200]\n",
            "batch: [  800], loss: 0.655\n",
            "temporary loss: 0.635867 | [160000/448200]\n",
            "batch: [ 1000], loss: 0.653\n",
            "temporary loss: 0.645348 | [200000/448200]\n",
            "batch: [ 1200], loss: 0.650\n",
            "temporary loss: 0.615312 | [240000/448200]\n",
            "batch: [ 1400], loss: 0.645\n",
            "temporary loss: 0.638919 | [280000/448200]\n",
            "batch: [ 1600], loss: 0.641\n",
            "temporary loss: 0.662458 | [320000/448200]\n",
            "batch: [ 1800], loss: 0.640\n",
            "temporary loss: 0.638867 | [360000/448200]\n",
            "batch: [ 2000], loss: 0.636\n",
            "temporary loss: 0.640229 | [400000/448200]\n",
            "batch: [ 2200], loss: 0.635\n",
            "temporary loss: 0.604948 | [440000/448200]\n",
            "Test Error: \n",
            " Accuracy: 64.9%\n",
            "Avg loss: 0.636690 \n",
            "\n",
            "-------------Epoch 2-------------\n",
            "current learning rate 0.001\n",
            "batch: [  200], loss: 0.632\n",
            "temporary loss: 0.604990 | [40000/448200]\n",
            "batch: [  400], loss: 0.630\n",
            "temporary loss: 0.601341 | [80000/448200]\n",
            "batch: [  600], loss: 0.630\n",
            "temporary loss: 0.636741 | [120000/448200]\n",
            "batch: [  800], loss: 0.626\n",
            "temporary loss: 0.693910 | [160000/448200]\n",
            "batch: [ 1000], loss: 0.622\n",
            "temporary loss: 0.632573 | [200000/448200]\n",
            "batch: [ 1200], loss: 0.623\n",
            "temporary loss: 0.590176 | [240000/448200]\n",
            "batch: [ 1400], loss: 0.624\n",
            "temporary loss: 0.583711 | [280000/448200]\n",
            "batch: [ 1600], loss: 0.624\n",
            "temporary loss: 0.688180 | [320000/448200]\n",
            "batch: [ 1800], loss: 0.622\n",
            "temporary loss: 0.613796 | [360000/448200]\n",
            "batch: [ 2000], loss: 0.620\n",
            "temporary loss: 0.611694 | [400000/448200]\n",
            "batch: [ 2200], loss: 0.619\n",
            "temporary loss: 0.589800 | [440000/448200]\n",
            "Test Error: \n",
            " Accuracy: 67.0%\n",
            "Avg loss: 0.615855 \n",
            "\n",
            "-------------Epoch 3-------------\n",
            "current learning rate 0.001\n",
            "batch: [  200], loss: 0.617\n",
            "temporary loss: 0.600717 | [40000/448200]\n",
            "batch: [  400], loss: 0.617\n",
            "temporary loss: 0.630171 | [80000/448200]\n",
            "batch: [  600], loss: 0.617\n",
            "temporary loss: 0.614983 | [120000/448200]\n",
            "batch: [  800], loss: 0.616\n",
            "temporary loss: 0.623372 | [160000/448200]\n",
            "batch: [ 1000], loss: 0.611\n",
            "temporary loss: 0.607619 | [200000/448200]\n",
            "batch: [ 1200], loss: 0.615\n",
            "temporary loss: 0.632664 | [240000/448200]\n",
            "batch: [ 1400], loss: 0.612\n",
            "temporary loss: 0.613603 | [280000/448200]\n",
            "batch: [ 1600], loss: 0.612\n",
            "temporary loss: 0.590771 | [320000/448200]\n",
            "batch: [ 1800], loss: 0.613\n",
            "temporary loss: 0.611952 | [360000/448200]\n",
            "batch: [ 2000], loss: 0.611\n",
            "temporary loss: 0.651997 | [400000/448200]\n",
            "batch: [ 2200], loss: 0.611\n",
            "temporary loss: 0.622481 | [440000/448200]\n",
            "Test Error: \n",
            " Accuracy: 67.4%\n",
            "Avg loss: 0.612216 \n",
            "\n",
            "-------------Epoch 4-------------\n",
            "current learning rate 0.001\n",
            "batch: [  200], loss: 0.608\n",
            "temporary loss: 0.616150 | [40000/448200]\n",
            "batch: [  400], loss: 0.608\n",
            "temporary loss: 0.622490 | [80000/448200]\n",
            "batch: [  600], loss: 0.607\n",
            "temporary loss: 0.660973 | [120000/448200]\n",
            "batch: [  800], loss: 0.607\n",
            "temporary loss: 0.530657 | [160000/448200]\n",
            "batch: [ 1000], loss: 0.609\n",
            "temporary loss: 0.601206 | [200000/448200]\n",
            "batch: [ 1200], loss: 0.609\n",
            "temporary loss: 0.594469 | [240000/448200]\n",
            "batch: [ 1400], loss: 0.606\n",
            "temporary loss: 0.572497 | [280000/448200]\n",
            "batch: [ 1600], loss: 0.603\n",
            "temporary loss: 0.622847 | [320000/448200]\n",
            "batch: [ 1800], loss: 0.606\n",
            "temporary loss: 0.573406 | [360000/448200]\n",
            "batch: [ 2000], loss: 0.605\n",
            "temporary loss: 0.638926 | [400000/448200]\n",
            "batch: [ 2200], loss: 0.607\n",
            "temporary loss: 0.598946 | [440000/448200]\n",
            "Test Error: \n",
            " Accuracy: 67.7%\n",
            "Avg loss: 0.606827 \n",
            "\n",
            "-------------Epoch 5-------------\n",
            "current learning rate 0.001\n",
            "batch: [  200], loss: 0.605\n",
            "temporary loss: 0.559859 | [40000/448200]\n",
            "batch: [  400], loss: 0.602\n",
            "temporary loss: 0.622356 | [80000/448200]\n",
            "batch: [  600], loss: 0.606\n",
            "temporary loss: 0.610422 | [120000/448200]\n",
            "batch: [  800], loss: 0.604\n",
            "temporary loss: 0.655321 | [160000/448200]\n",
            "batch: [ 1000], loss: 0.601\n",
            "temporary loss: 0.626992 | [200000/448200]\n",
            "batch: [ 1200], loss: 0.599\n",
            "temporary loss: 0.629194 | [240000/448200]\n",
            "batch: [ 1400], loss: 0.598\n",
            "temporary loss: 0.635102 | [280000/448200]\n",
            "batch: [ 1600], loss: 0.600\n",
            "temporary loss: 0.604732 | [320000/448200]\n",
            "batch: [ 1800], loss: 0.601\n",
            "temporary loss: 0.597835 | [360000/448200]\n",
            "batch: [ 2000], loss: 0.601\n",
            "temporary loss: 0.555535 | [400000/448200]\n",
            "batch: [ 2200], loss: 0.595\n",
            "temporary loss: 0.603504 | [440000/448200]\n",
            "Test Error: \n",
            " Accuracy: 68.6%\n",
            "Avg loss: 0.600318 \n",
            "\n",
            "-------------Epoch 6-------------\n",
            "current learning rate 0.001\n",
            "batch: [  200], loss: 0.602\n",
            "temporary loss: 0.544380 | [40000/448200]\n",
            "batch: [  400], loss: 0.598\n",
            "temporary loss: 0.604133 | [80000/448200]\n",
            "batch: [  600], loss: 0.596\n",
            "temporary loss: 0.580687 | [120000/448200]\n",
            "batch: [  800], loss: 0.598\n",
            "temporary loss: 0.580903 | [160000/448200]\n",
            "batch: [ 1000], loss: 0.600\n",
            "temporary loss: 0.618717 | [200000/448200]\n",
            "batch: [ 1200], loss: 0.596\n",
            "temporary loss: 0.611304 | [240000/448200]\n",
            "batch: [ 1400], loss: 0.596\n",
            "temporary loss: 0.591017 | [280000/448200]\n",
            "batch: [ 1600], loss: 0.595\n",
            "temporary loss: 0.630470 | [320000/448200]\n",
            "batch: [ 1800], loss: 0.595\n",
            "temporary loss: 0.633645 | [360000/448200]\n",
            "batch: [ 2000], loss: 0.594\n",
            "temporary loss: 0.584513 | [400000/448200]\n",
            "batch: [ 2200], loss: 0.598\n",
            "temporary loss: 0.616954 | [440000/448200]\n",
            "Test Error: \n",
            " Accuracy: 68.6%\n",
            "Avg loss: 0.600581 \n",
            "\n",
            "-------------Epoch 7-------------\n",
            "current learning rate 0.001\n",
            "batch: [  200], loss: 0.593\n",
            "temporary loss: 0.547208 | [40000/448200]\n",
            "batch: [  400], loss: 0.593\n",
            "temporary loss: 0.557179 | [80000/448200]\n",
            "batch: [  600], loss: 0.594\n",
            "temporary loss: 0.600658 | [120000/448200]\n",
            "batch: [  800], loss: 0.593\n",
            "temporary loss: 0.551237 | [160000/448200]\n",
            "batch: [ 1000], loss: 0.590\n",
            "temporary loss: 0.584652 | [200000/448200]\n",
            "batch: [ 1200], loss: 0.591\n",
            "temporary loss: 0.562704 | [240000/448200]\n",
            "batch: [ 1400], loss: 0.596\n",
            "temporary loss: 0.578725 | [280000/448200]\n",
            "batch: [ 1600], loss: 0.594\n",
            "temporary loss: 0.553131 | [320000/448200]\n",
            "batch: [ 1800], loss: 0.591\n",
            "temporary loss: 0.555146 | [360000/448200]\n",
            "batch: [ 2000], loss: 0.593\n",
            "temporary loss: 0.595267 | [400000/448200]\n",
            "batch: [ 2200], loss: 0.591\n",
            "temporary loss: 0.622799 | [440000/448200]\n",
            "Test Error: \n",
            " Accuracy: 69.0%\n",
            "Avg loss: 0.596128 \n",
            "\n",
            "-------------Epoch 8-------------\n",
            "current learning rate 0.001\n",
            "batch: [  200], loss: 0.588\n",
            "temporary loss: 0.565599 | [40000/448200]\n",
            "batch: [  400], loss: 0.588\n",
            "temporary loss: 0.622351 | [80000/448200]\n",
            "batch: [  600], loss: 0.593\n",
            "temporary loss: 0.591841 | [120000/448200]\n",
            "batch: [  800], loss: 0.588\n",
            "temporary loss: 0.584163 | [160000/448200]\n",
            "batch: [ 1000], loss: 0.593\n",
            "temporary loss: 0.582663 | [200000/448200]\n",
            "batch: [ 1200], loss: 0.587\n",
            "temporary loss: 0.560349 | [240000/448200]\n",
            "batch: [ 1400], loss: 0.593\n",
            "temporary loss: 0.540536 | [280000/448200]\n",
            "batch: [ 1600], loss: 0.589\n",
            "temporary loss: 0.648872 | [320000/448200]\n",
            "batch: [ 1800], loss: 0.588\n",
            "temporary loss: 0.624575 | [360000/448200]\n",
            "batch: [ 2000], loss: 0.589\n",
            "temporary loss: 0.613448 | [400000/448200]\n",
            "batch: [ 2200], loss: 0.592\n",
            "temporary loss: 0.577551 | [440000/448200]\n",
            "Test Error: \n",
            " Accuracy: 69.0%\n",
            "Avg loss: 0.595420 \n",
            "\n",
            "-------------Epoch 9-------------\n",
            "current learning rate 0.001\n",
            "batch: [  200], loss: 0.584\n",
            "temporary loss: 0.573868 | [40000/448200]\n",
            "batch: [  400], loss: 0.585\n",
            "temporary loss: 0.621104 | [80000/448200]\n",
            "batch: [  600], loss: 0.588\n",
            "temporary loss: 0.611053 | [120000/448200]\n",
            "batch: [  800], loss: 0.582\n",
            "temporary loss: 0.613719 | [160000/448200]\n",
            "batch: [ 1000], loss: 0.588\n",
            "temporary loss: 0.626508 | [200000/448200]\n",
            "batch: [ 1200], loss: 0.586\n",
            "temporary loss: 0.571635 | [240000/448200]\n",
            "batch: [ 1400], loss: 0.586\n",
            "temporary loss: 0.553745 | [280000/448200]\n",
            "batch: [ 1600], loss: 0.583\n",
            "temporary loss: 0.585329 | [320000/448200]\n",
            "batch: [ 1800], loss: 0.590\n",
            "temporary loss: 0.568522 | [360000/448200]\n",
            "batch: [ 2000], loss: 0.588\n",
            "temporary loss: 0.563776 | [400000/448200]\n",
            "batch: [ 2200], loss: 0.588\n",
            "temporary loss: 0.582909 | [440000/448200]\n",
            "Test Error: \n",
            " Accuracy: 69.0%\n",
            "Avg loss: 0.596078 \n",
            "\n",
            "-------------Epoch 10-------------\n",
            "current learning rate 0.001\n",
            "batch: [  200], loss: 0.584\n",
            "temporary loss: 0.610175 | [40000/448200]\n",
            "batch: [  400], loss: 0.582\n",
            "temporary loss: 0.584660 | [80000/448200]\n",
            "batch: [  600], loss: 0.583\n",
            "temporary loss: 0.596229 | [120000/448200]\n",
            "batch: [  800], loss: 0.582\n",
            "temporary loss: 0.598571 | [160000/448200]\n",
            "batch: [ 1000], loss: 0.588\n",
            "temporary loss: 0.665086 | [200000/448200]\n",
            "batch: [ 1200], loss: 0.581\n",
            "temporary loss: 0.554701 | [240000/448200]\n",
            "batch: [ 1400], loss: 0.585\n",
            "temporary loss: 0.621338 | [280000/448200]\n",
            "batch: [ 1600], loss: 0.588\n",
            "temporary loss: 0.612749 | [320000/448200]\n",
            "batch: [ 1800], loss: 0.586\n",
            "temporary loss: 0.645185 | [360000/448200]\n",
            "batch: [ 2000], loss: 0.585\n",
            "temporary loss: 0.585476 | [400000/448200]\n",
            "batch: [ 2200], loss: 0.584\n",
            "temporary loss: 0.563873 | [440000/448200]\n",
            "Test Error: \n",
            " Accuracy: 69.5%\n",
            "Avg loss: 0.592107 \n",
            "\n",
            "-------------Epoch 11-------------\n",
            "current learning rate 0.0001\n",
            "batch: [  200], loss: 0.574\n",
            "temporary loss: 0.600845 | [40000/448200]\n",
            "batch: [  400], loss: 0.573\n",
            "temporary loss: 0.565077 | [80000/448200]\n",
            "batch: [  600], loss: 0.574\n",
            "temporary loss: 0.568973 | [120000/448200]\n",
            "batch: [  800], loss: 0.571\n",
            "temporary loss: 0.543452 | [160000/448200]\n",
            "batch: [ 1000], loss: 0.569\n",
            "temporary loss: 0.540776 | [200000/448200]\n",
            "batch: [ 1200], loss: 0.566\n",
            "temporary loss: 0.592460 | [240000/448200]\n",
            "batch: [ 1400], loss: 0.572\n",
            "temporary loss: 0.583763 | [280000/448200]\n",
            "batch: [ 1600], loss: 0.569\n",
            "temporary loss: 0.573664 | [320000/448200]\n",
            "batch: [ 1800], loss: 0.572\n",
            "temporary loss: 0.593691 | [360000/448200]\n",
            "batch: [ 2000], loss: 0.568\n",
            "temporary loss: 0.581938 | [400000/448200]\n",
            "batch: [ 2200], loss: 0.566\n",
            "temporary loss: 0.567630 | [440000/448200]\n",
            "Test Error: \n",
            " Accuracy: 70.0%\n",
            "Avg loss: 0.584936 \n",
            "\n",
            "-------------Epoch 12-------------\n",
            "current learning rate 0.0001\n",
            "batch: [  200], loss: 0.566\n",
            "temporary loss: 0.560638 | [40000/448200]\n",
            "batch: [  400], loss: 0.568\n",
            "temporary loss: 0.551832 | [80000/448200]\n",
            "batch: [  600], loss: 0.567\n",
            "temporary loss: 0.536888 | [120000/448200]\n",
            "batch: [  800], loss: 0.565\n",
            "temporary loss: 0.567567 | [160000/448200]\n",
            "batch: [ 1000], loss: 0.570\n",
            "temporary loss: 0.575120 | [200000/448200]\n",
            "batch: [ 1200], loss: 0.570\n",
            "temporary loss: 0.553517 | [240000/448200]\n",
            "batch: [ 1400], loss: 0.563\n",
            "temporary loss: 0.525935 | [280000/448200]\n",
            "batch: [ 1600], loss: 0.571\n",
            "temporary loss: 0.604393 | [320000/448200]\n",
            "batch: [ 1800], loss: 0.567\n",
            "temporary loss: 0.547126 | [360000/448200]\n",
            "batch: [ 2000], loss: 0.569\n",
            "temporary loss: 0.570081 | [400000/448200]\n",
            "batch: [ 2200], loss: 0.562\n",
            "temporary loss: 0.570452 | [440000/448200]\n",
            "Test Error: \n",
            " Accuracy: 70.1%\n",
            "Avg loss: 0.585454 \n",
            "\n",
            "-------------Epoch 13-------------\n",
            "current learning rate 0.0001\n",
            "batch: [  200], loss: 0.566\n",
            "temporary loss: 0.610844 | [40000/448200]\n",
            "batch: [  400], loss: 0.565\n",
            "temporary loss: 0.538357 | [80000/448200]\n",
            "batch: [  600], loss: 0.566\n",
            "temporary loss: 0.592386 | [120000/448200]\n",
            "batch: [  800], loss: 0.563\n",
            "temporary loss: 0.557151 | [160000/448200]\n",
            "batch: [ 1000], loss: 0.565\n",
            "temporary loss: 0.604643 | [200000/448200]\n",
            "batch: [ 1200], loss: 0.567\n",
            "temporary loss: 0.591819 | [240000/448200]\n",
            "batch: [ 1400], loss: 0.564\n",
            "temporary loss: 0.530536 | [280000/448200]\n",
            "batch: [ 1600], loss: 0.568\n",
            "temporary loss: 0.581275 | [320000/448200]\n",
            "batch: [ 1800], loss: 0.568\n",
            "temporary loss: 0.544758 | [360000/448200]\n",
            "batch: [ 2000], loss: 0.566\n",
            "temporary loss: 0.555945 | [400000/448200]\n",
            "batch: [ 2200], loss: 0.565\n",
            "temporary loss: 0.561436 | [440000/448200]\n",
            "Test Error: \n",
            " Accuracy: 70.0%\n",
            "Avg loss: 0.586058 \n",
            "\n",
            "-------------Epoch 14-------------\n",
            "current learning rate 0.0001\n",
            "batch: [  200], loss: 0.558\n",
            "temporary loss: 0.557010 | [40000/448200]\n",
            "batch: [  400], loss: 0.564\n",
            "temporary loss: 0.563486 | [80000/448200]\n",
            "batch: [  600], loss: 0.562\n",
            "temporary loss: 0.588638 | [120000/448200]\n",
            "batch: [  800], loss: 0.565\n",
            "temporary loss: 0.556235 | [160000/448200]\n",
            "batch: [ 1000], loss: 0.561\n",
            "temporary loss: 0.615448 | [200000/448200]\n",
            "batch: [ 1200], loss: 0.563\n",
            "temporary loss: 0.569215 | [240000/448200]\n",
            "batch: [ 1400], loss: 0.567\n",
            "temporary loss: 0.577500 | [280000/448200]\n",
            "batch: [ 1600], loss: 0.564\n",
            "temporary loss: 0.597661 | [320000/448200]\n",
            "batch: [ 1800], loss: 0.566\n",
            "temporary loss: 0.584382 | [360000/448200]\n",
            "batch: [ 2000], loss: 0.566\n",
            "temporary loss: 0.562810 | [400000/448200]\n",
            "batch: [ 2200], loss: 0.566\n",
            "temporary loss: 0.583696 | [440000/448200]\n",
            "Test Error: \n",
            " Accuracy: 70.0%\n",
            "Avg loss: 0.585758 \n",
            "\n",
            "-------------Epoch 15-------------\n",
            "current learning rate 1e-05\n",
            "batch: [  200], loss: 0.562\n",
            "temporary loss: 0.628485 | [40000/448200]\n",
            "batch: [  400], loss: 0.559\n",
            "temporary loss: 0.476486 | [80000/448200]\n",
            "batch: [  600], loss: 0.560\n",
            "temporary loss: 0.588959 | [120000/448200]\n",
            "batch: [  800], loss: 0.563\n",
            "temporary loss: 0.498441 | [160000/448200]\n",
            "batch: [ 1000], loss: 0.559\n",
            "temporary loss: 0.560296 | [200000/448200]\n",
            "batch: [ 1200], loss: 0.562\n",
            "temporary loss: 0.589967 | [240000/448200]\n",
            "batch: [ 1400], loss: 0.565\n",
            "temporary loss: 0.485048 | [280000/448200]\n",
            "batch: [ 1600], loss: 0.560\n",
            "temporary loss: 0.510464 | [320000/448200]\n",
            "batch: [ 1800], loss: 0.561\n",
            "temporary loss: 0.574138 | [360000/448200]\n",
            "batch: [ 2000], loss: 0.556\n",
            "temporary loss: 0.552703 | [400000/448200]\n",
            "batch: [ 2200], loss: 0.562\n",
            "temporary loss: 0.517212 | [440000/448200]\n",
            "Test Error: \n",
            " Accuracy: 70.1%\n",
            "Avg loss: 0.586051 \n",
            "\n",
            "-------------Epoch 16-------------\n",
            "current learning rate 1e-05\n",
            "batch: [  200], loss: 0.562\n",
            "temporary loss: 0.576659 | [40000/448200]\n",
            "batch: [  400], loss: 0.558\n",
            "temporary loss: 0.562766 | [80000/448200]\n",
            "batch: [  600], loss: 0.558\n",
            "temporary loss: 0.558509 | [120000/448200]\n",
            "batch: [  800], loss: 0.560\n",
            "temporary loss: 0.520508 | [160000/448200]\n",
            "batch: [ 1000], loss: 0.559\n",
            "temporary loss: 0.588604 | [200000/448200]\n",
            "batch: [ 1200], loss: 0.559\n",
            "temporary loss: 0.559881 | [240000/448200]\n",
            "batch: [ 1400], loss: 0.560\n",
            "temporary loss: 0.634735 | [280000/448200]\n",
            "batch: [ 1600], loss: 0.557\n",
            "temporary loss: 0.551897 | [320000/448200]\n",
            "batch: [ 1800], loss: 0.565\n",
            "temporary loss: 0.556599 | [360000/448200]\n",
            "batch: [ 2000], loss: 0.560\n",
            "temporary loss: 0.570117 | [400000/448200]\n",
            "batch: [ 2200], loss: 0.563\n",
            "temporary loss: 0.620025 | [440000/448200]\n",
            "Test Error: \n",
            " Accuracy: 70.0%\n",
            "Avg loss: 0.586101 \n",
            "\n",
            "-------------Epoch 17-------------\n",
            "current learning rate 1e-05\n",
            "batch: [  200], loss: 0.560\n",
            "temporary loss: 0.568445 | [40000/448200]\n",
            "batch: [  400], loss: 0.559\n",
            "temporary loss: 0.579330 | [80000/448200]\n",
            "batch: [  600], loss: 0.563\n",
            "temporary loss: 0.563927 | [120000/448200]\n",
            "batch: [  800], loss: 0.560\n",
            "temporary loss: 0.596352 | [160000/448200]\n",
            "batch: [ 1000], loss: 0.558\n",
            "temporary loss: 0.581651 | [200000/448200]\n",
            "batch: [ 1200], loss: 0.559\n",
            "temporary loss: 0.560536 | [240000/448200]\n",
            "batch: [ 1400], loss: 0.563\n",
            "temporary loss: 0.581891 | [280000/448200]\n",
            "batch: [ 1600], loss: 0.560\n",
            "temporary loss: 0.581853 | [320000/448200]\n",
            "batch: [ 1800], loss: 0.557\n",
            "temporary loss: 0.593037 | [360000/448200]\n",
            "batch: [ 2000], loss: 0.564\n",
            "temporary loss: 0.503403 | [400000/448200]\n",
            "batch: [ 2200], loss: 0.559\n",
            "temporary loss: 0.617278 | [440000/448200]\n",
            "Test Error: \n",
            " Accuracy: 70.0%\n",
            "Avg loss: 0.586418 \n",
            "\n",
            "-------------Epoch 18-------------\n",
            "current learning rate 1.0000000000000002e-06\n",
            "batch: [  200], loss: 0.557\n",
            "temporary loss: 0.508975 | [40000/448200]\n",
            "batch: [  400], loss: 0.556\n",
            "temporary loss: 0.586228 | [80000/448200]\n",
            "batch: [  600], loss: 0.560\n",
            "temporary loss: 0.553374 | [120000/448200]\n",
            "batch: [  800], loss: 0.560\n",
            "temporary loss: 0.647639 | [160000/448200]\n",
            "batch: [ 1000], loss: 0.561\n",
            "temporary loss: 0.609575 | [200000/448200]\n",
            "batch: [ 1200], loss: 0.555\n",
            "temporary loss: 0.601532 | [240000/448200]\n",
            "batch: [ 1400], loss: 0.561\n",
            "temporary loss: 0.580267 | [280000/448200]\n",
            "batch: [ 1600], loss: 0.564\n",
            "temporary loss: 0.618648 | [320000/448200]\n",
            "batch: [ 1800], loss: 0.564\n",
            "temporary loss: 0.535213 | [360000/448200]\n",
            "batch: [ 2000], loss: 0.559\n",
            "temporary loss: 0.618916 | [400000/448200]\n",
            "batch: [ 2200], loss: 0.560\n",
            "temporary loss: 0.563787 | [440000/448200]\n",
            "Test Error: \n",
            " Accuracy: 70.0%\n",
            "Avg loss: 0.586455 \n",
            "\n",
            "-------------Epoch 19-------------\n",
            "current learning rate 1.0000000000000002e-06\n",
            "batch: [  200], loss: 0.562\n",
            "temporary loss: 0.569320 | [40000/448200]\n",
            "batch: [  400], loss: 0.564\n",
            "temporary loss: 0.589625 | [80000/448200]\n",
            "batch: [  600], loss: 0.562\n",
            "temporary loss: 0.503838 | [120000/448200]\n",
            "batch: [  800], loss: 0.556\n",
            "temporary loss: 0.552995 | [160000/448200]\n",
            "batch: [ 1000], loss: 0.562\n",
            "temporary loss: 0.526028 | [200000/448200]\n",
            "batch: [ 1200], loss: 0.558\n",
            "temporary loss: 0.540484 | [240000/448200]\n",
            "batch: [ 1400], loss: 0.557\n",
            "temporary loss: 0.547654 | [280000/448200]\n",
            "batch: [ 1600], loss: 0.558\n",
            "temporary loss: 0.567285 | [320000/448200]\n",
            "batch: [ 1800], loss: 0.558\n",
            "temporary loss: 0.551170 | [360000/448200]\n",
            "batch: [ 2000], loss: 0.559\n",
            "temporary loss: 0.544187 | [400000/448200]\n",
            "batch: [ 2200], loss: 0.560\n",
            "temporary loss: 0.587021 | [440000/448200]\n",
            "Test Error: \n",
            " Accuracy: 70.0%\n",
            "Avg loss: 0.586511 \n",
            "\n",
            "-------------Epoch 20-------------\n",
            "current learning rate 1.0000000000000002e-06\n",
            "batch: [  200], loss: 0.562\n",
            "temporary loss: 0.564047 | [40000/448200]\n",
            "batch: [  400], loss: 0.562\n",
            "temporary loss: 0.607336 | [80000/448200]\n",
            "batch: [  600], loss: 0.556\n",
            "temporary loss: 0.508098 | [120000/448200]\n",
            "batch: [  800], loss: 0.561\n",
            "temporary loss: 0.570052 | [160000/448200]\n",
            "batch: [ 1000], loss: 0.558\n",
            "temporary loss: 0.593673 | [200000/448200]\n",
            "batch: [ 1200], loss: 0.562\n",
            "temporary loss: 0.584248 | [240000/448200]\n",
            "batch: [ 1400], loss: 0.560\n",
            "temporary loss: 0.563711 | [280000/448200]\n",
            "batch: [ 1600], loss: 0.559\n",
            "temporary loss: 0.599065 | [320000/448200]\n",
            "batch: [ 1800], loss: 0.559\n",
            "temporary loss: 0.516241 | [360000/448200]\n",
            "batch: [ 2000], loss: 0.560\n",
            "temporary loss: 0.598574 | [400000/448200]\n",
            "batch: [ 2200], loss: 0.560\n",
            "temporary loss: 0.604809 | [440000/448200]\n",
            "Test Error: \n",
            " Accuracy: 70.0%\n",
            "Avg loss: 0.586523 \n",
            "\n",
            "Done!\n",
            "Time Consumption 709.7474730014801\n"
          ]
        }
      ]
    },
    {
      "cell_type": "markdown",
      "metadata": {
        "id": "sA76Uf1UwDNb"
      },
      "source": [
        "### ROC-AUC (MLP-mixer, post-norm)"
      ]
    },
    {
      "cell_type": "code",
      "execution_count": 24,
      "metadata": {
        "colab": {
          "base_uri": "https://localhost:8080/"
        },
        "outputId": "dff8f25d-3082-403d-8e63-c3230a8f0fa3",
        "id": "jGjnwWw9wDNl"
      },
      "outputs": [
        {
          "output_type": "stream",
          "name": "stdout",
          "text": [
            "Process: 0.0\\%\n",
            "Process: 10.040160642570282\\%\n",
            "Process: 20.080321285140563\\%\n",
            "Process: 30.120481927710845\\%\n",
            "Process: 40.16064257028113\\%\n",
            "Process: 50.20080321285141\\%\n",
            "Process: 60.24096385542169\\%\n",
            "Process: 70.28112449799197\\%\n",
            "Process: 80.32128514056225\\%\n",
            "Process: 90.36144578313254\\%\n"
          ]
        }
      ],
      "source": [
        "total_prob_mixer, total_label_mixer = test_loop_prob(test_loader, model_mixer)\n",
        "fpr, tpr, thresholds = metrics.roc_curve(total_label_mixer, total_prob_mixer)\n",
        "mixer_AUC_1 = metrics.roc_auc_score(total_label_mixer, total_prob_mixer)"
      ]
    },
    {
      "cell_type": "code",
      "execution_count": 25,
      "metadata": {
        "colab": {
          "base_uri": "https://localhost:8080/"
        },
        "outputId": "0e379e4b-d7f9-4c3d-da2a-514a097fea5f",
        "id": "O8CnQicIwDNl"
      },
      "outputs": [
        {
          "output_type": "stream",
          "name": "stdout",
          "text": [
            "The ROC-AUC score of MLP-mixer: 0.7592256588781701\n"
          ]
        }
      ],
      "source": [
        "print(\"The ROC-AUC score of MLP-mixer:\", mixer_AUC_1)"
      ]
    },
    {
      "cell_type": "code",
      "execution_count": 26,
      "metadata": {
        "colab": {
          "base_uri": "https://localhost:8080/",
          "height": 472
        },
        "outputId": "b7f03b31-64bc-406c-ff68-9b95537aa3c9",
        "id": "d7o8aDUewDNl"
      },
      "outputs": [
        {
          "output_type": "display_data",
          "data": {
            "text/plain": [
              "<Figure size 640x480 with 1 Axes>"
            ],
            "image/png": "[encoded data removed]"
          },
          "metadata": {}
        }
      ],
      "source": [
        "plt.plot(fpr, tpr, \"--\", color=\"magenta\")\n",
        "#plt.plot([0,1],[0,1],\"--\")\n",
        "plt.grid()\n",
        "plt.xlabel(\"False Positive Rate\")\n",
        "plt.ylabel(\"True Positive Rate\")\n",
        "plt.title(\"ROC curve for MLP-mixer\")\n",
        "plt.show()"
      ]
    }
  ],
  "metadata": {
    "accelerator": "GPU",
    "colab": {
      "machine_shape": "hm",
      "provenance": []
    },
    "gpuClass": "premium",
    "kernelspec": {
      "display_name": "Python 3",
      "name": "python3"
    },
    "language_info": {
      "name": "python"
    }
  },
  "nbformat": 4,
  "nbformat_minor": 0
}