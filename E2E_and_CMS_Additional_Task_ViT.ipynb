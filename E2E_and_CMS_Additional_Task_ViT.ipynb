{
  "cells": [
    {
      "cell_type": "markdown",
      "metadata": {
        "id": "o4qkvLAnkp9x"
      },
      "source": [
        "# Additional Task (CMS and E2E): Vision Transformers for End-to-End Particle Identification with the CMS Experiment\n",
        "### Chenguang Guan\n",
        "\n",
        "ViT have been applied to task 1 yet. In this additional task, we will discuss ViT (with more epoches) and Swin Transformer."
      ]
    },
    {
      "cell_type": "markdown",
      "metadata": {
        "id": "N93Z76ptOee7"
      },
      "source": [
        "## Workflow of ViT"
      ]
    },
    {
      "cell_type": "markdown",
      "metadata": {
        "id": "h7T85_w8OrVn"
      },
      "source": [
        "In the original Transformer for NLP, there are both attention-based encoders and decoders.\n",
        "\n",
        "However, there is only attention-based encoder in ViT. The ViT introduces patch embedding to transform 2D image-patches to flatten embedding vectors (\"Images to Words\"), while they also develop some other positional embedding including 2-D/relative/learnable embedding beyond the 1-D positional embedding in NLP Transformer. Finally, they borrows the idea of class token from $\\textbf{BERT}$ to classify the images."
      ]
    },
    {
      "cell_type": "markdown",
      "metadata": {
        "id": "sHiVco-vObRY"
      },
      "source": [
        "1. Patch Embedding: $\\mathbf{x} \\in \\mathbb{R}^{H \\times W \\times C}\\rightarrow\\mathbf{x}_p \\in \\mathbb{R}^{N \\times\\left(P^2 \\cdot C\\right)}$\n",
        "\n",
        "2. Class Token: Borrow from the BERT model.\n",
        "\n",
        "3. Position Embeidding: learnable 1D postion embeddings, 2D postion embeddings, etc.\n",
        "\n",
        "4. Incorporating position information in the model: Add before feeding into the transformer encoder; Add before each encoder block; Add before each encoder block (shared weights).\n",
        "\n",
        "5. Transformer Encoder Block: same as NLP transformer.\n",
        "MLP for the class token"
      ]
    },
    {
      "cell_type": "markdown",
      "metadata": {
        "id": "HZmFQuszO-jK"
      },
      "source": [
        "## Workflow of Swin Transformer"
      ]
    },
    {
      "cell_type": "markdown",
      "metadata": {
        "id": "riJm7DomO_o7"
      },
      "source": [
        "The differences between original ViT and Swin Transformer are their attetion mechanism. The attention mechanism of Swin Transformer is hierarchical attention.\n",
        "\n",
        "With the coarse graining going on, the size of each patch is getting larger (similar with Renormalization Group in Physics).\n",
        "\n",
        "$\\left(H_{\\text{Patch}}, W_{\\text{Patch}}\\right)\\rightarrow \\left(H_{2\\text{Patch}}, 2W_{\\text{Patch}}\\right)\\rightarrow \\left(4H_{\\text{Patch}}, 4W_{\\text{Patch}}\\right)\\rightarrow ...$"
      ]
    },
    {
      "cell_type": "markdown",
      "metadata": {
        "id": "aFhbEUiCwKh5"
      },
      "source": [
        "## I. Preparation"
      ]
    },
    {
      "cell_type": "code",
      "execution_count": null,
      "metadata": {
        "colab": {
          "base_uri": "https://localhost:8080/"
        },
        "id": "-fwM201m560x",
        "outputId": "f5e3bd33-30e7-4c57-f64b-b13e472a9a19",
        "scrolled": false
      },
      "outputs": [
        {
          "name": "stdout",
          "output_type": "stream",
          "text": [
            "Sun Apr  2 14:20:57 2023       \n",
            "+-----------------------------------------------------------------------------+\n",
            "| NVIDIA-SMI 525.85.12    Driver Version: 525.85.12    CUDA Version: 12.0     |\n",
            "|-------------------------------+----------------------+----------------------+\n",
            "| GPU  Name        Persistence-M| Bus-Id        Disp.A | Volatile Uncorr. ECC |\n",
            "| Fan  Temp  Perf  Pwr:Usage/Cap|         Memory-Usage | GPU-Util  Compute M. |\n",
            "|                               |                      |               MIG M. |\n",
            "|===============================+======================+======================|\n",
            "|   0  NVIDIA A100-SXM...  Off  | 00000000:00:04.0 Off |                    0 |\n",
            "| N/A   29C    P0    42W / 400W |      0MiB / 40960MiB |      0%      Default |\n",
            "|                               |                      |             Disabled |\n",
            "+-------------------------------+----------------------+----------------------+\n",
            "                                                                               \n",
            "+-----------------------------------------------------------------------------+\n",
            "| Processes:                                                                  |\n",
            "|  GPU   GI   CI        PID   Type   Process name                  GPU Memory |\n",
            "|        ID   ID                                                   Usage      |\n",
            "|=============================================================================|\n",
            "|  No running processes found                                                 |\n",
            "+-----------------------------------------------------------------------------+\n"
          ]
        }
      ],
      "source": [
        "!/opt/bin/nvidia-smi"
      ]
    },
    {
      "cell_type": "code",
      "execution_count": null,
      "metadata": {
        "colab": {
          "base_uri": "https://localhost:8080/"
        },
        "id": "L2llf81aoc1X",
        "outputId": "d95e3981-472a-45f4-cfa7-cbd66430f8a8",
        "scrolled": false
      },
      "outputs": [
        {
          "name": "stdout",
          "output_type": "stream",
          "text": [
            "Mounted at /content/gdrive\n"
          ]
        }
      ],
      "source": [
        "from google.colab import drive\n",
        "drive.mount(\"/content/gdrive\", force_remount=True)"
      ]
    },
    {
      "cell_type": "code",
      "execution_count": null,
      "metadata": {
        "id": "Z6JbsW9tCr9p"
      },
      "outputs": [],
      "source": [
        "!cp --recursive \"/content/gdrive/MyDrive/CMS_data\" ."
      ]
    },
    {
      "cell_type": "code",
      "execution_count": null,
      "metadata": {
        "id": "iPugPqI5pJoE"
      },
      "outputs": [],
      "source": [
        "import h5py\n",
        "import torch\n",
        "\n",
        "import numpy as np\n",
        "\n",
        "from torch.utils.data import Dataset, DataLoader\n",
        "\n",
        "import torchvision\n",
        "import torch.nn as nn\n",
        "import torch.nn.functional as F\n",
        "import torch.optim as optim\n",
        "\n",
        "import torchvision.transforms as transforms\n",
        "\n",
        "\n",
        "import random\n",
        "import time\n",
        "\n",
        "from sklearn import metrics"
      ]
    },
    {
      "cell_type": "code",
      "execution_count": null,
      "metadata": {
        "id": "SDo9IfxRTHYT"
      },
      "outputs": [],
      "source": [
        "import matplotlib.pyplot as plt"
      ]
    },
    {
      "cell_type": "code",
      "execution_count": null,
      "metadata": {
        "colab": {
          "base_uri": "https://localhost:8080/"
        },
        "id": "7U_IYAN6qqGQ",
        "outputId": "1cf8dc88-b66b-4a6b-d493-7de7931a2714"
      },
      "outputs": [
        {
          "name": "stdout",
          "output_type": "stream",
          "text": [
            "Device is: cuda\n"
          ]
        }
      ],
      "source": [
        "device=torch.device('cuda' if torch.cuda.is_available() else 'cpu')\n",
        "print(\"Device is:\", device)"
      ]
    },
    {
      "cell_type": "markdown",
      "metadata": {
        "id": "Z09l1TXilWp9"
      },
      "source": [
        "## II. Dataset"
      ]
    },
    {
      "cell_type": "code",
      "execution_count": null,
      "metadata": {
        "id": "_OrOYVH3pTUn"
      },
      "outputs": [],
      "source": [
        "shuffle_list = np.arange(0, 249000*2, 1) \n",
        "random.shuffle(shuffle_list)"
      ]
    },
    {
      "cell_type": "code",
      "execution_count": null,
      "metadata": {
        "id": "ONjdq7GvKJo6"
      },
      "outputs": [],
      "source": [
        "np.save(\"/content/gdrive/MyDrive/CMS_data/shuffle_list.npy\",shuffle_list)"
      ]
    },
    {
      "cell_type": "code",
      "execution_count": null,
      "metadata": {
        "id": "AqiCbEvhLT1S"
      },
      "outputs": [],
      "source": [
        "shuffle_list = np.load(\"/content/gdrive/MyDrive/CMS_data/shuffle_list.npy\")"
      ]
    },
    {
      "cell_type": "code",
      "execution_count": null,
      "metadata": {
        "id": "N2E4S0mrICor"
      },
      "outputs": [],
      "source": [
        "f1 = h5py.File(r'/content/CMS_data/SingleElectronPt50_IMGCROPS_n249k_RHv1.hdf5', 'r')\n",
        "f2 = h5py.File(r'/content/CMS_data/SinglePhotonPt50_IMGCROPS_n249k_RHv1.hdf5', 'r')\n",
        "total_X = np.concatenate( (f1[\"X\"][:], f2[\"X\"][:] ), axis=0 )\n",
        "total_y = np.concatenate( (f1[\"y\"][:], f2[\"y\"][:] ), axis=0 )"
      ]
    },
    {
      "cell_type": "code",
      "execution_count": null,
      "metadata": {
        "id": "JdFr9POuJP6u"
      },
      "outputs": [],
      "source": [
        "total_X = total_X[shuffle_list]\n",
        "total_y = total_y[shuffle_list].astype(int)"
      ]
    },
    {
      "cell_type": "code",
      "execution_count": null,
      "metadata": {
        "id": "uVI9BGjN8sGR"
      },
      "outputs": [],
      "source": [
        "total_X = np.concatenate( (total_X, total_X[:,:,:,:1]), axis = 3)"
      ]
    },
    {
      "cell_type": "code",
      "execution_count": null,
      "metadata": {
        "id": "kM_WpGoN0z9O"
      },
      "outputs": [],
      "source": [
        "class MyDataset(Dataset):\n",
        "    def __init__(self, shuffle_list, train=True, transform=None, target_transform=None):\n",
        "        global total_X, total_y\n",
        "        self.transform = transform\n",
        "        self.target_transform = target_transform\n",
        "        self.train = train\n",
        "        self.length = len(total_X)\n",
        "        self.train_length = int( self.length * 9/10)\n",
        "        self.test_length = int( self.length / 10)\n",
        "            \n",
        "    def __len__(self):\n",
        "        if self.train:\n",
        "            return self.train_length\n",
        "        else:\n",
        "            return self.test_length\n",
        "    \n",
        "    def __getitem__(self,idx):\n",
        "        if self.train:\n",
        "            image, label = total_X[idx], total_y[idx]\n",
        "        else:\n",
        "            image, label = total_X[idx + self.train_length], total_y[idx + self.train_length]\n",
        "        if self.transform:\n",
        "            image = self.transform(image)\n",
        "        if self.target_transform:\n",
        "            label = self.target_transform(label)\n",
        "        return image, label"
      ]
    },
    {
      "cell_type": "code",
      "execution_count": null,
      "metadata": {
        "id": "L6C-9NvFisC3"
      },
      "outputs": [],
      "source": [
        "my_transform_normal = transforms.ToTensor()"
      ]
    },
    {
      "cell_type": "code",
      "execution_count": null,
      "metadata": {
        "id": "RPAh7klxisC3"
      },
      "outputs": [],
      "source": [
        "my_transform_pretrained = transforms.Compose([transforms.ToTensor(), transforms.Resize((224,224))])"
      ]
    },
    {
      "cell_type": "code",
      "execution_count": null,
      "metadata": {
        "id": "FnZ0Dyp0ja9x"
      },
      "outputs": [],
      "source": [
        "my_transform_single_channel = transforms.Compose([transforms.ToTensor(), transforms.Resize((224, 224)),\n",
        "                                   transforms.Lambda(lambda x: x.repeat(3, 1, 1) )\n",
        "    ])"
      ]
    },
    {
      "cell_type": "code",
      "execution_count": null,
      "metadata": {
        "id": "0S2EbXVsqVlh"
      },
      "outputs": [],
      "source": [
        "train_set = MyDataset(shuffle_list=shuffle_list, train=True, transform=my_transform_pretrained)\n",
        "train_loader =  DataLoader(train_set, batch_size=200, shuffle=True)"
      ]
    },
    {
      "cell_type": "code",
      "execution_count": null,
      "metadata": {
        "id": "kpi9YN64iyOF"
      },
      "outputs": [],
      "source": [
        "test_set = MyDataset(shuffle_list=shuffle_list, train=False, transform=my_transform_pretrained)\n",
        "test_loader =  DataLoader(test_set, batch_size=200, shuffle=False)"
      ]
    },
    {
      "cell_type": "markdown",
      "metadata": {
        "id": "wRpP1bkpn9L_"
      },
      "source": [
        "## III. Train and Test Loop"
      ]
    },
    {
      "cell_type": "code",
      "execution_count": null,
      "metadata": {
        "id": "_RaBVthUoAr9"
      },
      "outputs": [],
      "source": [
        "criterion = nn.CrossEntropyLoss()"
      ]
    },
    {
      "cell_type": "code",
      "execution_count": null,
      "metadata": {
        "id": "LwNKVkC2qk71"
      },
      "outputs": [],
      "source": [
        "def train_loop(dataloader, model, loss_fn, optimizer):\n",
        "    model.train()\n",
        "    size = len(dataloader.dataset)\n",
        "    running_loss = 0.\n",
        "    #total_sample = 0\n",
        "    for batch_i, data in enumerate(dataloader):\n",
        "        # get the inputs; data is a list of [inputs, labels]\n",
        "        inputs, labels = data[0].to(device), data[1].to(device)\n",
        "        \n",
        "        # zero the parameter gradients\n",
        "        optimizer.zero_grad()\n",
        "        \n",
        "        # Compute prediction and loss\n",
        "        outputs = model(inputs)\n",
        "        loss = loss_fn(outputs, labels)\n",
        "        \n",
        "        # Backpropagation\n",
        "        loss.backward()\n",
        "        optimizer.step()\n",
        "        \n",
        "        # print statistics\n",
        "        running_loss += loss.item()\n",
        "        num_batch_print = 200\n",
        "        if batch_i % num_batch_print == num_batch_print - 1:\n",
        "            current = (batch_i + 1) * len(inputs)\n",
        "            print(f'batch: [{batch_i + 1:5d}], loss: {running_loss / num_batch_print:.3f}')\n",
        "            print(f'temporary loss: {loss.item():>7f} | [{current:>5d}/{size:>5d}]')\n",
        "            running_loss = 0"
      ]
    },
    {
      "cell_type": "code",
      "execution_count": null,
      "metadata": {
        "id": "e2qgnoTkqr41"
      },
      "outputs": [],
      "source": [
        "def test_loop_Entropy(dataloader, model, loss_fn):\n",
        "    model.eval()\n",
        "    #size = len(dataloader.dataset)\n",
        "    num_batches = len(dataloader)\n",
        "    \n",
        "    test_loss, correct = 0, 0\n",
        "    total = 0\n",
        "    \n",
        "    with torch.no_grad():\n",
        "        for data in dataloader:\n",
        "            # get the inputs for test dataset\n",
        "            images, labels = data[0].to(device), data[1].to(device)\n",
        "            \n",
        "            # calculate the outputs\n",
        "            outputs = model(images)\n",
        "            \n",
        "            # classify which class the output in\n",
        "            _, predicted = torch.max(outputs.data, 1)\n",
        "            #_, labels_value = torch.max(labels.data, 1)\n",
        "            \n",
        "            # obtain the statistics of test loss and correctness\n",
        "            test_loss += loss_fn(outputs, labels).item()\n",
        "            correct += (predicted == labels).sum().item() \n",
        "            #correct += (predicted == labels_value).sum().item() \n",
        "            total += labels.size(0)\n",
        "\n",
        "    print(f\"Test Error: \\n Accuracy: {(100 * correct / total):>0.1f}%\")\n",
        "    print(f\"Avg loss: {test_loss / num_batches:>8f} \\n\")"
      ]
    },
    {
      "cell_type": "code",
      "execution_count": null,
      "metadata": {
        "id": "7CuJFThl0yWc"
      },
      "outputs": [],
      "source": [
        "def test_loop_prob(dataloader, model):\n",
        "    model.eval()\n",
        "    #size = len(dataloader.dataset)\n",
        "    num_batches = len(dataloader)\n",
        "    \n",
        "    total_prob = list()\n",
        "    total_label = list()\n",
        "    i = 0\n",
        "    with torch.no_grad():\n",
        "        for (i, data) in enumerate(dataloader):\n",
        "            # get the inputs for test dataset\n",
        "            images, labels = data[0].to(device), data[1].to(device)\n",
        "            \n",
        "            # calculate the outputs\n",
        "            outputs = model(images)\n",
        "            probabilities = F.softmax(outputs, dim=1)[:, 1]\n",
        "            \n",
        "            total_prob += torch.Tensor.cpu(probabilities).numpy().tolist()\n",
        "            \n",
        "            total_label += torch.Tensor.cpu(labels).numpy().tolist()\n",
        "            \n",
        "            if i % 25 == 0:\n",
        "                print(f\"Process: {i/num_batches*100}\\%\")\n",
        "    return np.array(total_prob), np.array(total_label)"
      ]
    },
    {
      "cell_type": "markdown",
      "metadata": {
        "id": "AlUgDkGmnc8N"
      },
      "source": [
        "## III. ViT"
      ]
    },
    {
      "cell_type": "markdown",
      "metadata": {
        "id": "5MIhaP4t28X2"
      },
      "source": [
        "Batch size: 200\n",
        "\n",
        "Training on: A100 GPU\n",
        "\n",
        "Learning Rate: 1e-3 (5 epoch), 1e-4 (3 epoch)\n",
        "\n",
        "Optimizer: Adam\n",
        "\n",
        "Test Accuracy ~ 72.5% (underfit, not well-trained yet) \n",
        "\n",
        "Time: The training of ViT is very slow and computational expensive. Each epoch will cost about 1 hour on A100 GPU."
      ]
    },
    {
      "cell_type": "code",
      "execution_count": null,
      "metadata": {
        "id": "LDddkguhomHm"
      },
      "outputs": [],
      "source": [
        "model_ViT = torchvision.models.vit_b_16().to(device)\n",
        "in_features = model_ViT.heads.head.in_features\n",
        "model_ViT.heads.head = nn.Linear(in_features, 2, device=device)"
      ]
    },
    {
      "cell_type": "markdown",
      "metadata": {
        "id": "OegdOug928X2"
      },
      "source": [
        "### Training and Accuracy (ViT)"
      ]
    },
    {
      "cell_type": "code",
      "execution_count": null,
      "metadata": {
        "colab": {
          "base_uri": "https://localhost:8080/"
        },
        "id": "efm4dGtM28X2",
        "outputId": "84bf175d-cb69-476e-952c-f75c7d059cfa"
      },
      "outputs": [
        {
          "name": "stdout",
          "output_type": "stream",
          "text": [
            "-------------Epoch 1-------------\n",
            "batch: [  200], loss: 0.746\n",
            "temporary loss: 0.693299 | [40000/448200]\n",
            "batch: [  400], loss: 0.699\n",
            "temporary loss: 0.691458 | [80000/448200]\n",
            "batch: [  600], loss: 0.684\n",
            "temporary loss: 0.674643 | [120000/448200]\n",
            "batch: [  800], loss: 0.670\n",
            "temporary loss: 0.669602 | [160000/448200]\n",
            "batch: [ 1000], loss: 0.657\n",
            "temporary loss: 0.672156 | [200000/448200]\n",
            "batch: [ 1200], loss: 0.645\n",
            "temporary loss: 0.625073 | [240000/448200]\n",
            "batch: [ 1400], loss: 0.637\n",
            "temporary loss: 0.641013 | [280000/448200]\n",
            "batch: [ 1600], loss: 0.628\n",
            "temporary loss: 0.642921 | [320000/448200]\n",
            "batch: [ 1800], loss: 0.625\n",
            "temporary loss: 0.601461 | [360000/448200]\n",
            "batch: [ 2000], loss: 0.617\n",
            "temporary loss: 0.572669 | [400000/448200]\n",
            "batch: [ 2200], loss: 0.615\n",
            "temporary loss: 0.570742 | [440000/448200]\n",
            "Test Error: \n",
            " Accuracy: 68.4%\n",
            "Avg loss: 0.602019 \n",
            "\n",
            "Done!\n",
            "Time Consumption 3339.724937438965\n"
          ]
        }
      ],
      "source": [
        "lr_list = [1e-3]\n",
        "time_start = time.time()\n",
        "for t in range( len(lr_list) ):\n",
        "    print(f\"-------------Epoch {t+1}-------------\")\n",
        "    #optimizer = optim.SGD(model.parameters(), lr=lr_list[t], momentum=0.9)\n",
        "    optimizer = optim.Adam(model_ViT.parameters(), lr=lr_list[t])\n",
        "    train_loop(train_loader, model_ViT, criterion, optimizer)\n",
        "    test_loop_Entropy(test_loader, model_ViT, criterion)\n",
        "print(\"Done!\")\n",
        "time_end = time.time()\n",
        "print(\"Time Consumption\",time_end-time_start)"
      ]
    },
    {
      "cell_type": "code",
      "execution_count": null,
      "metadata": {
        "id": "JxwnUG1uB3qz"
      },
      "outputs": [],
      "source": [
        "path = \"./gdrive/MyDrive/CMS_model/ViT_task1_weights.pth\"\n",
        "torch.save(model_ViT.state_dict(), path)"
      ]
    },
    {
      "cell_type": "code",
      "execution_count": null,
      "metadata": {
        "colab": {
          "base_uri": "https://localhost:8080/"
        },
        "id": "LStD3Rj1xDDJ",
        "outputId": "e40c99c6-8833-47f4-9162-6d366ff10829"
      },
      "outputs": [
        {
          "data": {
            "text/plain": [
              "<All keys matched successfully>"
            ]
          },
          "execution_count": 24,
          "metadata": {},
          "output_type": "execute_result"
        }
      ],
      "source": [
        "path = \"./gdrive/MyDrive/CMS_model/ViT_task1_weights.pth\"\n",
        "model_ViT.load_state_dict( torch.load(path) )"
      ]
    },
    {
      "cell_type": "code",
      "execution_count": null,
      "metadata": {
        "colab": {
          "base_uri": "https://localhost:8080/"
        },
        "id": "Suokc3w5xSAq",
        "outputId": "5c4825a1-81d5-4dc1-a0a9-bd1b9fc71546"
      },
      "outputs": [
        {
          "name": "stdout",
          "output_type": "stream",
          "text": [
            "-------------Epoch 1-------------\n",
            "batch: [  200], loss: 0.616\n",
            "temporary loss: 0.600729 | [40000/448200]\n",
            "batch: [  400], loss: 0.614\n",
            "temporary loss: 0.564398 | [80000/448200]\n",
            "batch: [  600], loss: 0.613\n",
            "temporary loss: 0.602672 | [120000/448200]\n",
            "batch: [  800], loss: 0.602\n",
            "temporary loss: 0.658477 | [160000/448200]\n",
            "batch: [ 1000], loss: 0.606\n",
            "temporary loss: 0.604870 | [200000/448200]\n",
            "batch: [ 1200], loss: 0.602\n",
            "temporary loss: 0.615562 | [240000/448200]\n",
            "batch: [ 1400], loss: 0.599\n",
            "temporary loss: 0.591999 | [280000/448200]\n",
            "batch: [ 1600], loss: 0.596\n",
            "temporary loss: 0.579711 | [320000/448200]\n",
            "batch: [ 1800], loss: 0.597\n",
            "temporary loss: 0.590777 | [360000/448200]\n",
            "batch: [ 2000], loss: 0.599\n",
            "temporary loss: 0.614489 | [400000/448200]\n",
            "batch: [ 2200], loss: 0.596\n",
            "temporary loss: 0.562108 | [440000/448200]\n",
            "Test Error: \n",
            " Accuracy: 68.8%\n",
            "Avg loss: 0.596738 \n",
            "\n",
            "-------------Epoch 2-------------\n",
            "batch: [  200], loss: 0.597\n",
            "temporary loss: 0.638775 | [40000/448200]\n",
            "batch: [  400], loss: 0.593\n",
            "temporary loss: 0.617433 | [80000/448200]\n",
            "batch: [  600], loss: 0.597\n",
            "temporary loss: 0.613549 | [120000/448200]\n",
            "batch: [  800], loss: 0.591\n",
            "temporary loss: 0.565158 | [160000/448200]\n",
            "batch: [ 1000], loss: 0.596\n",
            "temporary loss: 0.598097 | [200000/448200]\n",
            "batch: [ 1200], loss: 0.590\n",
            "temporary loss: 0.597995 | [240000/448200]\n",
            "batch: [ 1400], loss: 0.590\n",
            "temporary loss: 0.615103 | [280000/448200]\n",
            "batch: [ 1600], loss: 0.587\n",
            "temporary loss: 0.624893 | [320000/448200]\n",
            "batch: [ 1800], loss: 0.590\n",
            "temporary loss: 0.573909 | [360000/448200]\n",
            "batch: [ 2000], loss: 0.588\n",
            "temporary loss: 0.585182 | [400000/448200]\n",
            "batch: [ 2200], loss: 0.591\n",
            "temporary loss: 0.556258 | [440000/448200]\n",
            "Test Error: \n",
            " Accuracy: 69.5%\n",
            "Avg loss: 0.591624 \n",
            "\n",
            "-------------Epoch 3-------------\n",
            "batch: [  200], loss: 0.586\n",
            "temporary loss: 0.554676 | [40000/448200]\n",
            "batch: [  400], loss: 0.586\n",
            "temporary loss: 0.574172 | [80000/448200]\n",
            "batch: [  600], loss: 0.586\n",
            "temporary loss: 0.587441 | [120000/448200]\n",
            "batch: [  800], loss: 0.591\n",
            "temporary loss: 0.565263 | [160000/448200]\n",
            "batch: [ 1000], loss: 0.582\n",
            "temporary loss: 0.595096 | [200000/448200]\n",
            "batch: [ 1200], loss: 0.587\n",
            "temporary loss: 0.589558 | [240000/448200]\n",
            "batch: [ 1400], loss: 0.581\n",
            "temporary loss: 0.619084 | [280000/448200]\n",
            "batch: [ 1600], loss: 0.584\n",
            "temporary loss: 0.565487 | [320000/448200]\n",
            "batch: [ 1800], loss: 0.582\n",
            "temporary loss: 0.599787 | [360000/448200]\n",
            "batch: [ 2000], loss: 0.585\n",
            "temporary loss: 0.592875 | [400000/448200]\n",
            "batch: [ 2200], loss: 0.581\n",
            "temporary loss: 0.559158 | [440000/448200]\n",
            "Test Error: \n",
            " Accuracy: 71.0%\n",
            "Avg loss: 0.572212 \n",
            "\n",
            "-------------Epoch 4-------------\n",
            "batch: [  200], loss: 0.583\n",
            "temporary loss: 0.591523 | [40000/448200]\n",
            "batch: [  400], loss: 0.578\n",
            "temporary loss: 0.536723 | [80000/448200]\n",
            "batch: [  600], loss: 0.578\n",
            "temporary loss: 0.546939 | [120000/448200]\n",
            "batch: [  800], loss: 0.579\n",
            "temporary loss: 0.592515 | [160000/448200]\n",
            "batch: [ 1000], loss: 0.579\n",
            "temporary loss: 0.519955 | [200000/448200]\n",
            "batch: [ 1200], loss: 0.578\n",
            "temporary loss: 0.612599 | [240000/448200]\n",
            "batch: [ 1400], loss: 0.576\n",
            "temporary loss: 0.594813 | [280000/448200]\n",
            "batch: [ 1600], loss: 0.581\n",
            "temporary loss: 0.633234 | [320000/448200]\n",
            "batch: [ 1800], loss: 0.577\n",
            "temporary loss: 0.577658 | [360000/448200]\n",
            "batch: [ 2000], loss: 0.577\n",
            "temporary loss: 0.559089 | [400000/448200]\n",
            "batch: [ 2200], loss: 0.574\n",
            "temporary loss: 0.557067 | [440000/448200]\n",
            "Test Error: \n",
            " Accuracy: 70.8%\n",
            "Avg loss: 0.571066 \n",
            "\n",
            "Done!\n",
            "Time Consumption 13352.6440243721\n"
          ]
        }
      ],
      "source": [
        "path2 = \"./gdrive/MyDrive/CMS_model/ViT_task1_weights_02.pth\"\n",
        "lr_list = [1e-3] * 4\n",
        "time_start = time.time()\n",
        "# Pre-trained ResNet training\n",
        "for t in range( len(lr_list) ):\n",
        "    print(f\"-------------Epoch {t+1}-------------\")\n",
        "    #optimizer = optim.SGD(model.parameters(), lr=lr_list[t], momentum=0.9)\n",
        "    optimizer = optim.Adam(model_ViT.parameters(), lr=lr_list[t])\n",
        "    train_loop(train_loader, model_ViT, criterion, optimizer)\n",
        "    test_loop_Entropy(test_loader, model_ViT, criterion)\n",
        "print(\"Done!\")\n",
        "time_end = time.time()\n",
        "torch.save(model_ViT.state_dict(), path2)\n",
        "print(\"Time Consumption\",time_end-time_start)"
      ]
    },
    {
      "cell_type": "code",
      "execution_count": null,
      "metadata": {
        "colab": {
          "background_save": true,
          "base_uri": "https://localhost:8080/"
        },
        "id": "efyfzyQgvuxL",
        "outputId": "735f005c-a31c-4918-dcb0-400ad65bd9b5"
      },
      "outputs": [
        {
          "name": "stdout",
          "output_type": "stream",
          "text": [
            "-------------Epoch 1-------------\n",
            "batch: [  200], loss: 0.567\n",
            "temporary loss: 0.634036 | [40000/448200]\n",
            "batch: [  400], loss: 0.560\n",
            "temporary loss: 0.592325 | [80000/448200]\n",
            "batch: [  600], loss: 0.560\n",
            "temporary loss: 0.510238 | [120000/448200]\n",
            "batch: [  800], loss: 0.560\n",
            "temporary loss: 0.561333 | [160000/448200]\n",
            "batch: [ 1000], loss: 0.562\n",
            "temporary loss: 0.588687 | [200000/448200]\n",
            "batch: [ 1200], loss: 0.560\n",
            "temporary loss: 0.548363 | [240000/448200]\n",
            "batch: [ 1400], loss: 0.560\n",
            "temporary loss: 0.533402 | [280000/448200]\n",
            "batch: [ 1600], loss: 0.560\n",
            "temporary loss: 0.582457 | [320000/448200]\n",
            "batch: [ 1800], loss: 0.559\n",
            "temporary loss: 0.528317 | [360000/448200]\n",
            "batch: [ 2000], loss: 0.557\n",
            "temporary loss: 0.579121 | [400000/448200]\n",
            "batch: [ 2200], loss: 0.560\n",
            "temporary loss: 0.567330 | [440000/448200]\n",
            "Test Error: \n",
            " Accuracy: 72.1%\n",
            "Avg loss: 0.556552 \n",
            "\n",
            "-------------Epoch 2-------------\n",
            "batch: [  200], loss: 0.561\n",
            "temporary loss: 0.577444 | [40000/448200]\n",
            "batch: [  400], loss: 0.558\n",
            "temporary loss: 0.537839 | [80000/448200]\n",
            "batch: [  600], loss: 0.556\n",
            "temporary loss: 0.563745 | [120000/448200]\n",
            "batch: [  800], loss: 0.559\n",
            "temporary loss: 0.573290 | [160000/448200]\n",
            "batch: [ 1000], loss: 0.558\n",
            "temporary loss: 0.503919 | [200000/448200]\n",
            "batch: [ 1200], loss: 0.556\n",
            "temporary loss: 0.520209 | [240000/448200]\n",
            "batch: [ 1400], loss: 0.556\n",
            "temporary loss: 0.520841 | [280000/448200]\n",
            "batch: [ 1600], loss: 0.558\n",
            "temporary loss: 0.538886 | [320000/448200]\n",
            "batch: [ 1800], loss: 0.554\n",
            "temporary loss: 0.512755 | [360000/448200]\n",
            "batch: [ 2000], loss: 0.553\n",
            "temporary loss: 0.522497 | [400000/448200]\n",
            "batch: [ 2200], loss: 0.555\n",
            "temporary loss: 0.539293 | [440000/448200]\n",
            "Test Error: \n",
            " Accuracy: 72.3%\n",
            "Avg loss: 0.554683 \n",
            "\n",
            "-------------Epoch 3-------------\n",
            "batch: [  200], loss: 0.558\n",
            "temporary loss: 0.567283 | [40000/448200]\n",
            "batch: [  400], loss: 0.557\n",
            "temporary loss: 0.587662 | [80000/448200]\n",
            "batch: [  600], loss: 0.554\n",
            "temporary loss: 0.580128 | [120000/448200]\n",
            "batch: [  800], loss: 0.551\n",
            "temporary loss: 0.547832 | [160000/448200]\n",
            "batch: [ 1000], loss: 0.556\n",
            "temporary loss: 0.533071 | [200000/448200]\n",
            "batch: [ 1200], loss: 0.556\n",
            "temporary loss: 0.541484 | [240000/448200]\n",
            "batch: [ 1400], loss: 0.552\n",
            "temporary loss: 0.555121 | [280000/448200]\n",
            "batch: [ 1600], loss: 0.554\n",
            "temporary loss: 0.588873 | [320000/448200]\n",
            "batch: [ 1800], loss: 0.558\n",
            "temporary loss: 0.590736 | [360000/448200]\n",
            "batch: [ 2000], loss: 0.558\n",
            "temporary loss: 0.612006 | [400000/448200]\n",
            "batch: [ 2200], loss: 0.551\n",
            "temporary loss: 0.544465 | [440000/448200]\n",
            "Test Error: \n",
            " Accuracy: 72.5%\n",
            "Avg loss: 0.552502 \n",
            "\n",
            "Done!\n",
            "Time Consumption 10014.278172254562\n"
          ]
        }
      ],
      "source": [
        "path3 = \"./gdrive/MyDrive/CMS_model/ViT_task1_weights_03.pth\"\n",
        "lr_list = [1e-4] * 3\n",
        "time_start = time.time()\n",
        "# Pre-trained ResNet training\n",
        "for t in range( len(lr_list) ):\n",
        "    print(f\"-------------Epoch {t+1}-------------\")\n",
        "    #optimizer = optim.SGD(model.parameters(), lr=lr_list[t], momentum=0.9)\n",
        "    optimizer = optim.Adam(model_ViT.parameters(), lr=lr_list[t])\n",
        "    train_loop(train_loader, model_ViT, criterion, optimizer)\n",
        "    test_loop_Entropy(test_loader, model_ViT, criterion)\n",
        "print(\"Done!\")\n",
        "time_end = time.time()\n",
        "torch.save(model_ViT.state_dict(), path3)\n",
        "print(\"Time Consumption\",time_end-time_start)"
      ]
    },
    {
      "cell_type": "markdown",
      "metadata": {
        "id": "W3WUfRD6u0kh"
      },
      "source": [
        "### ROC-AUC (ViT)"
      ]
    },
    {
      "cell_type": "code",
      "execution_count": null,
      "metadata": {
        "colab": {
          "base_uri": "https://localhost:8080/"
        },
        "id": "F9Oa6-wVbPji",
        "outputId": "d368d249-332b-406a-9e37-c9774c5cf13c"
      },
      "outputs": [
        {
          "name": "stdout",
          "output_type": "stream",
          "text": [
            "Process: 0.0\\%\n",
            "Process: 89.28571428571429\\%\n"
          ]
        }
      ],
      "source": [
        "total_prob_ViT, total_label_ViT = test_loop_prob(test_loader, model_ViT)\n",
        "fpr, tpr, thresholds = metrics.roc_curve(total_label_ViT, total_prob_ViT)\n",
        "ViT_AUC_1 = metrics.roc_auc_score(total_label_ViT, total_prob_ViT)"
      ]
    },
    {
      "cell_type": "code",
      "execution_count": null,
      "metadata": {
        "colab": {
          "base_uri": "https://localhost:8080/"
        },
        "id": "C6LsmkkObPjj",
        "outputId": "318269ec-d285-42f2-c5ae-c3b783131d26"
      },
      "outputs": [
        {
          "name": "stdout",
          "output_type": "stream",
          "text": [
            "The ROC-AUC score of Pre-trained ResNet-18 is: 0.7990616886635186\n"
          ]
        }
      ],
      "source": [
        "print(\"The ROC-AUC score of Pre-trained ResNet-18 is:\", ViT_AUC_1)"
      ]
    },
    {
      "cell_type": "code",
      "execution_count": null,
      "metadata": {
        "colab": {
          "base_uri": "https://localhost:8080/",
          "height": 472
        },
        "id": "MkfD04z3bPjj",
        "outputId": "dbdd6da3-8726-4d6b-b4b7-29ac435d430b"
      },
      "outputs": [
        {
          "data": {
            "image/png": "[encoded data removed]",
            "text/plain": [
              "<Figure size 640x480 with 1 Axes>"
            ]
          },
          "metadata": {},
          "output_type": "display_data"
        }
      ],
      "source": [
        "plt.plot(fpr, tpr, \"--\", color=\"magenta\")\n",
        "#plt.plot([0,1],[0,1],\"--\")\n",
        "plt.grid()\n",
        "plt.xlabel(\"False Positive Rate\")\n",
        "plt.ylabel(\"True Positive Rate\")\n",
        "plt.title(\"ROC curve for Pre-trained ResNet-18\")\n",
        "plt.show()"
      ]
    },
    {
      "cell_type": "markdown",
      "metadata": {
        "id": "lhvcSI3Nq2B4"
      },
      "source": [
        "## IV. Swin Transformer"
      ]
    },
    {
      "cell_type": "code",
      "execution_count": null,
      "metadata": {
        "id": "Ke4QTpBbun-U"
      },
      "outputs": [],
      "source": [
        "train_loader =  DataLoader(train_set, batch_size=300, shuffle=True)\n",
        "test_loader =  DataLoader(test_set, batch_size=300, shuffle=False)"
      ]
    },
    {
      "cell_type": "code",
      "execution_count": null,
      "metadata": {
        "colab": {
          "base_uri": "https://localhost:8080/",
          "height": 123,
          "referenced_widgets": [
            "a27b8ddaad0542d9a064eff29f23f705",
            "4f8877b6266f46f4b57b89fce0764909",
            "cac022d268364bd882c55b2274cf25fa",
            "8c401de188d24005b74db0ff400af3b4",
            "8e12f943606444edb87d0d68b05a3615",
            "3409109c36e54137964e09d02dd2a450",
            "0b2cd78fd270458084b180233110aaec",
            "9b5e6a8a9cb341b8b334945297338340",
            "3bd671aca9b84e66a29864c5c4c94bb2",
            "8262ea8eb2094de78d10d96245913962",
            "050ad22d564d45d3a8b0c57808ebf799"
          ]
        },
        "id": "iMkzEgybrB5C",
        "outputId": "5bb60841-22dc-4a81-b6bb-9a4897d37256"
      },
      "outputs": [
        {
          "name": "stderr",
          "output_type": "stream",
          "text": [
            "/usr/local/lib/python3.9/dist-packages/torchvision/models/_utils.py:223: UserWarning: Arguments other than a weight enum or `None` for 'weights' are deprecated since 0.13 and may be removed in the future. The current behavior is equivalent to passing `weights=Swin_T_Weights.IMAGENET1K_V1`. You can also use `weights=Swin_T_Weights.DEFAULT` to get the most up-to-date weights.\n",
            "  warnings.warn(msg)\n",
            "Downloading: \"https://download.pytorch.org/models/swin_t-704ceda3.pth\" to /root/.cache/torch/hub/checkpoints/swin_t-704ceda3.pth\n"
          ]
        },
        {
          "data": {
            "application/vnd.jupyter.widget-view+json": {
              "model_id": "a27b8ddaad0542d9a064eff29f23f705",
              "version_major": 2,
              "version_minor": 0
            },
            "text/plain": [
              "  0%|          | 0.00/108M [00:00<?, ?B/s]"
            ]
          },
          "metadata": {},
          "output_type": "display_data"
        }
      ],
      "source": [
        "model_swin_t = torchvision.models.swin_t(weights=torchvision.models.Swin_T_Weights).to(device)"
      ]
    },
    {
      "cell_type": "code",
      "execution_count": null,
      "metadata": {
        "id": "qxoLW91krrtW"
      },
      "outputs": [],
      "source": [
        "in_features = model_swin_t.head.in_features\n",
        "model_swin_t.head = nn.Linear(in_features, 2, device=device)"
      ]
    },
    {
      "cell_type": "code",
      "execution_count": null,
      "metadata": {
        "colab": {
          "base_uri": "https://localhost:8080/"
        },
        "id": "P3z-hT_YsO8S",
        "outputId": "b84bfc01-5029-44dc-9601-95beeeddc73b"
      },
      "outputs": [
        {
          "name": "stdout",
          "output_type": "stream",
          "text": [
            "-------------Epoch 1-------------\n",
            "batch: [  200], loss: 0.686\n",
            "temporary loss: 0.660671 | [60000/448200]\n",
            "batch: [  400], loss: 0.664\n",
            "temporary loss: 0.654136 | [120000/448200]\n",
            "batch: [  600], loss: 0.654\n",
            "temporary loss: 0.647109 | [180000/448200]\n",
            "batch: [  800], loss: 0.649\n",
            "temporary loss: 0.683547 | [240000/448200]\n",
            "batch: [ 1000], loss: 0.644\n",
            "temporary loss: 0.648290 | [300000/448200]\n",
            "batch: [ 1200], loss: 0.636\n",
            "temporary loss: 0.572090 | [360000/448200]\n",
            "batch: [ 1400], loss: 0.630\n",
            "temporary loss: 0.591263 | [420000/448200]\n",
            "Test Error: \n",
            " Accuracy: 66.0%\n",
            "Avg loss: 0.620104 \n",
            "\n",
            "-------------Epoch 2-------------\n",
            "batch: [  200], loss: 0.620\n",
            "temporary loss: 0.603444 | [60000/448200]\n",
            "batch: [  400], loss: 0.612\n",
            "temporary loss: 0.606232 | [120000/448200]\n",
            "batch: [  600], loss: 0.610\n",
            "temporary loss: 0.587703 | [180000/448200]\n",
            "batch: [  800], loss: 0.603\n",
            "temporary loss: 0.625941 | [240000/448200]\n",
            "batch: [ 1000], loss: 0.601\n",
            "temporary loss: 0.594695 | [300000/448200]\n",
            "batch: [ 1200], loss: 0.600\n",
            "temporary loss: 0.612616 | [360000/448200]\n",
            "batch: [ 1400], loss: 0.597\n",
            "temporary loss: 0.613439 | [420000/448200]\n",
            "Test Error: \n",
            " Accuracy: 69.3%\n",
            "Avg loss: 0.589698 \n",
            "\n",
            "-------------Epoch 3-------------\n",
            "batch: [  200], loss: 0.592\n",
            "temporary loss: 0.575971 | [60000/448200]\n",
            "batch: [  400], loss: 0.585\n",
            "temporary loss: 0.582260 | [120000/448200]\n",
            "batch: [  600], loss: 0.588\n",
            "temporary loss: 0.589049 | [180000/448200]\n",
            "batch: [  800], loss: 0.588\n",
            "temporary loss: 0.599338 | [240000/448200]\n",
            "batch: [ 1000], loss: 0.579\n",
            "temporary loss: 0.567222 | [300000/448200]\n",
            "batch: [ 1200], loss: 0.579\n",
            "temporary loss: 0.553906 | [360000/448200]\n",
            "batch: [ 1400], loss: 0.577\n",
            "temporary loss: 0.577026 | [420000/448200]\n",
            "Test Error: \n",
            " Accuracy: 70.7%\n",
            "Avg loss: 0.575073 \n",
            "\n",
            "-------------Epoch 4-------------\n",
            "batch: [  200], loss: 0.576\n",
            "temporary loss: 0.598135 | [60000/448200]\n",
            "batch: [  400], loss: 0.576\n",
            "temporary loss: 0.538625 | [120000/448200]\n",
            "batch: [  600], loss: 0.571\n",
            "temporary loss: 0.572125 | [180000/448200]\n",
            "batch: [  800], loss: 0.572\n",
            "temporary loss: 0.570927 | [240000/448200]\n",
            "batch: [ 1000], loss: 0.569\n",
            "temporary loss: 0.540959 | [300000/448200]\n",
            "batch: [ 1200], loss: 0.573\n",
            "temporary loss: 0.563722 | [360000/448200]\n",
            "batch: [ 1400], loss: 0.569\n",
            "temporary loss: 0.574618 | [420000/448200]\n",
            "Test Error: \n",
            " Accuracy: 71.1%\n",
            "Avg loss: 0.569385 \n",
            "\n",
            "-------------Epoch 5-------------\n",
            "batch: [  200], loss: 0.569\n",
            "temporary loss: 0.532368 | [60000/448200]\n",
            "batch: [  400], loss: 0.564\n",
            "temporary loss: 0.544433 | [120000/448200]\n",
            "batch: [  600], loss: 0.564\n",
            "temporary loss: 0.551588 | [180000/448200]\n",
            "batch: [  800], loss: 0.564\n",
            "temporary loss: 0.570288 | [240000/448200]\n",
            "batch: [ 1000], loss: 0.566\n",
            "temporary loss: 0.564365 | [300000/448200]\n",
            "batch: [ 1200], loss: 0.565\n",
            "temporary loss: 0.568734 | [360000/448200]\n",
            "batch: [ 1400], loss: 0.562\n",
            "temporary loss: 0.572652 | [420000/448200]\n",
            "Test Error: \n",
            " Accuracy: 71.7%\n",
            "Avg loss: 0.562162 \n",
            "\n",
            "Done!\n",
            "Time Consumption 8124.196672201157\n"
          ]
        }
      ],
      "source": [
        "lr_list = [1e-5] * 5\n",
        "time_start = time.time()\n",
        "for t in range( len(lr_list) ):\n",
        "    print(f\"-------------Epoch {t+1}-------------\")\n",
        "    #optimizer = optim.SGD(model.parameters(), lr=lr_list[t], momentum=0.9)\n",
        "    optimizer = optim.Adam(model_swin_t.parameters(), lr=lr_list[t])\n",
        "    train_loop(train_loader, model_swin_t, criterion, optimizer)\n",
        "    test_loop_Entropy(test_loader, model_swin_t, criterion)\n",
        "print(\"Done!\")\n",
        "time_end = time.time()\n",
        "print(\"Time Consumption\",time_end-time_start)\n",
        "path_1 = \"./gdrive/MyDrive/CMS_model/swin_t_task1_weights_01.pth\"\n",
        "torch.save(model_swin_t.state_dict(), path_1)"
      ]
    },
    {
      "cell_type": "code",
      "execution_count": null,
      "metadata": {
        "colab": {
          "base_uri": "https://localhost:8080/"
        },
        "id": "xe_4TzHtUelW",
        "outputId": "a08e8d55-a1ee-46c8-b39d-a827902402aa"
      },
      "outputs": [
        {
          "name": "stdout",
          "output_type": "stream",
          "text": [
            "Test Error: \n",
            " Accuracy: 72.3%\n",
            "Avg loss: 0.554204 \n",
            "\n"
          ]
        }
      ],
      "source": [
        "model_swin_t.load_state_dict( torch.load(\"./gdrive/MyDrive/CMS_model/swin_t_task1_weights_01.pth\") )\n",
        "test_loop_Entropy(test_loader, model_swin_t, criterion)"
      ]
    },
    {
      "cell_type": "code",
      "execution_count": null,
      "metadata": {
        "colab": {
          "background_save": true,
          "base_uri": "https://localhost:8080/"
        },
        "id": "qqVE6ssUVlUe",
        "outputId": "af131626-fbee-411c-f75f-51974fd6ce67"
      },
      "outputs": [
        {
          "name": "stdout",
          "output_type": "stream",
          "text": [
            "-------------Epoch 1-------------\n",
            "batch: [  200], loss: 0.559\n",
            "temporary loss: 0.552785 | [60000/448200]\n",
            "batch: [  400], loss: 0.558\n",
            "temporary loss: 0.517629 | [120000/448200]\n",
            "batch: [  600], loss: 0.560\n",
            "temporary loss: 0.563873 | [180000/448200]\n",
            "batch: [  800], loss: 0.561\n",
            "temporary loss: 0.563988 | [240000/448200]\n",
            "batch: [ 1000], loss: 0.560\n",
            "temporary loss: 0.578695 | [300000/448200]\n",
            "batch: [ 1200], loss: 0.559\n",
            "temporary loss: 0.604318 | [360000/448200]\n",
            "batch: [ 1400], loss: 0.558\n",
            "temporary loss: 0.554439 | [420000/448200]\n",
            "Test Error: \n",
            " Accuracy: 72.1%\n",
            "Avg loss: 0.556209 \n",
            "\n",
            "-------------Epoch 2-------------\n",
            "batch: [  200], loss: 0.556\n",
            "temporary loss: 0.553019 | [60000/448200]\n",
            "batch: [  400], loss: 0.550\n",
            "temporary loss: 0.566771 | [120000/448200]\n",
            "batch: [  600], loss: 0.558\n",
            "temporary loss: 0.611165 | [180000/448200]\n",
            "batch: [  800], loss: 0.554\n",
            "temporary loss: 0.582566 | [240000/448200]\n",
            "batch: [ 1000], loss: 0.557\n",
            "temporary loss: 0.518267 | [300000/448200]\n",
            "batch: [ 1200], loss: 0.554\n",
            "temporary loss: 0.536893 | [360000/448200]\n",
            "batch: [ 1400], loss: 0.556\n",
            "temporary loss: 0.580549 | [420000/448200]\n",
            "Test Error: \n",
            " Accuracy: 72.7%\n",
            "Avg loss: 0.549357 \n",
            "\n",
            "-------------Epoch 3-------------\n",
            "batch: [  200], loss: 0.555\n",
            "temporary loss: 0.577349 | [60000/448200]\n",
            "batch: [  400], loss: 0.553\n",
            "temporary loss: 0.561804 | [120000/448200]\n",
            "batch: [  600], loss: 0.555\n",
            "temporary loss: 0.562481 | [180000/448200]\n",
            "batch: [  800], loss: 0.553\n",
            "temporary loss: 0.514565 | [240000/448200]\n",
            "batch: [ 1000], loss: 0.551\n",
            "temporary loss: 0.539547 | [300000/448200]\n",
            "batch: [ 1200], loss: 0.548\n",
            "temporary loss: 0.525201 | [360000/448200]\n",
            "batch: [ 1400], loss: 0.547\n",
            "temporary loss: 0.556942 | [420000/448200]\n",
            "Test Error: \n",
            " Accuracy: 72.9%\n",
            "Avg loss: 0.546867 \n",
            "\n",
            "Done!\n",
            "Time Consumption 4869.749667167664\n"
          ]
        }
      ],
      "source": [
        "lr_list = [1e-5] * 3\n",
        "time_start = time.time()\n",
        "for t in range( len(lr_list) ):\n",
        "    print(f\"-------------Epoch {t+1}-------------\")\n",
        "    #optimizer = optim.SGD(model.parameters(), lr=lr_list[t], momentum=0.9)\n",
        "    optimizer = optim.Adam(model_swin_t.parameters(), lr=lr_list[t])\n",
        "    train_loop(train_loader, model_swin_t, criterion, optimizer)\n",
        "    test_loop_Entropy(test_loader, model_swin_t, criterion)\n",
        "print(\"Done!\")\n",
        "time_end = time.time()\n",
        "print(\"Time Consumption\",time_end-time_start)"
      ]
    },
    {
      "cell_type": "code",
      "execution_count": 27,
      "metadata": {
        "id": "RMIGMKCeYydN",
        "colab": {
          "base_uri": "https://localhost:8080/",
          "height": 35
        },
        "outputId": "f2d04706-5943-4600-e5de-ce3adba67cb5"
      },
      "outputs": [
        {
          "output_type": "execute_result",
          "data": {
            "text/plain": [
              "'\\nfrom google.colab import runtime\\nruntime.unassign()\\n'"
            ],
            "application/vnd.google.colaboratory.intrinsic+json": {
              "type": "string"
            }
          },
          "metadata": {},
          "execution_count": 27
        }
      ],
      "source": [
        "path_2 = \"./gdrive/MyDrive/CMS_model/swin_t_task1_weights_02.pth\"\n",
        "torch.save(model_swin_t.state_dict(), path_2)\n",
        "\"\"\"\n",
        "from google.colab import runtime\n",
        "runtime.unassign()\n",
        "\"\"\""
      ]
    },
    {
      "cell_type": "markdown",
      "metadata": {
        "id": "vyHWv6kzmmT2"
      },
      "source": [
        "### ROC-AUC (Swin Transformer)"
      ]
    },
    {
      "cell_type": "code",
      "execution_count": 28,
      "metadata": {
        "colab": {
          "base_uri": "https://localhost:8080/"
        },
        "outputId": "70ce27d8-a333-46cd-d1e3-b64a84957546",
        "id": "PGAsarpRmmT2"
      },
      "outputs": [
        {
          "output_type": "stream",
          "name": "stdout",
          "text": [
            "Process: 0.0\\%\n",
            "Process: 15.060240963855422\\%\n",
            "Process: 30.120481927710845\\%\n",
            "Process: 45.18072289156627\\%\n",
            "Process: 60.24096385542169\\%\n",
            "Process: 75.30120481927712\\%\n",
            "Process: 90.36144578313254\\%\n"
          ]
        }
      ],
      "source": [
        "total_prob_swin_t, total_label_swin_t = test_loop_prob(test_loader, model_swin_t)\n",
        "fpr, tpr, thresholds = metrics.roc_curve(total_label_swin_t, total_prob_swin_t)\n",
        "swin_t_AUC_1 = metrics.roc_auc_score(total_label_swin_t, total_prob_swin_t)"
      ]
    },
    {
      "cell_type": "code",
      "execution_count": 29,
      "metadata": {
        "colab": {
          "base_uri": "https://localhost:8080/"
        },
        "outputId": "8e219483-4162-4e4c-8dda-a8193691fe55",
        "id": "lOfTZE_lmmT3"
      },
      "outputs": [
        {
          "output_type": "stream",
          "name": "stdout",
          "text": [
            "The ROC-AUC score of Pre-trained Swin Transformer (tiny) is: 0.7972958309919672\n"
          ]
        }
      ],
      "source": [
        "print(\"The ROC-AUC score of Pre-trained Swin Transformer (tiny) is:\", swin_t_AUC_1)"
      ]
    },
    {
      "cell_type": "code",
      "execution_count": 30,
      "metadata": {
        "colab": {
          "base_uri": "https://localhost:8080/",
          "height": 472
        },
        "outputId": "58324e7f-6611-4760-a368-4596fc14c566",
        "id": "So3LdOpImmT3"
      },
      "outputs": [
        {
          "output_type": "display_data",
          "data": {
            "text/plain": [
              "<Figure size 640x480 with 1 Axes>"
            ],
            "image/png": "[encoded data removed]"
          },
          "metadata": {}
        }
      ],
      "source": [
        "plt.plot(fpr, tpr, \"--\", color=\"magenta\")\n",
        "#plt.plot([0,1],[0,1],\"--\")\n",
        "plt.grid()\n",
        "plt.xlabel(\"False Positive Rate\")\n",
        "plt.ylabel(\"True Positive Rate\")\n",
        "plt.title(\"ROC curve for Pre-trained Swin Transformer (tiny)\")\n",
        "plt.show()"
      ]
    },
    {
      "cell_type": "markdown",
      "source": [
        "## Conclusion"
      ],
      "metadata": {
        "id": "mF7EOsysmcm5"
      }
    },
    {
      "cell_type": "markdown",
      "source": [
        "1. Vision Transformer: 1e-3 (5 epochs), 1e-4 (4 epochs)\n",
        "\n",
        "Accuracy: 72.5%, ROC-AUC score: 0.80\n",
        "\n",
        "2. Swin Transformer (tiny): 1e-5 (8 epochs)\n",
        "\n",
        "Accuracy: 72.9%, ROC-AUC score: 0.80\n",
        "\n",
        "They have comparable performance. However, because the training of two vision transformer type models is computational expensive, the training is not pushed to the limit."
      ],
      "metadata": {
        "id": "sXdJ_Y-Jmfcz"
      }
    }
  ],
  "metadata": {
    "accelerator": "GPU",
    "colab": {
      "machine_shape": "hm",
      "provenance": []
    },
    "gpuClass": "premium",
    "kernelspec": {
      "display_name": "Python 3",
      "name": "python3"
    },
    "language_info": {
      "name": "python"
    },
    "widgets": {
      "application/vnd.jupyter.widget-state+json": {
        "050ad22d564d45d3a8b0c57808ebf799": {
          "model_module": "@jupyter-widgets/controls",
          "model_module_version": "1.5.0",
          "model_name": "DescriptionStyleModel",
          "state": {
            "_model_module": "@jupyter-widgets/controls",
            "_model_module_version": "1.5.0",
            "_model_name": "DescriptionStyleModel",
            "_view_count": null,
            "_view_module": "@jupyter-widgets/base",
            "_view_module_version": "1.2.0",
            "_view_name": "StyleView",
            "description_width": ""
          }
        },
        "0b2cd78fd270458084b180233110aaec": {
          "model_module": "@jupyter-widgets/controls",
          "model_module_version": "1.5.0",
          "model_name": "DescriptionStyleModel",
          "state": {
            "_model_module": "@jupyter-widgets/controls",
            "_model_module_version": "1.5.0",
            "_model_name": "DescriptionStyleModel",
            "_view_count": null,
            "_view_module": "@jupyter-widgets/base",
            "_view_module_version": "1.2.0",
            "_view_name": "StyleView",
            "description_width": ""
          }
        },
        "3409109c36e54137964e09d02dd2a450": {
          "model_module": "@jupyter-widgets/base",
          "model_module_version": "1.2.0",
          "model_name": "LayoutModel",
          "state": {
            "_model_module": "@jupyter-widgets/base",
            "_model_module_version": "1.2.0",
            "_model_name": "LayoutModel",
            "_view_count": null,
            "_view_module": "@jupyter-widgets/base",
            "_view_module_version": "1.2.0",
            "_view_name": "LayoutView",
            "align_content": null,
            "align_items": null,
            "align_self": null,
            "border": null,
            "bottom": null,
            "display": null,
            "flex": null,
            "flex_flow": null,
            "grid_area": null,
            "grid_auto_columns": null,
            "grid_auto_flow": null,
            "grid_auto_rows": null,
            "grid_column": null,
            "grid_gap": null,
            "grid_row": null,
            "grid_template_areas": null,
            "grid_template_columns": null,
            "grid_template_rows": null,
            "height": null,
            "justify_content": null,
            "justify_items": null,
            "left": null,
            "margin": null,
            "max_height": null,
            "max_width": null,
            "min_height": null,
            "min_width": null,
            "object_fit": null,
            "object_position": null,
            "order": null,
            "overflow": null,
            "overflow_x": null,
            "overflow_y": null,
            "padding": null,
            "right": null,
            "top": null,
            "visibility": null,
            "width": null
          }
        },
        "3bd671aca9b84e66a29864c5c4c94bb2": {
          "model_module": "@jupyter-widgets/controls",
          "model_module_version": "1.5.0",
          "model_name": "ProgressStyleModel",
          "state": {
            "_model_module": "@jupyter-widgets/controls",
            "_model_module_version": "1.5.0",
            "_model_name": "ProgressStyleModel",
            "_view_count": null,
            "_view_module": "@jupyter-widgets/base",
            "_view_module_version": "1.2.0",
            "_view_name": "StyleView",
            "bar_color": null,
            "description_width": ""
          }
        },
        "4f8877b6266f46f4b57b89fce0764909": {
          "model_module": "@jupyter-widgets/controls",
          "model_module_version": "1.5.0",
          "model_name": "HTMLModel",
          "state": {
            "_dom_classes": [],
            "_model_module": "@jupyter-widgets/controls",
            "_model_module_version": "1.5.0",
            "_model_name": "HTMLModel",
            "_view_count": null,
            "_view_module": "@jupyter-widgets/controls",
            "_view_module_version": "1.5.0",
            "_view_name": "HTMLView",
            "description": "",
            "description_tooltip": null,
            "layout": "IPY_MODEL_3409109c36e54137964e09d02dd2a450",
            "placeholder": "​",
            "style": "IPY_MODEL_0b2cd78fd270458084b180233110aaec",
            "value": "100%"
          }
        },
        "8262ea8eb2094de78d10d96245913962": {
          "model_module": "@jupyter-widgets/base",
          "model_module_version": "1.2.0",
          "model_name": "LayoutModel",
          "state": {
            "_model_module": "@jupyter-widgets/base",
            "_model_module_version": "1.2.0",
            "_model_name": "LayoutModel",
            "_view_count": null,
            "_view_module": "@jupyter-widgets/base",
            "_view_module_version": "1.2.0",
            "_view_name": "LayoutView",
            "align_content": null,
            "align_items": null,
            "align_self": null,
            "border": null,
            "bottom": null,
            "display": null,
            "flex": null,
            "flex_flow": null,
            "grid_area": null,
            "grid_auto_columns": null,
            "grid_auto_flow": null,
            "grid_auto_rows": null,
            "grid_column": null,
            "grid_gap": null,
            "grid_row": null,
            "grid_template_areas": null,
            "grid_template_columns": null,
            "grid_template_rows": null,
            "height": null,
            "justify_content": null,
            "justify_items": null,
            "left": null,
            "margin": null,
            "max_height": null,
            "max_width": null,
            "min_height": null,
            "min_width": null,
            "object_fit": null,
            "object_position": null,
            "order": null,
            "overflow": null,
            "overflow_x": null,
            "overflow_y": null,
            "padding": null,
            "right": null,
            "top": null,
            "visibility": null,
            "width": null
          }
        },
        "8c401de188d24005b74db0ff400af3b4": {
          "model_module": "@jupyter-widgets/controls",
          "model_module_version": "1.5.0",
          "model_name": "HTMLModel",
          "state": {
            "_dom_classes": [],
            "_model_module": "@jupyter-widgets/controls",
            "_model_module_version": "1.5.0",
            "_model_name": "HTMLModel",
            "_view_count": null,
            "_view_module": "@jupyter-widgets/controls",
            "_view_module_version": "1.5.0",
            "_view_name": "HTMLView",
            "description": "",
            "description_tooltip": null,
            "layout": "IPY_MODEL_8262ea8eb2094de78d10d96245913962",
            "placeholder": "​",
            "style": "IPY_MODEL_050ad22d564d45d3a8b0c57808ebf799",
            "value": " 108M/108M [00:04&lt;00:00, 28.7MB/s]"
          }
        },
        "8e12f943606444edb87d0d68b05a3615": {
          "model_module": "@jupyter-widgets/base",
          "model_module_version": "1.2.0",
          "model_name": "LayoutModel",
          "state": {
            "_model_module": "@jupyter-widgets/base",
            "_model_module_version": "1.2.0",
            "_model_name": "LayoutModel",
            "_view_count": null,
            "_view_module": "@jupyter-widgets/base",
            "_view_module_version": "1.2.0",
            "_view_name": "LayoutView",
            "align_content": null,
            "align_items": null,
            "align_self": null,
            "border": null,
            "bottom": null,
            "display": null,
            "flex": null,
            "flex_flow": null,
            "grid_area": null,
            "grid_auto_columns": null,
            "grid_auto_flow": null,
            "grid_auto_rows": null,
            "grid_column": null,
            "grid_gap": null,
            "grid_row": null,
            "grid_template_areas": null,
            "grid_template_columns": null,
            "grid_template_rows": null,
            "height": null,
            "justify_content": null,
            "justify_items": null,
            "left": null,
            "margin": null,
            "max_height": null,
            "max_width": null,
            "min_height": null,
            "min_width": null,
            "object_fit": null,
            "object_position": null,
            "order": null,
            "overflow": null,
            "overflow_x": null,
            "overflow_y": null,
            "padding": null,
            "right": null,
            "top": null,
            "visibility": null,
            "width": null
          }
        },
        "9b5e6a8a9cb341b8b334945297338340": {
          "model_module": "@jupyter-widgets/base",
          "model_module_version": "1.2.0",
          "model_name": "LayoutModel",
          "state": {
            "_model_module": "@jupyter-widgets/base",
            "_model_module_version": "1.2.0",
            "_model_name": "LayoutModel",
            "_view_count": null,
            "_view_module": "@jupyter-widgets/base",
            "_view_module_version": "1.2.0",
            "_view_name": "LayoutView",
            "align_content": null,
            "align_items": null,
            "align_self": null,
            "border": null,
            "bottom": null,
            "display": null,
            "flex": null,
            "flex_flow": null,
            "grid_area": null,
            "grid_auto_columns": null,
            "grid_auto_flow": null,
            "grid_auto_rows": null,
            "grid_column": null,
            "grid_gap": null,
            "grid_row": null,
            "grid_template_areas": null,
            "grid_template_columns": null,
            "grid_template_rows": null,
            "height": null,
            "justify_content": null,
            "justify_items": null,
            "left": null,
            "margin": null,
            "max_height": null,
            "max_width": null,
            "min_height": null,
            "min_width": null,
            "object_fit": null,
            "object_position": null,
            "order": null,
            "overflow": null,
            "overflow_x": null,
            "overflow_y": null,
            "padding": null,
            "right": null,
            "top": null,
            "visibility": null,
            "width": null
          }
        },
        "a27b8ddaad0542d9a064eff29f23f705": {
          "model_module": "@jupyter-widgets/controls",
          "model_module_version": "1.5.0",
          "model_name": "HBoxModel",
          "state": {
            "_dom_classes": [],
            "_model_module": "@jupyter-widgets/controls",
            "_model_module_version": "1.5.0",
            "_model_name": "HBoxModel",
            "_view_count": null,
            "_view_module": "@jupyter-widgets/controls",
            "_view_module_version": "1.5.0",
            "_view_name": "HBoxView",
            "box_style": "",
            "children": [
              "IPY_MODEL_4f8877b6266f46f4b57b89fce0764909",
              "IPY_MODEL_cac022d268364bd882c55b2274cf25fa",
              "IPY_MODEL_8c401de188d24005b74db0ff400af3b4"
            ],
            "layout": "IPY_MODEL_8e12f943606444edb87d0d68b05a3615"
          }
        },
        "cac022d268364bd882c55b2274cf25fa": {
          "model_module": "@jupyter-widgets/controls",
          "model_module_version": "1.5.0",
          "model_name": "FloatProgressModel",
          "state": {
            "_dom_classes": [],
            "_model_module": "@jupyter-widgets/controls",
            "_model_module_version": "1.5.0",
            "_model_name": "FloatProgressModel",
            "_view_count": null,
            "_view_module": "@jupyter-widgets/controls",
            "_view_module_version": "1.5.0",
            "_view_name": "ProgressView",
            "bar_style": "success",
            "description": "",
            "description_tooltip": null,
            "layout": "IPY_MODEL_9b5e6a8a9cb341b8b334945297338340",
            "max": 113445839,
            "min": 0,
            "orientation": "horizontal",
            "style": "IPY_MODEL_3bd671aca9b84e66a29864c5c4c94bb2",
            "value": 113445839
          }
        }
      }
    }
  },
  "nbformat": 4,
  "nbformat_minor": 0
}