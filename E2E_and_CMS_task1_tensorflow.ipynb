{
  "nbformat": 4,
  "nbformat_minor": 0,
  "metadata": {
    "colab": {
      "provenance": [],
      "machine_shape": "hm"
    },
    "kernelspec": {
      "name": "python3",
      "display_name": "Python 3"
    },
    "language_info": {
      "name": "python"
    },
    "accelerator": "GPU",
    "gpuClass": "standard"
  },
  "cells": [
    {
      "cell_type": "markdown",
      "source": [
        "# Task 1 (E2E and CMS): Photon/Electron Classification (TensorFlow/Keras version)\n",
        "### Chenguang Guan\n",
        "\n",
        "1. Details, discussion and notes are included in the Pytorch version. The TensorFlow/Keras version only includes the main results.\n",
        "\n",
        "2. Pytorch notebook explored various methods: MLP, CNN(LeNet), Simplified ResNet, Pre-trained ResNet-18, Pre-traiend (and not pre-traiend) VGG 16, Pre-trained Vision Transformer (ViT). \n",
        "\n",
        "3. While This notebook (TensorFlow version) mainly dicussed LeNet-5 (CNN structure) and Simplified ResNet."
      ],
      "metadata": {
        "id": "IqTmocm2LnAF"
      }
    },
    {
      "cell_type": "markdown",
      "metadata": {
        "id": "aFhbEUiCwKh5"
      },
      "source": [
        "## I. Preparation"
      ]
    },
    {
      "cell_type": "code",
      "execution_count": null,
      "metadata": {
        "colab": {
          "base_uri": "https://localhost:8080/"
        },
        "id": "-fwM201m560x",
        "outputId": "f8728a1a-638a-44cb-bfad-03d3582c45b4",
        "scrolled": false
      },
      "outputs": [
        {
          "name": "stdout",
          "output_type": "stream",
          "text": [
            "Fri Mar 31 12:43:57 2023       \n",
            "+-----------------------------------------------------------------------------+\n",
            "| NVIDIA-SMI 525.85.12    Driver Version: 525.85.12    CUDA Version: 12.0     |\n",
            "|-------------------------------+----------------------+----------------------+\n",
            "| GPU  Name        Persistence-M| Bus-Id        Disp.A | Volatile Uncorr. ECC |\n",
            "| Fan  Temp  Perf  Pwr:Usage/Cap|         Memory-Usage | GPU-Util  Compute M. |\n",
            "|                               |                      |               MIG M. |\n",
            "|===============================+======================+======================|\n",
            "|   0  NVIDIA A100-SXM...  Off  | 00000000:00:04.0 Off |                    0 |\n",
            "| N/A   37C    P0    49W / 400W |      3MiB / 40960MiB |      0%      Default |\n",
            "|                               |                      |             Disabled |\n",
            "+-------------------------------+----------------------+----------------------+\n",
            "                                                                               \n",
            "+-----------------------------------------------------------------------------+\n",
            "| Processes:                                                                  |\n",
            "|  GPU   GI   CI        PID   Type   Process name                  GPU Memory |\n",
            "|        ID   ID                                                   Usage      |\n",
            "|=============================================================================|\n",
            "|  No running processes found                                                 |\n",
            "+-----------------------------------------------------------------------------+\n"
          ]
        }
      ],
      "source": [
        "!/opt/bin/nvidia-smi"
      ]
    },
    {
      "cell_type": "code",
      "execution_count": 1,
      "metadata": {
        "colab": {
          "base_uri": "https://localhost:8080/"
        },
        "id": "L2llf81aoc1X",
        "outputId": "2b957fda-0f21-467f-e26d-111b8977ef54",
        "scrolled": false
      },
      "outputs": [
        {
          "output_type": "stream",
          "name": "stdout",
          "text": [
            "Mounted at /content/gdrive\n"
          ]
        }
      ],
      "source": [
        "from google.colab import drive\n",
        "drive.mount(\"/content/gdrive\", force_remount=True)"
      ]
    },
    {
      "cell_type": "code",
      "execution_count": 2,
      "metadata": {
        "id": "Z6JbsW9tCr9p"
      },
      "outputs": [],
      "source": [
        "!cp --recursive \"/content/gdrive/MyDrive/CMS_data\" ."
      ]
    },
    {
      "cell_type": "code",
      "execution_count": 3,
      "metadata": {
        "id": "iPugPqI5pJoE"
      },
      "outputs": [],
      "source": [
        "import h5py\n",
        "\n",
        "import numpy as np\n",
        "\n",
        "import tensorflow as tf\n",
        "from tensorflow.keras import datasets, layers, models\n",
        "import matplotlib.pyplot as plt\n",
        "\n",
        "\n",
        "import random\n",
        "import time\n",
        "\n",
        "from sklearn import metrics"
      ]
    },
    {
      "cell_type": "code",
      "execution_count": 4,
      "metadata": {
        "id": "SDo9IfxRTHYT"
      },
      "outputs": [],
      "source": [
        "import matplotlib.pyplot as plt"
      ]
    },
    {
      "cell_type": "markdown",
      "source": [
        "## II. Dataset"
      ],
      "metadata": {
        "id": "Z09l1TXilWp9"
      }
    },
    {
      "cell_type": "code",
      "execution_count": 5,
      "metadata": {
        "id": "_OrOYVH3pTUn"
      },
      "outputs": [],
      "source": [
        "shuffle_list = np.arange(0, 249000*2, 1) \n",
        "random.shuffle(shuffle_list)"
      ]
    },
    {
      "cell_type": "code",
      "execution_count": 6,
      "metadata": {
        "id": "N2E4S0mrICor"
      },
      "outputs": [],
      "source": [
        "f1 = h5py.File(r'/content/CMS_data/SingleElectronPt50_IMGCROPS_n249k_RHv1.hdf5', 'r')\n",
        "f2 = h5py.File(r'/content/CMS_data/SinglePhotonPt50_IMGCROPS_n249k_RHv1.hdf5', 'r')\n",
        "total_X = np.concatenate( (f1[\"X\"][:], f2[\"X\"][:] ), axis=0 )\n",
        "total_y = np.concatenate( (f1[\"y\"][:], f2[\"y\"][:] ), axis=0 )"
      ]
    },
    {
      "cell_type": "code",
      "execution_count": 7,
      "metadata": {
        "id": "JdFr9POuJP6u"
      },
      "outputs": [],
      "source": [
        "total_X = total_X[shuffle_list]\n",
        "total_y = total_y[shuffle_list].astype(int)"
      ]
    },
    {
      "cell_type": "code",
      "source": [
        "train_len = int( len(total_X) * 9/10 )"
      ],
      "metadata": {
        "id": "1jWsTmZcPaRW"
      },
      "execution_count": 8,
      "outputs": []
    },
    {
      "cell_type": "code",
      "execution_count": null,
      "metadata": {
        "id": "uVI9BGjN8sGR"
      },
      "outputs": [],
      "source": [
        "# total_X = np.concatenate( (total_X, total_X[:,:,:,:1]), axis = 3)"
      ]
    },
    {
      "cell_type": "markdown",
      "source": [
        "## III. LeNet-5 (CNN)"
      ],
      "metadata": {
        "id": "aoKvShwpMKeS"
      }
    },
    {
      "cell_type": "code",
      "source": [
        "model_CNN = models.Sequential()\n",
        "model_CNN.add(layers.Conv2D(filters=6, kernel_size = (5, 5), activation='relu', input_shape=(32, 32, 2)))\n",
        "model_CNN.add(layers.MaxPooling2D((2, 2)))\n",
        "model_CNN.add(layers.Conv2D(filters=16, kernel_size = (5, 5), activation='relu', input_shape=(14, 14, 6)) )\n",
        "model_CNN.add(layers.MaxPooling2D((2, 2)))\n",
        "model_CNN.add( layers.Flatten(input_shape=(5, 5, 16)) )\n",
        "model_CNN.add( layers.Dense(120, activation=\"relu\") )\n",
        "model_CNN.add( layers.Dense(84, activation=\"relu\") )\n",
        "model_CNN.add( layers.Dense(2) )"
      ],
      "metadata": {
        "id": "37tHoQcRMMMR"
      },
      "execution_count": null,
      "outputs": []
    },
    {
      "cell_type": "code",
      "source": [
        "model_CNN.compile(optimizer='adam',\n",
        "              loss=tf.keras.losses.SparseCategoricalCrossentropy(from_logits=True),\n",
        "              metrics=['accuracy'])"
      ],
      "metadata": {
        "id": "sLauI7KWPKzU"
      },
      "execution_count": null,
      "outputs": []
    },
    {
      "cell_type": "code",
      "source": [
        "model_CNN.fit(total_X[:train_len], total_y[:train_len], epochs=10 )"
      ],
      "metadata": {
        "colab": {
          "base_uri": "https://localhost:8080/"
        },
        "id": "XvcTXrHqPWGr",
        "outputId": "689d282a-987e-4e83-c48c-65a4df789cc3"
      },
      "execution_count": null,
      "outputs": [
        {
          "output_type": "stream",
          "name": "stdout",
          "text": [
            "Epoch 1/10\n",
            "14007/14007 [==============================] - 56s 3ms/step - loss: 0.6140 - accuracy: 0.6659\n",
            "Epoch 2/10\n",
            "14007/14007 [==============================] - 46s 3ms/step - loss: 0.5822 - accuracy: 0.7009\n",
            "Epoch 3/10\n",
            "14007/14007 [==============================] - 45s 3ms/step - loss: 0.5748 - accuracy: 0.7069\n",
            "Epoch 4/10\n",
            "14007/14007 [==============================] - 45s 3ms/step - loss: 0.5707 - accuracy: 0.7112\n",
            "Epoch 5/10\n",
            "14007/14007 [==============================] - 45s 3ms/step - loss: 0.5676 - accuracy: 0.7134\n",
            "Epoch 6/10\n",
            "14007/14007 [==============================] - 45s 3ms/step - loss: 0.5647 - accuracy: 0.7158\n",
            "Epoch 7/10\n",
            "14007/14007 [==============================] - 45s 3ms/step - loss: 0.5626 - accuracy: 0.7176\n",
            "Epoch 8/10\n",
            "14007/14007 [==============================] - 45s 3ms/step - loss: 0.5607 - accuracy: 0.7191\n",
            "Epoch 9/10\n",
            "14007/14007 [==============================] - 45s 3ms/step - loss: 0.5594 - accuracy: 0.7202\n",
            "Epoch 10/10\n",
            "14007/14007 [==============================] - 44s 3ms/step - loss: 0.5578 - accuracy: 0.7212\n"
          ]
        },
        {
          "output_type": "execute_result",
          "data": {
            "text/plain": [
              "<keras.callbacks.History at 0x7fab1001ce20>"
            ]
          },
          "metadata": {},
          "execution_count": 10
        }
      ]
    },
    {
      "cell_type": "code",
      "source": [
        "test_loss, test_acc = model_CNN.evaluate(total_X[train_len:], total_y[train_len:], verbose=2)"
      ],
      "metadata": {
        "colab": {
          "base_uri": "https://localhost:8080/"
        },
        "id": "2jE7hltoQECm",
        "outputId": "c5c99f1f-0bcc-4af1-890a-e3d7c6da5442"
      },
      "execution_count": null,
      "outputs": [
        {
          "output_type": "stream",
          "name": "stdout",
          "text": [
            "1557/1557 - 3s - loss: 0.5570 - accuracy: 0.7223 - 3s/epoch - 2ms/step\n"
          ]
        }
      ]
    },
    {
      "cell_type": "code",
      "source": [
        "print('\\nTest accuracy:', test_acc, '\\nTest loss:', test_loss)"
      ],
      "metadata": {
        "colab": {
          "base_uri": "https://localhost:8080/"
        },
        "id": "MI-7F8mSQPyL",
        "outputId": "9ff1fa83-8751-4691-f724-a13d8c68ac76"
      },
      "execution_count": null,
      "outputs": [
        {
          "output_type": "stream",
          "name": "stdout",
          "text": [
            "\n",
            "Test accuracy: 0.7223494052886963 \n",
            "Test loss: 0.5569549798965454\n"
          ]
        }
      ]
    },
    {
      "cell_type": "code",
      "source": [
        "probability_model = tf.keras.Sequential([model_CNN, \n",
        "                                         tf.keras.layers.Softmax()])\n",
        "predictions = probability_model.predict(total_X[train_len:])"
      ],
      "metadata": {
        "colab": {
          "base_uri": "https://localhost:8080/"
        },
        "id": "uEjvprLjT5wk",
        "outputId": "5f05d473-62fc-4d57-ab52-e3d0aba04db0"
      },
      "execution_count": null,
      "outputs": [
        {
          "output_type": "stream",
          "name": "stdout",
          "text": [
            "1557/1557 [==============================] - 2s 1ms/step\n"
          ]
        }
      ]
    },
    {
      "cell_type": "code",
      "execution_count": null,
      "metadata": {
        "id": "kphDm9FPSM1N"
      },
      "outputs": [],
      "source": [
        "fpr, tpr, thresholds = metrics.roc_curve(total_y[train_len:], predictions[:, 1:])\n",
        "AUC_score = metrics.roc_auc_score(total_y[train_len:], predictions[:, 1:])"
      ]
    },
    {
      "cell_type": "code",
      "execution_count": null,
      "metadata": {
        "colab": {
          "base_uri": "https://localhost:8080/"
        },
        "id": "0CQ-iD9PSM1N",
        "outputId": "9fc2670f-b6a9-4166-b4a0-19c1262947d7"
      },
      "outputs": [
        {
          "output_type": "stream",
          "name": "stdout",
          "text": [
            "The ROC-AUC score of Single Channel Simpified ResNet is: 0.7867998944809327\n"
          ]
        }
      ],
      "source": [
        "print(\"The ROC-AUC score of LeNet-5 is:\", AUC_score)"
      ]
    },
    {
      "cell_type": "code",
      "execution_count": null,
      "metadata": {
        "colab": {
          "base_uri": "https://localhost:8080/",
          "height": 472
        },
        "id": "i6k2QybaSM1O",
        "outputId": "85991692-97e7-4add-fd52-b485ee357a46"
      },
      "outputs": [
        {
          "output_type": "display_data",
          "data": {
            "text/plain": [
              "<Figure size 640x480 with 1 Axes>"
            ],
            "image/png": "[encoded data removed]"
          },
          "metadata": {}
        }
      ],
      "source": [
        "plt.plot(fpr, tpr, \"--\", color=\"magenta\")\n",
        "#plt.plot([0,1],[0,1],\"--\")\n",
        "plt.grid()\n",
        "plt.xlabel(\"False Positive Rate\")\n",
        "plt.ylabel(\"True Positive Rate\")\n",
        "plt.title(\"ROC curve for LeNet-5\")\n",
        "plt.show()"
      ]
    },
    {
      "cell_type": "markdown",
      "source": [
        "## IV. Simplified ResNet (two blocks)"
      ],
      "metadata": {
        "id": "pYwUWnJpU8kV"
      }
    },
    {
      "cell_type": "code",
      "source": [
        "class ResBlock(tf.keras.Model):\n",
        "  def __init__(self, channels_in):\n",
        "    super(ResBlock, self).__init__()\n",
        "    filters1, filters2 = 30, channels_in\n",
        "\n",
        "    self.conv2a = layers.Conv2D(filters1, kernel_size = (5, 5), padding=\"same\")\n",
        "    self.bn2a = layers.BatchNormalization()\n",
        "\n",
        "    self.conv2b = layers.Conv2D(filters2, kernel_size = (3, 3), padding='same')\n",
        "    self.bn2b = layers.BatchNormalization()\n",
        "\n",
        "  def call(self, input_tensor, training=False):\n",
        "    x = self.conv2a(input_tensor)\n",
        "    x = self.bn2a(x, training=training)\n",
        "    x = tf.nn.relu(x)\n",
        "\n",
        "    x = self.conv2b(x)\n",
        "    x = self.bn2b(x, training=training)\n",
        "\n",
        "    x += input_tensor\n",
        "    return tf.nn.relu(x)"
      ],
      "metadata": {
        "id": "IF4TFfzBf0BJ"
      },
      "execution_count": 14,
      "outputs": []
    },
    {
      "cell_type": "code",
      "source": [
        "model_Simple_ResNet = models.Sequential()\n",
        "model_Simple_ResNet.add( layers.Conv2D(filters=20, kernel_size = (5, 5), activation='relu', input_shape=(32, 32, 2)) )\n",
        "model_Simple_ResNet.add( layers.MaxPooling2D((2, 2)) )\n",
        "block1 = ResBlock(channels_in=20) \n",
        "model_Simple_ResNet.add( block1 )\n",
        "model_Simple_ResNet.add( layers.Conv2D(filters=15, kernel_size = (3, 3), activation='relu', input_shape=(None, None, 20)) )\n",
        "model_Simple_ResNet.add( layers.MaxPooling2D((2, 2)) )\n",
        "block2 = ResBlock(channels_in=15) \n",
        "model_Simple_ResNet.add( block2 )\n",
        "model_Simple_ResNet.add( layers.Flatten(input_shape=(6, 6, 15)) )\n",
        "model_Simple_ResNet.add( layers.Dense(100, activation=\"relu\") )\n",
        "model_Simple_ResNet.add( layers.Dense(2) )"
      ],
      "metadata": {
        "id": "Yg5KuHTpg17C"
      },
      "execution_count": 15,
      "outputs": []
    },
    {
      "cell_type": "code",
      "source": [
        "model_Simple_ResNet.compile(optimizer='adam',\n",
        "              loss=tf.keras.losses.SparseCategoricalCrossentropy(from_logits=True),\n",
        "              metrics=['accuracy'])"
      ],
      "metadata": {
        "id": "erVPjYPwlkK7"
      },
      "execution_count": 17,
      "outputs": []
    },
    {
      "cell_type": "code",
      "source": [
        "model_Simple_ResNet.fit(total_X[:train_len], total_y[:train_len], epochs=10 )"
      ],
      "metadata": {
        "colab": {
          "base_uri": "https://localhost:8080/"
        },
        "id": "qMVS6v12jrJL",
        "outputId": "3811ba2f-af73-484d-bfd9-d4d276ee28a9"
      },
      "execution_count": 18,
      "outputs": [
        {
          "output_type": "stream",
          "name": "stdout",
          "text": [
            "Epoch 1/10\n",
            "14007/14007 [==============================] - 84s 5ms/step - loss: 0.6133 - accuracy: 0.6670\n",
            "Epoch 2/10\n",
            "14007/14007 [==============================] - 72s 5ms/step - loss: 0.5758 - accuracy: 0.7069\n",
            "Epoch 3/10\n",
            "14007/14007 [==============================] - 72s 5ms/step - loss: 0.5674 - accuracy: 0.7138\n",
            "Epoch 4/10\n",
            "14007/14007 [==============================] - 72s 5ms/step - loss: 0.5622 - accuracy: 0.7170\n",
            "Epoch 5/10\n",
            "14007/14007 [==============================] - 72s 5ms/step - loss: 0.5587 - accuracy: 0.7199\n",
            "Epoch 6/10\n",
            "14007/14007 [==============================] - 73s 5ms/step - loss: 0.5556 - accuracy: 0.7216\n",
            "Epoch 7/10\n",
            "14007/14007 [==============================] - 72s 5ms/step - loss: 0.5532 - accuracy: 0.7247\n",
            "Epoch 8/10\n",
            "14007/14007 [==============================] - 72s 5ms/step - loss: 0.5511 - accuracy: 0.7257\n",
            "Epoch 9/10\n",
            "14007/14007 [==============================] - 72s 5ms/step - loss: 0.5497 - accuracy: 0.7271\n",
            "Epoch 10/10\n",
            "14007/14007 [==============================] - 73s 5ms/step - loss: 0.5479 - accuracy: 0.7277\n"
          ]
        },
        {
          "output_type": "execute_result",
          "data": {
            "text/plain": [
              "<keras.callbacks.History at 0x7f8adffb4fa0>"
            ]
          },
          "metadata": {},
          "execution_count": 18
        }
      ]
    },
    {
      "cell_type": "code",
      "source": [
        "test_loss, test_acc = model_Simple_ResNet.evaluate(total_X[train_len:], total_y[train_len:], verbose=2)\n",
        "print('\\nTest accuracy:', test_acc, '\\nTest loss:', test_loss)"
      ],
      "metadata": {
        "colab": {
          "base_uri": "https://localhost:8080/"
        },
        "outputId": "266f675d-4fb2-4528-a83d-9e13de62812e",
        "id": "DARJ0va-jzLz"
      },
      "execution_count": 19,
      "outputs": [
        {
          "output_type": "stream",
          "name": "stdout",
          "text": [
            "1557/1557 - 3s - loss: 0.5775 - accuracy: 0.7039 - 3s/epoch - 2ms/step\n",
            "\n",
            "Test accuracy: 0.7038553953170776 \n",
            "Test loss: 0.5774676203727722\n"
          ]
        }
      ]
    },
    {
      "cell_type": "code",
      "source": [
        "probability_model = tf.keras.Sequential([model_Simple_ResNet, \n",
        "                                         tf.keras.layers.Softmax()])\n",
        "predictions = probability_model.predict(total_X[train_len:])"
      ],
      "metadata": {
        "colab": {
          "base_uri": "https://localhost:8080/"
        },
        "outputId": "7025b16c-ba3b-4189-e10b-678487d0b8f2",
        "id": "5rYCxYqLjzL1"
      },
      "execution_count": 20,
      "outputs": [
        {
          "output_type": "stream",
          "name": "stdout",
          "text": [
            "1557/1557 [==============================] - 3s 2ms/step\n"
          ]
        }
      ]
    },
    {
      "cell_type": "code",
      "execution_count": 21,
      "metadata": {
        "id": "2PuT-ap8jzL1"
      },
      "outputs": [],
      "source": [
        "fpr, tpr, thresholds = metrics.roc_curve(total_y[train_len:], predictions[:, 1:])\n",
        "AUC_score = metrics.roc_auc_score(total_y[train_len:], predictions[:, 1:])"
      ]
    },
    {
      "cell_type": "code",
      "execution_count": 22,
      "metadata": {
        "colab": {
          "base_uri": "https://localhost:8080/"
        },
        "outputId": "f4cc3afd-897b-41d6-96ed-2323a3da896e",
        "id": "2-E6QDaWjzL1"
      },
      "outputs": [
        {
          "output_type": "stream",
          "name": "stdout",
          "text": [
            "The ROC-AUC score of Simplified ResNet is: 0.7816885715092157\n"
          ]
        }
      ],
      "source": [
        "print(\"The ROC-AUC score of Simplified ResNet is:\", AUC_score)"
      ]
    },
    {
      "cell_type": "code",
      "execution_count": 23,
      "metadata": {
        "colab": {
          "base_uri": "https://localhost:8080/",
          "height": 472
        },
        "outputId": "0063a0f2-986b-42a0-c59a-97a1a6185535",
        "id": "NJbdxNT9jzL1"
      },
      "outputs": [
        {
          "output_type": "display_data",
          "data": {
            "text/plain": [
              "<Figure size 640x480 with 1 Axes>"
            ],
            "image/png": "[encoded data removed]"
          },
          "metadata": {}
        }
      ],
      "source": [
        "plt.plot(fpr, tpr, \"--\", color=\"magenta\")\n",
        "#plt.plot([0,1],[0,1],\"--\")\n",
        "plt.grid()\n",
        "plt.xlabel(\"False Positive Rate\")\n",
        "plt.ylabel(\"True Positive Rate\")\n",
        "plt.title(\"ROC curve for Simplified ResNet\")\n",
        "plt.show()"
      ]
    }
  ]
}