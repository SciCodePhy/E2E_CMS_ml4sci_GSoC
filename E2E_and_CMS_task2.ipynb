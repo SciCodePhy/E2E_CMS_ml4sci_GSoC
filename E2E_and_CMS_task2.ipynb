{
  "cells": [
    {
      "cell_type": "markdown",
      "metadata": {
        "id": "2L2ry885TuIU"
      },
      "source": [
        "# Task 2 (E2E and CMS): Quarks and Gluons Classification\n",
        "### Chenguang Guan\n",
        "\n",
        "In this task, we implement Simplified ResNet (with two ResBlocks) and Pre-trained ResNet-18."
      ]
    },
    {
      "cell_type": "markdown",
      "metadata": {
        "id": "w2FkSXn9UBx-"
      },
      "source": [
        "## I. Preparation"
      ]
    },
    {
      "cell_type": "code",
      "execution_count": null,
      "metadata": {
        "colab": {
          "base_uri": "https://localhost:8080/"
        },
        "id": "L2llf81aoc1X",
        "outputId": "1b5804fd-5ea0-4943-e7b1-963ed6fa6386",
        "scrolled": false
      },
      "outputs": [
        {
          "output_type": "stream",
          "name": "stdout",
          "text": [
            "Mounted at /content/gdrive\n"
          ]
        }
      ],
      "source": [
        "from google.colab import drive\n",
        "drive.mount(\"/content/gdrive\", force_remount=True)"
      ]
    },
    {
      "cell_type": "code",
      "execution_count": null,
      "metadata": {
        "id": "iPugPqI5pJoE"
      },
      "outputs": [],
      "source": [
        "import h5py\n",
        "import torch\n",
        "\n",
        "import numpy as np\n",
        "\n",
        "from torch.utils.data import Dataset, DataLoader\n",
        "\n",
        "import torchvision\n",
        "import torch.nn as nn\n",
        "import torch.nn.functional as F\n",
        "import torch.optim as optim\n",
        "\n",
        "import torchvision.transforms as transforms\n",
        "\n",
        "\n",
        "import random\n",
        "import time\n",
        "\n",
        "from sklearn import metrics"
      ]
    },
    {
      "cell_type": "code",
      "execution_count": null,
      "metadata": {
        "id": "SDo9IfxRTHYT"
      },
      "outputs": [],
      "source": [
        "import matplotlib.pyplot as plt"
      ]
    },
    {
      "cell_type": "code",
      "source": [
        "import pandas as pd"
      ],
      "metadata": {
        "id": "z_nWt9aAgPSZ"
      },
      "execution_count": null,
      "outputs": []
    },
    {
      "cell_type": "code",
      "execution_count": null,
      "metadata": {
        "colab": {
          "base_uri": "https://localhost:8080/"
        },
        "id": "7U_IYAN6qqGQ",
        "outputId": "dfab450d-3168-4020-923b-255c1a0b125c"
      },
      "outputs": [
        {
          "output_type": "stream",
          "name": "stdout",
          "text": [
            "Device is: cuda\n"
          ]
        }
      ],
      "source": [
        "device=torch.device('cuda' if torch.cuda.is_available() else 'cpu')\n",
        "print(\"Device is:\", device)"
      ]
    },
    {
      "cell_type": "markdown",
      "metadata": {
        "id": "yVMEn8TYUGOI"
      },
      "source": [
        "## II. Paraquet Dataset to Numpy Array "
      ]
    },
    {
      "cell_type": "markdown",
      "source": [
        "### Column: X_jets"
      ],
      "metadata": {
        "id": "m8JEbjERqTn2"
      }
    },
    {
      "cell_type": "code",
      "execution_count": null,
      "metadata": {
        "id": "FZ9xtYOgU_Zs"
      },
      "outputs": [],
      "source": [
        "path0 = \"/content/gdrive/MyDrive/CMS_task2_data/QCDToGGQQ_IMGjet_RH1all_jet0_run0_n36272.test.snappy.parquet\"\n",
        "path1 = \"/content/gdrive/MyDrive/CMS_task2_data/QCDToGGQQ_IMGjet_RH1all_jet0_run1_n47540.test.snappy.parquet\"\n",
        "path2 = \"/content/gdrive/MyDrive/CMS_task2_data/QCDToGGQQ_IMGjet_RH1all_jet0_run2_n55494.test.snappy.parquet\""
      ]
    },
    {
      "cell_type": "code",
      "execution_count": null,
      "metadata": {
        "id": "MbZU-3Tf3oRN"
      },
      "outputs": [],
      "source": [
        "def table_to_array(table, t):\n",
        "    temp_list = list()\n",
        "    for i in range(3):\n",
        "        temp_list.append(list())\n",
        "        for j in range(125):\n",
        "            temp_list[i].append( (table.iloc[t][\"X_jets\"][i][j]).astype(np.float32).tolist() )\n",
        "    return np.array(temp_list)"
      ]
    },
    {
      "cell_type": "code",
      "source": [
        "def table_to_npy(path_load, path_save):\n",
        "    table = pd.read_parquet(path_load, columns=[\"X_jets\"])\n",
        "    len_table = len(table)\n",
        "    X_list = list()\n",
        "    for i in range( len(table) ):\n",
        "        if i % 2000 == 0:\n",
        "            print(f\"{i}/{len_table}\")\n",
        "        X_list.append( table_to_array(table, i) )    \n",
        "    np.save(path_save, X_list)"
      ],
      "metadata": {
        "id": "YTBU2V8kngTg"
      },
      "execution_count": null,
      "outputs": []
    },
    {
      "cell_type": "code",
      "source": [
        "path_save_0 = \"/content/gdrive/MyDrive/CMS_task2_data/run0_float32.npy\"\n",
        "path_save_1 = \"/content/gdrive/MyDrive/CMS_task2_data/run1_float32.npy\"\n",
        "path_save_2 = \"/content/gdrive/MyDrive/CMS_task2_data/run2_float32.npy\""
      ],
      "metadata": {
        "id": "llQsnRihpv0q"
      },
      "execution_count": null,
      "outputs": []
    },
    {
      "cell_type": "code",
      "source": [
        "table_to_npy(path0, path_save_0)"
      ],
      "metadata": {
        "id": "Fia9hqwPqGLg"
      },
      "execution_count": null,
      "outputs": []
    },
    {
      "cell_type": "code",
      "source": [
        "table_to_npy(path1, path_save_1)"
      ],
      "metadata": {
        "id": "IaFMfX9gqmYf"
      },
      "execution_count": null,
      "outputs": []
    },
    {
      "cell_type": "code",
      "source": [
        "table_to_npy(path2, path_save_2)"
      ],
      "metadata": {
        "id": "UOM4iEGVqnzq"
      },
      "execution_count": null,
      "outputs": []
    },
    {
      "cell_type": "markdown",
      "source": [
        "### Column: y"
      ],
      "metadata": {
        "id": "7gW_KLvUrOTS"
      }
    },
    {
      "cell_type": "code",
      "source": [
        "def label_to_list(path_load, path_save):\n",
        "    table = pd.read_parquet(path_load, columns=[\"y\"])\n",
        "    label_list = list()\n",
        "    for i in range( len(table) ):\n",
        "        label_list.append( table.iloc[i][0] ) \n",
        "    np.save(path_save, label_list)"
      ],
      "metadata": {
        "id": "Ps8aqnD_rNcD"
      },
      "execution_count": null,
      "outputs": []
    },
    {
      "cell_type": "code",
      "source": [
        "label_save_0 = \"/content/gdrive/MyDrive/CMS_task2_data/label_0.npy\"\n",
        "label_save_1 = \"/content/gdrive/MyDrive/CMS_task2_data/label_1.npy\"\n",
        "label_save_2 = \"/content/gdrive/MyDrive/CMS_task2_data/label_2.npy\""
      ],
      "metadata": {
        "id": "4OcEcGohssqo"
      },
      "execution_count": null,
      "outputs": []
    },
    {
      "cell_type": "code",
      "source": [
        "label_to_list(path0, label_save_0)"
      ],
      "metadata": {
        "id": "YQ7PmHUbthbV"
      },
      "execution_count": null,
      "outputs": []
    },
    {
      "cell_type": "code",
      "source": [
        "label_to_list(path1, label_save_1)"
      ],
      "metadata": {
        "id": "zwHsT055tmdp"
      },
      "execution_count": null,
      "outputs": []
    },
    {
      "cell_type": "code",
      "source": [
        "label_to_list(path2, label_save_2)"
      ],
      "metadata": {
        "id": "CK-cyy7MtnEE"
      },
      "execution_count": null,
      "outputs": []
    },
    {
      "cell_type": "markdown",
      "source": [
        "## III. Dataset Class"
      ],
      "metadata": {
        "id": "Mnr8bqUgfOxJ"
      }
    },
    {
      "cell_type": "code",
      "source": [
        "\"\"\"\n",
        "f0 = np.load(\"/content/gdrive/MyDrive/CMS_task2_data/run0_whole.npy\")\n",
        "f1 = np.load(\"/content/gdrive/MyDrive/CMS_task2_data/run1_whole.npy\")\n",
        "f2 = np.load(\"/content/gdrive/MyDrive/CMS_task2_data/run2_whole.npy\")\n",
        "\"\"\""
      ],
      "metadata": {
        "id": "4ghdSdiUfK0t"
      },
      "execution_count": null,
      "outputs": []
    },
    {
      "cell_type": "code",
      "source": [
        "\n",
        "f0 = np.load(\"/content/gdrive/MyDrive/CMS_task2_data/run0_float32.npy\")\n",
        "f1 = np.load(\"/content/gdrive/MyDrive/CMS_task2_data/run1_float32.npy\")\n",
        "f2 = np.load(\"/content/gdrive/MyDrive/CMS_task2_data/run2_float32.npy\")\n"
      ],
      "metadata": {
        "id": "LVQzogICuQjn"
      },
      "execution_count": null,
      "outputs": []
    },
    {
      "cell_type": "code",
      "source": [
        "label_0 = np.load(\"/content/gdrive/MyDrive/CMS_task2_data/label_0.npy\").astype(int)\n",
        "label_1 = np.load(\"/content/gdrive/MyDrive/CMS_task2_data/label_1.npy\").astype(int)\n",
        "label_2 = np.load(\"/content/gdrive/MyDrive/CMS_task2_data/label_2.npy\").astype(int)"
      ],
      "metadata": {
        "id": "CQFQHPBYgHHo"
      },
      "execution_count": null,
      "outputs": []
    },
    {
      "cell_type": "code",
      "source": [
        "shuffle_list_0 = np.arange(0, len(label_0), 1) \n",
        "random.shuffle(shuffle_list_0)\n",
        "\n",
        "shuffle_list_1 = np.arange(0, len(label_1), 1) \n",
        "random.shuffle(shuffle_list_1)\n",
        "\n",
        "shuffle_list_2 = np.arange(0, len(label_2), 1) \n",
        "random.shuffle(shuffle_list_2)"
      ],
      "metadata": {
        "id": "ESk1aiDNi2mq"
      },
      "execution_count": null,
      "outputs": []
    },
    {
      "cell_type": "code",
      "source": [
        "f0 = f0[shuffle_list_0]\n",
        "label_0 = label_0[shuffle_list_0]\n",
        "\n",
        "f1 = f1[shuffle_list_1]\n",
        "label_1 = label_1[shuffle_list_1]\n",
        "\n",
        "f2 = f2[shuffle_list_2]\n",
        "label_2 = label_2[shuffle_list_2]"
      ],
      "metadata": {
        "id": "u0dwq-Q7jDkl"
      },
      "execution_count": null,
      "outputs": []
    },
    {
      "cell_type": "code",
      "source": [
        "f0 = torch.from_numpy(f0)\n",
        "f1 = torch.from_numpy(f1)\n",
        "f2 = torch.from_numpy(f2)"
      ],
      "metadata": {
        "id": "22l7cEBIvFv5"
      },
      "execution_count": null,
      "outputs": []
    },
    {
      "cell_type": "code",
      "source": [
        "f0 = f0.type(torch.FloatTensor)\n",
        "f1 = f1.type(torch.FloatTensor)\n",
        "f2 = f2.type(torch.FloatTensor)"
      ],
      "metadata": {
        "id": "X6PTLOg4wgcv"
      },
      "execution_count": null,
      "outputs": []
    },
    {
      "cell_type": "code",
      "source": [
        "class MyDataset(Dataset):\n",
        "    def __init__(self, train=True, transform=None, target_transform=None):\n",
        "        #global X_total, label_total\n",
        "        global f0, f1, f2\n",
        "        global label_1, label_2, label_3\n",
        "\n",
        "        self.transform = transform\n",
        "        self.target_transform = target_transform\n",
        "\n",
        "        self.train = train\n",
        "\n",
        "        self.l0 = len(label_0)\n",
        "        self.l1 = len(label_1)\n",
        "        self.l2 = len(label_2)\n",
        "\n",
        "        self.train_0, self.train_1, self.train_2 = int( self.l0 * 9/10), int( self.l1 * 9/10), int( self.l2 * 9/10)\n",
        "        self.test_0, self.test_1, self.test_2 = int( self.l0 / 10), int( self.l1 / 10), int( self.l2 / 10)\n",
        "            \n",
        "    def __len__(self):\n",
        "        if self.train:\n",
        "            return self.train_0 + self.train_1 + self.train_2\n",
        "        else:\n",
        "            return self.test_0 + self.test_1 + self.test_2\n",
        "    \n",
        "    def __getitem__(self,idx):\n",
        "        if self.train:\n",
        "            if idx < self.train_0:\n",
        "                image, label = f0[idx], label_0[idx]\n",
        "            elif self.train_0 <= idx < self.train_0 + self.train_1:\n",
        "                image, label = f1[idx - self.train_0], label_1[idx - self.train_0]\n",
        "            elif self.train_0 + self.train_1 <= idx:\n",
        "                image, label = f2[idx - self.train_0 - self.train_1], label_2[idx - self.train_0 - self.train_1]\n",
        "        else:\n",
        "            if idx < self.test_0:\n",
        "                image, label = f0[idx + self.train_0], label_0[idx + self.train_0]\n",
        "            elif self.test_0 <= idx < self.test_0 + self.test_1:\n",
        "                image, label = f1[idx - self.test_0 + self.train_1], label_1[idx - self.test_0 + self.train_1]\n",
        "            elif self.test_0 + self.test_1 <= idx:\n",
        "                image, label = f2[idx - self.test_0 - self.test_1 + self.train_2], label_2[idx - self.test_0 - self.test_1 + self.train_2]\n",
        "\n",
        "        if self.transform:\n",
        "            image = self.transform(image)\n",
        "        if self.target_transform:\n",
        "            label = self.target_transform(label)\n",
        "        \n",
        "        return image, label"
      ],
      "metadata": {
        "id": "EzZaYDQLjJ4q"
      },
      "execution_count": null,
      "outputs": []
    },
    {
      "cell_type": "code",
      "source": [
        "my_transform_pretrained = transforms.Resize((224,224))"
      ],
      "metadata": {
        "id": "6o8bScOyk-BK"
      },
      "execution_count": null,
      "outputs": []
    },
    {
      "cell_type": "markdown",
      "source": [
        "### Balanced Class"
      ],
      "metadata": {
        "id": "GMVyK4W_OkJq"
      }
    },
    {
      "cell_type": "markdown",
      "source": [
        "We can find that the dataset is class balanced."
      ],
      "metadata": {
        "id": "b7lDfcn_OpD5"
      }
    },
    {
      "cell_type": "code",
      "source": [
        "def Class_Imbalance(label_data):\n",
        "    sample_size = len(label_data)\n",
        "    class_0 = np.sum(label_data == 0)\n",
        "    class_1 = np.sum(label_data == 1)\n",
        "    print(f\"Number of Samples: {sample_size}, Class-0: {(100*class_0/sample_size):>0.1f}%, Class-1: {(100*class_1/sample_size):>0.1f}% \\n\")"
      ],
      "metadata": {
        "id": "Rm7nruRoNUuh"
      },
      "execution_count": null,
      "outputs": []
    },
    {
      "cell_type": "code",
      "source": [
        "Class_Imbalance(label_0)"
      ],
      "metadata": {
        "colab": {
          "base_uri": "https://localhost:8080/"
        },
        "id": "T2sm4OZnNxIn",
        "outputId": "7b7a98d2-2d1d-43ba-86f2-65ca2c97b36d"
      },
      "execution_count": null,
      "outputs": [
        {
          "output_type": "stream",
          "name": "stdout",
          "text": [
            "Number of Samples: 36272, Class-0: 50.0%, Class-1: 50.0% \n",
            "\n"
          ]
        }
      ]
    },
    {
      "cell_type": "code",
      "source": [
        "Class_Imbalance(label_1)"
      ],
      "metadata": {
        "colab": {
          "base_uri": "https://localhost:8080/"
        },
        "id": "qwXPPkeAOdBO",
        "outputId": "bc6d95f3-964f-4663-c60d-980fab484329"
      },
      "execution_count": null,
      "outputs": [
        {
          "output_type": "stream",
          "name": "stdout",
          "text": [
            "Number of Samples: 47540, Class-0: 50.0%, Class-1: 50.0% \n",
            "\n"
          ]
        }
      ]
    },
    {
      "cell_type": "code",
      "source": [
        "Class_Imbalance(label_2)"
      ],
      "metadata": {
        "colab": {
          "base_uri": "https://localhost:8080/"
        },
        "id": "A9gjHZqUOfPd",
        "outputId": "12bd3137-1645-4cd9-9340-761098f50a3d"
      },
      "execution_count": null,
      "outputs": [
        {
          "output_type": "stream",
          "name": "stdout",
          "text": [
            "Number of Samples: 55494, Class-0: 50.0%, Class-1: 50.0% \n",
            "\n"
          ]
        }
      ]
    },
    {
      "cell_type": "markdown",
      "source": [
        "## IV. Train and Test Loop"
      ],
      "metadata": {
        "id": "cRWuWLDFt-a9"
      }
    },
    {
      "cell_type": "code",
      "source": [
        "criterion = nn.CrossEntropyLoss()"
      ],
      "metadata": {
        "id": "0l4gzRkGrfnK"
      },
      "execution_count": null,
      "outputs": []
    },
    {
      "cell_type": "code",
      "execution_count": null,
      "metadata": {
        "id": "LwNKVkC2qk71"
      },
      "outputs": [],
      "source": [
        "def train_loop(dataloader, model, loss_fn, optimizer):\n",
        "    model.train()\n",
        "    \n",
        "    size = len(dataloader.dataset)\n",
        "    running_loss = 0.\n",
        "    #total_sample = 0\n",
        "    for batch_i, data in enumerate(dataloader):\n",
        "        # get the inputs; data is a list of [inputs, labels]\n",
        "        inputs, labels = data[0].to(device), data[1].to(device)\n",
        "        \n",
        "        # zero the parameter gradients\n",
        "        optimizer.zero_grad()\n",
        "        \n",
        "        # Compute prediction and loss\n",
        "        outputs = model(inputs)\n",
        "        loss = loss_fn(outputs, labels)\n",
        "        \n",
        "        # Backpropagation\n",
        "        loss.backward()\n",
        "        optimizer.step()\n",
        "        \n",
        "        # print statistics\n",
        "        running_loss += loss.item()\n",
        "        num_batch_print = 200\n",
        "        if batch_i % num_batch_print == num_batch_print - 1:\n",
        "            current = (batch_i + 1) * len(inputs)\n",
        "            print(f'batch: [{batch_i + 1:5d}], loss: {running_loss / num_batch_print:.3f}')\n",
        "            print(f'temporary loss: {loss.item():>7f} | [{current:>5d}/{size:>5d}]')\n",
        "            running_loss = 0"
      ]
    },
    {
      "cell_type": "code",
      "execution_count": null,
      "metadata": {
        "id": "e2qgnoTkqr41"
      },
      "outputs": [],
      "source": [
        "def test_loop_Entropy(dataloader, model, loss_fn):\n",
        "    model.eval()\n",
        "    #size = len(dataloader.dataset)\n",
        "    num_batches = len(dataloader)\n",
        "    \n",
        "    test_loss, correct = 0, 0\n",
        "    total = 0\n",
        "    \n",
        "    with torch.no_grad():\n",
        "        for data in dataloader:\n",
        "            # get the inputs for test dataset\n",
        "            images, labels = data[0].to(device), data[1].to(device)\n",
        "            \n",
        "            # calculate the outputs\n",
        "            outputs = model(images)\n",
        "            \n",
        "            # classify which class the output in\n",
        "            _, predicted = torch.max(outputs.data, 1)\n",
        "            #_, labels_value = torch.max(labels.data, 1)\n",
        "            \n",
        "            # obtain the statistics of test loss and correctness\n",
        "            test_loss += loss_fn(outputs, labels).item()\n",
        "            correct += (predicted == labels).sum().item() \n",
        "            #correct += (predicted == labels_value).sum().item() \n",
        "            total += labels.size(0)\n",
        "\n",
        "    print(f\"Test Error: \\n Accuracy: {(100 * correct / total):>0.1f}%\")\n",
        "    print(f\"Avg loss: {test_loss / num_batches:>8f} \\n\")"
      ]
    },
    {
      "cell_type": "code",
      "source": [
        "def test_loop_prob(dataloader, model):\n",
        "    model.eval()\n",
        "    #size = len(dataloader.dataset)\n",
        "    num_batches = len(dataloader)\n",
        "    \n",
        "    total_prob = list()\n",
        "    total_label = list()\n",
        "    i = 0\n",
        "    with torch.no_grad():\n",
        "        for (i, data) in enumerate(dataloader):\n",
        "            # get the inputs for test dataset\n",
        "            images, labels = data[0].to(device), data[1].to(device)\n",
        "            \n",
        "            # calculate the outputs\n",
        "            outputs = model(images)\n",
        "            probabilities = F.softmax(outputs, dim=1)[:, 1]\n",
        "            \n",
        "            total_prob += torch.Tensor.cpu(probabilities).numpy().tolist()\n",
        "            \n",
        "            total_label += torch.Tensor.cpu(labels).numpy().tolist()\n",
        "            \n",
        "            if i % 25 == 0:\n",
        "                print(f\"Process: {i/num_batches*100}\\%\")\n",
        "    return np.array(total_prob), np.array(total_label)"
      ],
      "metadata": {
        "id": "uHmyLwlg3tBp"
      },
      "execution_count": null,
      "outputs": []
    },
    {
      "cell_type": "markdown",
      "source": [
        "## V. Simplified ResNet (two block)"
      ],
      "metadata": {
        "id": "OrvEli7uvtmE"
      }
    },
    {
      "cell_type": "code",
      "execution_count": null,
      "metadata": {
        "id": "XbfiCkOJvGiP"
      },
      "outputs": [],
      "source": [
        "train_set = MyDataset(train=True)\n",
        "train_loader =  DataLoader(train_set, batch_size=500, shuffle=True)"
      ]
    },
    {
      "cell_type": "code",
      "execution_count": null,
      "metadata": {
        "id": "modMYdQfvGiQ"
      },
      "outputs": [],
      "source": [
        "test_set = MyDataset(train=False)\n",
        "test_loader =  DataLoader(test_set, batch_size=500, shuffle=False)"
      ]
    },
    {
      "cell_type": "code",
      "execution_count": null,
      "metadata": {
        "id": "0Avwlr7ck0H2"
      },
      "outputs": [],
      "source": [
        "class ResBlock(torch.nn.Module):\n",
        "    def __init__(self,channels_in):\n",
        "        super().__init__()\n",
        "        self.conv1=torch.nn.Conv2d(channels_in,30,5,padding=2)\n",
        "        self.conv2=torch.nn.Conv2d(30,channels_in,3,padding=1)\n",
        "\n",
        "    def forward(self,x):\n",
        "        out=self.conv1(x)\n",
        "        out=self.conv2(out)\n",
        "        return F.relu(out+x)"
      ]
    },
    {
      "cell_type": "code",
      "execution_count": null,
      "metadata": {
        "id": "ySrVis7hkwp1"
      },
      "outputs": [],
      "source": [
        "class ResNet(torch.nn.Module):\n",
        "    def __init__(self):\n",
        "        super().__init__()\n",
        "        self.conv1=torch.nn.Conv2d(3,20,5)\n",
        "        self.conv2=torch.nn.Conv2d(20,15,3)\n",
        "        self.maxpool=torch.nn.MaxPool2d(2)\n",
        "        self.resblock1=ResBlock(channels_in=20)\n",
        "        self.resblock2=ResBlock(channels_in=15)\n",
        "        self.full_c=torch.nn.Linear(29*29*15,2)\n",
        "\n",
        "    def forward(self,x):\n",
        "        size=x.shape[0]\n",
        "        x=F.relu(self.maxpool(self.conv1(x)))\n",
        "        x=self.resblock1(x)\n",
        "        x=F.relu(self.maxpool(self.conv2(x)))\n",
        "        x=self.resblock2(x)\n",
        "        x=x.view(size,-1)\n",
        "        x=self.full_c(x)\n",
        "        return x"
      ]
    },
    {
      "cell_type": "code",
      "source": [
        "model_Simple_ResNet = ResNet().to(device)"
      ],
      "metadata": {
        "id": "FH8p9zUGsc7k"
      },
      "execution_count": null,
      "outputs": []
    },
    {
      "cell_type": "code",
      "source": [
        "lr_list = [1e-3]*3\n",
        "time_start = time.time()\n",
        "for t in range( len(lr_list) ):\n",
        "    print(f\"-------------Epoch {t+1}-------------\")\n",
        "    #optimizer = optim.SGD(model.parameters(), lr=lr_list[t], momentum=0.9)\n",
        "    optimizer = optim.Adam(model_Simple_ResNet.parameters(), lr=lr_list[t])\n",
        "    train_loop(train_loader, model_Simple_ResNet, criterion, optimizer)\n",
        "    test_loop_Entropy(test_loader, model_Simple_ResNet, criterion)\n",
        "print(\"Done!\")\n",
        "time_end = time.time()\n",
        "print(\"Time Consumption\",time_end-time_start)"
      ],
      "metadata": {
        "id": "qCujDMqisX98",
        "colab": {
          "base_uri": "https://localhost:8080/"
        },
        "outputId": "eb54846f-41fa-48dc-d4ca-917bb293b7ba"
      },
      "execution_count": null,
      "outputs": [
        {
          "output_type": "stream",
          "name": "stdout",
          "text": [
            "-------------Epoch 1-------------\n",
            "batch: [  200], loss: 0.604\n",
            "temporary loss: 0.605804 | [100000/125374]\n",
            "Test Error: \n",
            " Accuracy: 72.5%\n",
            "Avg loss: 0.584747 \n",
            "\n",
            "-------------Epoch 2-------------\n",
            "batch: [  200], loss: 0.589\n",
            "temporary loss: 0.538509 | [100000/125374]\n",
            "Test Error: \n",
            " Accuracy: 71.9%\n",
            "Avg loss: 0.576762 \n",
            "\n",
            "-------------Epoch 3-------------\n",
            "batch: [  200], loss: 0.564\n",
            "temporary loss: 0.553783 | [100000/125374]\n",
            "Test Error: \n",
            " Accuracy: 72.2%\n",
            "Avg loss: 0.584553 \n",
            "\n",
            "Done!\n",
            "Time Consumption 79.72242164611816\n"
          ]
        }
      ]
    },
    {
      "cell_type": "code",
      "source": [
        "lr_list = [1e-3]*5 + [5e-4]*3 + [1e-4]*3\n",
        "time_start = time.time()\n",
        "for t in range( len(lr_list) ):\n",
        "    print(f\"-------------Epoch {t+1}-------------\")\n",
        "    #optimizer = optim.SGD(model.parameters(), lr=lr_list[t], momentum=0.9)\n",
        "    optimizer = optim.Adam(model_Simple_ResNet.parameters(), lr=lr_list[t])\n",
        "    train_loop(train_loader, model_Simple_ResNet, criterion, optimizer)\n",
        "    test_loop_Entropy(test_loader, model_Simple_ResNet, criterion)\n",
        "print(\"Done!\")\n",
        "time_end = time.time()\n",
        "print(\"Time Consumption\",time_end-time_start)"
      ],
      "metadata": {
        "colab": {
          "base_uri": "https://localhost:8080/"
        },
        "id": "NWM4dPJ4LVUr",
        "outputId": "72130ab2-e7c8-41f1-b64d-769ea47ad939"
      },
      "execution_count": null,
      "outputs": [
        {
          "output_type": "stream",
          "name": "stdout",
          "text": [
            "-------------Epoch 1-------------\n",
            "batch: [  200], loss: 0.559\n",
            "temporary loss: 0.544819 | [100000/125374]\n",
            "Test Error: \n",
            " Accuracy: 72.4%\n",
            "Avg loss: 0.570917 \n",
            "\n",
            "-------------Epoch 2-------------\n",
            "batch: [  200], loss: 0.554\n",
            "temporary loss: 0.583350 | [100000/125374]\n",
            "Test Error: \n",
            " Accuracy: 72.9%\n",
            "Avg loss: 0.563983 \n",
            "\n",
            "-------------Epoch 3-------------\n",
            "batch: [  200], loss: 0.550\n",
            "temporary loss: 0.560316 | [100000/125374]\n",
            "Test Error: \n",
            " Accuracy: 72.4%\n",
            "Avg loss: 0.578739 \n",
            "\n",
            "-------------Epoch 4-------------\n",
            "batch: [  200], loss: 0.547\n",
            "temporary loss: 0.577002 | [100000/125374]\n",
            "Test Error: \n",
            " Accuracy: 73.0%\n",
            "Avg loss: 0.558095 \n",
            "\n",
            "-------------Epoch 5-------------\n",
            "batch: [  200], loss: 0.547\n",
            "temporary loss: 0.562509 | [100000/125374]\n",
            "Test Error: \n",
            " Accuracy: 72.5%\n",
            "Avg loss: 0.566351 \n",
            "\n",
            "-------------Epoch 6-------------\n",
            "batch: [  200], loss: 0.538\n",
            "temporary loss: 0.533386 | [100000/125374]\n",
            "Test Error: \n",
            " Accuracy: 72.9%\n",
            "Avg loss: 0.565751 \n",
            "\n",
            "-------------Epoch 7-------------\n",
            "batch: [  200], loss: 0.535\n",
            "temporary loss: 0.530387 | [100000/125374]\n",
            "Test Error: \n",
            " Accuracy: 72.8%\n",
            "Avg loss: 0.562088 \n",
            "\n",
            "-------------Epoch 8-------------\n",
            "batch: [  200], loss: 0.535\n",
            "temporary loss: 0.514290 | [100000/125374]\n",
            "Test Error: \n",
            " Accuracy: 72.9%\n",
            "Avg loss: 0.563360 \n",
            "\n",
            "-------------Epoch 9-------------\n",
            "batch: [  200], loss: 0.527\n",
            "temporary loss: 0.508365 | [100000/125374]\n",
            "Test Error: \n",
            " Accuracy: 73.0%\n",
            "Avg loss: 0.564780 \n",
            "\n",
            "-------------Epoch 10-------------\n",
            "batch: [  200], loss: 0.526\n",
            "temporary loss: 0.533930 | [100000/125374]\n",
            "Test Error: \n",
            " Accuracy: 72.7%\n",
            "Avg loss: 0.565366 \n",
            "\n",
            "-------------Epoch 11-------------\n",
            "batch: [  200], loss: 0.524\n",
            "temporary loss: 0.531220 | [100000/125374]\n",
            "Test Error: \n",
            " Accuracy: 72.7%\n",
            "Avg loss: 0.562501 \n",
            "\n",
            "Done!\n",
            "Time Consumption 292.6962893009186\n"
          ]
        }
      ]
    },
    {
      "cell_type": "code",
      "execution_count": null,
      "metadata": {
        "colab": {
          "base_uri": "https://localhost:8080/"
        },
        "id": "kzCnX3vhK1Ya",
        "outputId": "ac93113f-7917-4fa4-a842-d64a6acffe5a"
      },
      "outputs": [
        {
          "output_type": "stream",
          "name": "stdout",
          "text": [
            "Process: 0.0\\%\n",
            "Process: 89.28571428571429\\%\n"
          ]
        }
      ],
      "source": [
        "total_prob_Simple_ResNet, total_label_Simple_ResNet = test_loop_prob(test_loader, model_Simple_ResNet)\n",
        "fpr, tpr, thresholds = metrics.roc_curve(total_label_Simple_ResNet, total_prob_Simple_ResNet)\n",
        "Simple_ResNet_AUC_1 = metrics.roc_auc_score(total_label_Simple_ResNet, total_prob_Simple_ResNet)"
      ]
    },
    {
      "cell_type": "code",
      "execution_count": null,
      "metadata": {
        "colab": {
          "base_uri": "https://localhost:8080/"
        },
        "id": "KYqbBt6TK1Yb",
        "outputId": "2b4ffc70-30fd-42d5-8af8-db7cda66c05d"
      },
      "outputs": [
        {
          "output_type": "stream",
          "name": "stdout",
          "text": [
            "The ROC-AUC score of Simplified ResNet is: 0.7945396722405302\n"
          ]
        }
      ],
      "source": [
        "print(\"The ROC-AUC score of Simplified ResNet is:\", Simple_ResNet_AUC_1)"
      ]
    },
    {
      "cell_type": "code",
      "execution_count": null,
      "metadata": {
        "colab": {
          "base_uri": "https://localhost:8080/",
          "height": 472
        },
        "id": "v6R8nR-FK1Yb",
        "outputId": "953d0736-dca0-43a9-ef38-6a3edf24fce9"
      },
      "outputs": [
        {
          "output_type": "display_data",
          "data": {
            "text/plain": [
              "<Figure size 640x480 with 1 Axes>"
            ],
            "image/png": "[encoded data removed]"
          },
          "metadata": {}
        }
      ],
      "source": [
        "plt.plot(fpr, tpr, \"--\", color=\"magenta\")\n",
        "#plt.plot([0,1],[0,1],\"--\")\n",
        "plt.grid()\n",
        "plt.xlabel(\"False Positive Rate\")\n",
        "plt.ylabel(\"True Positive Rate\")\n",
        "plt.title(\"ROC curve for Simplified ResNet\")\n",
        "plt.show()"
      ]
    },
    {
      "cell_type": "markdown",
      "source": [
        "## VI. Pre-trained ResNet-18"
      ],
      "metadata": {
        "id": "gJz8qveNwGgm"
      }
    },
    {
      "cell_type": "code",
      "execution_count": null,
      "metadata": {
        "id": "0S2EbXVsqVlh"
      },
      "outputs": [],
      "source": [
        "train_set = MyDataset(train=True, transform=my_transform_pretrained)\n",
        "train_loader =  DataLoader(train_set, batch_size=500, shuffle=True)"
      ]
    },
    {
      "cell_type": "code",
      "execution_count": null,
      "metadata": {
        "id": "kpi9YN64iyOF"
      },
      "outputs": [],
      "source": [
        "test_set = MyDataset(train=False, transform=my_transform_pretrained)\n",
        "test_loader =  DataLoader(test_set, batch_size=500, shuffle=False)"
      ]
    },
    {
      "cell_type": "code",
      "source": [
        "# Pre-trained ResNet18\n",
        "model_ResNet18 = torchvision.models.resnet18(pretrained=True).to(device)\n",
        "in_features = model_ResNet18.fc.in_features\n",
        "model_ResNet18.fc = nn.Linear(in_features, 2, device=device)"
      ],
      "metadata": {
        "colab": {
          "base_uri": "https://localhost:8080/",
          "height": 158,
          "referenced_widgets": [
            "61a60d01012b4185b5dbba44ef5a6e89",
            "b7f5c1d5131d4aa289c4092549d31c59",
            "f9a3a2b08fb9480abea440b657e211ba",
            "7675bc122ad543c883fb54aa2ad9cbde",
            "8da3a564a83849d78f956fc81fa3b9fe",
            "bf2d77b5323c4425bb9eadeaf62805ce",
            "96641ba2368c46a78bb6ae05b69c70e9",
            "6778928fc0724d50847f67f93f727c63",
            "c54e5fed8e484b1a94f1fce608df5bef",
            "44ec1a6cc9b74355b53e9cf903af839c",
            "1d8389bca6444ccfbfaba4114c6a3ec7"
          ]
        },
        "id": "EaaziUqrwJbx",
        "outputId": "36181066-7f21-4b42-ef2d-0f26e3494223"
      },
      "execution_count": null,
      "outputs": [
        {
          "output_type": "stream",
          "name": "stderr",
          "text": [
            "/usr/local/lib/python3.9/dist-packages/torchvision/models/_utils.py:208: UserWarning: The parameter 'pretrained' is deprecated since 0.13 and may be removed in the future, please use 'weights' instead.\n",
            "  warnings.warn(\n",
            "/usr/local/lib/python3.9/dist-packages/torchvision/models/_utils.py:223: UserWarning: Arguments other than a weight enum or `None` for 'weights' are deprecated since 0.13 and may be removed in the future. The current behavior is equivalent to passing `weights=ResNet18_Weights.IMAGENET1K_V1`. You can also use `weights=ResNet18_Weights.DEFAULT` to get the most up-to-date weights.\n",
            "  warnings.warn(msg)\n",
            "Downloading: \"https://download.pytorch.org/models/resnet18-f37072fd.pth\" to /root/.cache/torch/hub/checkpoints/resnet18-f37072fd.pth\n"
          ]
        },
        {
          "output_type": "display_data",
          "data": {
            "text/plain": [
              "  0%|          | 0.00/44.7M [00:00<?, ?B/s]"
            ],
            "application/vnd.jupyter.widget-view+json": {
              "version_major": 2,
              "version_minor": 0,
              "model_id": "61a60d01012b4185b5dbba44ef5a6e89"
            }
          },
          "metadata": {}
        }
      ]
    },
    {
      "cell_type": "code",
      "source": [
        "lr_list = [1e-2]*5\n",
        "time_start = time.time()\n",
        "# Pre-trained ResNet training\n",
        "for t in range( len(lr_list) ):\n",
        "    print(f\"-------------Epoch {t+1}-------------\")\n",
        "    #optimizer = optim.SGD(model.parameters(), lr=lr_list[t], momentum=0.9)\n",
        "    optimizer = optim.Adam(model_ResNet18.parameters(), lr=lr_list[t])\n",
        "    train_loop(train_loader, model_ResNet18, criterion, optimizer)\n",
        "    test_loop_Entropy(test_loader, model_ResNet18, criterion)\n",
        "print(\"Done!\")\n",
        "time_end = time.time()\n",
        "print(\"Time Consumption\",time_end-time_start)"
      ],
      "metadata": {
        "colab": {
          "base_uri": "https://localhost:8080/"
        },
        "id": "R6-HlECOwNzR",
        "outputId": "a6fdd8ed-9d2b-4f84-f926-466dae964224"
      },
      "execution_count": null,
      "outputs": [
        {
          "output_type": "stream",
          "name": "stdout",
          "text": [
            "-------------Epoch 1-------------\n",
            "batch: [  200], loss: 0.624\n",
            "temporary loss: 0.570575 | [100000/125374]\n",
            "Test Error: \n",
            " Accuracy: 71.0%\n",
            "Avg loss: 0.583181 \n",
            "\n",
            "-------------Epoch 2-------------\n",
            "batch: [  200], loss: 0.584\n",
            "temporary loss: 0.552795 | [100000/125374]\n",
            "Test Error: \n",
            " Accuracy: 72.1%\n",
            "Avg loss: 0.560117 \n",
            "\n",
            "-------------Epoch 3-------------\n",
            "batch: [  200], loss: 0.563\n",
            "temporary loss: 0.500992 | [100000/125374]\n",
            "Test Error: \n",
            " Accuracy: 71.9%\n",
            "Avg loss: 0.560136 \n",
            "\n",
            "-------------Epoch 4-------------\n",
            "batch: [  200], loss: 0.554\n",
            "temporary loss: 0.531729 | [100000/125374]\n",
            "Test Error: \n",
            " Accuracy: 72.3%\n",
            "Avg loss: 0.556892 \n",
            "\n",
            "-------------Epoch 5-------------\n",
            "batch: [  200], loss: 0.550\n",
            "temporary loss: 0.526258 | [100000/125374]\n",
            "Test Error: \n",
            " Accuracy: 72.5%\n",
            "Avg loss: 0.556605 \n",
            "\n",
            "Done!\n",
            "Time Consumption 529.226181268692\n"
          ]
        }
      ]
    },
    {
      "cell_type": "code",
      "source": [
        "lr_list = [1e-3]*5 + [1e-4]*5\n",
        "time_start = time.time()\n",
        "# Pre-trained ResNet training\n",
        "for t in range( len(lr_list) ):\n",
        "    print(f\"-------------Epoch {t+1}-------------\")\n",
        "    #optimizer = optim.SGD(model.parameters(), lr=lr_list[t], momentum=0.9)\n",
        "    optimizer = optim.Adam(model_ResNet18.parameters(), lr=lr_list[t])\n",
        "    train_loop(train_loader, model_ResNet18, criterion, optimizer)\n",
        "    test_loop_Entropy(test_loader, model_ResNet18, criterion)\n",
        "print(\"Done!\")\n",
        "time_end = time.time()\n",
        "path = \"./gdrive/MyDrive/CMS_model/ResNet_task2_weights_01.pth\"\n",
        "torch.save(model_ResNet18.state_dict(), path)\n",
        "print(\"Time Consumption\",time_end-time_start)"
      ],
      "metadata": {
        "colab": {
          "base_uri": "https://localhost:8080/"
        },
        "id": "pN9lqzLqzG2J",
        "outputId": "29c5a216-96da-4647-f3dc-a176f1d4348a"
      },
      "execution_count": null,
      "outputs": [
        {
          "output_type": "stream",
          "name": "stdout",
          "text": [
            "-------------Epoch 1-------------\n",
            "batch: [  200], loss: 0.543\n",
            "temporary loss: 0.529342 | [100000/125374]\n",
            "Test Error: \n",
            " Accuracy: 72.9%\n",
            "Avg loss: 0.548630 \n",
            "\n",
            "-------------Epoch 2-------------\n",
            "batch: [  200], loss: 0.541\n",
            "temporary loss: 0.533924 | [100000/125374]\n",
            "Test Error: \n",
            " Accuracy: 73.0%\n",
            "Avg loss: 0.548012 \n",
            "\n",
            "-------------Epoch 3-------------\n",
            "batch: [  200], loss: 0.540\n",
            "temporary loss: 0.545686 | [100000/125374]\n",
            "Test Error: \n",
            " Accuracy: 73.0%\n",
            "Avg loss: 0.547868 \n",
            "\n",
            "-------------Epoch 4-------------\n",
            "batch: [  200], loss: 0.540\n",
            "temporary loss: 0.551099 | [100000/125374]\n",
            "Test Error: \n",
            " Accuracy: 73.2%\n",
            "Avg loss: 0.547453 \n",
            "\n",
            "-------------Epoch 5-------------\n",
            "batch: [  200], loss: 0.538\n",
            "temporary loss: 0.562873 | [100000/125374]\n",
            "Test Error: \n",
            " Accuracy: 73.1%\n",
            "Avg loss: 0.547124 \n",
            "\n",
            "-------------Epoch 6-------------\n",
            "batch: [  200], loss: 0.537\n",
            "temporary loss: 0.560611 | [100000/125374]\n",
            "Test Error: \n",
            " Accuracy: 73.1%\n",
            "Avg loss: 0.546658 \n",
            "\n",
            "-------------Epoch 7-------------\n",
            "batch: [  200], loss: 0.538\n",
            "temporary loss: 0.520731 | [100000/125374]\n",
            "Test Error: \n",
            " Accuracy: 73.1%\n",
            "Avg loss: 0.546308 \n",
            "\n",
            "-------------Epoch 8-------------\n",
            "batch: [  200], loss: 0.535\n",
            "temporary loss: 0.533828 | [100000/125374]\n",
            "Test Error: \n",
            " Accuracy: 73.1%\n",
            "Avg loss: 0.546121 \n",
            "\n",
            "-------------Epoch 9-------------\n",
            "batch: [  200], loss: 0.538\n",
            "temporary loss: 0.555139 | [100000/125374]\n",
            "Test Error: \n",
            " Accuracy: 73.1%\n",
            "Avg loss: 0.546189 \n",
            "\n",
            "-------------Epoch 10-------------\n",
            "batch: [  200], loss: 0.535\n",
            "temporary loss: 0.509547 | [100000/125374]\n",
            "Test Error: \n",
            " Accuracy: 73.2%\n",
            "Avg loss: 0.545785 \n",
            "\n",
            "Done!\n",
            "Time Consumption 1044.590577840805\n"
          ]
        }
      ]
    },
    {
      "cell_type": "code",
      "source": [
        "model_ResNet18.load_state_dict( torch.load(\"./gdrive/MyDrive/CMS_model/ResNet_task2_weights_01.pth\") )\n",
        "test_loop_Entropy(test_loader, model_ResNet18, criterion)"
      ],
      "metadata": {
        "colab": {
          "base_uri": "https://localhost:8080/"
        },
        "id": "WetNnnUdMg_m",
        "outputId": "81ab04a4-ca49-4982-bd79-cc40e44b9bb8"
      },
      "execution_count": null,
      "outputs": [
        {
          "output_type": "stream",
          "name": "stdout",
          "text": [
            "Test Error: \n",
            " Accuracy: 73.5%\n",
            "Avg loss: 0.539640 \n",
            "\n"
          ]
        }
      ]
    },
    {
      "cell_type": "code",
      "execution_count": null,
      "metadata": {
        "colab": {
          "base_uri": "https://localhost:8080/"
        },
        "id": "F9Oa6-wVbPji",
        "outputId": "fb69c319-28ac-49f3-a1d9-fa8f17f57798"
      },
      "outputs": [
        {
          "output_type": "stream",
          "name": "stdout",
          "text": [
            "Process: 0.0\\%\n",
            "Process: 89.28571428571429\\%\n"
          ]
        }
      ],
      "source": [
        "total_prob_ResNet18, total_label_ResNet18 = test_loop_prob(test_loader, model_ResNet18)\n",
        "fpr, tpr, thresholds = metrics.roc_curve(total_label_ResNet18, total_prob_ResNet18)\n",
        "ResNet18_AUC_1 = metrics.roc_auc_score(total_label_ResNet18, total_prob_ResNet18)"
      ]
    },
    {
      "cell_type": "code",
      "execution_count": null,
      "metadata": {
        "colab": {
          "base_uri": "https://localhost:8080/"
        },
        "outputId": "30f20e4b-88e4-4480-c03f-f611305d2e14",
        "id": "gDRg66AITtOk"
      },
      "outputs": [
        {
          "output_type": "stream",
          "name": "stdout",
          "text": [
            "The ROC-AUC score of Pre-trained ResNet-18 is: 0.8051488444966706\n"
          ]
        }
      ],
      "source": [
        "print(\"The ROC-AUC score of Pre-trained ResNet-18 is:\", ResNet18_AUC_1)"
      ]
    },
    {
      "cell_type": "code",
      "execution_count": null,
      "metadata": {
        "colab": {
          "base_uri": "https://localhost:8080/",
          "height": 472
        },
        "id": "MkfD04z3bPjj",
        "outputId": "bd12d9ac-d52a-4425-c85b-0269e6915a3e"
      },
      "outputs": [
        {
          "output_type": "display_data",
          "data": {
            "text/plain": [
              "<Figure size 640x480 with 1 Axes>"
            ],
            "image/png": "[encoded data removed]"
          },
          "metadata": {}
        }
      ],
      "source": [
        "plt.plot(fpr, tpr, \"--\", color=\"magenta\")\n",
        "#plt.plot([0,1],[0,1],\"--\")\n",
        "plt.grid()\n",
        "plt.xlabel(\"False Positive Rate\")\n",
        "plt.ylabel(\"True Positive Rate\")\n",
        "plt.title(\"ROC curve for Pre-trained ResNet-18\")\n",
        "plt.show()"
      ]
    }
  ],
  "metadata": {
    "colab": {
      "machine_shape": "hm",
      "provenance": [],
      "collapsed_sections": [
        "yVMEn8TYUGOI",
        "m8JEbjERqTn2"
      ]
    },
    "gpuClass": "premium",
    "kernelspec": {
      "display_name": "Python 3",
      "name": "python3"
    },
    "language_info": {
      "name": "python"
    },
    "widgets": {
      "application/vnd.jupyter.widget-state+json": {
        "61a60d01012b4185b5dbba44ef5a6e89": {
          "model_module": "@jupyter-widgets/controls",
          "model_name": "HBoxModel",
          "model_module_version": "1.5.0",
          "state": {
            "_dom_classes": [],
            "_model_module": "@jupyter-widgets/controls",
            "_model_module_version": "1.5.0",
            "_model_name": "HBoxModel",
            "_view_count": null,
            "_view_module": "@jupyter-widgets/controls",
            "_view_module_version": "1.5.0",
            "_view_name": "HBoxView",
            "box_style": "",
            "children": [
              "IPY_MODEL_b7f5c1d5131d4aa289c4092549d31c59",
              "IPY_MODEL_f9a3a2b08fb9480abea440b657e211ba",
              "IPY_MODEL_7675bc122ad543c883fb54aa2ad9cbde"
            ],
            "layout": "IPY_MODEL_8da3a564a83849d78f956fc81fa3b9fe"
          }
        },
        "b7f5c1d5131d4aa289c4092549d31c59": {
          "model_module": "@jupyter-widgets/controls",
          "model_name": "HTMLModel",
          "model_module_version": "1.5.0",
          "state": {
            "_dom_classes": [],
            "_model_module": "@jupyter-widgets/controls",
            "_model_module_version": "1.5.0",
            "_model_name": "HTMLModel",
            "_view_count": null,
            "_view_module": "@jupyter-widgets/controls",
            "_view_module_version": "1.5.0",
            "_view_name": "HTMLView",
            "description": "",
            "description_tooltip": null,
            "layout": "IPY_MODEL_bf2d77b5323c4425bb9eadeaf62805ce",
            "placeholder": "​",
            "style": "IPY_MODEL_96641ba2368c46a78bb6ae05b69c70e9",
            "value": "100%"
          }
        },
        "f9a3a2b08fb9480abea440b657e211ba": {
          "model_module": "@jupyter-widgets/controls",
          "model_name": "FloatProgressModel",
          "model_module_version": "1.5.0",
          "state": {
            "_dom_classes": [],
            "_model_module": "@jupyter-widgets/controls",
            "_model_module_version": "1.5.0",
            "_model_name": "FloatProgressModel",
            "_view_count": null,
            "_view_module": "@jupyter-widgets/controls",
            "_view_module_version": "1.5.0",
            "_view_name": "ProgressView",
            "bar_style": "success",
            "description": "",
            "description_tooltip": null,
            "layout": "IPY_MODEL_6778928fc0724d50847f67f93f727c63",
            "max": 46830571,
            "min": 0,
            "orientation": "horizontal",
            "style": "IPY_MODEL_c54e5fed8e484b1a94f1fce608df5bef",
            "value": 46830571
          }
        },
        "7675bc122ad543c883fb54aa2ad9cbde": {
          "model_module": "@jupyter-widgets/controls",
          "model_name": "HTMLModel",
          "model_module_version": "1.5.0",
          "state": {
            "_dom_classes": [],
            "_model_module": "@jupyter-widgets/controls",
            "_model_module_version": "1.5.0",
            "_model_name": "HTMLModel",
            "_view_count": null,
            "_view_module": "@jupyter-widgets/controls",
            "_view_module_version": "1.5.0",
            "_view_name": "HTMLView",
            "description": "",
            "description_tooltip": null,
            "layout": "IPY_MODEL_44ec1a6cc9b74355b53e9cf903af839c",
            "placeholder": "​",
            "style": "IPY_MODEL_1d8389bca6444ccfbfaba4114c6a3ec7",
            "value": " 44.7M/44.7M [00:00&lt;00:00, 82.1MB/s]"
          }
        },
        "8da3a564a83849d78f956fc81fa3b9fe": {
          "model_module": "@jupyter-widgets/base",
          "model_name": "LayoutModel",
          "model_module_version": "1.2.0",
          "state": {
            "_model_module": "@jupyter-widgets/base",
            "_model_module_version": "1.2.0",
            "_model_name": "LayoutModel",
            "_view_count": null,
            "_view_module": "@jupyter-widgets/base",
            "_view_module_version": "1.2.0",
            "_view_name": "LayoutView",
            "align_content": null,
            "align_items": null,
            "align_self": null,
            "border": null,
            "bottom": null,
            "display": null,
            "flex": null,
            "flex_flow": null,
            "grid_area": null,
            "grid_auto_columns": null,
            "grid_auto_flow": null,
            "grid_auto_rows": null,
            "grid_column": null,
            "grid_gap": null,
            "grid_row": null,
            "grid_template_areas": null,
            "grid_template_columns": null,
            "grid_template_rows": null,
            "height": null,
            "justify_content": null,
            "justify_items": null,
            "left": null,
            "margin": null,
            "max_height": null,
            "max_width": null,
            "min_height": null,
            "min_width": null,
            "object_fit": null,
            "object_position": null,
            "order": null,
            "overflow": null,
            "overflow_x": null,
            "overflow_y": null,
            "padding": null,
            "right": null,
            "top": null,
            "visibility": null,
            "width": null
          }
        },
        "bf2d77b5323c4425bb9eadeaf62805ce": {
          "model_module": "@jupyter-widgets/base",
          "model_name": "LayoutModel",
          "model_module_version": "1.2.0",
          "state": {
            "_model_module": "@jupyter-widgets/base",
            "_model_module_version": "1.2.0",
            "_model_name": "LayoutModel",
            "_view_count": null,
            "_view_module": "@jupyter-widgets/base",
            "_view_module_version": "1.2.0",
            "_view_name": "LayoutView",
            "align_content": null,
            "align_items": null,
            "align_self": null,
            "border": null,
            "bottom": null,
            "display": null,
            "flex": null,
            "flex_flow": null,
            "grid_area": null,
            "grid_auto_columns": null,
            "grid_auto_flow": null,
            "grid_auto_rows": null,
            "grid_column": null,
            "grid_gap": null,
            "grid_row": null,
            "grid_template_areas": null,
            "grid_template_columns": null,
            "grid_template_rows": null,
            "height": null,
            "justify_content": null,
            "justify_items": null,
            "left": null,
            "margin": null,
            "max_height": null,
            "max_width": null,
            "min_height": null,
            "min_width": null,
            "object_fit": null,
            "object_position": null,
            "order": null,
            "overflow": null,
            "overflow_x": null,
            "overflow_y": null,
            "padding": null,
            "right": null,
            "top": null,
            "visibility": null,
            "width": null
          }
        },
        "96641ba2368c46a78bb6ae05b69c70e9": {
          "model_module": "@jupyter-widgets/controls",
          "model_name": "DescriptionStyleModel",
          "model_module_version": "1.5.0",
          "state": {
            "_model_module": "@jupyter-widgets/controls",
            "_model_module_version": "1.5.0",
            "_model_name": "DescriptionStyleModel",
            "_view_count": null,
            "_view_module": "@jupyter-widgets/base",
            "_view_module_version": "1.2.0",
            "_view_name": "StyleView",
            "description_width": ""
          }
        },
        "6778928fc0724d50847f67f93f727c63": {
          "model_module": "@jupyter-widgets/base",
          "model_name": "LayoutModel",
          "model_module_version": "1.2.0",
          "state": {
            "_model_module": "@jupyter-widgets/base",
            "_model_module_version": "1.2.0",
            "_model_name": "LayoutModel",
            "_view_count": null,
            "_view_module": "@jupyter-widgets/base",
            "_view_module_version": "1.2.0",
            "_view_name": "LayoutView",
            "align_content": null,
            "align_items": null,
            "align_self": null,
            "border": null,
            "bottom": null,
            "display": null,
            "flex": null,
            "flex_flow": null,
            "grid_area": null,
            "grid_auto_columns": null,
            "grid_auto_flow": null,
            "grid_auto_rows": null,
            "grid_column": null,
            "grid_gap": null,
            "grid_row": null,
            "grid_template_areas": null,
            "grid_template_columns": null,
            "grid_template_rows": null,
            "height": null,
            "justify_content": null,
            "justify_items": null,
            "left": null,
            "margin": null,
            "max_height": null,
            "max_width": null,
            "min_height": null,
            "min_width": null,
            "object_fit": null,
            "object_position": null,
            "order": null,
            "overflow": null,
            "overflow_x": null,
            "overflow_y": null,
            "padding": null,
            "right": null,
            "top": null,
            "visibility": null,
            "width": null
          }
        },
        "c54e5fed8e484b1a94f1fce608df5bef": {
          "model_module": "@jupyter-widgets/controls",
          "model_name": "ProgressStyleModel",
          "model_module_version": "1.5.0",
          "state": {
            "_model_module": "@jupyter-widgets/controls",
            "_model_module_version": "1.5.0",
            "_model_name": "ProgressStyleModel",
            "_view_count": null,
            "_view_module": "@jupyter-widgets/base",
            "_view_module_version": "1.2.0",
            "_view_name": "StyleView",
            "bar_color": null,
            "description_width": ""
          }
        },
        "44ec1a6cc9b74355b53e9cf903af839c": {
          "model_module": "@jupyter-widgets/base",
          "model_name": "LayoutModel",
          "model_module_version": "1.2.0",
          "state": {
            "_model_module": "@jupyter-widgets/base",
            "_model_module_version": "1.2.0",
            "_model_name": "LayoutModel",
            "_view_count": null,
            "_view_module": "@jupyter-widgets/base",
            "_view_module_version": "1.2.0",
            "_view_name": "LayoutView",
            "align_content": null,
            "align_items": null,
            "align_self": null,
            "border": null,
            "bottom": null,
            "display": null,
            "flex": null,
            "flex_flow": null,
            "grid_area": null,
            "grid_auto_columns": null,
            "grid_auto_flow": null,
            "grid_auto_rows": null,
            "grid_column": null,
            "grid_gap": null,
            "grid_row": null,
            "grid_template_areas": null,
            "grid_template_columns": null,
            "grid_template_rows": null,
            "height": null,
            "justify_content": null,
            "justify_items": null,
            "left": null,
            "margin": null,
            "max_height": null,
            "max_width": null,
            "min_height": null,
            "min_width": null,
            "object_fit": null,
            "object_position": null,
            "order": null,
            "overflow": null,
            "overflow_x": null,
            "overflow_y": null,
            "padding": null,
            "right": null,
            "top": null,
            "visibility": null,
            "width": null
          }
        },
        "1d8389bca6444ccfbfaba4114c6a3ec7": {
          "model_module": "@jupyter-widgets/controls",
          "model_name": "DescriptionStyleModel",
          "model_module_version": "1.5.0",
          "state": {
            "_model_module": "@jupyter-widgets/controls",
            "_model_module_version": "1.5.0",
            "_model_name": "DescriptionStyleModel",
            "_view_count": null,
            "_view_module": "@jupyter-widgets/base",
            "_view_module_version": "1.2.0",
            "_view_name": "StyleView",
            "description_width": ""
          }
        }
      }
    },
    "accelerator": "GPU"
  },
  "nbformat": 4,
  "nbformat_minor": 0
}